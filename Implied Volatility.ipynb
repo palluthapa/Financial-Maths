{
 "cells": [
  {
   "cell_type": "markdown",
   "id": "0408061f-f54e-430c-ad39-8f43dc9c6daa",
   "metadata": {},
   "source": [
    "### Calculating Implied Volatility using Newton Raphson Method"
   ]
  },
  {
   "cell_type": "markdown",
   "id": "36f80b4d-b2dc-4d4b-9531-0be6e6e3a5ff",
   "metadata": {},
   "source": [
    "### Newton-Raphson Method\n",
    "Newton-Raphson (NR) method is an iterative method for finding roots of differentiable functions. Starting with an initial guess value $x_0$, the Newton-Raphson method generates \n",
    "a sequence $x_0, x_1, x_2, x_3, . . .$ by repeated application of an iterative step: $$ x_{n+1} = x_{n} + \\frac{f(x_n)}{f'(x_n)}$$ where $f'(x) = \\frac{df}{dt}$. If the sequence has a limit its called the root of $f(x)$. In practice, we say the method converges if $|x_{n+1}−x_n| < \\epsilon$ for some $n < nmax$, where $\\epsilon$ is a suitably small positive constant greater than machine precision and $nmax$ is the maximum number of iterations.\n",
    "\n",
    "We need to write Newton-Raphson in the context of option price. The function whose root we are trying to find is the difference between Black Scholes Price and the actual Market Price quoted ($BS(\\sigma_{old}) - C_m$). $\\sigma_{old}$ is the initial guess for `implied volatility` to start the root finding procedure.\n",
    "<img src=\"pics/ImpliedVol.jpg\" width=\"1200\" height=\"800\"/>\n",
    "\n",
    "The formula we are going to use is:\n",
    "$$\\sigma_{new} = \\sigma_{old} - \\frac{C(\\sigma_{old})}{C'(\\sigma_{old})}$$\n",
    "$$\\boxed{\\sigma_{new} = \\sigma_{old} - \\frac{BS(\\sigma_{old}) - C_m}{C'(\\sigma_{old})}}$$"
   ]
  },
  {
   "cell_type": "markdown",
   "id": "f57bba48-9c20-4b56-80f6-eee5c1980e4b",
   "metadata": {},
   "source": [
    "The formula for Vega is $$\\nu = S*\\sqrt{T}*N'(d_1)$$ where $N'(d_1)$ is the derivative of the cumulative distribution function of the standard normal distribution with respect to $d_1$ i.e. the probability density function (PDF) of the standard normal distribution evaluated at $d_1$."
   ]
  },
  {
   "cell_type": "code",
   "execution_count": 1,
   "id": "e8b39057-1edc-4e31-97f6-e01f8293f140",
   "metadata": {
    "tags": []
   },
   "outputs": [],
   "source": [
    "import numpy as np\n",
    "from scipy.stats import norm\n",
    "import matplotlib.pyplot as plt\n",
    "import scipy.optimize\n",
    "import mathfinance as mf\n",
    "plt.rcParams['figure.figsize'] = [15,7]"
   ]
  },
  {
   "cell_type": "code",
   "execution_count": 51,
   "id": "47a5a58a-0dee-4193-ae32-76ad3aa79c4b",
   "metadata": {
    "tags": []
   },
   "outputs": [],
   "source": [
    "def vega(S, K, T, r, sigma):\n",
    "    '''\n",
    "    Calculates the greek Vega of a European call/put option.\n",
    "    \n",
    "            Parameters:\n",
    "                    r (double) : Risk-free Interest Rate.\n",
    "                    S (double) : Current price of the underlying asset.\n",
    "                    K (double) : Strike price of the option.\n",
    "                    T (double) : Time to expiration (in years).\n",
    "                    sigma (double) : Volatility of the underlying asset.\n",
    "\n",
    "            Returns:\n",
    "                    vega (double): Greek Vega of a European call/put option.\n",
    "    '''\n",
    "    d1 = (np.log(S / K) + (r + 0.5 * sigma**2) * T) / (sigma * np.sqrt(T))\n",
    "    vega = S * np.sqrt(T) * norm.pdf(d1)\n",
    "    assert vega != 0, \"vega is zero here.\"\n",
    "    return vega\n",
    "\n",
    "\n",
    "def implied_vol(r, S, K, T, market_price, type = 'call', tol=0.001, method = 'Newton-Raphson'):\n",
    "    '''\n",
    "    Compute the implied volatility of a European Option.\n",
    "    \n",
    "            Parameters:\n",
    "                    r (double) : Risk-free Interest Rate.\n",
    "                    S (double) : Current price of the underlying asset.\n",
    "                    K (double) : Strike price of the option.\n",
    "                    T (double) : Time to expiration (in years).\n",
    "                    market_price (double) : Market observed price.\n",
    "                    type (String) : European call or put option.\n",
    "                    tol (double) : Tolerance.\n",
    "                    method () : Root finding algorithm (default is 'Newton-Raphson' ) \n",
    "\n",
    "            Returns:\n",
    "                    implied_vol (double): Implied volatility of a European Option.\n",
    "    '''\n",
    "    max_iter = 200 # Maximum number of iterations.\n",
    "    sigma_old = 0.50 # Initial guess.\n",
    "    \n",
    "    if method == 'Newton-Raphson':\n",
    "        for k in range(max_iter):\n",
    "            print(f'Number of iteration : {k}')\n",
    "            blackscholes_price = mf.blackscholes(r, S, K, T, sigma_old, type = type)  # BS Price.\n",
    "            Cprime =  vega(S, K, T, r, sigma_old)    # Vega.\n",
    "            C = blackscholes_price - market_price\n",
    "            sigma_new = sigma_old - C/Cprime    # Newton-Raphson formula.\n",
    "            blackscholes_price_new = mf.blackscholes(r, S, K, T, sigma_new, type = type)\n",
    "\n",
    "            if (abs(sigma_old - sigma_new) < tol or abs(blackscholes_price_new - market_price) < tol):\n",
    "                break\n",
    "            sigma_old = sigma_new\n",
    "\n",
    "        implied_vol = sigma_new\n",
    "        return implied_vol\n",
    "    \n",
    "    elif method == 'secant':\n",
    "        def f( sigma ):\n",
    "            return mf.blackscholes(r, S, K, T, sigma, type = type) - market_price\n",
    "        sol = scipy.optimize.root_scalar(f, x0=0.01, x1=1.0, method='secant')\n",
    "        assert sol.converged\n",
    "        return sol.root   \n",
    "    \n",
    "    elif method == 'bisect':\n",
    "        def f( sigma ):\n",
    "            return mf.blackscholes(r, S, K, T, sigma, type = type) - market_price\n",
    "        sol = scipy.optimize.root_scalar(f, bracket=[0.3, 0.56], method='bisect')\n",
    "        assert sol.converged\n",
    "        return sol.root  \n",
    "    \n",
    "    elif method == 'newton':\n",
    "        def f( sigma ):\n",
    "            return mf.blackscholes(r, S, K, T, sigma, type = type) - market_price\n",
    "        def fprime(sigma):\n",
    "            return vega(S, K, T, r, sigma_old)\n",
    "        sol = scipy.optimize.root_scalar(f, x0=0.15, fprime = fprime, method='newton')\n",
    "        assert sol.converged\n",
    "        return sol.root   \n",
    "    else:\n",
    "        print(\"Please choose correct method\")"
   ]
  },
  {
   "cell_type": "code",
   "execution_count": 70,
   "id": "45dad69f-a915-4cd2-aa48-af717d255e13",
   "metadata": {},
   "outputs": [
    {
     "name": "stdout",
     "output_type": "stream",
     "text": [
      "Number of iteration : 0\n",
      "Number of iteration : 1\n",
      "Implied volatility : 47.80277876863144%\n",
      "Implied volatility : 47.802778760251606%\n",
      "Implied volatility : 47.80277876030597%\n",
      "Implied volatility : 47.80277875969091%\n"
     ]
    }
   ],
   "source": [
    "# Tesla call option expiring 21 june 2024.\n",
    "r = 0.0532\n",
    "S = 239.29\n",
    "K = 220\n",
    "T = 191/365\n",
    "market_price = 45.37\n",
    "\n",
    "iv = implied_vol(r, S, K, T, market_price, type = 'call', tol=0.001, method = 'Newton-Raphson')\n",
    "print(f'Implied volatility : {iv*100}%')\n",
    "iv1 = implied_vol(r, S, K, T, market_price, type = 'call', tol=0.00001, method = 'secant')\n",
    "print(f'Implied volatility : {iv1*100}%')\n",
    "iv1 = implied_vol(r, S, K, T, market_price, type = 'call', tol=0.00001, method = 'bisect')\n",
    "print(f'Implied volatility : {iv1*100}%')\n",
    "iv1 = implied_vol(r, S, K, T, market_price, type = 'call', tol=0.00001, method = 'newton')\n",
    "print(f'Implied volatility : {iv1*100}%')"
   ]
  },
  {
   "cell_type": "markdown",
   "id": "26e98ad7-58d0-4fea-b390-f1c57a12d0a3",
   "metadata": {},
   "source": [
    "In certain `In-the-Money` options, when option price is less than the `Intrinsic Value`, the root finding methods fails to converge. In these cases,the `Vega` becomes zero in the Newton-Raphson method. The slope `Vega` also becomes zero when the option has a short time to expiry while being far `Out-the-Money`. Another non-convergence issue happens when we have low volatility and the root is close to discontinuity.\n",
    "A good way to check if the function $C = BS(\\sigma_{old}) - C_m$ has roots is to quickly plot it and check visually."
   ]
  },
  {
   "cell_type": "code",
   "execution_count": 78,
   "id": "a934c6e8-5fa4-412b-9cb9-910eafbd2960",
   "metadata": {},
   "outputs": [
    {
     "data": {
      "image/png": "[encoded data removed]",
      "text/plain": [
       "<Figure size 1080x504 with 1 Axes>"
      ]
     },
     "metadata": {
      "needs_background": "light"
     },
     "output_type": "display_data"
    }
   ],
   "source": [
    "def C(sigma, S, K, r, T, market_price):\n",
    "    blackscholes_price = mf.blackscholes(r, S, K, T, sigma, type = 'call')\n",
    "    C = blackscholes_price - market_price\n",
    "    return C\n",
    "\n",
    "#  Plot the function we are trying to solve.\n",
    "sigma = np.linspace(0.01, 1)\n",
    "y = np.zeros(50)\n",
    "for i in range(sigma.shape[0]):\n",
    "    y[i] = C(sigma[i], S, K, r, T, market_price)\n",
    "plt.plot(sigma, y, 'b')\n",
    "plt.plot(iv, C(iv, S, K, r, T, market_price), 'o', markersize = 15, color = 'red')\n",
    "\n",
    "#  Plot a horizontal line at y = 0 just to show the zero-crossing a bit more clearly.\n",
    "plt.plot([0,1], [0,0], 'k')\n",
    "\n",
    "plt.xlabel('Implied Volatility$(\\sigma)$')\n",
    "plt.ylabel('C = Blackscholes price - Market Price')\n",
    "plt.grid(True)"
   ]
  },
  {
   "cell_type": "markdown",
   "id": "d5f7d84f-6795-4160-9519-935f48322c79",
   "metadata": {
    "tags": []
   },
   "source": [
    "An example where the root finding methos fails is when:\n",
    "r = 0.0532, S = 194.71, K = 160, T = 31/365, market_price = 34.58. Here Option price is less than Intrinsic Value. Lets try to get $\\sigma$ for this and check the graph for this function."
   ]
  },
  {
   "cell_type": "code",
   "execution_count": 66,
   "id": "162925d1-ff68-4698-82fe-f1779fbe47a9",
   "metadata": {},
   "outputs": [
    {
     "name": "stdout",
     "output_type": "stream",
     "text": [
      "Number of iteration : 0\n",
      "Number of iteration : 1\n",
      "Number of iteration : 2\n",
      "Number of iteration : 3\n",
      "Number of iteration : 4\n",
      "Number of iteration : 5\n",
      "Number of iteration : 6\n",
      "Number of iteration : 7\n"
     ]
    },
    {
     "ename": "AssertionError",
     "evalue": "vega is zero here.",
     "output_type": "error",
     "traceback": [
      "\u001b[1;31m---------------------------------------------------------------------------\u001b[0m",
      "\u001b[1;31mAssertionError\u001b[0m                            Traceback (most recent call last)",
      "\u001b[1;32m<ipython-input-66-1c1406b55997>\u001b[0m in \u001b[0;36m<module>\u001b[1;34m\u001b[0m\n\u001b[0;32m      5\u001b[0m \u001b[0mmarket_price\u001b[0m \u001b[1;33m=\u001b[0m \u001b[1;36m34.58\u001b[0m\u001b[1;33m\u001b[0m\u001b[1;33m\u001b[0m\u001b[0m\n\u001b[0;32m      6\u001b[0m \u001b[1;33m\u001b[0m\u001b[0m\n\u001b[1;32m----> 7\u001b[1;33m \u001b[0miv1\u001b[0m \u001b[1;33m=\u001b[0m \u001b[0mimplied_vol\u001b[0m\u001b[1;33m(\u001b[0m\u001b[0mr\u001b[0m\u001b[1;33m,\u001b[0m \u001b[0mS\u001b[0m\u001b[1;33m,\u001b[0m \u001b[0mK\u001b[0m\u001b[1;33m,\u001b[0m \u001b[0mT\u001b[0m\u001b[1;33m,\u001b[0m \u001b[0mmarket_price\u001b[0m\u001b[1;33m,\u001b[0m \u001b[0mtype\u001b[0m \u001b[1;33m=\u001b[0m \u001b[1;34m'call'\u001b[0m\u001b[1;33m,\u001b[0m \u001b[0mtol\u001b[0m\u001b[1;33m=\u001b[0m\u001b[1;36m0.001\u001b[0m\u001b[1;33m,\u001b[0m \u001b[0mmethod\u001b[0m \u001b[1;33m=\u001b[0m \u001b[1;34m'Newton-Raphson'\u001b[0m\u001b[1;33m)\u001b[0m\u001b[1;33m\u001b[0m\u001b[1;33m\u001b[0m\u001b[0m\n\u001b[0m\u001b[0;32m      8\u001b[0m \u001b[0mprint\u001b[0m\u001b[1;33m(\u001b[0m\u001b[1;34mf'Implied volatility : {iv1*100}%'\u001b[0m\u001b[1;33m)\u001b[0m\u001b[1;33m\u001b[0m\u001b[1;33m\u001b[0m\u001b[0m\n",
      "\u001b[1;32m<ipython-input-51-50a66c529b74>\u001b[0m in \u001b[0;36mimplied_vol\u001b[1;34m(r, S, K, T, market_price, type, tol, method)\u001b[0m\n\u001b[0;32m     43\u001b[0m             \u001b[0mprint\u001b[0m\u001b[1;33m(\u001b[0m\u001b[1;34mf'Number of iteration : {k}'\u001b[0m\u001b[1;33m)\u001b[0m\u001b[1;33m\u001b[0m\u001b[1;33m\u001b[0m\u001b[0m\n\u001b[0;32m     44\u001b[0m             \u001b[0mblackscholes_price\u001b[0m \u001b[1;33m=\u001b[0m \u001b[0mmf\u001b[0m\u001b[1;33m.\u001b[0m\u001b[0mblackscholes\u001b[0m\u001b[1;33m(\u001b[0m\u001b[0mr\u001b[0m\u001b[1;33m,\u001b[0m \u001b[0mS\u001b[0m\u001b[1;33m,\u001b[0m \u001b[0mK\u001b[0m\u001b[1;33m,\u001b[0m \u001b[0mT\u001b[0m\u001b[1;33m,\u001b[0m \u001b[0msigma_old\u001b[0m\u001b[1;33m,\u001b[0m \u001b[0mtype\u001b[0m \u001b[1;33m=\u001b[0m \u001b[0mtype\u001b[0m\u001b[1;33m)\u001b[0m  \u001b[1;31m# BS Price.\u001b[0m\u001b[1;33m\u001b[0m\u001b[1;33m\u001b[0m\u001b[0m\n\u001b[1;32m---> 45\u001b[1;33m             \u001b[0mCprime\u001b[0m \u001b[1;33m=\u001b[0m  \u001b[0mvega\u001b[0m\u001b[1;33m(\u001b[0m\u001b[0mS\u001b[0m\u001b[1;33m,\u001b[0m \u001b[0mK\u001b[0m\u001b[1;33m,\u001b[0m \u001b[0mT\u001b[0m\u001b[1;33m,\u001b[0m \u001b[0mr\u001b[0m\u001b[1;33m,\u001b[0m \u001b[0msigma_old\u001b[0m\u001b[1;33m)\u001b[0m    \u001b[1;31m# Vega.\u001b[0m\u001b[1;33m\u001b[0m\u001b[1;33m\u001b[0m\u001b[0m\n\u001b[0m\u001b[0;32m     46\u001b[0m             \u001b[0mC\u001b[0m \u001b[1;33m=\u001b[0m \u001b[0mblackscholes_price\u001b[0m \u001b[1;33m-\u001b[0m \u001b[0mmarket_price\u001b[0m\u001b[1;33m\u001b[0m\u001b[1;33m\u001b[0m\u001b[0m\n\u001b[0;32m     47\u001b[0m             \u001b[0msigma_new\u001b[0m \u001b[1;33m=\u001b[0m \u001b[0msigma_old\u001b[0m \u001b[1;33m-\u001b[0m \u001b[0mC\u001b[0m\u001b[1;33m/\u001b[0m\u001b[0mCprime\u001b[0m    \u001b[1;31m# Newton-Raphson formula.\u001b[0m\u001b[1;33m\u001b[0m\u001b[1;33m\u001b[0m\u001b[0m\n",
      "\u001b[1;32m<ipython-input-51-50a66c529b74>\u001b[0m in \u001b[0;36mvega\u001b[1;34m(S, K, T, r, sigma)\u001b[0m\n\u001b[0;32m     15\u001b[0m     \u001b[0md1\u001b[0m \u001b[1;33m=\u001b[0m \u001b[1;33m(\u001b[0m\u001b[0mnp\u001b[0m\u001b[1;33m.\u001b[0m\u001b[0mlog\u001b[0m\u001b[1;33m(\u001b[0m\u001b[0mS\u001b[0m \u001b[1;33m/\u001b[0m \u001b[0mK\u001b[0m\u001b[1;33m)\u001b[0m \u001b[1;33m+\u001b[0m \u001b[1;33m(\u001b[0m\u001b[0mr\u001b[0m \u001b[1;33m+\u001b[0m \u001b[1;36m0.5\u001b[0m \u001b[1;33m*\u001b[0m \u001b[0msigma\u001b[0m\u001b[1;33m**\u001b[0m\u001b[1;36m2\u001b[0m\u001b[1;33m)\u001b[0m \u001b[1;33m*\u001b[0m \u001b[0mT\u001b[0m\u001b[1;33m)\u001b[0m \u001b[1;33m/\u001b[0m \u001b[1;33m(\u001b[0m\u001b[0msigma\u001b[0m \u001b[1;33m*\u001b[0m \u001b[0mnp\u001b[0m\u001b[1;33m.\u001b[0m\u001b[0msqrt\u001b[0m\u001b[1;33m(\u001b[0m\u001b[0mT\u001b[0m\u001b[1;33m)\u001b[0m\u001b[1;33m)\u001b[0m\u001b[1;33m\u001b[0m\u001b[1;33m\u001b[0m\u001b[0m\n\u001b[0;32m     16\u001b[0m     \u001b[0mvega\u001b[0m \u001b[1;33m=\u001b[0m \u001b[0mS\u001b[0m \u001b[1;33m*\u001b[0m \u001b[0mnp\u001b[0m\u001b[1;33m.\u001b[0m\u001b[0msqrt\u001b[0m\u001b[1;33m(\u001b[0m\u001b[0mT\u001b[0m\u001b[1;33m)\u001b[0m \u001b[1;33m*\u001b[0m \u001b[0mnorm\u001b[0m\u001b[1;33m.\u001b[0m\u001b[0mpdf\u001b[0m\u001b[1;33m(\u001b[0m\u001b[0md1\u001b[0m\u001b[1;33m)\u001b[0m\u001b[1;33m\u001b[0m\u001b[1;33m\u001b[0m\u001b[0m\n\u001b[1;32m---> 17\u001b[1;33m     \u001b[1;32massert\u001b[0m \u001b[0mvega\u001b[0m \u001b[1;33m!=\u001b[0m \u001b[1;36m0\u001b[0m\u001b[1;33m,\u001b[0m \u001b[1;34m\"vega is zero here.\"\u001b[0m\u001b[1;33m\u001b[0m\u001b[1;33m\u001b[0m\u001b[0m\n\u001b[0m\u001b[0;32m     18\u001b[0m     \u001b[1;32mreturn\u001b[0m \u001b[0mvega\u001b[0m\u001b[1;33m\u001b[0m\u001b[1;33m\u001b[0m\u001b[0m\n\u001b[0;32m     19\u001b[0m \u001b[1;33m\u001b[0m\u001b[0m\n",
      "\u001b[1;31mAssertionError\u001b[0m: vega is zero here."
     ]
    }
   ],
   "source": [
    "r = 0.0532\n",
    "S = 194.71\n",
    "K = 160\n",
    "T = 31/365\n",
    "market_price = 34.58\n",
    "\n",
    "iv1 = implied_vol(r, S, K, T, market_price, type = 'call', tol=0.001, method = 'Newton-Raphson')\n",
    "print(f'Implied volatility : {iv1*100}%')"
   ]
  },
  {
   "cell_type": "code",
   "execution_count": 67,
   "id": "89206884-ce6a-4fbe-b816-f49a8495bcd6",
   "metadata": {},
   "outputs": [
    {
     "data": {
      "image/png": "[encoded data removed]",
      "text/plain": [
       "<Figure size 1080x504 with 1 Axes>"
      ]
     },
     "metadata": {
      "needs_background": "light"
     },
     "output_type": "display_data"
    }
   ],
   "source": [
    "#  Plot the function we are trying to solve.\n",
    "sigma = np.linspace(0.01, 1)\n",
    "y = np.zeros(50)\n",
    "for i in range(sigma.shape[0]):\n",
    "    y[i] = C(sigma[i], S, K, r, T, market_price)\n",
    "plt.plot(sigma, y, 'b')\n",
    "\n",
    "#  Plot a horizontal line at y = 0 just to show the zero-crossing a bit more clearly.\n",
    "plt.plot([0,1], [0,0], 'k')\n",
    "\n",
    "plt.xlabel('Implied Volatility$(\\sigma)$')\n",
    "plt.ylabel('C = Blackscholes price - Market Price')\n",
    "plt.grid(True)"
   ]
  },
  {
   "cell_type": "markdown",
   "id": "04520027-f5c8-48e4-8e7e-b509d6a362bf",
   "metadata": {},
   "source": [
    "Note in this case, the graph does not cross the zero."
   ]
  }
 ],
 "metadata": {
  "kernelspec": {
   "display_name": "Python 3",
   "language": "python",
   "name": "python3"
  },
  "language_info": {
   "codemirror_mode": {
    "name": "ipython",
    "version": 3
   },
   "file_extension": ".py",
   "mimetype": "text/x-python",
   "name": "python",
   "nbconvert_exporter": "python",
   "pygments_lexer": "ipython3",
   "version": "3.7.16"
  }
 },
 "nbformat": 4,
 "nbformat_minor": 5
}
