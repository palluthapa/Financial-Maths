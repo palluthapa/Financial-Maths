{
 "cells": [
  {
   "cell_type": "markdown",
   "id": "58476436-52d1-4551-8cfe-c8b446e93556",
   "metadata": {},
   "source": [
    "# Calibration\n",
    "Black-Scholes model only gives a very crude fit to market prices. We will test the accuracy of prices using `Implied Volatility.`\n",
    "\n",
    "The **Black-Scholes price** of a `European call option` with strike $K$ and maturity $T$ in the market described above\n",
    "is given by the formulae:\n",
    "$$ V(S_t,t,K,T,r,\\sigma):=S_t N(d_1) - K e^{-r(T-t)} N(d_2)$$\n",
    "where\n",
    "$$\n",
    "d_1 := \\tfrac{1}{\\sigma \\sqrt{T-t}} \\left( \\log(\\tfrac{S_t}{K}) + (r + \\tfrac{1}{2}\\sigma^2) (T-t)\\right) \n",
    "$$\n",
    "$$\n",
    "d_2 := \\tfrac{1}{\\sigma \\sqrt{T-t}} \\left( \\log(\\tfrac{S_t}{K}) + (r - \\tfrac{1}{2}\\sigma^2) (T-t)\\right) := d_1 - \\sigma \\sqrt{T-t}\n",
    "$$\n",
    "and $N(.)$ is the cumulative distribution function of the standard normal distribution.\n",
    "\n",
    "* Let us pretend that interest rates are constant and equal for lending and borrowing, so that we can read off $r$ from the overnight lending rate.\n",
    "* Let us pretend that there is no bid-ask spread, so that we can read off $S_0$ from market prices for the stock.\n",
    "* We can read off the strike, $K$,  and the maturity, $T$ from the contract of an option.\n",
    "\n",
    "But before we can apply the Black-Scholes formula we need to know $\\sigma$ which is a parameter of our *model* and not of the market. The value of the volatility $\\sigma$ depends upon our *beliefs* about the future evolution of the stock price. If you don't believe the Black-Scholes model then you probably don't even think $\\sigma$ is well-defined. However, whatever your beliefs about the stock price,\n",
    "you can define the *implied volatility* $\\sigma_{K,T}$. This is the solution of the equation\n",
    "$$\n",
    "V(S,K,T,r,\\sigma_{K,T})=V_{K,T}\n",
    "$$\n",
    "where $V_{K,T}$ is the market price of a European call option with strike $K$ and maturity $T$. $\\sigma_{K,T}$ is the price that the volatilty would need to be for this call option to be correctly priced in the Black-Scholes model.\n",
    "This is why it is called the *implied volatility* as it is the value of the volatility one can deduce from the Black-Scholes model. If the Black-Scholes model were correct, then $\\sigma_{K,T}$ would not depend upon $K$ and $T$(i.e. same implied volatility for every call option in market irrespective of $K$ and $T$). To compute the implied volatility, we wish to solve the following equation for $\\sigma_{K,T}$:\n",
    "    \n",
    "$$V(S,K,T,r,\\sigma_{K,T})-V_{K,T}=0.$$\n",
    "Plots of Implied volatility give a good way to test the accuracy of a model for option prices. We have already written a function to calculate implied volatility in *\"mathfinance.py\"* file and we will be reusing that function here. Lets write a unit test for our computation of the implied volatility first. This is quite simple as we compute the Black-Scholes price for a known volatility and check that is what our function returns."
   ]
  },
  {
   "cell_type": "code",
   "execution_count": 1,
   "id": "6ed06ba6-e826-4f3e-8709-c1cb417584f5",
   "metadata": {},
   "outputs": [],
   "source": [
    "import numpy as np\n",
    "import matplotlib.pyplot as plt\n",
    "import mathfinance as mf\n",
    "plt.rcParams['figure.figsize'] = [15,7]"
   ]
  },
  {
   "cell_type": "code",
   "execution_count": 2,
   "id": "483fbf8f-9ef6-4011-95ff-5f0e3636cc20",
   "metadata": {},
   "outputs": [
    {
     "name": "stdout",
     "output_type": "stream",
     "text": [
      "Number of iteration : 0\n",
      "Number of iteration : 1\n"
     ]
    }
   ],
   "source": [
    "def test_compute_implied_volatility():\n",
    "    S0 = 100\n",
    "    K = 110\n",
    "    T = 0.5\n",
    "    r = 0.02\n",
    "    sigma = 0.8\n",
    "    V =  mf.blackscholes(r, S0, K, T, sigma, t=0, type=\"call\")\n",
    "    sigma_implied = mf.implied_vol(r, S0, K, T, V, type = 'call', tol=0.001, method = 'Newton-Raphson')\n",
    "    np.testing.assert_almost_equal(sigma,sigma_implied)\n",
    "\n",
    "test_compute_implied_volatility()"
   ]
  },
  {
   "cell_type": "markdown",
   "id": "756e1eb5-5888-48bf-a1b2-200752fbd3e0",
   "metadata": {},
   "source": [
    "Lets get some Market Data for options and plot the price of option against the Strike price."
   ]
  },
  {
   "cell_type": "code",
   "execution_count": 46,
   "id": "67614210-68e2-4da3-8f2d-37b418e1a6a5",
   "metadata": {},
   "outputs": [
    {
     "data": {
      "text/html": [
       "<div>\n",
       "<style scoped>\n",
       "    .dataframe tbody tr th:only-of-type {\n",
       "        vertical-align: middle;\n",
       "    }\n",
       "\n",
       "    .dataframe tbody tr th {\n",
       "        vertical-align: top;\n",
       "    }\n",
       "\n",
       "    .dataframe thead th {\n",
       "        text-align: right;\n",
       "    }\n",
       "</style>\n",
       "<table border=\"1\" class=\"dataframe\">\n",
       "  <thead>\n",
       "    <tr style=\"text-align: right;\">\n",
       "      <th></th>\n",
       "      <th>contractSymbol</th>\n",
       "      <th>lastTradeDate</th>\n",
       "      <th>strike</th>\n",
       "      <th>lastPrice</th>\n",
       "      <th>bid</th>\n",
       "      <th>ask</th>\n",
       "      <th>change</th>\n",
       "      <th>percentChange</th>\n",
       "      <th>volume</th>\n",
       "      <th>openInterest</th>\n",
       "      <th>impliedVolatility</th>\n",
       "      <th>inTheMoney</th>\n",
       "      <th>contractSize</th>\n",
       "      <th>currency</th>\n",
       "      <th>midPrice</th>\n",
       "    </tr>\n",
       "  </thead>\n",
       "  <tbody>\n",
       "    <tr>\n",
       "      <th>0</th>\n",
       "      <td>GOOG240517C00070000</td>\n",
       "      <td>2024-02-28 18:45:19+00:00</td>\n",
       "      <td>70.0</td>\n",
       "      <td>68.45</td>\n",
       "      <td>0.0</td>\n",
       "      <td>0.0</td>\n",
       "      <td>0.0</td>\n",
       "      <td>0.0</td>\n",
       "      <td>1.0</td>\n",
       "      <td>2</td>\n",
       "      <td>0.000010</td>\n",
       "      <td>True</td>\n",
       "      <td>REGULAR</td>\n",
       "      <td>USD</td>\n",
       "      <td>0.0</td>\n",
       "    </tr>\n",
       "    <tr>\n",
       "      <th>1</th>\n",
       "      <td>GOOG240517C00075000</td>\n",
       "      <td>2024-01-31 14:55:52+00:00</td>\n",
       "      <td>75.0</td>\n",
       "      <td>70.29</td>\n",
       "      <td>0.0</td>\n",
       "      <td>0.0</td>\n",
       "      <td>0.0</td>\n",
       "      <td>0.0</td>\n",
       "      <td>2.0</td>\n",
       "      <td>2</td>\n",
       "      <td>0.000010</td>\n",
       "      <td>True</td>\n",
       "      <td>REGULAR</td>\n",
       "      <td>USD</td>\n",
       "      <td>0.0</td>\n",
       "    </tr>\n",
       "    <tr>\n",
       "      <th>2</th>\n",
       "      <td>GOOG240517C00080000</td>\n",
       "      <td>2024-02-27 19:50:56+00:00</td>\n",
       "      <td>80.0</td>\n",
       "      <td>61.35</td>\n",
       "      <td>0.0</td>\n",
       "      <td>0.0</td>\n",
       "      <td>0.0</td>\n",
       "      <td>0.0</td>\n",
       "      <td>2.0</td>\n",
       "      <td>0</td>\n",
       "      <td>0.000010</td>\n",
       "      <td>True</td>\n",
       "      <td>REGULAR</td>\n",
       "      <td>USD</td>\n",
       "      <td>0.0</td>\n",
       "    </tr>\n",
       "    <tr>\n",
       "      <th>3</th>\n",
       "      <td>GOOG240517C00085000</td>\n",
       "      <td>2024-02-08 20:59:11+00:00</td>\n",
       "      <td>85.0</td>\n",
       "      <td>63.56</td>\n",
       "      <td>0.0</td>\n",
       "      <td>0.0</td>\n",
       "      <td>0.0</td>\n",
       "      <td>0.0</td>\n",
       "      <td>NaN</td>\n",
       "      <td>2</td>\n",
       "      <td>0.000010</td>\n",
       "      <td>True</td>\n",
       "      <td>REGULAR</td>\n",
       "      <td>USD</td>\n",
       "      <td>0.0</td>\n",
       "    </tr>\n",
       "    <tr>\n",
       "      <th>4</th>\n",
       "      <td>GOOG240517C00090000</td>\n",
       "      <td>2024-02-27 19:48:10+00:00</td>\n",
       "      <td>90.0</td>\n",
       "      <td>51.47</td>\n",
       "      <td>0.0</td>\n",
       "      <td>0.0</td>\n",
       "      <td>0.0</td>\n",
       "      <td>0.0</td>\n",
       "      <td>32.0</td>\n",
       "      <td>26</td>\n",
       "      <td>0.000010</td>\n",
       "      <td>True</td>\n",
       "      <td>REGULAR</td>\n",
       "      <td>USD</td>\n",
       "      <td>0.0</td>\n",
       "    </tr>\n",
       "    <tr>\n",
       "      <th>5</th>\n",
       "      <td>GOOG240517C00095000</td>\n",
       "      <td>2024-02-28 15:09:19+00:00</td>\n",
       "      <td>95.0</td>\n",
       "      <td>44.44</td>\n",
       "      <td>0.0</td>\n",
       "      <td>0.0</td>\n",
       "      <td>0.0</td>\n",
       "      <td>0.0</td>\n",
       "      <td>2.0</td>\n",
       "      <td>22</td>\n",
       "      <td>0.000010</td>\n",
       "      <td>True</td>\n",
       "      <td>REGULAR</td>\n",
       "      <td>USD</td>\n",
       "      <td>0.0</td>\n",
       "    </tr>\n",
       "    <tr>\n",
       "      <th>6</th>\n",
       "      <td>GOOG240517C00100000</td>\n",
       "      <td>2024-02-29 15:57:32+00:00</td>\n",
       "      <td>100.0</td>\n",
       "      <td>39.55</td>\n",
       "      <td>0.0</td>\n",
       "      <td>0.0</td>\n",
       "      <td>0.0</td>\n",
       "      <td>0.0</td>\n",
       "      <td>4.0</td>\n",
       "      <td>185</td>\n",
       "      <td>0.000010</td>\n",
       "      <td>True</td>\n",
       "      <td>REGULAR</td>\n",
       "      <td>USD</td>\n",
       "      <td>0.0</td>\n",
       "    </tr>\n",
       "    <tr>\n",
       "      <th>7</th>\n",
       "      <td>GOOG240517C00105000</td>\n",
       "      <td>2024-02-28 15:08:37+00:00</td>\n",
       "      <td>105.0</td>\n",
       "      <td>34.67</td>\n",
       "      <td>0.0</td>\n",
       "      <td>0.0</td>\n",
       "      <td>0.0</td>\n",
       "      <td>0.0</td>\n",
       "      <td>8.0</td>\n",
       "      <td>0</td>\n",
       "      <td>0.000010</td>\n",
       "      <td>True</td>\n",
       "      <td>REGULAR</td>\n",
       "      <td>USD</td>\n",
       "      <td>0.0</td>\n",
       "    </tr>\n",
       "    <tr>\n",
       "      <th>8</th>\n",
       "      <td>GOOG240517C00110000</td>\n",
       "      <td>2024-03-01 15:20:34+00:00</td>\n",
       "      <td>110.0</td>\n",
       "      <td>30.71</td>\n",
       "      <td>0.0</td>\n",
       "      <td>0.0</td>\n",
       "      <td>0.0</td>\n",
       "      <td>0.0</td>\n",
       "      <td>1.0</td>\n",
       "      <td>0</td>\n",
       "      <td>0.000010</td>\n",
       "      <td>True</td>\n",
       "      <td>REGULAR</td>\n",
       "      <td>USD</td>\n",
       "      <td>0.0</td>\n",
       "    </tr>\n",
       "    <tr>\n",
       "      <th>9</th>\n",
       "      <td>GOOG240517C00115000</td>\n",
       "      <td>2024-03-01 15:22:20+00:00</td>\n",
       "      <td>115.0</td>\n",
       "      <td>26.07</td>\n",
       "      <td>0.0</td>\n",
       "      <td>0.0</td>\n",
       "      <td>0.0</td>\n",
       "      <td>0.0</td>\n",
       "      <td>25.0</td>\n",
       "      <td>48</td>\n",
       "      <td>0.000010</td>\n",
       "      <td>True</td>\n",
       "      <td>REGULAR</td>\n",
       "      <td>USD</td>\n",
       "      <td>0.0</td>\n",
       "    </tr>\n",
       "    <tr>\n",
       "      <th>10</th>\n",
       "      <td>GOOG240517C00120000</td>\n",
       "      <td>2024-03-01 20:29:28+00:00</td>\n",
       "      <td>120.0</td>\n",
       "      <td>21.49</td>\n",
       "      <td>0.0</td>\n",
       "      <td>0.0</td>\n",
       "      <td>0.0</td>\n",
       "      <td>0.0</td>\n",
       "      <td>5.0</td>\n",
       "      <td>0</td>\n",
       "      <td>0.000010</td>\n",
       "      <td>True</td>\n",
       "      <td>REGULAR</td>\n",
       "      <td>USD</td>\n",
       "      <td>0.0</td>\n",
       "    </tr>\n",
       "    <tr>\n",
       "      <th>11</th>\n",
       "      <td>GOOG240517C00125000</td>\n",
       "      <td>2024-03-01 20:56:39+00:00</td>\n",
       "      <td>125.0</td>\n",
       "      <td>16.75</td>\n",
       "      <td>0.0</td>\n",
       "      <td>0.0</td>\n",
       "      <td>0.0</td>\n",
       "      <td>0.0</td>\n",
       "      <td>28.0</td>\n",
       "      <td>0</td>\n",
       "      <td>0.000010</td>\n",
       "      <td>True</td>\n",
       "      <td>REGULAR</td>\n",
       "      <td>USD</td>\n",
       "      <td>0.0</td>\n",
       "    </tr>\n",
       "    <tr>\n",
       "      <th>12</th>\n",
       "      <td>GOOG240517C00130000</td>\n",
       "      <td>2024-03-01 20:56:39+00:00</td>\n",
       "      <td>130.0</td>\n",
       "      <td>13.00</td>\n",
       "      <td>0.0</td>\n",
       "      <td>0.0</td>\n",
       "      <td>0.0</td>\n",
       "      <td>0.0</td>\n",
       "      <td>121.0</td>\n",
       "      <td>1476</td>\n",
       "      <td>0.000010</td>\n",
       "      <td>True</td>\n",
       "      <td>REGULAR</td>\n",
       "      <td>USD</td>\n",
       "      <td>0.0</td>\n",
       "    </tr>\n",
       "    <tr>\n",
       "      <th>13</th>\n",
       "      <td>GOOG240517C00135000</td>\n",
       "      <td>2024-03-01 20:59:53+00:00</td>\n",
       "      <td>135.0</td>\n",
       "      <td>9.70</td>\n",
       "      <td>0.0</td>\n",
       "      <td>0.0</td>\n",
       "      <td>0.0</td>\n",
       "      <td>0.0</td>\n",
       "      <td>275.0</td>\n",
       "      <td>0</td>\n",
       "      <td>0.000010</td>\n",
       "      <td>True</td>\n",
       "      <td>REGULAR</td>\n",
       "      <td>USD</td>\n",
       "      <td>0.0</td>\n",
       "    </tr>\n",
       "    <tr>\n",
       "      <th>14</th>\n",
       "      <td>GOOG240517C00140000</td>\n",
       "      <td>2024-03-01 20:59:44+00:00</td>\n",
       "      <td>140.0</td>\n",
       "      <td>7.00</td>\n",
       "      <td>0.0</td>\n",
       "      <td>0.0</td>\n",
       "      <td>0.0</td>\n",
       "      <td>0.0</td>\n",
       "      <td>750.0</td>\n",
       "      <td>9492</td>\n",
       "      <td>0.007822</td>\n",
       "      <td>False</td>\n",
       "      <td>REGULAR</td>\n",
       "      <td>USD</td>\n",
       "      <td>0.0</td>\n",
       "    </tr>\n",
       "    <tr>\n",
       "      <th>15</th>\n",
       "      <td>GOOG240517C00145000</td>\n",
       "      <td>2024-03-01 20:59:42+00:00</td>\n",
       "      <td>145.0</td>\n",
       "      <td>4.91</td>\n",
       "      <td>0.0</td>\n",
       "      <td>0.0</td>\n",
       "      <td>0.0</td>\n",
       "      <td>0.0</td>\n",
       "      <td>1436.0</td>\n",
       "      <td>0</td>\n",
       "      <td>0.031260</td>\n",
       "      <td>False</td>\n",
       "      <td>REGULAR</td>\n",
       "      <td>USD</td>\n",
       "      <td>0.0</td>\n",
       "    </tr>\n",
       "    <tr>\n",
       "      <th>16</th>\n",
       "      <td>GOOG240517C00150000</td>\n",
       "      <td>2024-03-01 20:59:55+00:00</td>\n",
       "      <td>150.0</td>\n",
       "      <td>3.32</td>\n",
       "      <td>0.0</td>\n",
       "      <td>0.0</td>\n",
       "      <td>0.0</td>\n",
       "      <td>0.0</td>\n",
       "      <td>959.0</td>\n",
       "      <td>0</td>\n",
       "      <td>0.031260</td>\n",
       "      <td>False</td>\n",
       "      <td>REGULAR</td>\n",
       "      <td>USD</td>\n",
       "      <td>0.0</td>\n",
       "    </tr>\n",
       "    <tr>\n",
       "      <th>17</th>\n",
       "      <td>GOOG240517C00155000</td>\n",
       "      <td>2024-03-01 20:49:13+00:00</td>\n",
       "      <td>155.0</td>\n",
       "      <td>2.20</td>\n",
       "      <td>0.0</td>\n",
       "      <td>0.0</td>\n",
       "      <td>0.0</td>\n",
       "      <td>0.0</td>\n",
       "      <td>110.0</td>\n",
       "      <td>2616</td>\n",
       "      <td>0.062509</td>\n",
       "      <td>False</td>\n",
       "      <td>REGULAR</td>\n",
       "      <td>USD</td>\n",
       "      <td>0.0</td>\n",
       "    </tr>\n",
       "    <tr>\n",
       "      <th>18</th>\n",
       "      <td>GOOG240517C00160000</td>\n",
       "      <td>2024-03-01 20:58:59+00:00</td>\n",
       "      <td>160.0</td>\n",
       "      <td>1.46</td>\n",
       "      <td>0.0</td>\n",
       "      <td>0.0</td>\n",
       "      <td>0.0</td>\n",
       "      <td>0.0</td>\n",
       "      <td>220.0</td>\n",
       "      <td>2640</td>\n",
       "      <td>0.062509</td>\n",
       "      <td>False</td>\n",
       "      <td>REGULAR</td>\n",
       "      <td>USD</td>\n",
       "      <td>0.0</td>\n",
       "    </tr>\n",
       "    <tr>\n",
       "      <th>19</th>\n",
       "      <td>GOOG240517C00165000</td>\n",
       "      <td>2024-03-01 20:55:36+00:00</td>\n",
       "      <td>165.0</td>\n",
       "      <td>0.95</td>\n",
       "      <td>0.0</td>\n",
       "      <td>0.0</td>\n",
       "      <td>0.0</td>\n",
       "      <td>0.0</td>\n",
       "      <td>186.0</td>\n",
       "      <td>3983</td>\n",
       "      <td>0.062509</td>\n",
       "      <td>False</td>\n",
       "      <td>REGULAR</td>\n",
       "      <td>USD</td>\n",
       "      <td>0.0</td>\n",
       "    </tr>\n",
       "    <tr>\n",
       "      <th>20</th>\n",
       "      <td>GOOG240517C00170000</td>\n",
       "      <td>2024-03-01 20:41:04+00:00</td>\n",
       "      <td>170.0</td>\n",
       "      <td>0.64</td>\n",
       "      <td>0.0</td>\n",
       "      <td>0.0</td>\n",
       "      <td>0.0</td>\n",
       "      <td>0.0</td>\n",
       "      <td>279.0</td>\n",
       "      <td>0</td>\n",
       "      <td>0.125009</td>\n",
       "      <td>False</td>\n",
       "      <td>REGULAR</td>\n",
       "      <td>USD</td>\n",
       "      <td>0.0</td>\n",
       "    </tr>\n",
       "    <tr>\n",
       "      <th>21</th>\n",
       "      <td>GOOG240517C00175000</td>\n",
       "      <td>2024-03-01 20:41:33+00:00</td>\n",
       "      <td>175.0</td>\n",
       "      <td>0.45</td>\n",
       "      <td>0.0</td>\n",
       "      <td>0.0</td>\n",
       "      <td>0.0</td>\n",
       "      <td>0.0</td>\n",
       "      <td>86.0</td>\n",
       "      <td>865</td>\n",
       "      <td>0.125009</td>\n",
       "      <td>False</td>\n",
       "      <td>REGULAR</td>\n",
       "      <td>USD</td>\n",
       "      <td>0.0</td>\n",
       "    </tr>\n",
       "    <tr>\n",
       "      <th>22</th>\n",
       "      <td>GOOG240517C00180000</td>\n",
       "      <td>2024-03-01 16:04:41+00:00</td>\n",
       "      <td>180.0</td>\n",
       "      <td>0.32</td>\n",
       "      <td>0.0</td>\n",
       "      <td>0.0</td>\n",
       "      <td>0.0</td>\n",
       "      <td>0.0</td>\n",
       "      <td>30.0</td>\n",
       "      <td>0</td>\n",
       "      <td>0.125009</td>\n",
       "      <td>False</td>\n",
       "      <td>REGULAR</td>\n",
       "      <td>USD</td>\n",
       "      <td>0.0</td>\n",
       "    </tr>\n",
       "    <tr>\n",
       "      <th>23</th>\n",
       "      <td>GOOG240517C00185000</td>\n",
       "      <td>2024-02-29 15:29:54+00:00</td>\n",
       "      <td>185.0</td>\n",
       "      <td>0.26</td>\n",
       "      <td>0.0</td>\n",
       "      <td>0.0</td>\n",
       "      <td>0.0</td>\n",
       "      <td>0.0</td>\n",
       "      <td>1.0</td>\n",
       "      <td>0</td>\n",
       "      <td>0.125009</td>\n",
       "      <td>False</td>\n",
       "      <td>REGULAR</td>\n",
       "      <td>USD</td>\n",
       "      <td>0.0</td>\n",
       "    </tr>\n",
       "    <tr>\n",
       "      <th>24</th>\n",
       "      <td>GOOG240517C00190000</td>\n",
       "      <td>2024-02-29 20:54:57+00:00</td>\n",
       "      <td>190.0</td>\n",
       "      <td>0.19</td>\n",
       "      <td>0.0</td>\n",
       "      <td>0.0</td>\n",
       "      <td>0.0</td>\n",
       "      <td>0.0</td>\n",
       "      <td>3.0</td>\n",
       "      <td>672</td>\n",
       "      <td>0.125009</td>\n",
       "      <td>False</td>\n",
       "      <td>REGULAR</td>\n",
       "      <td>USD</td>\n",
       "      <td>0.0</td>\n",
       "    </tr>\n",
       "    <tr>\n",
       "      <th>25</th>\n",
       "      <td>GOOG240517C00195000</td>\n",
       "      <td>2024-02-29 20:12:09+00:00</td>\n",
       "      <td>195.0</td>\n",
       "      <td>0.15</td>\n",
       "      <td>0.0</td>\n",
       "      <td>0.0</td>\n",
       "      <td>0.0</td>\n",
       "      <td>0.0</td>\n",
       "      <td>1.0</td>\n",
       "      <td>87</td>\n",
       "      <td>0.125009</td>\n",
       "      <td>False</td>\n",
       "      <td>REGULAR</td>\n",
       "      <td>USD</td>\n",
       "      <td>0.0</td>\n",
       "    </tr>\n",
       "    <tr>\n",
       "      <th>26</th>\n",
       "      <td>GOOG240517C00200000</td>\n",
       "      <td>2024-03-01 20:49:20+00:00</td>\n",
       "      <td>200.0</td>\n",
       "      <td>0.12</td>\n",
       "      <td>0.0</td>\n",
       "      <td>0.0</td>\n",
       "      <td>0.0</td>\n",
       "      <td>0.0</td>\n",
       "      <td>11.0</td>\n",
       "      <td>1493</td>\n",
       "      <td>0.125009</td>\n",
       "      <td>False</td>\n",
       "      <td>REGULAR</td>\n",
       "      <td>USD</td>\n",
       "      <td>0.0</td>\n",
       "    </tr>\n",
       "    <tr>\n",
       "      <th>27</th>\n",
       "      <td>GOOG240517C00205000</td>\n",
       "      <td>2024-02-29 16:52:19+00:00</td>\n",
       "      <td>205.0</td>\n",
       "      <td>0.10</td>\n",
       "      <td>0.0</td>\n",
       "      <td>0.0</td>\n",
       "      <td>0.0</td>\n",
       "      <td>0.0</td>\n",
       "      <td>2.0</td>\n",
       "      <td>167</td>\n",
       "      <td>0.125009</td>\n",
       "      <td>False</td>\n",
       "      <td>REGULAR</td>\n",
       "      <td>USD</td>\n",
       "      <td>0.0</td>\n",
       "    </tr>\n",
       "    <tr>\n",
       "      <th>28</th>\n",
       "      <td>GOOG240517C00210000</td>\n",
       "      <td>2024-03-01 20:49:52+00:00</td>\n",
       "      <td>210.0</td>\n",
       "      <td>0.11</td>\n",
       "      <td>0.0</td>\n",
       "      <td>0.0</td>\n",
       "      <td>0.0</td>\n",
       "      <td>0.0</td>\n",
       "      <td>1.0</td>\n",
       "      <td>652</td>\n",
       "      <td>0.250007</td>\n",
       "      <td>False</td>\n",
       "      <td>REGULAR</td>\n",
       "      <td>USD</td>\n",
       "      <td>0.0</td>\n",
       "    </tr>\n",
       "    <tr>\n",
       "      <th>29</th>\n",
       "      <td>GOOG240517C00215000</td>\n",
       "      <td>2024-02-09 18:16:26+00:00</td>\n",
       "      <td>215.0</td>\n",
       "      <td>0.17</td>\n",
       "      <td>0.0</td>\n",
       "      <td>0.0</td>\n",
       "      <td>0.0</td>\n",
       "      <td>0.0</td>\n",
       "      <td>92.0</td>\n",
       "      <td>0</td>\n",
       "      <td>0.250007</td>\n",
       "      <td>False</td>\n",
       "      <td>REGULAR</td>\n",
       "      <td>USD</td>\n",
       "      <td>0.0</td>\n",
       "    </tr>\n",
       "    <tr>\n",
       "      <th>30</th>\n",
       "      <td>GOOG240517C00220000</td>\n",
       "      <td>2024-03-01 19:10:50+00:00</td>\n",
       "      <td>220.0</td>\n",
       "      <td>0.05</td>\n",
       "      <td>0.0</td>\n",
       "      <td>0.0</td>\n",
       "      <td>0.0</td>\n",
       "      <td>0.0</td>\n",
       "      <td>100.0</td>\n",
       "      <td>214</td>\n",
       "      <td>0.250007</td>\n",
       "      <td>False</td>\n",
       "      <td>REGULAR</td>\n",
       "      <td>USD</td>\n",
       "      <td>0.0</td>\n",
       "    </tr>\n",
       "    <tr>\n",
       "      <th>31</th>\n",
       "      <td>GOOG240517C00225000</td>\n",
       "      <td>2024-03-01 20:20:27+00:00</td>\n",
       "      <td>225.0</td>\n",
       "      <td>0.05</td>\n",
       "      <td>0.0</td>\n",
       "      <td>0.0</td>\n",
       "      <td>0.0</td>\n",
       "      <td>0.0</td>\n",
       "      <td>2.0</td>\n",
       "      <td>0</td>\n",
       "      <td>0.250007</td>\n",
       "      <td>False</td>\n",
       "      <td>REGULAR</td>\n",
       "      <td>USD</td>\n",
       "      <td>0.0</td>\n",
       "    </tr>\n",
       "  </tbody>\n",
       "</table>\n",
       "</div>"
      ],
      "text/plain": [
       "         contractSymbol             lastTradeDate  strike  lastPrice  bid  \\\n",
       "0   GOOG240517C00070000 2024-02-28 18:45:19+00:00    70.0      68.45  0.0   \n",
       "1   GOOG240517C00075000 2024-01-31 14:55:52+00:00    75.0      70.29  0.0   \n",
       "2   GOOG240517C00080000 2024-02-27 19:50:56+00:00    80.0      61.35  0.0   \n",
       "3   GOOG240517C00085000 2024-02-08 20:59:11+00:00    85.0      63.56  0.0   \n",
       "4   GOOG240517C00090000 2024-02-27 19:48:10+00:00    90.0      51.47  0.0   \n",
       "5   GOOG240517C00095000 2024-02-28 15:09:19+00:00    95.0      44.44  0.0   \n",
       "6   GOOG240517C00100000 2024-02-29 15:57:32+00:00   100.0      39.55  0.0   \n",
       "7   GOOG240517C00105000 2024-02-28 15:08:37+00:00   105.0      34.67  0.0   \n",
       "8   GOOG240517C00110000 2024-03-01 15:20:34+00:00   110.0      30.71  0.0   \n",
       "9   GOOG240517C00115000 2024-03-01 15:22:20+00:00   115.0      26.07  0.0   \n",
       "10  GOOG240517C00120000 2024-03-01 20:29:28+00:00   120.0      21.49  0.0   \n",
       "11  GOOG240517C00125000 2024-03-01 20:56:39+00:00   125.0      16.75  0.0   \n",
       "12  GOOG240517C00130000 2024-03-01 20:56:39+00:00   130.0      13.00  0.0   \n",
       "13  GOOG240517C00135000 2024-03-01 20:59:53+00:00   135.0       9.70  0.0   \n",
       "14  GOOG240517C00140000 2024-03-01 20:59:44+00:00   140.0       7.00  0.0   \n",
       "15  GOOG240517C00145000 2024-03-01 20:59:42+00:00   145.0       4.91  0.0   \n",
       "16  GOOG240517C00150000 2024-03-01 20:59:55+00:00   150.0       3.32  0.0   \n",
       "17  GOOG240517C00155000 2024-03-01 20:49:13+00:00   155.0       2.20  0.0   \n",
       "18  GOOG240517C00160000 2024-03-01 20:58:59+00:00   160.0       1.46  0.0   \n",
       "19  GOOG240517C00165000 2024-03-01 20:55:36+00:00   165.0       0.95  0.0   \n",
       "20  GOOG240517C00170000 2024-03-01 20:41:04+00:00   170.0       0.64  0.0   \n",
       "21  GOOG240517C00175000 2024-03-01 20:41:33+00:00   175.0       0.45  0.0   \n",
       "22  GOOG240517C00180000 2024-03-01 16:04:41+00:00   180.0       0.32  0.0   \n",
       "23  GOOG240517C00185000 2024-02-29 15:29:54+00:00   185.0       0.26  0.0   \n",
       "24  GOOG240517C00190000 2024-02-29 20:54:57+00:00   190.0       0.19  0.0   \n",
       "25  GOOG240517C00195000 2024-02-29 20:12:09+00:00   195.0       0.15  0.0   \n",
       "26  GOOG240517C00200000 2024-03-01 20:49:20+00:00   200.0       0.12  0.0   \n",
       "27  GOOG240517C00205000 2024-02-29 16:52:19+00:00   205.0       0.10  0.0   \n",
       "28  GOOG240517C00210000 2024-03-01 20:49:52+00:00   210.0       0.11  0.0   \n",
       "29  GOOG240517C00215000 2024-02-09 18:16:26+00:00   215.0       0.17  0.0   \n",
       "30  GOOG240517C00220000 2024-03-01 19:10:50+00:00   220.0       0.05  0.0   \n",
       "31  GOOG240517C00225000 2024-03-01 20:20:27+00:00   225.0       0.05  0.0   \n",
       "\n",
       "    ask  change  percentChange  volume  openInterest  impliedVolatility  \\\n",
       "0   0.0     0.0            0.0     1.0             2           0.000010   \n",
       "1   0.0     0.0            0.0     2.0             2           0.000010   \n",
       "2   0.0     0.0            0.0     2.0             0           0.000010   \n",
       "3   0.0     0.0            0.0     NaN             2           0.000010   \n",
       "4   0.0     0.0            0.0    32.0            26           0.000010   \n",
       "5   0.0     0.0            0.0     2.0            22           0.000010   \n",
       "6   0.0     0.0            0.0     4.0           185           0.000010   \n",
       "7   0.0     0.0            0.0     8.0             0           0.000010   \n",
       "8   0.0     0.0            0.0     1.0             0           0.000010   \n",
       "9   0.0     0.0            0.0    25.0            48           0.000010   \n",
       "10  0.0     0.0            0.0     5.0             0           0.000010   \n",
       "11  0.0     0.0            0.0    28.0             0           0.000010   \n",
       "12  0.0     0.0            0.0   121.0          1476           0.000010   \n",
       "13  0.0     0.0            0.0   275.0             0           0.000010   \n",
       "14  0.0     0.0            0.0   750.0          9492           0.007822   \n",
       "15  0.0     0.0            0.0  1436.0             0           0.031260   \n",
       "16  0.0     0.0            0.0   959.0             0           0.031260   \n",
       "17  0.0     0.0            0.0   110.0          2616           0.062509   \n",
       "18  0.0     0.0            0.0   220.0          2640           0.062509   \n",
       "19  0.0     0.0            0.0   186.0          3983           0.062509   \n",
       "20  0.0     0.0            0.0   279.0             0           0.125009   \n",
       "21  0.0     0.0            0.0    86.0           865           0.125009   \n",
       "22  0.0     0.0            0.0    30.0             0           0.125009   \n",
       "23  0.0     0.0            0.0     1.0             0           0.125009   \n",
       "24  0.0     0.0            0.0     3.0           672           0.125009   \n",
       "25  0.0     0.0            0.0     1.0            87           0.125009   \n",
       "26  0.0     0.0            0.0    11.0          1493           0.125009   \n",
       "27  0.0     0.0            0.0     2.0           167           0.125009   \n",
       "28  0.0     0.0            0.0     1.0           652           0.250007   \n",
       "29  0.0     0.0            0.0    92.0             0           0.250007   \n",
       "30  0.0     0.0            0.0   100.0           214           0.250007   \n",
       "31  0.0     0.0            0.0     2.0             0           0.250007   \n",
       "\n",
       "    inTheMoney contractSize currency  midPrice  \n",
       "0         True      REGULAR      USD       0.0  \n",
       "1         True      REGULAR      USD       0.0  \n",
       "2         True      REGULAR      USD       0.0  \n",
       "3         True      REGULAR      USD       0.0  \n",
       "4         True      REGULAR      USD       0.0  \n",
       "5         True      REGULAR      USD       0.0  \n",
       "6         True      REGULAR      USD       0.0  \n",
       "7         True      REGULAR      USD       0.0  \n",
       "8         True      REGULAR      USD       0.0  \n",
       "9         True      REGULAR      USD       0.0  \n",
       "10        True      REGULAR      USD       0.0  \n",
       "11        True      REGULAR      USD       0.0  \n",
       "12        True      REGULAR      USD       0.0  \n",
       "13        True      REGULAR      USD       0.0  \n",
       "14       False      REGULAR      USD       0.0  \n",
       "15       False      REGULAR      USD       0.0  \n",
       "16       False      REGULAR      USD       0.0  \n",
       "17       False      REGULAR      USD       0.0  \n",
       "18       False      REGULAR      USD       0.0  \n",
       "19       False      REGULAR      USD       0.0  \n",
       "20       False      REGULAR      USD       0.0  \n",
       "21       False      REGULAR      USD       0.0  \n",
       "22       False      REGULAR      USD       0.0  \n",
       "23       False      REGULAR      USD       0.0  \n",
       "24       False      REGULAR      USD       0.0  \n",
       "25       False      REGULAR      USD       0.0  \n",
       "26       False      REGULAR      USD       0.0  \n",
       "27       False      REGULAR      USD       0.0  \n",
       "28       False      REGULAR      USD       0.0  \n",
       "29       False      REGULAR      USD       0.0  \n",
       "30       False      REGULAR      USD       0.0  \n",
       "31       False      REGULAR      USD       0.0  "
      ]
     },
     "execution_count": 46,
     "metadata": {},
     "output_type": "execute_result"
    }
   ],
   "source": [
    "option = mf.get_call_option_data('GOOG', date = '2024-05-17')\n",
    "option"
   ]
  },
  {
   "cell_type": "code",
   "execution_count": 49,
   "id": "bdf326f9-57d5-47c2-a457-cb234bc1405d",
   "metadata": {},
   "outputs": [],
   "source": [
    "num_rows = option.shape[0]\n",
    "num_options = num_rows\n",
    "last_prices = np.zeros(num_options)\n",
    "mid_prices = np.zeros(num_options)  \n",
    "strikes = np.zeros(num_options)\n",
    "for i in range(0, num_options):\n",
    "    mid_prices[i] = option.iloc[i,14]\n",
    "    strikes[i] = option.iloc[i,2]\n",
    "    last_prices[i] = option.iloc[i,3]\n",
    "    \n",
    "assert strikes[0]==70.0, 'Check first row correct'\n",
    "assert strikes[-1]==225.0, 'Check last row correct'"
   ]
  },
  {
   "cell_type": "code",
   "execution_count": 50,
   "id": "c1c7584b-ad1c-43c3-9b43-54e4ae259810",
   "metadata": {},
   "outputs": [
    {
     "data": {
      "image/png": "[encoded data removed]",
      "text/plain": [
       "<Figure size 1080x504 with 1 Axes>"
      ]
     },
     "metadata": {
      "needs_background": "light"
     },
     "output_type": "display_data"
    }
   ],
   "source": [
    "ax = plt.gca()\n",
    "ax.scatter( strikes, last_prices, c= '#7906d6' )\n",
    "ax.set_xlabel('Strike')\n",
    "ax.set_ylabel('Last-Price');\n",
    "ax.set_title('Google Call Option Prices');"
   ]
  },
  {
   "cell_type": "markdown",
   "id": "80f47bab-939e-4d23-bf9b-ef27fd87d045",
   "metadata": {},
   "source": [
    "Notice, As Strike price increases, the price of Call Option decreases.\n",
    "\n",
    "We want to plot the Implied Volatility for real options in the Market and see if it's constant or does it vary with strike prices. This will give us the test of the accuracy of Black-Scholes formula. In order to compute the implied volatility we need market parameters $S_0$, $T$ and $r$."
   ]
  },
  {
   "cell_type": "code",
   "execution_count": 60,
   "id": "edfbf8e2-6bac-4623-817b-c30d0a24d97b",
   "metadata": {},
   "outputs": [
    {
     "name": "stdout",
     "output_type": "stream",
     "text": [
      "[*********************100%%**********************]  1 of 1 completed\n",
      "[*********************100%%**********************]  1 of 1 completed\n",
      "[*********************100%%**********************]  1 of 1 completed\n"
     ]
    }
   ],
   "source": [
    "from scipy.interpolate import CubicSpline\n",
    "import scipy.optimize\n",
    "import yfinance as yf\n",
    "from datetime import datetime, timedelta\n",
    "\n",
    "def days_to_maturity(maturity_date):\n",
    "    future_date = datetime.strptime(maturity_date, '%Y-%m-%d')\n",
    "    today = datetime.today()\n",
    "    diff = (future_date - today).days + 1\n",
    "    return diff\n",
    "\n",
    "def stock_price(ticker):\n",
    "    symbol = ticker\n",
    "    today = datetime.today().strftime('%Y-%m-%d')\n",
    "    today_datetime = datetime.strptime(today, '%Y-%m-%d')\n",
    "    start_date = (today_datetime - timedelta(days=3)).strftime('%Y-%m-%d')\n",
    "    data = yf.download(symbol, start=start_date, end=today)\n",
    "    stock_price = data['Adj Close'].iloc[-1]\n",
    "    return stock_price\n",
    "\n",
    "def get_rf_rate(maturity_days):\n",
    "    # Ticker symbols for 13-week and 5-Year U.S. Treasury bills and Notes.\n",
    "    symbol_11w = '^IRX'  # 13 WEEK TREASURY BILL.\n",
    "    symbol_5yrs = '^FVX' # Treasury Yield 5 Years.\n",
    "    \n",
    "    today = datetime.today().strftime('%Y-%m-%d')\n",
    "    today_datetime = datetime.strptime(today, '%Y-%m-%d')\n",
    "    start_date = (today_datetime - timedelta(days=4)).strftime('%Y-%m-%d')\n",
    "    data_13w = yf.download(symbol_11w, start = start_date, end = today)\n",
    "    data_5yrs = yf.download(symbol_5yrs, start = start_date, end = today)\n",
    "    rf_rate_13w = data_13w['Adj Close'].iloc[-1] / 100\n",
    "    rf_rate_5yrs = data_5yrs['Adj Close'].iloc[-1] / 100\n",
    "    \n",
    "    maturities = [91, 1825]\n",
    "    rates = [rf_rate_13w, rf_rate_5yrs]\n",
    "\n",
    "    # Perform cubic spline interpolation.\n",
    "    cs = CubicSpline(maturities, rates)\n",
    "    riskfree_rate = cs(maturity_days)\n",
    "\n",
    "    return riskfree_rate\n",
    "\n",
    "# Parameters.\n",
    "T = days_to_maturity('2024-05-17')/365\n",
    "S0 = stock_price('GOOGL')\n",
    "r = get_rf_rate(days_to_maturity('2024-05-17'))"
   ]
  },
  {
   "cell_type": "code",
   "execution_count": 75,
   "id": "071a8b26-9619-48fa-8df6-49ae762a1510",
   "metadata": {},
   "outputs": [
    {
     "data": {
      "image/png": "[encoded data removed]",
      "text/plain": [
       "<Figure size 1080x504 with 1 Axes>"
      ]
     },
     "metadata": {
      "needs_background": "light"
     },
     "output_type": "display_data"
    }
   ],
   "source": [
    "implied_vols = np.zeros( strikes.shape )\n",
    "for i in range(0,len(strikes)):\n",
    "    K = strikes[i]\n",
    "    V_KT = last_prices[i]\n",
    "    implied_vols[i] = mf.implied_vol(r, S0, K, T, V_KT, type = 'call', tol=0.01, method = 'secant')\n",
    "ax = plt.gca()\n",
    "ax.scatter( strikes, implied_vols )\n",
    "ax.set_ylim(0,1);\n",
    "ax.set_xlabel('Strike')\n",
    "ax.set_ylabel('Implied volatility');\n",
    "ax.set_title('Google option implied volatilities'); "
   ]
  },
  {
   "cell_type": "markdown",
   "id": "248f8d8c-ea87-4de8-9d4f-7fa67793e978",
   "metadata": {},
   "source": [
    "Here, the implied volatility is varying wildly and suggest Black-Scholes is not a good approximation. However, the true reason might be different as I have checked with Newton Raphson and secant and both fail to converge.\n",
    "In certain `In-the-Money` options, when option price is less than the `Intrinsic Value`, the root finding methods fails to converge. In these cases,the `Vega` becomes zero in the Newton-Raphson method. The slope `Vega` also becomes zero when the option has a short time to expiry while being far `Out-the-Money`. Another non-convergence issue happens when we have low volatility and the root is close to discontinuity.\n",
    "I will try with a different dataset."
   ]
  },
  {
   "cell_type": "code",
   "execution_count": 77,
   "id": "4e273612-c815-40ae-9c79-b37513ba9478",
   "metadata": {},
   "outputs": [
    {
     "data": {
      "text/plain": [
       "Text(0.5, 1.0, 'Google Call Option Prices')"
      ]
     },
     "execution_count": 77,
     "metadata": {},
     "output_type": "execute_result"
    },
    {
     "data": {
      "image/png": "[encoded data removed]",
      "text/plain": [
       "<Figure size 1080x504 with 1 Axes>"
      ]
     },
     "metadata": {
      "needs_background": "light"
     },
     "output_type": "display_data"
    }
   ],
   "source": [
    "import pandas as pd \n",
    "\n",
    "excel_data = pd.read_excel('Statistics for Finance/data/options.xlsx', header=None)\n",
    "start_row = 4\n",
    "num_rows = excel_data.shape[0]\n",
    "num_options = num_rows-start_row\n",
    "mid_prices = np.zeros(num_options)\n",
    "strikes = np.zeros(num_options)\n",
    "for i in range(0, num_options):\n",
    "    mid_prices[i] = excel_data[2][start_row+i]\n",
    "    strikes[i] = excel_data[3][start_row+i]\n",
    "    \n",
    "assert strikes[0]==1085, 'Check first row correct'\n",
    "assert strikes[-1]==1320, 'Check last row correct'\n",
    "\n",
    "ax = plt.gca()\n",
    "ax.scatter( strikes, mid_prices )\n",
    "ax.set_xlabel('Strike')\n",
    "ax.set_ylabel('Mid Price')\n",
    "ax.set_title('Google Call Option Prices')"
   ]
  },
  {
   "cell_type": "markdown",
   "id": "31b9b0db-4ef4-4008-a5ee-c17932b9f241",
   "metadata": {},
   "source": [
    "The file options.xlsx also contains a note of the other market parameters needed to compute the implied volatility\n",
    "\n",
    "* $S_0=1205.415$\n",
    "* $r=0.0016$\n",
    "* $T=31/365$\n",
    "\n",
    "We can use this to create a plot of the implied volatility against the strike."
   ]
  },
  {
   "cell_type": "code",
   "execution_count": 81,
   "id": "af5313a0-88b8-4dc2-8901-944ba3e58230",
   "metadata": {},
   "outputs": [
    {
     "name": "stdout",
     "output_type": "stream",
     "text": [
      "Number of iteration : 0\n",
      "Number of iteration : 1\n",
      "Number of iteration : 2\n",
      "Number of iteration : 0\n",
      "Number of iteration : 1\n",
      "Number of iteration : 2\n",
      "Number of iteration : 0\n",
      "Number of iteration : 1\n",
      "Number of iteration : 2\n",
      "Number of iteration : 0\n",
      "Number of iteration : 1\n",
      "Number of iteration : 2\n",
      "Number of iteration : 0\n",
      "Number of iteration : 1\n",
      "Number of iteration : 2\n",
      "Number of iteration : 0\n",
      "Number of iteration : 1\n",
      "Number of iteration : 2\n",
      "Number of iteration : 0\n",
      "Number of iteration : 1\n",
      "Number of iteration : 2\n",
      "Number of iteration : 0\n",
      "Number of iteration : 1\n",
      "Number of iteration : 2\n",
      "Number of iteration : 0\n",
      "Number of iteration : 1\n",
      "Number of iteration : 2\n",
      "Number of iteration : 0\n",
      "Number of iteration : 1\n",
      "Number of iteration : 2\n",
      "Number of iteration : 0\n",
      "Number of iteration : 1\n",
      "Number of iteration : 2\n",
      "Number of iteration : 0\n",
      "Number of iteration : 1\n",
      "Number of iteration : 2\n",
      "Number of iteration : 0\n",
      "Number of iteration : 1\n",
      "Number of iteration : 2\n",
      "Number of iteration : 0\n",
      "Number of iteration : 1\n",
      "Number of iteration : 0\n",
      "Number of iteration : 1\n",
      "Number of iteration : 0\n",
      "Number of iteration : 1\n",
      "Number of iteration : 0\n",
      "Number of iteration : 1\n",
      "Number of iteration : 0\n",
      "Number of iteration : 1\n",
      "Number of iteration : 0\n",
      "Number of iteration : 1\n",
      "Number of iteration : 0\n",
      "Number of iteration : 1\n",
      "Number of iteration : 0\n",
      "Number of iteration : 1\n",
      "Number of iteration : 0\n",
      "Number of iteration : 1\n",
      "Number of iteration : 0\n",
      "Number of iteration : 1\n",
      "Number of iteration : 0\n",
      "Number of iteration : 1\n",
      "Number of iteration : 0\n",
      "Number of iteration : 1\n",
      "Number of iteration : 0\n",
      "Number of iteration : 1\n",
      "Number of iteration : 0\n",
      "Number of iteration : 1\n",
      "Number of iteration : 0\n",
      "Number of iteration : 1\n",
      "Number of iteration : 0\n",
      "Number of iteration : 1\n",
      "Number of iteration : 0\n",
      "Number of iteration : 1\n",
      "Number of iteration : 0\n",
      "Number of iteration : 1\n",
      "Number of iteration : 0\n",
      "Number of iteration : 1\n",
      "Number of iteration : 0\n",
      "Number of iteration : 1\n",
      "Number of iteration : 0\n",
      "Number of iteration : 1\n",
      "Number of iteration : 0\n",
      "Number of iteration : 1\n",
      "Number of iteration : 0\n",
      "Number of iteration : 1\n",
      "Number of iteration : 2\n",
      "Number of iteration : 0\n",
      "Number of iteration : 1\n",
      "Number of iteration : 2\n",
      "Number of iteration : 0\n",
      "Number of iteration : 1\n",
      "Number of iteration : 2\n",
      "Number of iteration : 0\n",
      "Number of iteration : 1\n",
      "Number of iteration : 2\n",
      "Number of iteration : 0\n",
      "Number of iteration : 1\n",
      "Number of iteration : 2\n",
      "Number of iteration : 0\n",
      "Number of iteration : 1\n",
      "Number of iteration : 2\n",
      "Number of iteration : 0\n",
      "Number of iteration : 1\n",
      "Number of iteration : 2\n",
      "Number of iteration : 0\n",
      "Number of iteration : 1\n",
      "Number of iteration : 2\n",
      "Number of iteration : 0\n",
      "Number of iteration : 1\n",
      "Number of iteration : 2\n",
      "Number of iteration : 0\n",
      "Number of iteration : 1\n",
      "Number of iteration : 2\n",
      "Number of iteration : 0\n",
      "Number of iteration : 1\n",
      "Number of iteration : 2\n",
      "Number of iteration : 0\n",
      "Number of iteration : 1\n",
      "Number of iteration : 2\n",
      "Number of iteration : 0\n",
      "Number of iteration : 1\n",
      "Number of iteration : 2\n"
     ]
    },
    {
     "data": {
      "image/png": "[encoded data removed]",
      "text/plain": [
       "<Figure size 1080x504 with 1 Axes>"
      ]
     },
     "metadata": {
      "needs_background": "light"
     },
     "output_type": "display_data"
    }
   ],
   "source": [
    "S0 = 1205.415\n",
    "r = 0.0016\n",
    "T = 31/365\n",
    "\n",
    "implied_vols = np.zeros( strikes.shape )\n",
    "for i in range(0,len(strikes)):\n",
    "    K = strikes[i]\n",
    "    V_KT = mid_prices[i]\n",
    "    implied_vols[i] = mf.implied_vol(r, S0, K, T, V_KT, type = 'call', tol=0.01, method = 'Newton-Raphson');\n",
    "ax = plt.gca();\n",
    "ax.scatter( strikes, implied_vols );\n",
    "ax.set_ylim(0,0.3);\n",
    "ax.set_xlabel('Strike');\n",
    "ax.set_ylabel('Implied volatility');\n",
    "ax.set_title('Google option implied volatilities');"
   ]
  },
  {
   "cell_type": "markdown",
   "id": "0ce63437-002f-41c9-8581-40e0d5516428",
   "metadata": {},
   "source": [
    "As we can see with this dataset, the implied volatility is not constant but also not varying that much. This suggests that Black-Scholes gives a crude first approximation to actual market option prices.\n",
    "\n",
    "## Remark\n",
    "The call options we have considered on Google stock are in fact American options not European options. Typically options on an individual stock will be American options whereas options on an index are European options. The options above do not pay dividends. American call options and European call options are equivalent for options which do not pay dividends if the interest rate $r\\geq 0$. \n",
    "\n",
    "To see this it suffices to prove that at time $t$, a European call option with strike $K$ and maturity $T$ is always worth more than $\\max\\{S_t - K, 0\\}$, as this implies that there is no benefit to exercising an American option before maturity.\n",
    "\n",
    "To prove our claim we use a replication argument:\n",
    "* If you have $S_t-K$ cash at time $t$: Purchase one unit of stock and put $-K$ in the risk-free account. At time $T$ this will be worth $S_T-e^{r(T-t)}K$. So having $S_t-K$ cash at time $t$ allows you to replicate $S_T-e^{r(T-t)}K$. Hence the price of a derivative with payoff\n",
    "$S_T-e^{r(T-t)}K$ must be $S_t-K$.\n",
    "* But $\\max\\{S_T-K,0\\} \\geq S_T - K \\geq S_T - e^{r(T-t)}K$ since $r \\geq 0$. So a European call option with strike $K$ and maturity $T$ is always worth more than a derivative with payoff $S_T - e^{r(T-t)}K$, and so it is always worth more than $S_t-K$.\n",
    "* Since the payoff of a European call option is always non-negative, European call options must be worth at least $0$.\n",
    "* Hence at time $t$, a European call option with strike $K$ and maturity $T$ is always worth more than $\\max\\{S_t-K,0\\}$ as claimed.\n",
    "\n",
    "This means that you can price American call options in the Black-Scholes model using the Black-Scholes formula. However, American put options are trickier to price in the Black-Scholes model."
   ]
  },
  {
   "cell_type": "markdown",
   "id": "f1f53c1e-e543-4a0e-a342-bd3b979d90e4",
   "metadata": {},
   "source": [
    "# Modelling Approach of Classical Derivatives Trader.\n",
    "The fundamental business model of a derivatives trader is to provide derivatives for their customers without taking any risks. Their profit comes from charging a small premium on each trade. It is helpful to picture them as selling *over-the-counter* derivatives to their customers and hedging them by using the stock and also *exchange-traded derivatives*. `Exchange-traded derivatives` are derivatives that are traded on an exchange. You can see publicly quoted bid and ask prices for them online. These are usually put and call options. For options on stock indices they are usually European options, for options on individual stocks they are usually American options. `Over-the-counter derivatives` are derivatives where you have to contact a trader directly to find at what price they will buy or sell the derivative. In more complex market models than the Black-Scholes model, you cannot hedge all the risks of a derivative with just the stock. You need to use other exchange-traded options to hedge the risk. For example, suppose you believe that the volatility is itself stochastic, then you can hedge against changes to the volatility and to the stock price using the stock and an exchange traded option. By choosing the right quantities you can ensure your portfolio won't change value when the stock changes price or when the volatility changes. If this is your business model, you will want to price derivatives using a market model which matches the market prices for exchange traded derivatives. If you choose a market model which does not match market prices, then you will, in effect, be offering to buy and sell financial products at a different price from market prices. This is *speculation* and is potentially risky. There is nothing wrong with pursuing a risky strategy, its just not the business model of the classic derivatives trader. They want to make money purely by offering a service, so their model must match market prices for exchange traded products.\n",
    "\n",
    "In Classical Derivatives Traders Business model:\n",
    "- The Drift$\\mu$ is `Irrelevant`.\n",
    "- The Historical Data is `Irrelevant`.\n",
    "\n",
    "In this business model, the theory of Black and Scholes suggests that there is no need to model the drift. The prices quoted in the Black-Scholes model don't depend on the drift and nor does the trading strategy. Estimating the drift is hard, and if you are a derivatives trader it is wasted effort. For this reason, when choosing a model the classic derivatives trader does not even try to choose a $\\mathbb{P}$-measure model, they just try to find the right $\\mathbb{Q}$-measure model that will match market prices. This means the Black-Scholes model starting with the model\n",
    "$$\n",
    "d S_t=S_t(\\mu dt + \\sigma d W_t)\n",
    "$$\n",
    "for constants $\\mu$ and $\\sigma$ is rather misleading. It is better to think of $\\mu$ as being an unknown function which, fortunately, is completely irrelevant to option pricing.\n",
    "Black-Scholes model leads you to imagine a trader who looks at the history of stock prices and chooses the values of $\\sigma$ and $\\mu$ which best fit that history. But this is completely misleading. Traders in the market often have a good idea of how volatility is likely to change. For example, volatility is likely to increase in the run up to an election or a major market announcement. If you blindly use historical data, you will miss this. More alert traders will take advantage of your naivety and make a profit from you. The classic derivatives trader assumes that the *market knows best* and that future changes in the volatility are already reflected in option prices. Rather than try to out-guess the market, they take advantage of market prices and use this to *calibrate* their models. Note: Their business model is to make a risk-free profit by replicating derivatives and charging for the service."
   ]
  },
  {
   "cell_type": "markdown",
   "id": "7eff774c-afc2-42fb-95b4-da900cc80d19",
   "metadata": {},
   "source": [
    "## Risk Neutral Modelling\n",
    "\n",
    "The classical strategy of a derivatives trader could be called *risk-neutral modelling* (this is not a standard phrase). They try to come up with a model, ${\\mathbb Q}$ for asset prices such that all exchange-traded assets have a price given by\n",
    "the *risk-neutral pricing formula*:\n",
    "$$\n",
    "\\text{price at time }t=E^{\\mathbb Q}_t(e^{-r(T-t) }\\text{payoff}).\n",
    "$$\n",
    "The model they use will typically have several parameters which they use to *calibrate* to market data. This means choosing the parameters so the model matches market prices for exchange-traded derivatives. They then quote prices for over-the-counter derivatives using the risk-neutral pricing formula. They hedge their liabilities using the underlying assets and exchange-traded derivatives. \n",
    "\n",
    "**Remark:** I've simplified the risk-neutral pricing formula by assuming a constant interest rate. It can be generalised to \n",
    "$$\n",
    "\\text{price at time }t=E^{\\mathbb Q}_t(e^{\\int_{t}^T r_t \\, dt }\\text{payoff})\n",
    "$$\n",
    "where $r_t$ is the \"short rate\" at time $t$. This is the interest rate for investing/borrowing for a very small length of time, say overnight. To be precise, it is defined to be the limit of the interest rate for investing/borrowing as the time period of the investment/loan tends to zero. "
   ]
  },
  {
   "cell_type": "markdown",
   "id": "acf7dcd2-ccf4-4fb7-8521-a0e1a469664a",
   "metadata": {
    "slideshow": {
     "slide_type": "slide"
    }
   },
   "source": [
    "# A Jump-Diffusion Model\n",
    "`Jump-Diffusion` is the simplest model which goes beyond the Black-Scholes model. We will do ${\\mathbb Q}$-measure modelling and calibration."
   ]
  },
  {
   "cell_type": "markdown",
   "id": "c5e6fef8-df5d-437d-8ef9-86efd290beb3",
   "metadata": {
    "slideshow": {
     "slide_type": "slide"
    }
   },
   "source": [
    "`Recall:` - In $\\mathbb Q$-measure modelling, We want to give a model for the underlying variables on which future outcome rest such that market prices are given by the formula\n",
    "$$\n",
    "\\text{price at time (Market price)}t=E^{\\mathbb Q}_t( e^{-r(T-t)} \\text{payoff}).\n",
    "$$\n",
    "In finance the underlying variables are asset prices such as the stock price. When the underlying variables are asset prices we will have *consistency conditions* of the form:\n",
    "$$\n",
    "S_t = E^{\\mathbb Q}_t( e^{-r(T-t)} S_T ) \\qquad (Conditional Expectation)\n",
    "$$\n",
    "The consistency condition may be expressed as saying that *the discounted price process must be a martingale*. So not just any model can be used as a ${\\mathbb Q}$-model. [Note: $X_t$ is Martingale if $\\mathbb{E}_t(X_{t+\\delta t}) = X_t$]\n",
    "\n",
    "- **Example (Black-Scholes Model) :** Suppose that we want to use a ${\\mathbb Q}$-model of the form\n",
    "$$\n",
    "S_t=S_t(\\mu \\, dt + \\sigma \\, d W_t) \\qquad (GBM)\n",
    "$$\n",
    "for some $\\mu$ and $\\sigma$. It follows that \n",
    "$$\n",
    "E^{\\mathbb Q}(S_T) = e^{\\mu T} S_0.\n",
    "$$\n",
    "\n",
    "Since the model is essentially the same at all times $t$, it satisfies the consistency condition if and only if $\\mu=r$. This is the only way to use Geometric Brownian Motion(GBM) as $\\mathbb Q$-measure model. There is no such restriction if you want to use it as a $\\mathbb P$-measure model."
   ]
  },
  {
   "cell_type": "markdown",
   "id": "62d9d4df-d7e5-4dc0-b1e7-c77fb272f868",
   "metadata": {
    "slideshow": {
     "slide_type": "fragment"
    },
    "tags": []
   },
   "source": [
    "## A jump-diffusion model\n",
    "\n",
    "We will suppose that the stock has `jumps` that follow a `Poisson process` with intensity $\\lambda$. Let $N(t)$ be the number of jumps that\n",
    "have occurred up to time $t$. We will suppose that the stock price at time $t$ is given by\n",
    "\n",
    "$$\\boxed{S_t:=j^{N(t)} \\tilde{S}_t}$$\n",
    "\n",
    "where $\\tilde{S}_t$ follows an geometric Brownian motion\n",
    "$$\n",
    "d \\tilde{S}_t= \\tilde{S}_t( \\tilde{\\mu} \\, dt + \\sigma \\, dW_t) \\qquad \\text{where, }(\\tilde{S}=\\text{Stock price without jumps}.)\n",
    "$$\n",
    "\n",
    "This means that between jumps $S_t$ follows the same SDE (but with a different initial condition). We assume the ratio $j = \\frac{S_t}{S_{t-}}$ remains fixed i.e. jump size is always same. This model has 2 sources of Risks:\n",
    "- Brownian Motion.\n",
    "- Jumps.\n",
    "\n",
    "<img src=\"pics/jumpdiffusion.png\" width=\"530\" height=\"500\"/>\n",
    "\n",
    "All the jumps are of a fixed proportion of the stock price: each jump takes the stock from $S_{t-}$ to $S_t = j S_{t-}$. Stock price crashes/jumps at randomly distributed intervals. Intervals between Stock price crashes are exponentially distributed or equivalently the number of jumps that have occurred follows a Poisson Process.\n",
    "\n",
    "There will be a consistency condition on $\\tilde{\\mu}$ that we need to find. When $j=1$ we already know this consistency condition as our model becomes the Black-Scholes model: it is that $\\tilde{\\mu}=r$."
   ]
  },
  {
   "cell_type": "markdown",
   "id": "c65297bf-77bd-4d21-89ec-58b3a1515bf7",
   "metadata": {
    "slideshow": {
     "slide_type": "slide"
    }
   },
   "source": [
    "### Computing Option Prices in Jump-Diffusion Model\n",
    "\n",
    "The ${\\mathbb Q}$-probability that $N(T)=n$ is given by the Poisson distribution with parameter $\\lambda T$.\n",
    "$$\n",
    "{\\mathbb Q}(N=n)=\\frac{(\\lambda T)^n}{n!} \\exp(-\\lambda T)\\qquad (\\mathbb{Q}\\text{-measure probability that }n\\text{ jumps have occurred})\n",
    "$$\n",
    "\n",
    "The stock price at time $T$ is $S_T = j^{N(T)} \\tilde{S}_T$. So the **payoff** of a call\n",
    "option with strike $K$ is: \n",
    "$$\n",
    "\\boxed{\n",
    "\\max\\{j^{N(T)} \\tilde{S_T} -K, 0 \\}}\n",
    "$$\n",
    "\n",
    "Hence\n",
    "$$\n",
    "\\begin{split}\n",
    "\\text{price}&=E^{\\mathbb Q}(e^{-rT} \\text{payoff}) \\\\ \n",
    "&=\n",
    "\\sum_{n=0}^\\infty {\\mathbb Q}(N=n) E^{\\mathbb Q}(e^{-rT} \\max\\{ j^n \\tilde{S}_T - K, 0 \\}) \\qquad (Conditional \\mathbb{E}\\text{ condition on NO. of jumps = n i.e.}\\mathbb{Q}(N=n))\\\\\n",
    "&=\n",
    "\\sum_{n=0}^\\infty \\frac{(\\lambda T)^n}{n!} \\exp(-\\lambda T) E^{\\mathbb Q}(e^{-rT} \\max\\{ j^n \\tilde{S}_T - K, 0 \\})\n",
    "\\end{split}\n",
    "$$\n",
    "\n",
    "we need to compute the Expectation.\n",
    "\n",
    "$$ E^{\\mathbb Q}(e^{-rT} \\max\\{ j^n \\tilde{S}_T - K, 0 \\}) $$ \n",
    "\n",
    "The brute force approach is to notice that $\\tilde{S}_T$ follows geometric Brownian motion, so we can compute\n",
    "its density and hence figure out the expectation.\n",
    "\n",
    "The \"lazy\" approach is to notice that this is basically the same expectation as we get when computing\n",
    "the price in the Black-Scholes model, except that $\\tilde{S}_T$ has drift $\\tilde{\\mu}$ rather than $r$\n",
    "in this ${\\mathbb Q}$-model."
   ]
  },
  {
   "cell_type": "markdown",
   "id": "a2f7950e-2d92-4b6c-86a3-4dea38396d15",
   "metadata": {
    "slideshow": {
     "slide_type": "fragment"
    }
   },
   "source": [
    "### Observation\n",
    "\n",
    "We know that for any $k \\geq 0$,\n",
    "$$E^{\\mathbb Q}(e^{-\\tilde{\\mu}T} \\max\\{ \\tilde{S}_T - k, 0 \\})=V(\\tilde{S_0}, k, T, \\tilde{\\mu}, \\sigma)$$\n",
    "where\n",
    "$$V(S_0,K,T,r,\\sigma)$$\n",
    "is the **price of a call option with the given strike in the Black-Scholes model**.\n",
    "\n",
    "So we can compute\n",
    "$$\n",
    "\\begin{split}\n",
    "E^{\\mathbb Q}(e^{-rT} \\max\\{ j^n \\tilde{S}_T - K, 0 \\})&=\n",
    "j^n e^{-rT + \\tilde{\\mu}T} E^{\\mathbb Q}( e^{-\\tilde{\\mu}T} \\max\\{ \\tilde{S}_T - j^{-n} K, 0 \\}) \\qquad (\\text{Factoring out & Rewriting in terms of Black-Scholes}) \\\\\n",
    "&=\n",
    "j^n e^{-rT + \\tilde{\\mu}T} V(S_0, j^{-n} K, T, \\tilde{\\mu}, \\sigma)\n",
    "\\end{split}\n",
    "$$\n",
    "\n",
    "Hence our jump diffusion model will give the price of a call option with strike $K$ and maturity $T$ as:\n",
    "$$\n",
    "\\boxed{\n",
    "\\begin{split}\n",
    "\\text{price}&=\n",
    "\\sum_{n=0}^\\infty \\frac{(j \\lambda T)^n}{n!} e^{-(r+\\lambda)T + \\tilde{\\mu}T} V(S_0, j^{-n} K, T, \\tilde{\\mu}, \\sigma)\n",
    "\\end{split}}\n",
    "$$"
   ]
  },
  {
   "cell_type": "markdown",
   "id": "ee8788ae-d73d-4e38-b81b-edd6af4810d2",
   "metadata": {
    "slideshow": {
     "slide_type": "slide"
    }
   },
   "source": [
    "### Consistency condition\n",
    "\n",
    "But our formula needs to be consistent with market prices, in particular it needs to be consistent with the fact that the current stock price is $S_0$."
   ]
  },
  {
   "cell_type": "markdown",
   "id": "dbf67bb9-933f-4112-a98d-4bebcd6094bb",
   "metadata": {
    "slideshow": {
     "slide_type": "fragment"
    }
   },
   "source": [
    "A call option with a strike of $0$ is the same thing as purchasing the stock, so setting $K=0$ we get the condition\n",
    "$$\n",
    "\\begin{split}\n",
    "S_0 &= \\overbrace{\\sum_{n=0}^\\infty \\frac{(j \\lambda T)^n}{n!}}^{e^{j\\lambda T}} e^{-(r+\\lambda)T + \\tilde{\\mu}T} \\underbrace{V(S_0, 0, T, \\tilde{\\mu}, \\sigma)}_{S_0 \\text{ Price of Stock}} \\\\\n",
    "&=  \\sum_{n=0}^\\infty \\frac{(\\lambda T)^n}{n!} j^n \\underbrace{e^{-(r+\\lambda)T + \\tilde{\\mu}T} S_0}_{\\text{Don't depend on n}} \\\\\n",
    "&=  e^{j \\lambda T}e^{-(r+\\lambda)T + \\tilde{\\mu}T} S_0 \\\\\n",
    "&=  e^{(\\tilde{\\mu}-r-\\lambda(1-j))T} S_0 \\\\\n",
    "\\end{split}\n",
    "$$\n",
    "Note for the first part we use the power series for $e^x$.\n",
    "$$e^x = \\sum_{n=0}^{\\infty} \\frac{x^n}{n!}$$\n",
    "Hence, the **consistency condition** is:\n",
    "$$\\boxed{S_0 = e^{(\\tilde{\\mu}-r-\\lambda(1-j))T} S_0}$$\n",
    "\n",
    "So for this to be a valid model we must take\n",
    "$$\n",
    "\\boxed{\\tilde{\\mu}=r+\\lambda(1-j)}\n",
    "$$"
   ]
  },
  {
   "cell_type": "markdown",
   "id": "cee22626-d470-4ade-8e07-95aba6d15b1f",
   "metadata": {
    "slideshow": {
     "slide_type": "slide"
    }
   },
   "source": [
    "### Summary\n",
    "\n",
    "**Theorem:**\n",
    "    \n",
    "The jump diffusion model with jump size $j$ and intensity $\\lambda$ gives a valid ${\\mathbb Q}$-measure model if \n",
    "$$\\tilde{\\mu}=r+\\lambda(1-j)$$\n",
    "in which case the price of a European call option with strike $K$ and maturity $T$ simplifies to\n",
    "$$\n",
    "\\sum_{n=0}^\\infty \\frac{(j \\lambda T)^n}{n!} e^{-j \\lambda T} V(S_0, j^{-n} K, T, \\tilde{\\mu}, \\sigma)\n",
    "$$"
   ]
  },
  {
   "cell_type": "markdown",
   "id": "c0b6f21e-e3fe-43e8-b67f-2753de939520",
   "metadata": {
    "slideshow": {
     "slide_type": "fragment"
    }
   },
   "source": [
    "**Check:** Reassuringly when $j=1$ this simplifies to\n",
    "$$\n",
    "\\overbrace{\\sum_{n=0}^\\infty \\frac{(\\lambda T)^n}{n!}}^{e^{\\lambda T}} e^{-\\lambda T} V(S_0, K, T, r, \\sigma)=V(S_0, K, T, r, \\sigma)\n",
    "$$\n",
    "so we recover the Black-Scholes price."
   ]
  },
  {
   "cell_type": "markdown",
   "id": "d3ad761b-f603-4245-9783-64d1128765cf",
   "metadata": {
    "jupyter": {
     "outputs_hidden": false
    }
   },
   "source": [
    "Lets write a function to price a call option in the jump diffusion model. Since, as humans we cant calculate to $\\infty$, we should include sufficient terms in the power series to ensure that your answer is accurate to roughly one part in a million."
   ]
  },
  {
   "cell_type": "code",
   "execution_count": 91,
   "id": "eda7216d-804d-4349-8de8-53fdbc474b79",
   "metadata": {
    "collapsed": false,
    "jupyter": {
     "outputs_hidden": false
    },
    "nbgrader": {
     "grade": true,
     "grade_id": "e6e098",
     "locked": true,
     "points": 1,
     "schema_version": 3,
     "solution": false,
     "task": false
    }
   },
   "outputs": [],
   "source": [
    "def jump_diffusion_call_price( S, K, T, r, sigma, lbda, j):\n",
    "    S = np.array(S)\n",
    "    term = np.ones(S.shape)\n",
    "    total = np.zeros(S.shape)\n",
    "    n = 0\n",
    "    mu_tilde = r + lbda*(1-j)\n",
    "    while np.any(abs(term)>1e-7*abs(total)):\n",
    "        V = mf.blackscholes(mu_tilde, S, j**(-n)*K, T, sigma, t=0, type=\"call\")   # r=mu, S=S, K=j**(-n)*K, T=T, sigma=sigma, t=0.\n",
    "        term = ((j*lbda*T)**n)/np.math.factorial(n) * np.exp( -j*lbda*T) * V\n",
    "        total = total + term\n",
    "        n = n+1\n",
    "    return total"
   ]
  },
  {
   "cell_type": "markdown",
   "id": "8009dd9f-2731-438b-b444-48ba78255b0f",
   "metadata": {},
   "source": [
    "Lets choose the model parameters for the test.\n",
    "$$\n",
    "r = 0.02 \\\\\n",
    "S_0 = 150  \\\\\n",
    "\\sigma = 0.2 \\\\\n",
    "T = 1 \\\\\n",
    "\\lambda = 1 \\\\\n",
    "j = 0.9  \\\\\n",
    "$$\n",
    "The stock is the same thing as a call price when a strike equals 0, so for very low strikes $K<<0$ the price should be nearly $S_0$."
   ]
  },
  {
   "cell_type": "code",
   "execution_count": 101,
   "id": "f2eebb60-09c5-4937-b850-9f5048972fbb",
   "metadata": {},
   "outputs": [
    {
     "name": "stdout",
     "output_type": "stream",
     "text": [
      "Jump-Diffusion Price :  149.99999850173913  and Stock price is :  150\n"
     ]
    }
   ],
   "source": [
    "# Model parameters for the test.\n",
    "r = 0.02\n",
    "S0 = 150\n",
    "sigma = 0.2\n",
    "T = 1\n",
    "lbda = 1\n",
    "j = 0.9\n",
    "\n",
    "actual = jump_diffusion_call_price( S0, 0.000001, T, r, sigma, lbda, j )\n",
    "np.testing.assert_almost_equal(S0,actual,decimal=2)\n",
    "print(\"Jump-Diffusion Price : \",actual,\" and Stock price is : \",S0)"
   ]
  },
  {
   "cell_type": "markdown",
   "id": "271fa503-f3f2-4973-92cc-62b925789773",
   "metadata": {},
   "source": [
    "As we have done previously, when jump size $j=1$, we should get the Black-Scholes price. When $j=1$, it implies that the size of the jump is equivalent to the current stock price ($S_0$)."
   ]
  },
  {
   "cell_type": "code",
   "execution_count": 102,
   "id": "19ef97a6-a17c-44c8-a75d-dc252a6d5be8",
   "metadata": {},
   "outputs": [
    {
     "name": "stdout",
     "output_type": "stream",
     "text": [
      "Jump-Diffusion Price :  13.374055906736803  Black-Scholes Price :  13.374055917858811\n"
     ]
    }
   ],
   "source": [
    "# When jump size is 1, we should get back the Black-Scholes price.\n",
    "actual = jump_diffusion_call_price( S0, S0, T, r, sigma, lbda, 1 )  # S=S0, K=S0, T=T, r=r, sigma=sigma, lbda=lbda, j=1.\n",
    "expected = mf.blackscholes(r, S0, S0, T, sigma, t=0, type=\"call\")  # S=S0 and K=S0.\n",
    "print(\"Jump-Diffusion Price : \",actual,\" Black-Scholes Price : \",expected)\n",
    "np.testing.assert_almost_equal(actual,expected,decimal=2)"
   ]
  },
  {
   "cell_type": "markdown",
   "id": "6b0314be-a95e-4e09-9950-5ae1f3aa6a47",
   "metadata": {},
   "source": [
    "Note: When the jump size (j) is equal to 1, it implies that every jump in the underlying asset price results in a change of exactly one unit. This essentially cancels out the effect of the strike price. Setting $K = S_0$ in the jump-diffusion model with $j = 1$ simplifies the analysis by eliminating the effect of the strike price due to the counteracting effect of the jump size. This allows for a direct comparison with the Black-Scholes formula, which assumes a continuous price process and doesn't account for jumps."
   ]
  },
  {
   "cell_type": "markdown",
   "id": "7191a150-ba55-4e48-a7dc-11cec3eef92c",
   "metadata": {},
   "source": [
    "## Simulating Jump-Diffusion Model\n",
    "To simulate the jump diffusion model on a grid of size $\\delta t$, let $Z_t=\\log(S_t)$. We may simulate $Z_t$ as\n",
    "$$\n",
    "Z_{t+\\delta t}=Z_t + (\\tilde{\\mu}-\\tfrac{1}{2}\\sigma^2)\\, \\delta t + \\sigma (\\delta t)^{\\frac{1}{2}} \\epsilon_t + n_{t,t+\\delta t} \\log(j)\n",
    "$$\n",
    "where the $\\epsilon_t$ are independent standard normal random variables and the $n_{t,t+\\delta t}$ are independent Poisson random variables with intensity parameter $\\lambda \\, \\delta t$. The variables $n_{t,t+\\delta t}$ represent the number of jumps between time $t$ and time $t+\\delta t$."
   ]
  },
  {
   "cell_type": "code",
   "execution_count": 103,
   "id": "f2875150-53cd-4566-b11c-b2320694e40e",
   "metadata": {
    "collapsed": false,
    "jupyter": {
     "outputs_hidden": false
    },
    "nbgrader": {
     "grade": false,
     "grade_id": "5d8d6d",
     "locked": false,
     "schema_version": 3,
     "solution": true,
     "task": false
    }
   },
   "outputs": [],
   "source": [
    "def simulate_jump_diffusion( S0, T, mu_twiddle, sigma, lbda, j, n_steps, n_paths ):\n",
    "    t = np.linspace(0,T,n_steps+1)\n",
    "    dt = T/n_steps\n",
    "    Z = np.zeros((n_paths,n_steps+1))\n",
    "    Z[:,0]=np.log(S0)\n",
    "    for i in range(0, n_steps):\n",
    "        epsilon = np.random.normal(size=(n_paths))\n",
    "        jumps = np.random.poisson(lbda*dt, n_paths )\n",
    "        Z[:,i+1]=Z[:,i] + (mu_twiddle-0.5*sigma**2)*dt + sigma*np.sqrt(dt)*epsilon + np.log(j)*jumps\n",
    "    S = np.exp(Z)\n",
    "    return S, t"
   ]
  },
  {
   "cell_type": "markdown",
   "id": "f89e0f91-3ec0-4aee-b23c-f0cf417a8f53",
   "metadata": {},
   "source": [
    "The Discounted Expected stock price in the $\\mathbb{Q}$-model at time $T$ should equal $S_0$ by the consistency condition. We check if the answer is within a 99.9% confidence interval."
   ]
  },
  {
   "cell_type": "code",
   "execution_count": 104,
   "id": "be01b1e5-6cc3-476a-b96a-4f3c11b4b0c5",
   "metadata": {
    "collapsed": false,
    "jupyter": {
     "outputs_hidden": false
    },
    "nbgrader": {
     "grade": true,
     "grade_id": "72610d",
     "locked": true,
     "points": 1,
     "schema_version": 3,
     "solution": false,
     "task": false
    }
   },
   "outputs": [],
   "source": [
    "np.random.seed(0)\n",
    "n_steps = 365\n",
    "n_paths = 100000\n",
    "mu_twiddle = r + lbda*(1-j)\n",
    "S,t = simulate_jump_diffusion(S0,T,mu_twiddle,sigma, lbda, j, n_steps, n_paths)\n",
    "\n",
    "discounted_expectation = np.exp(-r*T)*np.mean(S[:,-1])\n",
    "sd = np.exp(-r*T)*np.std(S[:,-1])/np.sqrt(n_paths)\n",
    "alpha = scipy.stats.norm.ppf(0.0005)\n",
    "assert discounted_expectation>S0+alpha*sd\n",
    "assert discounted_expectation<S0-alpha*sd"
   ]
  },
  {
   "cell_type": "markdown",
   "id": "0a35253e-2ac4-47f3-9331-d7ef28818536",
   "metadata": {},
   "source": [
    "This simulation method is exact, so only one step is needed. Hence, *n_steps = 1*."
   ]
  },
  {
   "cell_type": "code",
   "execution_count": 105,
   "id": "c17cd158-6139-4df5-be6e-e38bb3968910",
   "metadata": {
    "collapsed": false,
    "jupyter": {
     "outputs_hidden": false
    },
    "nbgrader": {
     "grade": true,
     "grade_id": "d83ca5",
     "locked": true,
     "points": 1,
     "schema_version": 3,
     "solution": false,
     "task": false
    }
   },
   "outputs": [],
   "source": [
    "S,t = simulate_jump_diffusion(S0,T,mu_twiddle,sigma, lbda, j, 1, n_paths)\n",
    "discounted_expectation = np.exp(-r*T)*np.mean(S[:,-1])\n",
    "assert discounted_expectation>S0+alpha*sd\n",
    "assert discounted_expectation<S0-alpha*sd"
   ]
  },
  {
   "cell_type": "code",
   "execution_count": 107,
   "id": "2ff360d7-46f9-4001-ac57-5762ae774452",
   "metadata": {},
   "outputs": [
    {
     "data": {
      "image/png": "[encoded data removed]",
      "text/plain": [
       "<Figure size 1080x504 with 1 Axes>"
      ]
     },
     "metadata": {
      "needs_background": "light"
     },
     "output_type": "display_data"
    }
   ],
   "source": [
    "np.random.seed(0)\n",
    "n_steps = 365\n",
    "n_paths = 100000\n",
    "mu_twiddle = r + lbda*(1-j)\n",
    "S,times = simulate_jump_diffusion(S0,T,mu_twiddle,sigma, lbda, j, n_steps, n_paths)\n",
    "\n",
    "top_five_percent = np.percentile(S,95,0)\n",
    "bottom_five_percent = np.percentile(S,5,0)\n",
    "median = np.percentile(S,50,0)\n",
    "plt.plot(times, top_five_percent, label='95th Percentile')\n",
    "plt.plot(times,median, label='Median')\n",
    "plt.plot(times, bottom_five_percent, label='5th Percentile')\n",
    "plt.plot(times,S[0,:], label='Sample Path');\n",
    "plt.xlim(0,1);\n",
    "plt.title('A fan diagram of Jump-Diffusion Process')\n",
    "plt.legend();"
   ]
  },
  {
   "cell_type": "markdown",
   "id": "ee7455c5-dc60-43bb-b1f4-4d5c46993dca",
   "metadata": {},
   "source": [
    "## Monte Carlo Pricing\n",
    "We write a general Monte Carlo pricing routine for the jump diffusion model which works with arbitrary payoff functions. The code returns a 99% confidence interval for the price."
   ]
  },
  {
   "cell_type": "code",
   "execution_count": 108,
   "id": "b925f825-2102-41d1-9be9-968bfbc266da",
   "metadata": {
    "collapsed": false,
    "jupyter": {
     "outputs_hidden": false
    },
    "nbgrader": {
     "grade": false,
     "grade_id": "646b1c",
     "locked": false,
     "remove": false,
     "schema_version": 3,
     "solution": true,
     "task": false
    }
   },
   "outputs": [],
   "source": [
    "def price_by_monte_carlo_jd( S0, r, sigma, lbda, j, T, n_steps,n_paths, payoff_function):\n",
    "    mu_twiddle = r + lbda*(1-j)\n",
    "    S,t = simulate_jump_diffusion( S0, T, mu_twiddle, sigma, lbda, j, n_steps, n_paths )\n",
    "    payoffs = payoff_function(S)\n",
    "    p = 99\n",
    "    alpha = scipy.stats.norm.ppf((1-p/100)/2)\n",
    "    price = np.exp(-r*T)*np.mean( payoffs )\n",
    "    sigma_sample = np.exp(-r*T) * np.std( payoffs )\n",
    "    lower = price + alpha*sigma_sample/np.sqrt(n_paths)\n",
    "    upper = price - alpha*sigma_sample/np.sqrt(n_paths)\n",
    "    return lower, upper"
   ]
  },
  {
   "cell_type": "code",
   "execution_count": 109,
   "id": "4d1f56cb-175e-41bc-bf42-9535cfa935f7",
   "metadata": {
    "collapsed": false,
    "jupyter": {
     "outputs_hidden": false
    },
    "nbgrader": {
     "grade": true,
     "grade_id": "3be447",
     "locked": true,
     "points": 1,
     "remove": false,
     "schema_version": 3,
     "solution": false,
     "task": false
    }
   },
   "outputs": [],
   "source": [
    "def price_call_by_monte_carlo_jd( S0, K, T, r, sigma, lbda, j, n_steps,n_paths ):\n",
    "    # Define the payoff function, it takes an array. \n",
    "    def call_payoff( S ):\n",
    "        S_T = S[:,-1]\n",
    "        return np.maximum( S_T-K, 0 )\n",
    "    return price_by_monte_carlo_jd(S0, r, sigma, lbda, j, T, n_steps, n_paths, call_payoff )\n",
    "\n",
    "def test_price_call_by_monte_carlo_jd():\n",
    "    np.random.seed(0)\n",
    "    # Only one step is needed to price a call option.\n",
    "    n_steps = 1\n",
    "    K = S0\n",
    "    low,high = price_call_by_monte_carlo_jd(S0, K, T, r,sigma,lbda,j, n_steps, n_paths)\n",
    "    expected = jump_diffusion_call_price(S0,K,T,r,sigma, lbda, j)\n",
    "    assert low<expected\n",
    "    assert expected<high\n",
    "\n",
    "test_price_call_by_monte_carlo_jd()"
   ]
  },
  {
   "cell_type": "markdown",
   "id": "75216a99-50a4-498e-b99d-922fd315e061",
   "metadata": {},
   "source": [
    "We now use a Monte Carlo method with 100000 steps to estimate the price of an Asian call option with strike $140$ and maturity $1$ in a jump diffusion model with parameters $S_0$, $r$, $\\sigma$, $\\lambda$ and $j$ as defined in the cells above. When computing the payoff of the Asian option, you should compute the average price at the end of each day."
   ]
  },
  {
   "cell_type": "code",
   "execution_count": 114,
   "id": "c81e8d00-8de9-4e60-9399-154418540642",
   "metadata": {
    "collapsed": false,
    "jupyter": {
     "outputs_hidden": false
    },
    "nbgrader": {
     "grade": false,
     "grade_id": "a7f1de",
     "locked": false,
     "schema_version": 3,
     "solution": true,
     "task": false
    }
   },
   "outputs": [
    {
     "name": "stdout",
     "output_type": "stream",
     "text": [
      "14.248472632844848__to__14.501400438961234\n"
     ]
    }
   ],
   "source": [
    "K = 140\n",
    "T = 1\n",
    "\n",
    "def asian_call_payoff( S, K ):\n",
    "    S_bar = np.mean(S,axis=1)\n",
    "    return np.maximum( S_bar-K, 0 )\n",
    "\n",
    "def price_asian_call_by_monte_carlo_jd( S0, r, sigma, lbda, j, K, T, n_steps, n_paths ):\n",
    "    def payoff_fn(S):\n",
    "        return asian_call_payoff(S,K)\n",
    "    return price_by_monte_carlo_jd(S0, r, sigma, lbda,j, T, n_steps, n_paths, payoff_fn )\n",
    "\n",
    "n_paths = 100000\n",
    "low,high = price_asian_call_by_monte_carlo_jd(S0,r,sigma,lbda, j, K, T, T*365, n_paths)\n",
    "asian_price = 0.5*(low+high)\n",
    "print('{}__to__{}'.format(low,high)) \n",
    "assert asian_price>0\n",
    "assert asian_price>14.1\n",
    "assert asian_price<14.7"
   ]
  },
  {
   "cell_type": "markdown",
   "id": "326dfd89-0a95-44f6-b8f0-98ef046f32d3",
   "metadata": {},
   "source": [
    "# Calibration"
   ]
  },
  {
   "cell_type": "markdown",
   "id": "31cce790-70b2-47f6-8f1c-69517658c11c",
   "metadata": {
    "slideshow": {
     "slide_type": "slide"
    }
   },
   "source": [
    "## Calibrating Jump-Diffusion Model to Market Prices\n",
    "We will now illustrate the idea of calibration by calibrating our jump diffusion model to the Google option price data we saw before."
   ]
  },
  {
   "cell_type": "markdown",
   "id": "22bd69a5-02e6-4a19-9e8b-9c5c6b9ec302",
   "metadata": {
    "slideshow": {
     "slide_type": "slide"
    }
   },
   "source": [
    "We begin by reading in the strikes and mid_prices from the file exactly as before."
   ]
  },
  {
   "cell_type": "code",
   "execution_count": 115,
   "id": "a7156108-47aa-4327-bf8c-63c11e610d19",
   "metadata": {
    "collapsed": false,
    "jupyter": {
     "outputs_hidden": false
    },
    "slideshow": {
     "slide_type": "subslide"
    }
   },
   "outputs": [],
   "source": [
    "excel_data = pd.read_excel('Statistics for Finance/data/options.xlsx', header=None)\n",
    "start_row = 4\n",
    "num_rows = excel_data.shape[0]\n",
    "num_options = num_rows-start_row\n",
    "mid_prices = np.zeros(num_options)\n",
    "strikes = np.zeros(num_options)\n",
    "for i in range(0, num_options):\n",
    "    mid_prices[i] = excel_data[2][start_row+i]\n",
    "    strikes[i] = excel_data[3][start_row+i]\n",
    "    \n",
    "assert strikes[0]==1085, 'Check first row correct'\n",
    "assert strikes[-1]==1320, 'Check last row correct'"
   ]
  },
  {
   "cell_type": "markdown",
   "id": "199aefb7-4cfe-4cea-aee1-0bc46a5d5937",
   "metadata": {
    "slideshow": {
     "slide_type": "slide"
    }
   },
   "source": [
    "Exactly as before, we compute the `Implied volatities`. The end result is that we will have arrays `strikes` and `implied_vols` containing the strike and implied volatility for each option. This is the `Implied Volatilities under Black-Scholes Model`."
   ]
  },
  {
   "cell_type": "code",
   "execution_count": 118,
   "id": "2df557dd-fb73-41d5-89a1-b1ec3c14d7c8",
   "metadata": {
    "collapsed": false,
    "jupyter": {
     "outputs_hidden": false
    },
    "slideshow": {
     "slide_type": "subslide"
    }
   },
   "outputs": [
    {
     "data": {
      "image/png": "[encoded data removed]",
      "text/plain": [
       "<Figure size 1080x504 with 1 Axes>"
      ]
     },
     "metadata": {
      "needs_background": "light"
     },
     "output_type": "display_data"
    }
   ],
   "source": [
    "S0 = 1205.415\n",
    "r = 0.0016\n",
    "T = 31/365\n",
    "\n",
    "implied_vols = np.zeros( strikes.shape )\n",
    "for i in range(0,len(strikes)):\n",
    "    K = strikes[i]\n",
    "    V_KT = mid_prices[i]\n",
    "    implied_vols[i] = mf.implied_vol(r, S0, K, T, V_KT, type = 'call', tol=0.01, method = 'secant');\n",
    "\n",
    "# Plot of Strikes vs Implied Volatility\n",
    "ax = plt.gca()\n",
    "ax.scatter( strikes, implied_vols )\n",
    "ax.set_ylim(0,0.3);\n",
    "ax.set_xlabel('Strike')\n",
    "ax.set_ylabel('Implied volatility');\n",
    "ax.set_title('Google option implied volatilities');"
   ]
  },
  {
   "cell_type": "markdown",
   "id": "c352289b-a343-457d-8da2-d2592e64ce01",
   "metadata": {
    "slideshow": {
     "slide_type": "slide"
    }
   },
   "source": [
    "### Computing the implied volatility for Jump-Diffusion model\n",
    "Suppose we use the jump diffusion model with parameters $\\sigma$, $\\lambda$ and $j$ to compute the prices of the options. We can then compute the associated implied volatilities. The function `compute_jump_diffusion_ivols` does this calculation for all the strikes in our data. This is the `Implied Volatilities under Jump-Diffusion Model`."
   ]
  },
  {
   "cell_type": "code",
   "execution_count": 120,
   "id": "30e1cd06-8561-438c-a102-9962f7a80706",
   "metadata": {
    "collapsed": false,
    "jupyter": {
     "outputs_hidden": false
    },
    "slideshow": {
     "slide_type": "subslide"
    }
   },
   "outputs": [],
   "source": [
    "# Computes Implied Volatilities under Jump-Diffusion Model.\n",
    "def compute_jump_diffusion_ivols( S0, r, sigma, lbda, j, strikes, T ):  # strikes = vector.\n",
    "    implied_vols = np.zeros( len( strikes ))\n",
    "    for i in range(0, len(strikes)):\n",
    "        K = strikes[i]\n",
    "        price = jump_diffusion_call_price(S0, K, T, r, sigma, lbda, j)\n",
    "        implied_vols[i] = mf.implied_vol(r, S0, K, T, price, type = 'call', tol=0.01, method = 'secant')\n",
    "    return implied_vols"
   ]
  },
  {
   "cell_type": "markdown",
   "id": "a82aae1f-5dd2-443e-b280-43021e34e862",
   "metadata": {
    "slideshow": {
     "slide_type": "slide"
    }
   },
   "source": [
    "### Comparing the model and the market.\n",
    "By plotting the market implied volatilities against the implied volatilities of our model, we can see how good a fit we get. We need to choose some parameter values for our model, so I simply guessed $\\sigma=0.25$, $\\lambda=1$, $j=0.9$. The last two parameters indicate that you can sudden $10\\%$ price drops (j=0.9) happen once per year $\\lambda=1$."
   ]
  },
  {
   "cell_type": "code",
   "execution_count": 121,
   "id": "5b69ad1c-8ad4-4734-b0a0-17d6252ab4b8",
   "metadata": {
    "collapsed": false,
    "jupyter": {
     "outputs_hidden": false
    },
    "slideshow": {
     "slide_type": "subslide"
    }
   },
   "outputs": [
    {
     "data": {
      "image/png": "[encoded data removed]",
      "text/plain": [
       "<Figure size 1080x504 with 1 Axes>"
      ]
     },
     "metadata": {
      "needs_background": "light"
     },
     "output_type": "display_data"
    }
   ],
   "source": [
    "def plot_model_fit( sigma, lbda, j ):\n",
    "    model_ivols = compute_jump_diffusion_ivols(S0, r, sigma, lbda, j, strikes, T)\n",
    "    ax = plt.gca()\n",
    "    ax.scatter( strikes, implied_vols, label='Market' );\n",
    "    ax.plot( strikes, model_ivols, label='Model' );\n",
    "    ax.set_xlabel('Strike')\n",
    "    ax.set_ylabel('Implied volatility')\n",
    "    ax.set_ylim(0,0.3);\n",
    "    ax.set_xlabel('Strike')\n",
    "    ax.set_ylabel('Implied volatility');\n",
    "    ax.set_title('Implied volatilities');\n",
    "    ax.legend()\n",
    "    \n",
    "plot_model_fit( 0.25, 1, 0.90 )   # sigma = 0.25,lambda= 1, j = 0.9."
   ]
  },
  {
   "cell_type": "markdown",
   "id": "b00f9566-17b1-4d6a-8595-f4186e9459bc",
   "metadata": {
    "slideshow": {
     "slide_type": "slide"
    }
   },
   "source": [
    "### Calibrating the model\n",
    "Rather than guess the parameters, we can try to find the \"best fit\". To do this we need to define what we mean by \"best fit\" and then use an optimization routine. I've defined the total error of our model to be the sum of squares of the differences between the implied volatilities given by our model and the implied volatilities of the market."
   ]
  },
  {
   "cell_type": "code",
   "execution_count": 122,
   "id": "8ba1d6d6-1fd4-4c16-855f-354545127ccb",
   "metadata": {
    "collapsed": false,
    "jupyter": {
     "outputs_hidden": false
    },
    "slideshow": {
     "slide_type": "subslide"
    }
   },
   "outputs": [],
   "source": [
    "def error( sigma, lbda, j ):\n",
    "    model_ivols = compute_jump_diffusion_ivols( S0, r, sigma, lbda, j, strikes, T)\n",
    "    error = np.sum((model_ivols-implied_vols)**2)\n",
    "    return error"
   ]
  },
  {
   "cell_type": "markdown",
   "id": "914b3ec9-1860-43c6-b7b4-e7a1607b6eba",
   "metadata": {
    "jupyter": {
     "outputs_hidden": false
    },
    "slideshow": {
     "slide_type": "slide"
    }
   },
   "source": [
    "### Minimizing the error\n",
    "\n",
    "Our objective is to choose parameter values $\\sigma>0$, $\\lambda>0$ and $j>0$ to minimize the error. Rather than specify constraints,\n",
    "I have defined a vector $x=(\\log(\\sigma), \\log(\\lambda), \\log(j))$ which can take any values in ${\\mathbb R}^3$.\n",
    "\n",
    "Previously when we have performed optimizations we have been solving convex optimization problems where it is known that a local minimum\n",
    "will be a global minimum. This problem is not convex, so the optimizer may not give us a truly optimal value, we just have to hope it finds a good fit. There is a degree of art/luck involved when solving non-convex problems in this way!\n",
    "\n",
    "I found the optimizer printed out some warning messages, but still reported a success in the end, so I haven't worried too much about the warnings."
   ]
  },
  {
   "cell_type": "code",
   "execution_count": 126,
   "id": "122f3f9a-1d2b-4b41-ae6b-fce98c2ba07c",
   "metadata": {},
   "outputs": [
    {
     "name": "stderr",
     "output_type": "stream",
     "text": [
      "C:\\Users\\Pallu\\anaconda3\\lib\\site-packages\\scipy\\optimize\\zeros.py:341: RuntimeWarning: Tolerance of 0.017733604434071966 reached.\n",
      "  warnings.warn(msg, RuntimeWarning)\n",
      "C:\\Users\\Pallu\\anaconda3\\lib\\site-packages\\scipy\\optimize\\zeros.py:341: RuntimeWarning: Tolerance of -374720818.2912832 reached.\n",
      "  warnings.warn(msg, RuntimeWarning)\n",
      "C:\\Users\\Pallu\\anaconda3\\lib\\site-packages\\scipy\\optimize\\zeros.py:341: RuntimeWarning: Tolerance of -359078.8476812335 reached.\n",
      "  warnings.warn(msg, RuntimeWarning)\n",
      "C:\\Users\\Pallu\\anaconda3\\lib\\site-packages\\scipy\\optimize\\zeros.py:341: RuntimeWarning: Tolerance of 5246.58043236185 reached.\n",
      "  warnings.warn(msg, RuntimeWarning)\n",
      "C:\\Users\\Pallu\\anaconda3\\lib\\site-packages\\scipy\\optimize\\zeros.py:341: RuntimeWarning: Tolerance of 9347729456.269718 reached.\n",
      "  warnings.warn(msg, RuntimeWarning)\n",
      "C:\\Users\\Pallu\\anaconda3\\lib\\site-packages\\scipy\\optimize\\zeros.py:341: RuntimeWarning: Tolerance of -49438304210.76515 reached.\n",
      "  warnings.warn(msg, RuntimeWarning)\n"
     ]
    }
   ],
   "source": [
    "def objective( x ):\n",
    "    sigma = np.exp(x[0])\n",
    "    lbda = np.exp(x[1])\n",
    "    j = np.exp(x[2])\n",
    "    return error( sigma, lbda, j)\n",
    "\n",
    "params_guess = np.log(np.array([0.25, 1, 0.90]))\n",
    "res = scipy.optimize.minimize(objective,\n",
    "                              params_guess,\n",
    "                              method='SLSQP')\n",
    "\n",
    "assert res.success"
   ]
  },
  {
   "cell_type": "markdown",
   "id": "669893d7-5fcf-467b-bfbb-0c280046bfd7",
   "metadata": {
    "slideshow": {
     "slide_type": "slide"
    }
   },
   "source": [
    "### Plotting the results\n",
    "\n",
    "The real test is a plot to see if we have a good fit. Indeed we do."
   ]
  },
  {
   "cell_type": "code",
   "execution_count": 127,
   "id": "b6e5f7b8-b301-4c4f-98ff-15795a1613b4",
   "metadata": {
    "collapsed": false,
    "jupyter": {
     "outputs_hidden": false
    },
    "slideshow": {
     "slide_type": "subslide"
    }
   },
   "outputs": [
    {
     "data": {
      "image/png": "[encoded data removed]",
      "text/plain": [
       "<Figure size 1080x504 with 1 Axes>"
      ]
     },
     "metadata": {
      "needs_background": "light"
     },
     "output_type": "display_data"
    }
   ],
   "source": [
    "sigma = np.exp(res.x[0])\n",
    "lbda = np.exp(res.x[1])\n",
    "j = np.exp(res.x[2]) \n",
    "plot_model_fit( sigma, lbda, j)"
   ]
  },
  {
   "cell_type": "markdown",
   "id": "83b7db01-a33a-43ad-9f2e-9918238b5b1f",
   "metadata": {
    "slideshow": {
     "slide_type": "slide"
    }
   },
   "source": [
    "### Summary"
   ]
  },
  {
   "cell_type": "markdown",
   "id": "1281f528-a8f3-48fb-b5cc-f78a3bdd7f41",
   "metadata": {
    "slideshow": {
     "slide_type": "subslide"
    }
   },
   "source": [
    "We got a surprisingly good fit, but this is at least in part due to us only considering one maturity date for the options. In reality one needs to find a model that fits market option prices across the range of strikes and maturities. By assuming that market prices follow a jump-diffusion ${\\mathbb Q}$-measure model we have managed to find a good fit to market prices for one maturity.\n",
    "\n",
    "Notice the following important points:\n",
    "* This is not a statistical calibration to historical data.\n",
    "* This is calibration of prices to current market data.\n",
    "* We have not attempted to discover a ${\\mathbb P}$-measure model as we don't need it to compute prices.\n",
    "* Our calibration routine was fast because it can compute prices of European options quickly using the analytic formula. If you can't price European options quickly in your model it will be hard to calibrate.\n",
    "    \n",
    "The jump-diffusion model was an easy example. It is a challenging task to find plausible models that fit market prices well across the range of strikes and maturities *and* which are quick and easy to calibrate."
   ]
  },
  {
   "cell_type": "markdown",
   "id": "f23f15da-0353-47e8-9b6f-81a8c9609ab3",
   "metadata": {
    "slideshow": {
     "slide_type": "fragment"
    }
   },
   "source": [
    "# Replication in the Jump Diffusion model\n",
    "\n",
    "We start with a jump-diffusion ${\\mathbb Q}$-model for the market with parameters $S_0, \\sigma, r, \\lambda, j$.  In particular\n",
    "we assume the risk-free bank account has an interest rate of $r$.\n",
    "\n",
    "## P measure model\n",
    "\n",
    "We assume that the stock price $S_t$ follows a model equivalent to the jump-diffusion model.\n",
    "\n",
    "To be concrete we assume specifically that\n",
    "$S_t=j^N(t) \\tilde{S_t}$\n",
    "where $N(t)$ is the number of jumps of a Poisson process with intensity $\\lambda^\\prime\\neq 0$ (which may be different from $\\lambda$) and where\n",
    "$\\tilde{S_t}$ follows the process\n",
    "\n",
    "$$\n",
    "d \\tilde{S}_t = \\tilde{S}_t( \\mu dt + \\sigma d W_t)\n",
    "$$\n",
    "$\\lambda^\\prime$ and $\\mu$ is different than $\\mathbb{Q}$-measure model.\n",
    "It is possible to think of more complex models equivalent to the jump-diffusion model, for example $\\lambda^\\prime$ and $\\mu$ could be time varying.\n",
    "\n",
    "Notice that the jump sizes must be certain to be $j$, otherwise the model would not be equivalent. Notice also that while $\\mu$ is arbitrary, $\\sigma$ is determined by the jump-diffusion model.\n",
    "\n",
    "## Additional assumption\n",
    "\n",
    "It is not possible to replicate derivatives in the jump diffusion model using the stock alone. We need to use another asset.\n",
    "\n",
    "Let us choose a strike $K^\\prime$. We will call the option with strike $K^\\prime$ the *hedging option*.\n",
    "\n",
    "We will assume that at all times the price of a call option with maturity $T$\n",
    "and strike $K^\\prime$ is given by the analytical formula for the jump diffusion model\n",
    "\n",
    "$$\n",
    "\\begin{split}\n",
    "W(S_t,K^\\prime,T-t,r,\\sigma,\\lambda,j)&:=E^{\\mathbb Q}(e^{-r(T-t)}\\text{payoff}) \\\\\n",
    "&=\\sum_{n=0}^N \\frac{(j \\lambda T)^n}{n!} e^{-j \\lambda (T-t)} V(S_t, j^{-n} K, T-t, \\tilde{\\mu}, \\sigma)\n",
    "\\end{split}\n",
    "$$\n",
    "\n",
    "where $V$ is in turn given by the Black-Scholes formula. For brevity we will write $W(S_t,K^\\prime)$ when the other parameters are unimportant. Note that I've used the fact that the Black-Scholes formula only depends on $T$ and $t$ via $T-t$ to reduce the number of parameters in $V$ slightly.\n",
    "\n",
    "We will show that we can replicate a call option with a different strike $K$ by trading in the stock and the hedging option.\n",
    "\n",
    "### Between jumps\n",
    "\n",
    "Suppose that we sell a call option with strike $K$ at time $0$. We invest the rest of our wealth in the risk-free bank account,\n",
    "the stock and the hedging option.\n",
    "\n",
    "At time $0$, the ${\\mathbb Q}$-expectation of our entire portfolio (which we consider to contain $-1$ units of the call option)\n",
    "will therefore be zero.\n",
    "\n",
    "Suppose that at the start of the time interval $[t,t+\\delta t)$ the  ${\\mathbb Q}$-expectation of our portfolio is still zero.\n",
    "Suppose we hold\n",
    "$\\alpha_t$ units of stock and $\\beta_t$ units of the hedging option throughout the time period.\n",
    "\n",
    "By Black and Scholes theory of replication, so long as the total delta of our portfolio is $0$ throughtout this period,\n",
    "the ${\\mathbb Q}$-expectation of our portfolio will remain at zero. We will therefore require that\n",
    "$$\n",
    "\\alpha_t \\underbrace{\\frac{\\partial S}{\\partial S}}_{\\text{delta of stock}} + \\beta_t \\overbrace{\\frac{\\partial W}{\\partial S}}^{\\text{delta of hedging option}}(S_t, K^\\prime) - \\underbrace{\\frac{\\partial W}{\\partial S}}_{\\text{delta of option we have sold}}(S_t, K) = 0. \n",
    "$$\n",
    "\n",
    "### At jumps\n",
    "\n",
    "When a jump occurs we will also want our portfolio's ${\\mathbb Q}$-expectation to remain fixed.\n",
    "This condition may be written as\n",
    "\n",
    "$$\\alpha_t \\underbrace{(S_t - j S_t)}_{\\text{Change in stock price to jump}} + \\beta_t \\overbrace{( W(S_t,K^\\prime) - W(j S_t, K^\\prime ))}^{\\text{Change in hedging option price between jumps}} - \\underbrace{(W(S_t,K) - W(j S_t,K))}_{\\text{Change in }\\mathbb{Q-E}\\text{ of the option we're trying to replicate}} = 0$$\n",
    "\n",
    "### Replication strategy\n",
    "\n",
    "We deduce that if we choose $\\alpha_t$ and $\\beta_t$ to satisfy the equations\n",
    "$$\n",
    "\\begin{aligned}\n",
    "\\alpha_t \\frac{\\partial S}{\\partial S} + \\beta_t \\frac{\\partial W}{\\partial S}(S_t, K^\\prime) - \\frac{\\partial W}{\\partial S}(S_t, K) &= 0. \\\\\n",
    "\\text{and}\\\\\n",
    "\\alpha_t (S_t - j S_t) + \\beta_t( W(S_t,K^\\prime) - W(j S_t, K^\\prime )) - (W(S_t,K) - W(j S_t,K)) &= 0 \n",
    "\\end{aligned}\n",
    "\\qquad \\Biggr\\}\\longrightarrow (\\bigstar)\n",
    "$$\n",
    "then the ${\\mathbb Q}$-expectation of our portfolio will remain $0$ at all times.\n",
    "\n",
    "At time $T$, the ${\\mathbb Q}$-expectations become the payoffs of the various assets at time $T$, and so \n",
    "this says that the total payoff of our strategy is $0$. In other words, this is a replicating strategy. "
   ]
  },
  {
   "cell_type": "markdown",
   "id": "316046e3-47e2-41dd-9f3e-023a1674ea9b",
   "metadata": {
    "slideshow": {
     "slide_type": "slide"
    }
   },
   "source": [
    "### Numerical test\n",
    "\n",
    "Lets test this theory in practice. We will\n",
    "\n",
    "* Step 1 : Write a function to compute $\\frac{\\partial W}{\\partial S}$(delta).\n",
    "* Step 2 : Write a function to compute $\\alpha_t$ and $\\beta_t$ at each time $t$ by solving ($\\bigstar$).\n",
    "* Step 3 : Simulate the stock price in the ${\\mathbb P}$-measure model on a discrete time grid of size $\\delta t$.\n",
    "* Step 4 : Simulate the discrete-strategy of charging $W(S_0, K)$, holding ${\\alpha}_t$ units of stock and $\\beta_t$ units of the hedging option at each time $t$, putting the remaining assets into a risk free account.\n",
    "* Step 5 : Draw a scatter plot of the final stock price $S_T$ against the final portfolio value.\n",
    "\n",
    "The numerical test tries out the replication strategy in the jump diffusion model. \n",
    "\n",
    "`Step 1`: Lets write a function to compute the delta of an option in the jump diffusion model, i.e.\n",
    "\n",
    "$$ \\frac{\\partial W}{\\partial S}(S_t, K)$$\n",
    "Our code should be able to work with a vector of stock prices as one of the parameters. "
   ]
  },
  {
   "cell_type": "code",
   "execution_count": 129,
   "id": "af06db4a-9c6c-467f-8da7-7ee3ac2fe326",
   "metadata": {
    "collapsed": false,
    "jupyter": {
     "outputs_hidden": false
    },
    "nbgrader": {
     "grade": false,
     "grade_id": "f21870",
     "locked": false,
     "schema_version": 3,
     "solution": true,
     "task": false
    }
   },
   "outputs": [],
   "source": [
    "def jump_diffusion_delta( S, K, time_to_maturity, r, sigma, lbda, j):\n",
    "    S = np.array(S)\n",
    "    term = np.ones(S.shape)\n",
    "    total = np.zeros(S.shape)\n",
    "    n = 0\n",
    "    mu_tilde = r + lbda*(1-j)\n",
    "    while np.any(abs(term)>1e-7*abs(total)):\n",
    "        V = mf.black_scholes_call_delta(S,0, j**(-n)*K,time_to_maturity,mu_tilde, sigma) #  (S=S,t=0,K=j**(-n)*K,T=time_to_maturity,r=mu_tilde,sigma)\n",
    "        term = ((j*lbda*time_to_maturity)**n)/np.math.factorial(n) * np.exp( -j*lbda*time_to_maturity) * V\n",
    "        total = total + term\n",
    "        n = n+1\n",
    "    return total"
   ]
  },
  {
   "cell_type": "code",
   "execution_count": 131,
   "id": "efb9a7df-7fe3-445c-8396-fd660cf0b36d",
   "metadata": {
    "collapsed": false,
    "jupyter": {
     "outputs_hidden": false
    },
    "nbgrader": {
     "grade": true,
     "grade_id": "45e3f7",
     "locked": true,
     "points": 1,
     "schema_version": 3,
     "solution": false,
     "task": false
    }
   },
   "outputs": [],
   "source": [
    "def test_jump_diffusion_delta():\n",
    "    S0 = np.array([100,110])\n",
    "    h = S0*10**(-5)\n",
    "    K = 110\n",
    "    T = 0.5\n",
    "    r = 0.02\n",
    "    sigma = 0.2          \n",
    "    lbda = 1\n",
    "    j = 0.9\n",
    "    central_estimate = (jump_diffusion_call_price(S0+h,K,T,r,sigma,lbda,j) - jump_diffusion_call_price(S0-h,K,T,r,sigma,lbda,j))/(2*h)\n",
    "    actual = jump_diffusion_delta( S0, K, T, r, sigma, lbda, j)\n",
    "    np.testing.assert_almost_equal( central_estimate, actual, decimal=4 )\n",
    "\n",
    "test_jump_diffusion_delta()"
   ]
  },
  {
   "cell_type": "markdown",
   "id": "179cc691-b56b-44b1-8a05-39d3d5eb01af",
   "metadata": {},
   "source": [
    "`Step 2 :`\n",
    "\n",
    "We will want to solve a large number of linear $2 \\times 2$ simultaneous equations, one for each scenario and time point.\n",
    "So that we can do this quickly, we write a function `solve_two_by_two` that takes vectors $(a)_i$, $(b)_i$, $(c)_i$, $(d)_i$,\n",
    "$(v_1)_i$, $(v_2)_i$ all of the same length and for each value of $i$ solves the simultaneous equations\n",
    "\n",
    "$$ a x + b y = v_1$$\n",
    "$$ c x + d y = v_2$$\n",
    "\n",
    "and returns the values $x$ and $y$."
   ]
  },
  {
   "cell_type": "code",
   "execution_count": 132,
   "id": "c19d743e-ebf0-4fa3-ac5f-eaf6d66c63ba",
   "metadata": {
    "collapsed": false,
    "jupyter": {
     "outputs_hidden": false
    },
    "nbgrader": {
     "grade": false,
     "grade_id": "da4c6c",
     "locked": false,
     "remove": false,
     "schema_version": 3,
     "solution": true,
     "task": false
    }
   },
   "outputs": [],
   "source": [
    "def solve_two_by_two( a,b,c,d, v1, v2):\n",
    "    det = a*d-b*c\n",
    "    alpha = (d*v1 - b*v2)/det\n",
    "    beta = (-c*v1 + a*v2)/det\n",
    "    return alpha,beta"
   ]
  },
  {
   "cell_type": "code",
   "execution_count": 133,
   "id": "8fb9c51e-5c8b-4958-b8b8-0fb3d0e9a970",
   "metadata": {
    "collapsed": false,
    "jupyter": {
     "outputs_hidden": false
    },
    "nbgrader": {
     "grade": true,
     "grade_id": "bc8c7d",
     "locked": true,
     "points": 1,
     "schema_version": 3,
     "solution": false,
     "task": false
    }
   },
   "outputs": [],
   "source": [
    "def test_solve_two_by_two():\n",
    "    a = np.array([1,2])\n",
    "    b = np.array([2,-1])\n",
    "    c = np.array([3,1])\n",
    "    d = np.array([3,2])\n",
    "    v1 = np.array([4,5])\n",
    "    v2 = np.array([3,2])\n",
    "    x,y = solve_two_by_two(a,b,c,d,v1,v2)\n",
    "    np.testing.assert_almost_equal( a*x + b*y, v1 )\n",
    "    np.testing.assert_almost_equal( c*x + d*y, v2 )\n",
    "\n",
    "test_solve_two_by_two()"
   ]
  },
  {
   "cell_type": "markdown",
   "id": "fe593bca-148b-4790-8d6c-5abcff3df092",
   "metadata": {},
   "source": [
    "Lets write a function that computes the values of $\\alpha$ and $\\beta$ given the time to maturity. It should be able to perform the calculation for an entire vector of stock prices at once without any looping code. We take advantage of your `solve_two_by_two` function to do this."
   ]
  },
  {
   "cell_type": "code",
   "execution_count": 134,
   "id": "d59df589-37ce-4ce9-9886-ce3857c636c1",
   "metadata": {
    "collapsed": false,
    "jupyter": {
     "outputs_hidden": false
    },
    "nbgrader": {
     "grade": false,
     "grade_id": "59ec9c",
     "locked": false,
     "schema_version": 3,
     "solution": true,
     "task": false
    }
   },
   "outputs": [],
   "source": [
    "def compute_alpha_and_beta(S, r, sigma, lbda, j, K_prime, K, time_to_maturity ):\n",
    "    a = 1 \n",
    "    b = jump_diffusion_delta(S,K_prime, time_to_maturity, r,sigma, lbda, j)\n",
    "    v1 = jump_diffusion_delta(S,K, time_to_maturity, r,sigma, lbda, j)\n",
    "    c = S - j*S\n",
    "    d = jump_diffusion_call_price( S, K_prime, time_to_maturity, r, sigma, lbda, j )- \\\n",
    "            jump_diffusion_call_price( j*S, K_prime, time_to_maturity, r, sigma, lbda, j )\n",
    "    v2 = jump_diffusion_call_price( S, K, time_to_maturity, r, sigma, lbda, j )- \\\n",
    "            jump_diffusion_call_price( j*S, K, time_to_maturity, r, sigma, lbda, j )\n",
    "    alpha,beta = solve_two_by_two(a,b,c,d,v1,v2)\n",
    "    return alpha, beta"
   ]
  },
  {
   "cell_type": "code",
   "execution_count": 135,
   "id": "4c577c3a-247d-47d6-b268-5a21ce843d34",
   "metadata": {
    "collapsed": false,
    "jupyter": {
     "outputs_hidden": false
    },
    "nbgrader": {
     "grade": true,
     "grade_id": "25b885",
     "locked": true,
     "points": 1,
     "schema_version": 3,
     "solution": false,
     "task": false
    }
   },
   "outputs": [
    {
     "name": "stdout",
     "output_type": "stream",
     "text": [
      "-0.024109963531351333\n",
      "0.8988432726689347\n"
     ]
    }
   ],
   "source": [
    "example_alpha, example_beta = compute_alpha_and_beta(100,0.05,0.2,0.1,0.5, 105, 110, 1)\n",
    "print(example_alpha)\n",
    "print(example_beta)"
   ]
  },
  {
   "cell_type": "markdown",
   "id": "ae355894-a8e5-40bd-b187-8f7a9f711a65",
   "metadata": {},
   "source": [
    "`Step 3 and 4 :`\n",
    "Lets perform a simulation of the replication strategy for the jump diffusion model. We should perform `n_paths` simulations. For efficiency, we do not run through each scenario in turn, instead use vectors. The final output returns `two vectors` one containing the `final stock price in each scenario`, one containing the `final wealth of the replication strategy`. \n",
    "For some scenarios there will be numerical difficulties caused by the determinant of the linear equations we are solving becoming close to zero. This means that for a few scenarios in our simulation, our results will contain an error value.\n",
    "In practice one could simply decide to abandon the hedging strategy when these numerical errors occurred and put all our wealth in the risk-free account. For the sake of simplicity, I was happy just to ignore the occasional numerical error in the results."
   ]
  },
  {
   "cell_type": "code",
   "execution_count": 138,
   "id": "1f2c20f9-807e-40f1-b4b9-b0ea3ef29dd1",
   "metadata": {
    "collapsed": false,
    "jupyter": {
     "outputs_hidden": false
    },
    "nbgrader": {
     "grade": false,
     "grade_id": "e5282f",
     "locked": false,
     "schema_version": 3,
     "solution": true,
     "task": false
    }
   },
   "outputs": [],
   "source": [
    "def simulate_replication( S0, r, sigma, lbda, j, K_prime, K, T, lambda_prime, mu, n_steps, n_paths):\n",
    "    S, t = simulate_jump_diffusion( S0, T, mu, sigma, lbda, j, n_steps, n_paths )\n",
    "    dt = T/n_steps\n",
    "    wealth = jump_diffusion_call_price( S[:,0], K, T, r, sigma, lbda, j)\n",
    "    for i in range(0, n_steps):\n",
    "        time_to_maturity = T - t[i]\n",
    "        stock_price = S[:,i]\n",
    "        hedging_option_price = jump_diffusion_call_price(stock_price, K_prime, time_to_maturity, r, sigma, lbda, j )\n",
    "        alpha, beta = compute_alpha_and_beta(stock_price, r, sigma, lbda, j, K_prime, K, time_to_maturity )\n",
    "        bank = wealth - alpha*stock_price - beta*hedging_option_price\n",
    "        new_bank = np.exp(r*dt)*bank\n",
    "        new_stock_price = S[:,i+1]\n",
    "        new_option_price = jump_diffusion_call_price(new_stock_price, K_prime, time_to_maturity-dt, r, sigma, lbda, j )\n",
    "        wealth = new_bank + alpha*new_stock_price + beta*new_option_price\n",
    "    ST = S[:,-1]\n",
    "    return ST, wealth"
   ]
  },
  {
   "cell_type": "code",
   "execution_count": 139,
   "id": "c1c233d3-54ae-4cf6-aafa-0744d4632a69",
   "metadata": {
    "collapsed": false,
    "jupyter": {
     "outputs_hidden": false
    }
   },
   "outputs": [
    {
     "name": "stderr",
     "output_type": "stream",
     "text": [
      "C:\\Users\\Pallu\\anaconda3\\lib\\site-packages\\ipykernel_launcher.py:3: RuntimeWarning: invalid value encountered in true_divide\n",
      "  This is separate from the ipykernel package so we can avoid doing imports until\n",
      "C:\\Users\\Pallu\\anaconda3\\lib\\site-packages\\ipykernel_launcher.py:4: RuntimeWarning: invalid value encountered in true_divide\n",
      "  after removing the cwd from sys.path.\n",
      "C:\\Users\\Pallu\\anaconda3\\lib\\site-packages\\ipykernel_launcher.py:3: RuntimeWarning: divide by zero encountered in true_divide\n",
      "  This is separate from the ipykernel package so we can avoid doing imports until\n",
      "C:\\Users\\Pallu\\anaconda3\\lib\\site-packages\\ipykernel_launcher.py:4: RuntimeWarning: divide by zero encountered in true_divide\n",
      "  after removing the cwd from sys.path.\n",
      "C:\\Users\\Pallu\\anaconda3\\lib\\site-packages\\ipykernel_launcher.py:10: RuntimeWarning: invalid value encountered in subtract\n",
      "  # Remove the CWD from sys.path while we load stuff.\n"
     ]
    }
   ],
   "source": [
    "S0 = 100\n",
    "r = 0.02\n",
    "sigma = 0.2\n",
    "lbda = 1.0\n",
    "j=0.9\n",
    "K_prime=100\n",
    "K=110\n",
    "T=0.5\n",
    "lambda_prime=1.1\n",
    "mu=0.08\n",
    "n_steps = 1000\n",
    "ST, wealth = simulate_replication(S0, r, sigma, lbda, j, K_prime, K, T, lambda_prime, mu, n_steps, 1000)"
   ]
  },
  {
   "cell_type": "code",
   "execution_count": 142,
   "id": "68f553cf-6ec9-4045-88af-c873e5d7d413",
   "metadata": {
    "tags": []
   },
   "outputs": [
    {
     "data": {
      "image/png": "[encoded data removed]",
      "text/plain": [
       "<Figure size 1080x504 with 1 Axes>"
      ]
     },
     "metadata": {
      "needs_background": "light"
     },
     "output_type": "display_data"
    }
   ],
   "source": [
    "ax = plt.gca()\n",
    "ax.scatter( ST, wealth );\n",
    "ax.set_xlabel('Final stock price $S_T$')\n",
    "ax.set_ylabel('Final wealth (Portfolio)')\n",
    "ax.set_title('Result of the jump diffusion replication strategy with $K=110$');"
   ]
  },
  {
   "cell_type": "markdown",
   "id": "360f186b-9c21-46b3-8e44-f5a68f925b42",
   "metadata": {
    "slideshow": {
     "slide_type": "slide"
    }
   },
   "source": [
    "## Summary\n",
    "\n",
    "* Replication is often possible in more sophisticated models than the Black-Scholes model, but typically you must\n",
    "  use additional hedging instruments such as derivatives.\n",
    "* In practice this means that a trader can replicate path-dependent derivatives well using exchange-traded derivatives.\n",
    "* One doesn't actually need to know the ${\\mathbb P}$-measure model to know that the replication will work, what counts is\n",
    "  the ${\\mathbb Q}$-measure model.\n",
    "* Traders find the ${\\mathbb Q}$-measure model by calibrating to current market prices, *not* by analysing historical data."
   ]
  },
  {
   "cell_type": "markdown",
   "id": "2697ef18-096c-4264-8ba7-3877d52fd335",
   "metadata": {
    "jupyter": {
     "outputs_hidden": false
    }
   },
   "source": [
    "# P and Q models\n",
    "\n",
    "A classical derivatives trader is not usually very interested in the ${\\mathbb P}$-measure model at all. They want to work out prices\n",
    "and hedging strategies, non of which require knowing the ${\\mathbb P}$-measure model.\n",
    "\n",
    "In the Black-Scholes case we have seen that there is a unique ${\\mathbb Q}$-measure model associated with ${\\mathbb P}$-models of the form\n",
    "$$\n",
    "d S_t = S_t(\\mu \\, dt + \\sigma \\, dW_t)\n",
    "$$\n",
    "which can be obtained by setting $\\mu=r$. This means there are lots of possible ${\\mathbb P}$-measure models compatible with a single\n",
    "${\\mathbb Q}$-model.\n",
    "\n",
    "`The uniqueness of the ${\\mathbb Q}$-measure model comes from the fact that all derivatives can be replicated in the Black-Scholes model.`\n",
    "In general given a ${\\mathbb P}$-measure model for a single asset, there might be a number of possible pricing models that are compatible.\n",
    "\n",
    "### Equivalent Probability Models\n",
    "\n",
    "In general two probability measures are said to be *equivalent* if they agree on what is possible and what is not possible, even though they may disagree about the actual probability of events. In this context, an event is \"possible\" if its probability is greater than 0. \n",
    "\n",
    "**Example:** The jump-diffusion model and geometric Brownian motion are *not* equivalent because the stock price path is always continuous in the Black-Scholes model, but it may contain jumps in the jump-diffusion model.\n",
    "\n",
    "**Example:** Two jump-diffusion models with different jump sizes cannot be equivalent.\n",
    "\n",
    "**Theorem:** The models\n",
    "$$\n",
    "d S_t = \\mu_1(S,t) \\, dt + \\sigma(S,t) \\, d W^1_t\n",
    "$$\n",
    "and\n",
    "$$\n",
    "d S_t = \\mu_2(S,t) \\, dt + \\sigma(S,t) \\, d W^2_t\n",
    "$$\n",
    "for Brownian motions $W^1$ and $W^2$ are equivalent. This result follows from an important result called *Girsanov's Theorem*.\n",
    "\n",
    "\n",
    "### Arbitrage\n",
    "\n",
    "A trading strategy is called an *arbitrage* if it costs nothing, gives you a non-zero chance of making a profit and will never make a loss. Spotting an arbitrage opportunity is a gambler's dream!\n",
    "\n",
    "If you use two different probability models for assets, they will have the same arbitrage opportunities. This is because the definition of arbitrage only depends upon what is possible and what is not possible: it is not important how big a chance you have of making a profit.\n",
    "\n",
    "In general, mathematical models for prices should not contain any arbitrage opportunities. It is a sign that your model is no good. For example,\n",
    "once there are arbitrage opportunities you can replicate anything by investing in the arbitrage opportunity and using the proceeds to perform the replication. This means that the entire concept of price falls apart.\n",
    "\n",
    "${\\mathbb Q}$-measure models have the attractive property that they can never contain an arbitrage. This is because if a derivative has a non-zero chance of having a positive payoff and never has a negative payoff it must have a postive price. Hence the price obtained using ${\\mathbb Q}$-expectations will always be positive.\n",
    "\n",
    "### The Black-Scholes model\n",
    "\n",
    "**Theorem:** There are no arbitrage opportunities in the Black-Scholes model.\n",
    "\n",
    "*Proof:*\n",
    "The Black-Scholes model for stock prices is equivalent to the ${\\mathbb Q}$-model\n",
    "$$ d S_t = r S_t\\, dt + \\sigma S_t \\, d W_t$$\n",
    "by Girsanov's Theorem. Being a ${\\mathbb Q}$-model, this model can't contain any arbitrage opportunities,\n",
    "so neither can the Black-Scholes model.\n",
    "\n",
    "### The Fundamental Theorem of Financial Mathematics\n",
    "\n",
    "Using ${\\mathbb Q}$-models has the huge advantage that you will never have arbitrage opportunities in your model. The converse is, to\n",
    "all intents and purposes, true as well.\n",
    "\n",
    "**Theorem:** Under a slightly stronger condition than no-arbitrage, any probability model for a linear market must admit at least one equivalent\n",
    "${\\mathbb Q}$-model.\n",
    "\n",
    "[Note : By a \"linear market\", I mean one where you can buy and sell unlimited quantities all at the same price.]\n",
    "### From Q to P\n",
    "\n",
    "Although the original line of reasoning of Black and Scholes went from a ${\\mathbb P}$-model to a ${\\mathbb Q}$-model, we can now reverse that reasoning process.\n",
    "\n",
    "* Suppose that you write down a ${\\mathbb Q}$-measure model that fits market prices, it will be arbitrage free.\n",
    "* Suppose also that you can show how to replicate derivatives in your ${\\mathbb Q}$-measure model. This implies that there are no other competing\n",
    "${\\mathbb Q}$-measure models compatible with your pricing model.\n",
    "* It follows that your ${\\mathbb Q}$-measure model uniquely determines the prices for all the ${\\mathbb P}$-measure models that are equivalent to it.\n",
    "* You don't actually need to know the ${\\mathbb P}$-measure model for the replication strategy to work."
   ]
  },
  {
   "cell_type": "code",
   "execution_count": null,
   "id": "0542247a-d317-45c8-9225-d3bdb7141a49",
   "metadata": {},
   "outputs": [],
   "source": []
  }
 ],
 "metadata": {
  "kernelspec": {
   "display_name": "Python 3",
   "language": "python",
   "name": "python3"
  },
  "language_info": {
   "codemirror_mode": {
    "name": "ipython",
    "version": 3
   },
   "file_extension": ".py",
   "mimetype": "text/x-python",
   "name": "python",
   "nbconvert_exporter": "python",
   "pygments_lexer": "ipython3",
   "version": "3.7.16"
  }
 },
 "nbformat": 4,
 "nbformat_minor": 5
}
