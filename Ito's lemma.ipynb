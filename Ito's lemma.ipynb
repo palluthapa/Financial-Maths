{
 "cells": [
  {
   "cell_type": "markdown",
   "id": "ceb6ca19-7e46-41f8-af89-db1d78ae33c0",
   "metadata": {},
   "source": [
    "## Ito's Lemma\n",
    "### Ito's Lemma - 1-D version\n",
    "\n",
    "**Theorem:** \n",
    "Let $X_t \\in {\\mathbb R}$ solve the SDE\n",
    "$$\n",
    "d X_t = \n",
    "a(X_t,t) \\, dt + b(X_t,t) \\, dW_t\n",
    "$$\n",
    "with initial condition $X_0$. \n",
    "\n",
    "Suppose that $f:{\\mathbb R} \\to {\\mathbb R}$ is smooth, then $(f(X),X_t) \\in {\\mathbb R}^2$ solves\n",
    "$$\n",
    "\\begin{split}\n",
    "d (f({X}_t)) &= \n",
    "\\left( f^\\prime(X_t) a({X}_t,t)\n",
    "+ \\frac{1}{2} f^{\\prime \\prime}(X_t) b(X_t,t)^2 \\right) \\, dt + f^\\prime(X_t) b(X_t,t) \\, dW_t \\longrightarrow (f (x)\\text{ obeys this SDE})\\\\\n",
    "d X_t &= \n",
    "a(X_t,t) \\, dt + b( X_t,t) \\, dW_t\n",
    "\\end{split}\n",
    "$$\n",
    "with initial condition $(f(X_0),X_0)$."
   ]
  },
  {
   "cell_type": "markdown",
   "id": "2b8590f1-46f6-4307-aab5-cf552ace8e8f",
   "metadata": {},
   "source": [
    "### Example\n",
    "\n",
    "Use Ito's Lemma to prove that if $Z_t$ satisfies\n",
    "$$\n",
    "d Z_t = (\\mu - \\frac{1}{2}\\sigma^2)\\, d t + \\sigma \\, d W_t\n",
    "$$\n",
    "for constants $\\mu$ and $\\sigma$ then if we define $S_t=\\exp(Z_t)$ we will have\n",
    "$$\n",
    "d S_t = S_t(\\mu \\, dt + \\sigma \\, d W_t ).\n",
    "$$\n",
    "\n",
    "Deduce that the solution of\n",
    "$$\n",
    "d S_t = S_t(\\mu \\, dt + \\sigma \\, d W_t ).\n",
    "$$\n",
    "given $S_0$ is given by\n",
    "$$\n",
    "S_t = S_0 e^{(\\mu - \\frac{1}{2}\\sigma^2)t + \\sigma W_t}\n",
    "$$\n",
    "\n",
    "Taking $f(z)=\\exp(z)$. Plugging this into Ito's Lemma\n",
    "\n",
    "$$\n",
    "\\begin{split}\n",
    "d f(Z)_t &= f^\\prime(Z_t) (\\mu-\\tfrac{1}{2}\\sigma^2) \\, dt + \\tfrac{1}{2} f^{\\prime\\prime}(Z_t) \\sigma^2 \\, dt + f^{\\prime}(Z_t) \\sigma \\, dW_t \\\\\n",
    "&= \\exp(z) (\\mu \\, dt + \\sigma \\, dW_t) \\\\\n",
    "&= f(Z_t) (\\mu \\, dt + \\sigma \\, dW_t)\n",
    "\\end{split}\n",
    "$$\n",
    "\n",
    "hence with $S_t = f(Z_t)$\n",
    "\n",
    "$$\n",
    "\\begin{split}\n",
    "d S_t &= S_t (\\mu \\, dt + \\sigma \\, dW_t)\n",
    "\\end{split}\n",
    "$$\n",
    "\n",
    "But $Z_t=Z_0 + (\\mu - \\frac{1}{2}\\sigma^2)t + \\sigma W_t$ by solving the SDE for $Z_t$ (following solution to constant coefficient SDEs in Stochastic Differential Equations.ipynb file).\n",
    "Hence $Z_t=\\log(S_0) + (\\mu - \\frac{1}{2}\\sigma^2)t + \\sigma W_t$ and so\n",
    "$$\n",
    "S_t=S_0 e^{ (\\mu - \\frac{1}{2}\\sigma^2)t + \\sigma W_t}\n",
    "$$\n"
   ]
  },
  {
   "cell_type": "markdown",
   "id": "e0392b88-f6d2-4204-87ef-64561c3acfd2",
   "metadata": {},
   "source": [
    "### Ito's Lemma - full version\n",
    "Just as the chain rule has higher-dimensional versions, so does Ito's lemma. \n",
    "\n",
    "Let $({\\mathbf X})_t \\in {\\mathbb R}^n$ be an $n$-dimensional stochastic process.\n",
    "Write $X^i_t$ for the $i$-th component of ${\\mathbf X}_t$. $1 \\leq i \\leq n$.\n",
    "\n",
    "Let $({\\mathbf W})_t \\in {\\mathbb R}^d$ be a $d$-dimensional Wiener process. Write\n",
    "$W^\\alpha_t$ for the $\\alpha$-th component of ${\\mathbf X}_t$. $1 \\leq \\alpha \\leq d$.\n",
    "\n",
    "Let ${\\mathbf a}:{\\mathbb R}^n \\times {\\mathbb R} \\to {\\mathbb R}^n$ be a\n",
    "smooth function. Write $a_i$ for the $i$-th component of $a$. ${\\mathbf a}$ is a vector\n",
    "valued function.\n",
    "\n",
    "Let $b:{\\mathbb R}^n \\times {\\mathbb R} \\to {\\mathbb R}^n \\times {\\mathbb R}^d$ be a\n",
    "smooth function. Write $b_{i\\alpha}$ for the components of $b$ where $1 \\leq i \\leq n$\n",
    "and $1 \\leq \\alpha \\leq d$. $b$ is a matrix valued function.\n",
    "\n",
    "Let $f:{\\mathbb R}^n \\times {\\mathbb R} \\to {\\mathbb R}^k$ be a smooth function. We write $f(x_1,\\ldots, x_n,t)$\n",
    "to indicate the dependence of $f$ on its components and write $f^I$\n",
    "for the components of $f$, $1 \\leq I \\leq k$.\n",
    "\n",
    "**Theorem:**\n",
    "Suppose that ${{\\mathbf X}}_t$ satisfies the equations\n",
    "$$\n",
    "d X^i_t = a_i({\\mathbf X}_t,t) dt + \\sum_{\\alpha=1}^d b_{i\\alpha}({\\mathbf X}_t,t) d W_t^\\alpha\n",
    "$$\n",
    "then $f^I({\\mathbf X})_t, t)$ satisfies\n",
    "$$\n",
    "\\begin{split}\n",
    "d f^I({\\mathbf X}_t,t)\n",
    "&= \\left( \\frac{ \\partial f^I}{\\partial t}\n",
    "+ \n",
    "\\sum_{i=1}^n \n",
    "\\frac{ \\partial f^I}{\\partial x_i}\n",
    "a_i({\\mathbf X}_t,t)\n",
    "+\n",
    "\\frac{1}{2} \\sum_{i=1}^n \\sum_{j=1}^n \\sum_{\\alpha=1}^d\n",
    "\\frac{ \\partial^2 f^I}{\\partial x_i \\partial x_j} b_{i\\alpha} b_{j\\alpha}\n",
    "\\right) dt \\\\\n",
    "& \\qquad +\n",
    "\\sum_{i=1}^n \n",
    "\\sum_{\\alpha=1}^d b_{i\\alpha}({\\mathbf X}_t,t) d W_t^\\alpha\n",
    "\\frac{ \\partial f^I}{\\partial x_i}\n",
    "\\end{split}\n",
    "$$"
   ]
  },
  {
   "cell_type": "markdown",
   "id": "3e05bb0b-f33a-4ce4-b88a-7918716cc5a3",
   "metadata": {},
   "source": [
    "Lets use Symbolic Python (sympy) to evaluate the mathematical calculations."
   ]
  },
  {
   "cell_type": "code",
   "execution_count": 1,
   "id": "7f6f327c-bd54-4cf3-9261-d463ba728cbc",
   "metadata": {},
   "outputs": [
    {
     "name": "stdout",
     "output_type": "stream",
     "text": [
      "True\n",
      "x**2 + 2*x*y + y**2\n"
     ]
    }
   ],
   "source": [
    "import sympy as sp\n",
    "\n",
    "x, y = sp.symbols(['x','y'])  # Set x and y as maths symbols.\n",
    "print(sp.expand((x+y)**2) == x**2 + 2*x*y + y**2)\n",
    "print(sp.simplify(x**2 + 2*x*y + y**2))"
   ]
  },
  {
   "cell_type": "code",
   "execution_count": 2,
   "id": "c0ae4d5f-9669-4bfb-9f31-4678236c654a",
   "metadata": {},
   "outputs": [
    {
     "data": {
      "text/latex": [
       "$\\displaystyle \\frac{1}{x^{2} + 1}$"
      ],
      "text/plain": [
       "1/(x**2 + 1)"
      ]
     },
     "execution_count": 2,
     "metadata": {},
     "output_type": "execute_result"
    }
   ],
   "source": [
    "sp.diff( sp.atan(x), x)  # Symbolic differentiation of arctan(x)."
   ]
  },
  {
   "cell_type": "code",
   "execution_count": 3,
   "id": "d07e2456-797a-4c17-8fde-ef02dd27ccb1",
   "metadata": {},
   "outputs": [
    {
     "data": {
      "text/latex": [
       "$\\displaystyle \\operatorname{atan}{\\left(x \\right)}$"
      ],
      "text/plain": [
       "atan(x)"
      ]
     },
     "execution_count": 3,
     "metadata": {},
     "output_type": "execute_result"
    }
   ],
   "source": [
    "sp.integrate( 1/(1+x**2), x)  # Symbolic integration."
   ]
  },
  {
   "cell_type": "markdown",
   "id": "088bc8ae-e1bc-4f40-b395-73fa067c60e7",
   "metadata": {},
   "source": [
    "Lets compute the following partial derivatives using sympy:\n",
    "$$\\frac{\\partial^2}{\\partial u \\, \\partial v} e^{\\sin(u)\\cos(v)}$$"
   ]
  },
  {
   "cell_type": "code",
   "execution_count": 4,
   "id": "0cd4272c-9be3-4aa2-9cf3-e2a4f66bbd3a",
   "metadata": {
    "tags": []
   },
   "outputs": [
    {
     "data": {
      "text/latex": [
       "$\\displaystyle - \\left(\\sin{\\left(u \\right)} \\cos{\\left(v \\right)} + 1\\right) e^{\\sin{\\left(u \\right)} \\cos{\\left(v \\right)}} \\sin{\\left(v \\right)} \\cos{\\left(u \\right)}$"
      ],
      "text/plain": [
       "-(sin(u)*cos(v) + 1)*exp(sin(u)*cos(v))*sin(v)*cos(u)"
      ]
     },
     "execution_count": 4,
     "metadata": {},
     "output_type": "execute_result"
    }
   ],
   "source": [
    "u, v = sp.symbols('u v')\n",
    "sp.diff( sp.exp(sp.sin(u)*sp.cos(v)), u, v )"
   ]
  },
  {
   "cell_type": "markdown",
   "id": "26eb2f5c-6458-4cd1-b538-7cfb5b2916dc",
   "metadata": {},
   "source": [
    "Integrate:\n",
    "$$\n",
    "\\int_{-\\infty}^{\\infty} \\frac{1}{\\sqrt{2 \\pi}} u^4 e^{-\\frac{u^2}{2}} \\, d u.\n",
    "$$"
   ]
  },
  {
   "cell_type": "code",
   "execution_count": 5,
   "id": "a4140e5c-f229-4985-b065-9c145bb36fe2",
   "metadata": {},
   "outputs": [
    {
     "data": {
      "text/latex": [
       "$\\displaystyle 3$"
      ],
      "text/plain": [
       "3"
      ]
     },
     "execution_count": 5,
     "metadata": {},
     "output_type": "execute_result"
    }
   ],
   "source": [
    "sp.integrate(1/sp.sqrt(2*sp.pi)*u**4*sp.exp(-u**2/2), (u,-sp.oo,sp.oo))"
   ]
  },
  {
   "cell_type": "markdown",
   "id": "3c91f3f2-38de-4332-8bd5-0bfae0b2b187",
   "metadata": {},
   "source": [
    "### Matrices\n",
    "\n",
    "Sympy has its own functions for working with matrices."
   ]
  },
  {
   "cell_type": "code",
   "execution_count": 6,
   "id": "9375b2db-394c-445a-8678-42cff0995e14",
   "metadata": {},
   "outputs": [
    {
     "data": {
      "text/latex": [
       "$\\displaystyle \\left[\\begin{matrix}1 & 0 & 0 & 0\\\\0 & 1 & 0 & 0\\\\0 & 0 & 1 & 0\\\\0 & 0 & 0 & 1\\end{matrix}\\right]$"
      ],
      "text/plain": [
       "Matrix([\n",
       "[1, 0, 0, 0],\n",
       "[0, 1, 0, 0],\n",
       "[0, 0, 1, 0],\n",
       "[0, 0, 0, 1]])"
      ]
     },
     "execution_count": 6,
     "metadata": {},
     "output_type": "execute_result"
    }
   ],
   "source": [
    "sp.zeros(4) + sp.eye(4)"
   ]
  },
  {
   "cell_type": "markdown",
   "id": "a68eac7f-e0fe-468a-b9c6-c8aceceb60e0",
   "metadata": {},
   "source": [
    "### Applying Ito's Lemma using Sympy\n",
    "We can now take all the sums in Ito's lemma and turn them into code using for\n",
    "loops. We can perform all the differentiation needed using the `diff` function.\n",
    "\n",
    "The function `apply_itos_lemma` does this calculation. It takes as input\n",
    "\n",
    "* A vector containing the names used for the variables on ${\\mathbb R}^n$\n",
    "* Vectors and matrices representing the coefficients $a$ and $b$\n",
    "* A vector containing the formula for $f$.\n",
    "It computes the resulting\n",
    "coefficients of $dt$ and the noise $dW_t$. These will be an $k$-vector and a $(k \\times d)$-matrix\n",
    "respectively."
   ]
  },
  {
   "cell_type": "code",
   "execution_count": 7,
   "id": "9105dbbe-1c0c-4472-a28f-fd8b1841f7cb",
   "metadata": {},
   "outputs": [],
   "source": [
    "def apply_itos_lemma( x, a, b, f):\n",
    "    n = len(a)\n",
    "    d = b.shape[1]\n",
    "    k = len(f)\n",
    "    c_dt = sp.zeros(k,1)  # k rows, 1 column.\n",
    "    c_dW = sp.zeros(k,d)  # kxd Matrix.\n",
    "    \n",
    "    for I in range(0,k):\n",
    "        for i in range(0,n):\n",
    "            c_dt[I] = c_dt[I] + sp.diff(f[I],x[i])*a[i]\n",
    "        for i in range(0,n):\n",
    "            for j in range(0,n):\n",
    "                for alpha in range(0,d):\n",
    "                    c_dt[I] = c_dt[I] + sp.diff(f[I],x[i], x[j])*b[i,alpha]*b[j,alpha]/2\n",
    "        for i in range(0,n):\n",
    "            for alpha in range(0,d):                  \n",
    "                c_dW[I,alpha] = c_dW[I,alpha] + sp.diff(f[I],x[i])*b[i,alpha]\n",
    "                \n",
    "    return c_dt, c_dW  # Coefficients of dt(k vector) and dWt(kxd Matrix)."
   ]
  },
  {
   "cell_type": "markdown",
   "id": "05087926-687f-4151-a06a-0bab6261d12e",
   "metadata": {},
   "source": [
    "### Example - Brownian motion on a circle\n",
    "\n",
    "* Take $n=2$ (so we have a 2-d solution space), $d=1$ and $k=2$.\n",
    "* Take $a=(0,0)$, $b=(0,1)$\n",
    "* Define $f(x_1,x_2)=(x_1 \\cos( x_2 ), x_1 sin( x_2))$\n",
    "\n",
    "So our original SDE is simply\n",
    "$$\n",
    "\\begin{split}\n",
    "(d X^1)_t &= 0 \\\\\n",
    "(d X^2)_t &= d W_t.\n",
    "\\end{split}\n",
    "$$\n",
    "\n",
    "What is the SDE satisfied by $f(X_1,X_2)?$"
   ]
  },
  {
   "cell_type": "code",
   "execution_count": 8,
   "id": "b60ae84a-a2e3-40b0-920f-4425c0774120",
   "metadata": {},
   "outputs": [
    {
     "data": {
      "text/latex": [
       "$\\displaystyle \\left[\\begin{matrix}- \\frac{x_{1} \\cos{\\left(x_{2} \\right)}}{2}\\\\- \\frac{x_{1} \\sin{\\left(x_{2} \\right)}}{2}\\end{matrix}\\right]$"
      ],
      "text/plain": [
       "Matrix([\n",
       "[-x1*cos(x2)/2],\n",
       "[-x1*sin(x2)/2]])"
      ]
     },
     "execution_count": 8,
     "metadata": {},
     "output_type": "execute_result"
    }
   ],
   "source": [
    "# Represent f and the coefficients symbolically.\n",
    "x1,x2 = sp.symbols(['x1','x2'])\n",
    "\n",
    "x = sp.Matrix([x1,x2])\n",
    "a = sp.Matrix([0,0])\n",
    "b = sp.Matrix([[0],[1]])\n",
    "f = sp.Matrix([x1 * sp.cos(x2), x1 * sp.sin(x2)])\n",
    "\n",
    "# Applying Ito's lemma.\n",
    "c_dt, c_dW = apply_itos_lemma(x,a,b,f)\n",
    "c_dt"
   ]
  },
  {
   "cell_type": "code",
   "execution_count": 9,
   "id": "418d49e2-e8af-419f-b506-d2e62a47dd81",
   "metadata": {},
   "outputs": [
    {
     "data": {
      "text/latex": [
       "$\\displaystyle \\left[\\begin{matrix}- x_{1} \\sin{\\left(x_{2} \\right)}\\\\x_{1} \\cos{\\left(x_{2} \\right)}\\end{matrix}\\right]$"
      ],
      "text/plain": [
       "Matrix([\n",
       "[-x1*sin(x2)],\n",
       "[ x1*cos(x2)]])"
      ]
     },
     "execution_count": 9,
     "metadata": {},
     "output_type": "execute_result"
    }
   ],
   "source": [
    "c_dW"
   ]
  },
  {
   "cell_type": "markdown",
   "id": "cbb7eebc-a253-4111-9305-f01cfcb44781",
   "metadata": {},
   "source": [
    "Lets write this in terms of the coefficients of $f_1$ and $f_2$ using the `subs` function in sympy.\n",
    "If you call `subs(x,y)` on a symbolic expression like c_dt, it will replace all instances of the expression\n",
    "`x` with the expression `y`."
   ]
  },
  {
   "cell_type": "code",
   "execution_count": 10,
   "id": "e4c52d35-2767-449e-86f7-ae295e737714",
   "metadata": {},
   "outputs": [],
   "source": [
    "f1,f2 = sp.symbols(['f1','f2'])\n",
    "c_dt = c_dt.subs([(f[0], f1),(f[1],f2)]);\n",
    "c_dW = c_dW.subs([(f[0], f1),(f[1],f2)]);"
   ]
  },
  {
   "cell_type": "code",
   "execution_count": 11,
   "id": "a5f86291-9f47-440b-9b82-efcd60a1c08e",
   "metadata": {},
   "outputs": [
    {
     "data": {
      "text/latex": [
       "$\\displaystyle \\left[\\begin{matrix}- \\frac{f_{1}}{2}\\\\- \\frac{f_{2}}{2}\\end{matrix}\\right]$"
      ],
      "text/plain": [
       "Matrix([\n",
       "[-f1/2],\n",
       "[-f2/2]])"
      ]
     },
     "execution_count": 11,
     "metadata": {},
     "output_type": "execute_result"
    }
   ],
   "source": [
    "c_dt"
   ]
  },
  {
   "cell_type": "code",
   "execution_count": 12,
   "id": "3122eb7b-e00c-4eda-81d2-a7905376a246",
   "metadata": {},
   "outputs": [
    {
     "data": {
      "text/latex": [
       "$\\displaystyle \\left[\\begin{matrix}- f_{2}\\\\f_{1}\\end{matrix}\\right]$"
      ],
      "text/plain": [
       "Matrix([\n",
       "[-f2],\n",
       "[ f1]])"
      ]
     },
     "execution_count": 12,
     "metadata": {},
     "output_type": "execute_result"
    }
   ],
   "source": [
    "c_dW"
   ]
  },
  {
   "cell_type": "markdown",
   "id": "c0d43c68-7836-46fe-a8a3-1ef4c4d34ebc",
   "metadata": {},
   "source": [
    "So the SDE satisfied by $f(X_1,X_2)$ is \n",
    "$$\n",
    "\\begin{split}\n",
    "d f^1_t &= -\\frac{1}{2} f^1_t \\, dt - f^2_t \\, d W_t \\\\\n",
    "d f^1_t &= -\\frac{1}{2} f^2_t \\, dt + f^1_t \\, d W_t \\\\\n",
    "\\end{split}\n",
    "$$"
   ]
  },
  {
   "cell_type": "markdown",
   "id": "7779d7f1-5c07-4721-90e8-f9aedb200e59",
   "metadata": {},
   "source": [
    "To test this we notice that the solution to our original SDE with initial\n",
    "condition is simply:\n",
    "$$\n",
    "\\begin{split}\n",
    "X^1_t &= X^1_0 \\\\\n",
    "X^2_t &= X^2_0 + W_t\n",
    "\\end{split}\n",
    "$$\n",
    "so we expect the solution of our new equations to be\n",
    "$$\n",
    "\\begin{split}\n",
    "f^1_t &= X^1_0 \\cos( X^2_0 + W_t ) \\\\\n",
    "f^2_t &= X^1_0 \\sin( X^2_0 + W_t ).\n",
    "\\end{split}$$\n",
    "So the solution to the equations for $f^1_t$ and $f^2_t$ should move in a circle\n",
    "centred on the origin of radius $X^1_0$."
   ]
  },
  {
   "cell_type": "markdown",
   "id": "11672258-c3a8-4dbb-abee-e29c898413f2",
   "metadata": {},
   "source": [
    "### Example\n",
    "Using `Ito's lemma` show that if \n",
    "$$\n",
    "d S_t = S_t( \\mu dt + \\sigma dW_t)\n",
    "$$\n",
    "then this implies\n",
    "$$\n",
    "d \\log(S)_t = (\\mu - \\frac{1}{2}\\sigma^2) dt + \\sigma dW_t.\n",
    "$$"
   ]
  },
  {
   "cell_type": "code",
   "execution_count": 13,
   "id": "cf66444e-32b5-424b-b2bc-00a7e94b9f25",
   "metadata": {},
   "outputs": [],
   "source": [
    "S, mu, sigma = sp.symbols(['S','mu','sigma'])\n",
    "S_vec = sp.Matrix([S])\n",
    "a = sp.Matrix([S*mu])\n",
    "b = sp.Matrix([S*sigma])\n",
    "f = sp.Matrix([sp.log(S)])\n",
    "\n",
    "c_dt, c_dW = apply_itos_lemma(S_vec,a,b,f)\n",
    "assert( c_dt==sp.Matrix([mu-sigma**2/2]))\n",
    "assert( c_dW==sp.Matrix([sigma]) )"
   ]
  },
  {
   "cell_type": "code",
   "execution_count": 14,
   "id": "9b7f2836-1029-4e43-8500-83c7e6d45e52",
   "metadata": {},
   "outputs": [
    {
     "name": "stdout",
     "output_type": "stream",
     "text": [
      "Matrix([[mu - sigma**2/2]]) dt + Matrix([[sigma]]) dWt\n"
     ]
    }
   ],
   "source": [
    "print(c_dt,'dt','+',c_dW,'dWt')"
   ]
  },
  {
   "cell_type": "markdown",
   "id": "c62fdb1f-f554-4425-a38b-d7e4203a95c9",
   "metadata": {},
   "source": [
    "## Example\n",
    "\n",
    "Lets write a function `euler_maruyama` that takes as parameters the initial condition $X_0$, the coefficient functions $a$ and $b$ and\n",
    "vectors `W`, `times` containing the noise process and the time and returns a vector containing all the corresponding values of $X$\n",
    "if one applies the Euler Maruyama scheme to the equation\n",
    "$$\n",
    "d X_t = a(X_t,t) \\, d t + b(X_t,t) \\, d W_t.\n",
    "$$"
   ]
  },
  {
   "cell_type": "code",
   "execution_count": 15,
   "id": "2f3ffc94-4c7c-4d92-ace7-2d821ac87fa6",
   "metadata": {},
   "outputs": [],
   "source": [
    "import numpy as np\n",
    "import mathfinance as mf\n",
    "\n",
    "def euler_maruyama(X0,a,b,W,times):\n",
    "    X = np.zeros(len(W))\n",
    "    X[0] = X0\n",
    "    for i in range(0,len(times)-1):\n",
    "        t = times[i]\n",
    "        dt = times[i+1]-times[i]\n",
    "        dW = W[i+1]-W[i]\n",
    "        X[i+1]=X[i] + a(X[i],t)*dt + b(X[i],t)*dW\n",
    "    return X\n",
    "\n",
    "# Test with geometric Brownian motion.\n",
    "np.random.seed(0)\n",
    "T = 1\n",
    "W, times = mf.one_step_wiener(T)\n",
    "W,times = mf.wiener_interpolate(W,times,20)\n",
    "\n",
    "mu = 0.5\n",
    "sigma = 1\n",
    "def a_gbm(S,t):\n",
    "    return mu*S\n",
    "def b_gbm(S,t):\n",
    "    return sigma*S\n",
    "\n",
    "WT = W[-1]\n",
    "S0 = 100\n",
    "S = euler_maruyama(S0,a_gbm,b_gbm,W,times);\n",
    "expectedST = S0*np.exp((mu- 0.5*sigma**2)*T + sigma*WT)\n",
    "ST = S[-1]\n",
    "assert abs(expectedST - ST)<0.1 ;"
   ]
  },
  {
   "cell_type": "markdown",
   "id": "81d3c48c-1e3c-48e9-b284-f6df357f93ee",
   "metadata": {},
   "source": [
    "### Example\n",
    "Let ${\\mathbf S}_t \\in {\\mathbb R}^n$ is an $n$-dimensional process\n",
    "following continuous time geometric Brownian motion\n",
    "$$\n",
    "d {\\mathbf S}_t = {\\mathbf S}_t \\circ ( {\\mathbf \\mu} dt + \\sigma d{\\mathbf W}_t ).\n",
    "$$\n",
    "where $\\mu$ is an $n$-vector, $\\sigma$ is an $n\\times n$ matrix, ${\\mathbf W}_t$ is an $n$-dimensional Wiener process and $\\circ$ denotes elementwise multiplication.\n",
    "\n",
    "Write this equation out in terms of the components $S^i_t$,\n",
    "$\\mu_i$, $\\sigma_{i\\alpha}$,\n",
    "and $W^\\alpha_t$ ($1 \\leq i \\leq n$, $1 \\leq \\alpha \\leq n$).\n",
    "\n",
    "Write $Z^i_t = \\log (S^i_t)$.\n",
    "\n",
    "Use Ito's lemma to compute the SDE satisfied by $Z^i_t$. We should find that it is an $n$-dimensional Brownian\n",
    "motion.\n",
    "\n",
    "Suppose that we wanted to simulate ${\\mathbf S}_T$ at some final time $T$ but we were not\n",
    "interested in the values of ${\\mathbf S}_t$ at intermediate times, how can we do this?"
   ]
  },
  {
   "cell_type": "markdown",
   "id": "8f8e8212-700d-4adc-8567-9675852afc5d",
   "metadata": {},
   "source": [
    "### Solution\n",
    "$$ S^i_t = S^i_t \\mu^i \\, dt + \\sum_{\\alpha=1}^n \\sigma_{i \\alpha} d W^\\alpha_t$$\n",
    "\n",
    "Define a vector valued function $f({\\mathbf S})$ with components $f({\\mathbf S})^i = \\log(S^i)$.\n",
    "$$\n",
    "\\frac{\\partial f^i}{\\partial S^j} = \\begin{cases}\n",
    "\\frac{1}{S_i} & i=j \\\\\n",
    "0 & \\text{otherwise}\n",
    "\\end{cases}k\\frac{\\partial f^i}{\\partial S^j} \n",
    "$$\n",
    "\n",
    "$$\n",
    "\\frac{\\partial^2 f^i}{\\partial S^j \\partial S^k} = \\begin{cases}\n",
    "-\\frac{1}{S_i^2} & i=j=k \\\\\n",
    "0 & \\text{otherwise}\n",
    "\\end{cases}\n",
    "$$\n",
    "\n",
    "So by the multidimensional Ito's Lemma\n",
    "\n",
    "$$\n",
    "\\begin{split}\n",
    "d f({\\mathbf S})^i_t &= \\sum_{j=1}^n \\frac{\\partial f^i}{\\partial S^j}  S^j_t \\mu_j \\, dt \\\\\n",
    "&\\quad + \\frac{1}{2} \\sum_{j=1}^n \\sum_{k=1}^n \\sum_{\\alpha=1}^n \\sigma_{j \\alpha} \\sigma_{k \\alpha} \\frac{\\partial^2 f^i}{\\partial S^j \\partial S^k} \\, dt \\\\\n",
    "&\\quad + \\sum_{j=1}^n \\sum_{\\alpha=1}^n \\frac{\\partial f^i}{\\partial S^j}  \\sigma_{j \\alpha} S^j_t d W^\\alpha_t \\\\\n",
    "&= \\frac{1}{S^i_t}  S^i_t \\mu_i \\, dt \\\\\n",
    "&\\quad + \\frac{1}{2} \\sum_{\\alpha=1}^n \\sigma_{i \\alpha} \\sigma_{i \\alpha} \\frac{-1}{(S^i_t)^2} \\, dt \\\\\n",
    "&\\quad + \\sum_{j=1}^n \\sum_{\\alpha=1}^n \\frac{1}{S^i_t}  \\sigma_{i \\alpha} S^i_t d W^\\alpha_t  \\\\\n",
    "&= (\\mu_i - \\sum_{\\alpha=1}^n \\sigma_{i \\alpha}^2) dt + \\sum_{\\alpha=1}^n \\sigma_{i \\alpha} d W^\\alpha_t \n",
    "\\end{split}\n",
    "$$\n",
    "\n",
    "This is a constant coefficient SDE, so we may write down:\n",
    "$$\\log( S)_t = \\log(S)_0 + (\\mu_i - \\sum_{\\alpha=1}^n \\sigma_{i \\alpha}^2) t + \\sum_{\\alpha=1}^n \\sigma_{i \\alpha} W^\\alpha_t.$$\n",
    "Hence\n",
    "$$S^i_t = S_0 \\exp\\left( \\mu_i - \\sum_{\\alpha=1}^n \\sigma_{i \\alpha}^2) t + \\sum_{\\alpha=1}^n \\sigma_{i \\alpha} W^\\alpha_t \\right).$$\n",
    "\n",
    "We have solved the SDE explicitly. To simulate stock prices at time $T$, we need only simulate ${\\mathbf W}$ at the final time $T$, which\n",
    "we may do be simulating a multivariate normal distribution with mean $0$ and covariance matrix $T {\\mathbf 1}_n$. "
   ]
  },
  {
   "cell_type": "markdown",
   "id": "75eabfb6-f242-4836-818f-9172be24a3a9",
   "metadata": {},
   "source": [
    "## Exercise\n",
    "\n",
    "One way to model the price of a single stock is to use the geometric Brownian motion model\n",
    "$$\n",
    "d S_t = S_t( \\mu dt + \\sigma d W_t ).\n",
    "$$\n",
    "Devise your own model for a stock price $S_t$ where the *volatility* term $\\sigma$ is itself stochastic.\n",
    "There is no single right answer to this question, you are being asked to create your own model.\n",
    "\n",
    "Using your model, simulate the stock price at the final time $S_T$ and plot a histogram of the result. You\n",
    "should also plot a histogram of $Z_T:=\\log S_T$.\n",
    "\n",
    "Generate a Q-Q plot to see if $Z_T$ is normally distributed in your model.\n",
    "\n",
    "A Q-Q plot shows the quantiles\n",
    "of one distribution against another. If they are the same distribution, you will get a line\n",
    "at 45 degrees. So these plots can be used to test if a random variable has a given distribution.\n",
    "Here is a process for generating a Q-Q plot to see if $Z_T$ is normally distributed:\n",
    "\n",
    "* Generate $N$ samples of $Z_T$ and store them in a vector `Z`\n",
    "* Sort the vector `Z`\n",
    "* Divide the interval $[0,1]$ into $N$ intervals and let the vector `U` contain the midpoints of each interval in order. `U` will have length $N$.\n",
    "* Create a vector `N` by applying the inverse distribution function of the normal distribution\n",
    "to `U`\n",
    "* Plot `N` against the sorted vector `Z`.\n",
    "\n",
    "If $Z_T$ is normally distributed, the resulting plot will be approximately a straight line."
   ]
  },
  {
   "cell_type": "markdown",
   "id": "e95889a5-ea31-4e3f-a0d0-20852a186aea",
   "metadata": {},
   "source": [
    "### Solution\n",
    "\n",
    "The simplest model I can think of has $\\sigma_t$ simply following a Geometric Brownian motion\n",
    "$$\n",
    "\\begin{split}\n",
    "d \\sigma_t &= c \\sigma_t \\, dW^1_t \\\\\n",
    "d S_t &= S_t(\\mu \\, dt + \\sigma_t \\, dW^2_t).\n",
    "\\end{split}\n",
    "$$\n",
    "For simplicity I'd assume $W^1_t$ and $W^2_t$ are independent. The reason I have decided against Brownian motion\n",
    "as a model for $\\sigma_t$ is to avoid the stock every becoming riskless even for a moment."
   ]
  },
  {
   "cell_type": "code",
   "execution_count": 17,
   "id": "54ca004b-0c61-4cab-b31b-75c028f796e6",
   "metadata": {},
   "outputs": [],
   "source": [
    "import matplotlib.pyplot as plt\n",
    "plt.rcParams['figure.figsize'] = [15,7]\n",
    "\n",
    "c = 0.3\n",
    "mu = 0.08\n",
    "sigma0 = 0.2\n",
    "S0 = 100\n",
    "T = 1\n",
    "\n",
    "n_simulations = 10000\n",
    "n_steps = 100\n",
    "dt = T/n_steps\n",
    "sigma = np.zeros((n_simulations,n_steps+1))\n",
    "S = np.zeros((n_simulations,n_steps+1))\n",
    "S[:,0] = S0\n",
    "sigma[:,0] = sigma0\n",
    "t = np.linspace(0,T,n_steps+1)\n",
    "for i in range(0,n_steps):\n",
    "    eps1 = np.random.randn(n_simulations)\n",
    "    eps2 = np.random.randn(n_simulations)\n",
    "    sigma[:,i+1]=sigma[:,i] + c *sigma[:,i] *np.sqrt(dt)*eps1\n",
    "    S[:,i+1]=S[:,i] + S[:,i]*(mu*dt + sigma[:,i]*np.sqrt(dt)*eps2)"
   ]
  },
  {
   "cell_type": "code",
   "execution_count": 18,
   "id": "3af2e90b-cdc8-4107-981f-dfaa8ff1f54e",
   "metadata": {},
   "outputs": [
    {
     "data": {
      "image/png": "[encoded data removed]",
      "text/plain": [
       "<Figure size 1080x504 with 1 Axes>"
      ]
     },
     "metadata": {
      "needs_background": "light"
     },
     "output_type": "display_data"
    }
   ],
   "source": [
    "def fan_diagram( X, t, title ):\n",
    "    lower = np.percentile(X,5, axis=0)\n",
    "    median = np.percentile(X,50, axis=0)\n",
    "    upper = np.percentile(X,95, axis=0)\n",
    "    plt.plot(t, lower, label='5th percentile' )\n",
    "    plt.plot(t, median, label='Median' )\n",
    "    plt.plot(t, upper, label='95th percentile' )\n",
    "    plt.plot(t, X[0,:], label='Single sample')\n",
    "    plt.legend()\n",
    "\n",
    "fan_diagram( sigma, t, 'Simulated Volatility $\\sigma_t$')"
   ]
  },
  {
   "cell_type": "code",
   "execution_count": 19,
   "id": "7401c995-7e3d-4a39-bb22-8e19b0e08dfa",
   "metadata": {},
   "outputs": [
    {
     "data": {
      "image/png": "[encoded data removed]",
      "text/plain": [
       "<Figure size 1080x504 with 1 Axes>"
      ]
     },
     "metadata": {
      "needs_background": "light"
     },
     "output_type": "display_data"
    }
   ],
   "source": [
    "fan_diagram( S, t, 'Simulated Stock Price $S_t$')"
   ]
  },
  {
   "cell_type": "code",
   "execution_count": 20,
   "id": "c7f712ba-bc87-451e-9569-2105a1a9777e",
   "metadata": {},
   "outputs": [
    {
     "data": {
      "image/png": "[encoded data removed]",
      "text/plain": [
       "<Figure size 1080x504 with 1 Axes>"
      ]
     },
     "metadata": {
      "needs_background": "light"
     },
     "output_type": "display_data"
    }
   ],
   "source": [
    "Z = np.log(S)\n",
    "final_Z = plt.hist(Z[:,-1], bins=20);"
   ]
  },
  {
   "cell_type": "code",
   "execution_count": 21,
   "id": "05c2ba18-8460-4007-b36a-f0ec679d4162",
   "metadata": {},
   "outputs": [
    {
     "data": {
      "text/plain": [
       "Text(0, 0.5, 'Model percentiles')"
      ]
     },
     "execution_count": 21,
     "metadata": {},
     "output_type": "execute_result"
    },
    {
     "data": {
      "image/png": "[encoded data removed]",
      "text/plain": [
       "<Figure size 1080x504 with 1 Axes>"
      ]
     },
     "metadata": {
      "needs_background": "light"
     },
     "output_type": "display_data"
    }
   ],
   "source": [
    "import scipy.stats\n",
    "\n",
    "midpoints = np.arange(1/(2*n_simulations),1,1/n_simulations)\n",
    "U = scipy.stats.norm.ppf( midpoints )\n",
    "V = np.sort( Z[:,-1])\n",
    "plt.scatter(U,V)\n",
    "plt.xlabel('Standard normal percentiles')\n",
    "plt.ylabel('Model percentiles')"
   ]
  },
  {
   "cell_type": "code",
   "execution_count": null,
   "id": "29ffc36f-a91e-4c34-8277-802b45534331",
   "metadata": {},
   "outputs": [],
   "source": []
  }
 ],
 "metadata": {
  "kernelspec": {
   "display_name": "Python 3",
   "language": "python",
   "name": "python3"
  },
  "language_info": {
   "codemirror_mode": {
    "name": "ipython",
    "version": 3
   },
   "file_extension": ".py",
   "mimetype": "text/x-python",
   "name": "python",
   "nbconvert_exporter": "python",
   "pygments_lexer": "ipython3",
   "version": "3.7.16"
  }
 },
 "nbformat": 4,
 "nbformat_minor": 5
}
