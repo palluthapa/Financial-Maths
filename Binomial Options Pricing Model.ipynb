{
 "cells": [
  {
   "cell_type": "markdown",
   "id": "cf472a58-51ec-4f2d-b0c6-64d7a3e29dc7",
   "metadata": {},
   "source": [
    "### One-Period Binomial Model\n",
    "In a financial market, there is a `Risky asset` $S_t$(stock). The value of the stock at time ($t = 0$) is $S_0$.\n",
    "We assume a stock moves up a factor of $u$ or down a factor $d$ with a probability of $p$ or $(q = 1-p)$ respectively. There is also `Non-Risky asset` which can be a Bank Account or a Bond. $B_0$ is the amount invested in Bank Account at time ($t = 0$). Hence at time ($t = 1$), $B_1 = B_0(1+r)$ or $B_1 = B_0 e^{rT}$ in continuous time. In general, we have the interest rate $r \\geq 0$. \n",
    "\n",
    "<img src=\"pics/binomial1.jpg\" width=\"330\" height=\"500\"/>\n",
    "<img src=\"pics/binomial2.jpg\" width=\"530\" height=\"500\"/>"
   ]
  },
  {
   "cell_type": "markdown",
   "id": "69b8c103-e328-4158-b3ba-6eb6eaff74ed",
   "metadata": {},
   "source": [
    "### Arbitrage\n",
    "- Type I Arbitrage:\n",
    "In this case we begin our portfolio with zero investment and have zero chance of losing money and some chance of profit. Let $V_t$ be the portfolio value at time t.\n",
    "$$\n",
    "\\begin{split}\n",
    "V_0 &= 0 \\\\\n",
    "\\mathbb{P}(V_T \\geq 0) &= 1 \\qquad \\text{(No chance of losing money)} \\\\\n",
    "\\mathbb{P}(V_T > 0) &> 0 \\qquad \\text{(Some chance of profit)} \\\\\n",
    "\\end{split}\n",
    "$$\n",
    "\n",
    "- Type I Arbitrage:\n",
    "In this case we receive credit today.\n",
    "$$\n",
    "\\begin{split}\n",
    "V_0 &< 0 \\qquad \\text{(Receive credit)} \\\\\n",
    "\\mathbb{P}(V_T \\geq 0) &= 1 \\qquad \\text{(No chance of losing money)} \\\\\n",
    "\\end{split}\n",
    "$$"
   ]
  },
  {
   "cell_type": "markdown",
   "id": "40f8bd37-d5b0-45a0-91bd-0d54552a7a26",
   "metadata": {},
   "source": [
    "### Replicating Portfolio\n",
    "As an Option seller, we receive fee $X_0$ from buyer of the option. By trading in risky and non-risky assets at time $t = 1$, the value of the option should be same as our investment.\n",
    "- At $t = 0$, $X_0 = V_0$ i.e. the price of the option $V_0$ must be same as portfolio.\n",
    "- At $t = 1$, $X_1 = V_1$ for all possibilities up or down."
   ]
  },
  {
   "cell_type": "markdown",
   "id": "fbd23f2c-f189-4d99-914f-2643172891f6",
   "metadata": {},
   "source": [
    "### Law of One Price Theorem\n",
    "Let $V^{i}_{T} = \\text{Portfolio i at time T}$. \n",
    "$$ \\Large \\mathbb{P}(V_{T}^{\\alpha} = V_{T}^{\\beta}) = 1 \\implies V_{0}^{\\alpha} = V_{0}^{\\beta}$$\n",
    "If we have two portfolios $\\alpha$ and $\\beta$ with same value at time $T$(maturity) Then, the portfolios are the same at the start time $T = 0$.\n",
    "\n",
    "### Evolution of Stock Price(3-Period)\n",
    "Here is evolution of Stock price tree in binomial model for 3-period. We have used the recombining tree for computational efficiency.\n",
    "\n",
    "<img src=\"pics/binomial3.jpg\" width=\"400\" height=\"500\"/>"
   ]
  },
  {
   "cell_type": "markdown",
   "id": "f6170715-78b4-4f5c-8c66-462764f00cee",
   "metadata": {},
   "source": [
    "Using Law of One-Price Theorem, if we have $\\mathbb{P}(S_T + B_T = C_T) = 1$ (i.e. combined stock value and bank account at time T equals Option price at T) Then, $V_0 = C_0$.\n",
    "\n",
    "$V_T = (S_T,B_T) \\cdot \\theta$ where $\\theta = \\begin{pmatrix} \\beta \\\\ \\alpha \\end{pmatrix}$.\n",
    "$\\beta$ is the quantity of stock and $\\alpha$ is the quantity of bank account. Now using the Theorem,\n",
    "$$\n",
    "\\begin{align}\n",
    "C_0 &= \\alpha B_0 + \\beta S_0 \\qquad \\text{(Law of One Price equation)} \\\\\n",
    "C_0 &= \\alpha + \\beta S_0 \\tag 1 \\qquad \\text{(Since $B_0 = 1$ at t = 1)} \\\\\n",
    "\\end{align}\n",
    "$$\n",
    "\n",
    "$$\n",
    "\\begin{align}\n",
    "C_u &= \\alpha B_T + \\beta S_0 u  \\\\\n",
    "    &= \\alpha e^{rT} + \\beta S_0 u \\tag 2 \\\\\n",
    "C_d &= \\alpha B_T + \\beta S_0 d  \\\\\n",
    "    &= \\alpha e^{rT} + \\beta S_0 d \\tag 3 \\\\    \n",
    "\\end{align}\n",
    "$$\n",
    "(2)-(3) gives:\n",
    "$$\n",
    "\\begin{align}\n",
    "C_u - C_d &= \\beta (S_0 u - S_0 d)  \\\\\n",
    "\\beta &= \\frac {C_u - C_d }{S_0 u - S_0 d} \\tag 4 \\\\    \n",
    "\\end{align}\n",
    "$$\n",
    "Using (3),\n",
    "$$\n",
    "\\begin{align}\n",
    "C_d &= \\alpha e^{rT} + \\beta S_0 d  \\\\\n",
    "\\alpha &= e^{-rT} (C_d - \\beta S_0 d)  \\tag 5 \\\\    \n",
    "\\end{align}\n",
    "$$\n",
    "Substituting (4) and (5) into (1):\n",
    "$$\n",
    "\\begin{align}\n",
    "C_0 &= \\alpha + \\beta S_0  \\\\\n",
    "    &= e^{-rT} (C_d - \\beta S_0 d) + \\beta S_0 \\\\ \n",
    "    &= e^{-rT}[C_d - \\beta S_0 d + \\beta S_0 e^rT] \\\\\n",
    "    &= e^{-rT}[C_d + \\beta (S_0 e^rT - S_0 d)] \\\\\n",
    "    &= e^{-rT}\\Bigl[C_d + \\frac {C_u - C_d}{S_0 u - S_0 d} (S_0 e^rT - S_0 d)\\Bigl] \\\\\n",
    "    &= e^{-rT}\\Bigl[C_d + C_u \\frac {S_0 e^rT - S_0 d}{S_0 u - S_0 d} - C_d \\frac {S_0 e^rT - S_0 d}{S_0 u - S_0 d}\\Bigl] \\\\\n",
    "    &= e^{-rT}\\Bigl[\\frac {S_0 e^rT - S_0 d}{S_0 u - S_0 d} C_u + (1 - \\frac {S_0 e^rT - S_0 d}{S_0 u - S_0 d})C_d \\Bigl] \\\\\n",
    "C_0 &= e^{-rT}[\\tilde{p} C_u + (1 - \\tilde{p})C_d] \\tag 6\\\\\n",
    "\\end{align}\n",
    "$$\n",
    "Here, $\\tilde{p} = \\frac {e^{rT} - d}{u - d}$ is a Risk-Neutral measure. Note $\\tilde{p}$ is not the physical probability of up/down of stock. Also  $0 < \\tilde{p} < 1$.\n",
    "- `Lemma:` Binomial Model has No-Arbitrage iff $0 < d < 1+r < u$.\n",
    "\n",
    "(6) is the No-Arbitrage formula built from Law of One price which can be used to price options by backward propogation even for Multi-period model.\n",
    "\n",
    "#### Stencil for Pricing\n",
    "We use the Recombining Stock tree using nodes $(i,j)$ and initial stock price $S_0$. $C_{i,j}$ = Derivative price at node $(i,j)$.\n",
    "<img src=\"pics/binomial4.jpg\" width=\"400\" height=\"500\"/>\n",
    "\n",
    "$j$ goes from bottom to top and $i$ goes from left to right in terms of timesteps. Each node of this Multi-period Binomial tree is represented $(i,j)$. In this tree: $$S_{i,j} = S_0 u^jd^{i-j}$$ In N-period Model, the terminal condition for the derivative is the Payoff at the last time step N. So, \n",
    "$$\n",
    "\\begin{align}\n",
    "C_{N,j} &= \\text{Payoff Function} \\\\\n",
    "C_{N,j} &= Max(S_{N,j} - K, 0) \\qquad \\text{(Call Option Payoff)}\n",
    "\\end{align}\n",
    "$$\n",
    "We can use (6) formula backwards to get prices for each preceding nodes."
   ]
  },
  {
   "cell_type": "markdown",
   "id": "39a29cd6-106d-4800-9a05-58d09080fb65",
   "metadata": {},
   "source": [
    "At expiration, we know the price of the option.  It is either 0 if out-of-the-money, or its intrinsic value if in-the-money.\n",
    "\n",
    "The price at the preceding node is then give by, \n",
    "$$C = e^{-rt}(pC_u + (1-p)C_d)$$\n",
    "\n",
    "If the tree has multiple layers as shown below, we can then repeat the above process to entirely fill out the tree."
   ]
  },
  {
   "cell_type": "code",
   "execution_count": null,
   "id": "89280963-b538-4d3f-b178-0bdf7e54889b",
   "metadata": {},
   "outputs": [],
   "source": []
  }
 ],
 "metadata": {
  "kernelspec": {
   "display_name": "Python 3",
   "language": "python",
   "name": "python3"
  },
  "language_info": {
   "codemirror_mode": {
    "name": "ipython",
    "version": 3
   },
   "file_extension": ".py",
   "mimetype": "text/x-python",
   "name": "python",
   "nbconvert_exporter": "python",
   "pygments_lexer": "ipython3",
   "version": "3.7.16"
  }
 },
 "nbformat": 4,
 "nbformat_minor": 5
}
