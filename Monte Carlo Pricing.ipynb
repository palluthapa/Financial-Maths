{
 "cells": [
  {
   "cell_type": "markdown",
   "id": "d7064004-2427-4227-95a9-2cfee61c71a8",
   "metadata": {},
   "source": [
    "# Monte Carlo pricing\n",
    "The Monte Carlo method is a powerful technique that can be used to price a very broad range of derivatives. In fact its more powerful than Finite Difference method. This method works because of **Feynman-Kac theorem**. This is a powerful theorem that shows you can solve a large family of partial differential equations by computing expectations in a particular probability model.\n",
    "\n",
    "### Two probability models\n",
    "$\\mathbb {P} = \\text{Probability model that represents our beliefs about the world eg.stock prices.}$\n",
    "$\\mathbb {Q} = \\text{Abstract Probability model used for Pricing by MC method.}$\n",
    "\n",
    "## The Feynman-Kac Theorem\n",
    "This is the Fundamental theorem relating solving PDE's to computing Expectations.\n",
    "\n",
    "**Theorem 1:** (Feynman-Kac Theorem)\n",
    "    \n",
    "Suppose that $X_t$ satisfies the SDE\n",
    "$$\n",
    "d X_t = \\mu(X_t,t) dt + \\sigma(X_t,t) dW_t.\n",
    "$$\n",
    "and that $v(x,t):=E_t(e^{-c(T-t)} f(X_T) \\mid X_t=x)<\\infty$,  for some constant $c$, then\n",
    "$v$ solves the PDE\n",
    "$$\n",
    "\\frac{\\partial v}{\\partial t} + \\mu(x,t) \\frac{\\partial v}{\\partial x}\n",
    "+ \\frac{1}{2} \\sigma^2(x,t) \\frac{\\partial^2 v}{\\partial x^2} - c V = 0\n",
    "$$\n",
    "with final condition $v(x,T)=f(x)$.\n",
    "\n",
    "We can solve partial differential equations by computing expectations, or we can compute expectations by solving partial differential equations depending upon which we find easier."
   ]
  },
  {
   "cell_type": "markdown",
   "id": "30e407e8-a84e-4d26-8c22-3302429285ef",
   "metadata": {},
   "source": [
    "If $X_t$ satisfies an SDE\n",
    "$$\n",
    "d X_s = \\mu(X_s,s) ds + \\sigma(X_s,s) dW_s\n",
    "$$\n",
    "with initial condition $X_t=x$ we can write $u(x,t):=E_t(f(X_T))$\n",
    "as this expectation will only depend upon $x$ and $t$.\n",
    "So long as we always have $E_t(|f(X_T)|)<\\infty$, our last example of a martingale shows that $u(X_t,t)$ must be a martingale. Just take $Y_T=f(X_T)$.\n",
    "Let's assume $u$ is smooth enough to apply Ito's Lemma. We get \n",
    "$$\n",
    "d u(X_t,t) = \\frac{\\partial u}{\\partial t} \\, dt\n",
    "+ \\frac{\\partial u}{\\partial x} \\mu(X_t,t) \\, dt\n",
    "+ \\frac{1}{2} \\frac{\\partial^2 u}{\\partial x^2} \\sigma^2(X_t,t) \\, dt\n",
    "+ \\frac{\\partial u}{\\partial x} \\sigma(X_t,t) \\, dW_t.\n",
    "$$\n",
    "We know $u(X_t,t)$ is a martingale, so there can't be any drift term.\n",
    "\n",
    "Therefore\n",
    "$$\n",
    "\\frac{\\partial u}{\\partial t} + \\mu(x,t) \\frac{\\partial u}{\\partial x}\n",
    "+ \\frac{1}{2} \\sigma^2(x,t) \\frac{\\partial^2 u}{\\partial x^2} = 0\n",
    "$$\n",
    "e have $v(x,t)=e^{-c(T-t)}u(x,t).$ We know $u(x,t)=f(x)$ so $v(x,t)=e^0 u(x,t)=f(x)$.\n",
    "We compute\n",
    "$$\\frac{\\partial v}{\\partial t}=ce^{-c(T-t)} u(x,t) + e^{-c(T-t)} \\frac{\\partial u}{\\partial t} $$\n",
    "$$\\frac{\\partial v}{\\partial x}=e^{-c(T-t)}\\frac{\\partial u}{\\partial x}$$\n",
    "$$\\frac{\\partial^2 v}{\\partial x^2}=e^{-c(T-t)}\\frac{\\partial^2 u}{\\partial x^2}$$\n",
    "So\n",
    "$$\n",
    "\\begin{split}\n",
    "\\frac{\\partial v}{\\partial t} &+ \\mu(x,t) \\frac{\\partial v}{\\partial x} + \\frac{1}{2} \\sigma^2(x,t)  \\frac{\\partial^2 v}{\\partial x^2}\n",
    "- c v(x,t) \\\\\n",
    "&= \\exp(-c(T-t)) \\left( \\frac{\\partial u}{\\partial t} + \\mu(x,t) \\frac{\\partial u}{\\partial x} +\n",
    "\\frac{1}{2} \\sigma^2(x,t) \\frac{\\partial^2 u}{\\partial x^2} \\right)\n",
    "\\end{split}\n",
    "$$\n",
    "According to the first version of the Feynman-Kac theorem the right hand side vanishes, so the left hand side does too."
   ]
  },
  {
   "cell_type": "markdown",
   "id": "a2fe5398-074b-4eaf-95e7-6dbc5cc4a5c0",
   "metadata": {},
   "source": [
    "## Risk-Neutral Pricing\n",
    "Recall:\n",
    "**Theorem 2:** (Replication)\n",
    "Suppose that the stock price process $S_t$ satisfies\n",
    "\n",
    "$$\n",
    "d S_t = S_t(\\mu \\, dt + \\sigma \\, dW^{\\mathbb P}_t)\n",
    "$$\n",
    "\n",
    "then the price $V(S,t)$ of a derivative with payoff function $f(S_T)$ may be computed by solving the\n",
    "*Black-Scholes PDE*\n",
    "$$\n",
    "\\frac{\\partial V}{\\partial t}\n",
    "+ \\frac{1}{2} \\sigma^2 S^2 \\frac{\\partial^2 V}{\\partial S^2}\n",
    "+ r S \\frac{\\partial V}{\\partial S}\n",
    "- r V = 0\n",
    "$$\n",
    "with final condition $V(S_T,T)=f(S_T)$.\n",
    "\n",
    "We can combine Black Scholes Theory of Replication with Feynman-Kac Theorem to obtain the theory of Risk-Neutral pricing.The key is to apply Feynman-Kac Theorem to Black-Scholes PDE.\n",
    "\n",
    "**Theorem 3:** Suppose that the stock price process $S_t$ satisfies\n",
    "$$\n",
    "d S_t = S_t(\\mu \\, dt + \\sigma \\, dW^{\\mathbb P}_t).\\qquad \\longrightarrow (S_t\\text{ uses $\\mathbb P$ measure)}\n",
    "$$\n",
    "The price $V(S,t)$ of a derivative with payoff function $f(S_T)$ may be computed by simulating\n",
    "$$\n",
    "d \\tilde{S}_t = \\tilde{S}_t(r \\, dt + \\sigma \\, dW^{\\mathbb Q}_t) \\qquad \\longrightarrow (\\tilde{S}_t\\text{ uses $\\mathbb Q$ measure)}\n",
    "$$\n",
    "with initial condition $\\tilde{S}_t=S$,\n",
    "in which case we will have\n",
    "\n",
    "$$V(S,t):=E^{\\mathbb Q}_t(e^{-r(T-t)} f(\\tilde{S}_T) \\mid \\tilde{S}_t=S).$$\n",
    "\n",
    "In particular $V(S_0,0)=E^{\\mathbb Q}_t(e^{-rT} f(\\tilde{S}_T) )$. \n",
    "\n",
    "### The Pricing Measure\n",
    "\n",
    "You should think of the process\n",
    "$$\n",
    "d \\tilde{S}_t = \\tilde{S}_t(r \\, dt + \\sigma \\, dW^{\\mathbb Q}_t)\n",
    "$$\n",
    "as an entirely abstract process which you can use to compute the *price* of a derivative.\n",
    "\n",
    "The ${\\mathbb Q}$-measure is often called the *Pricing Measure/Risk-Neutral Measure* to emphasize this point. It has no other purpose than for computing prices. In real world, we expect $\\mu>r$, however in a `Risk-Neutral world`, we would have $\\mu=r$."
   ]
  },
  {
   "cell_type": "markdown",
   "id": "3b207732-78bb-4264-9572-fb0d87539256",
   "metadata": {},
   "source": [
    "### Deriving Solution of Black-Scholes PDE using Feynman-Kac\n",
    "From the theory of Risk-Neutral Pricing, We can write the price as an Expectation. The price of call option at time $0$ in the Black-Scholes model is given by the Expectation of discounted payoff:\n",
    "$$\n",
    "V = E^{\\mathbb Q}\\bigl(e^{-rT} \\max\\{\\tilde{S}_T-K,0\\}\\bigl)\n",
    "$$\n",
    "where $\\tilde{S}_T$ is the solution of the SDE\n",
    "$$\n",
    "d \\tilde{S}_t = \\tilde{S}_t(r \\, dt + \\sigma \\, dW^{\\mathbb Q}_t)\n",
    "$$\n",
    "for a Wiener process $W^{\\mathbb Q}_t$. The solution for this SDE is\n",
    "$$\n",
    "\\tilde{S}_t = S_0 \\exp((r - \\frac{1}{2}\\sigma^2) t + \\sigma W^{\\mathbb Q}_t ).\n",
    "$$\n",
    "Since, $\\tilde{S}_T$ follows Log-Normal Distribution, we can compute option price $V$ as an Integral because Expectation is an Integral. For the density function(PDF), we will use the Log-Normal distribution.\n",
    "$$\n",
    "V = \\int_{-\\infty}^{\\infty} e^{-rT} \\max\\{\\tilde{S}_T - K, 0 \\} * {(\\text{pdf of } \\tilde{S}_T)} \\, dz \n",
    "$$\n",
    "This Integral with Log-Normal pdf for $\\tilde{S}_T$ is slightly complicated to solve. Instead, we solve an easier Integral. A trick that makes the computations a bit simpler is to work with $\\tilde{Z}_T:=\\log(\\tilde{S}_t)$\n",
    "as this will be normally distributed. So the price of a call option is given by\n",
    "$$\n",
    "V = E(e^{-rT} \\max\\{e^{\\tilde{Z}_T}-K,0\\} )\n",
    "$$\n",
    "where $\\tilde{Z}_T$ is normally distributed with mean $A:=\\log(S_0) + (r-\\frac{1}{2}\\sigma^2)T$ and standard deviation\n",
    "$B:=\\sigma \\sqrt{T}$.\n",
    "It follows that $V$ is given by the following integral\n",
    "$$\n",
    "\\begin{split}\n",
    "V &= \\int_{-\\infty}^{\\infty} e^{-rT} \\max\\{e^z - K, 0 \\} \\overbrace{ \\frac{1}{B \\sqrt{2 \\pi}} e^{-\\frac{(z-A)^2}{2 B^2 }}}^{\\text{PDF of $\\tilde{Z}$}} \\, dz \\qquad \\text{($\\tilde{z}$ in terms of dummy variable $z$)}\\\\\n",
    "&= \\int_{\\log K}^{\\infty} e^{-rT} (e^z-K) \\frac{1}{B \\sqrt{2 \\pi}} e^{-\\frac{(z-A)^2}{2 B^2 }} \\, dz \\\\\n",
    "\\end{split}\n",
    "$$\n",
    "The last step uses the fact that $e^z-K\\geq 0$ if and only if $z\\geq \\log(K)$. Lets evaluate this Integral and see if we get the same formula as discovered by Black and Scholes:\n",
    "\n",
    "The price of a call option at time $0$ in the Black-Scholes model is given by\n",
    "$$\n",
    "V = S N(d_1) - e^{-rT} K N(d_2)\n",
    "$$\n",
    "where\n",
    "$$\n",
    "d_1 := \\frac{1}{\\sigma \\sqrt{T} } ( \\log(S/K) + (r+\\tfrac{1}{2}\\sigma^2){T} )\n",
    "$$\n",
    "$$\n",
    "d_2 := \\frac{1}{\\sigma \\sqrt{T} } ( \\log(S/K) + (r-\\tfrac{1}{2}\\sigma^2){T} ) := d_1 - \\sigma \\sqrt{T} .\n",
    "$$\n"
   ]
  },
  {
   "cell_type": "code",
   "execution_count": 23,
   "id": "c073752f-4c66-43a2-b69a-98bd0579b7a5",
   "metadata": {},
   "outputs": [],
   "source": [
    "# import numpy as np\n",
    "# from scipy.integrate import quad\n",
    "\n",
    "# def integrand(z, A, B, K, r, T):\n",
    "#     return np.exp(-r*T) * (np.exp(z) - K) * (1 / (B * np.sqrt(2 * np.pi))) * np.exp(-(z - A)**2 / (2 * B**2))\n",
    "\n",
    "# # Constants.\n",
    "# S0 = 100\n",
    "# sigma = 0.2\n",
    "# r = 0.05\n",
    "# K = 115\n",
    "# T = 1\n",
    "# A = np.log(S0) + (r-sigma**2*0.5)*T  # Mean of Zt.\n",
    "# B = sigma * np.sqrt(T)  # Standard Deviation of Zt.\n",
    "\n",
    "# # Integration bounds.\n",
    "# lower_limit = np.log(K)\n",
    "# upper_limit = np.inf\n",
    "\n",
    "# # Evaluate the integral.\n",
    "# result, error = quad(integrand, lower_limit, upper_limit, args=(A, B, K, r, T));\n",
    "\n",
    "# print(\"The value of the integral is:\", result)\n",
    "# print(\"Error in the estimation:\", error)"
   ]
  },
  {
   "cell_type": "code",
   "execution_count": 2,
   "id": "f035767f-0131-491d-9fb9-8213fff98379",
   "metadata": {},
   "outputs": [
    {
     "data": {
      "text/latex": [
       "$\\displaystyle \\frac{\\sqrt{2} \\left(- K + e^{z}\\right) e^{- T r} e^{- \\frac{\\left(- T \\left(r - \\frac{\\sigma^{2}}{2}\\right) + z - \\log{\\left(S \\right)}\\right)^{2}}{2 T \\sigma^{2}}}}{2 \\sqrt{\\pi} \\sqrt{T} \\sigma}$"
      ],
      "text/plain": [
       "sqrt(2)*(-K + exp(z))*exp(-T*r)*exp(-(-T*(r - sigma**2/2) + z - log(S))**2/(2*T*sigma**2))/(2*sqrt(pi)*sqrt(T)*sigma)"
      ]
     },
     "execution_count": 2,
     "metadata": {},
     "output_type": "execute_result"
    }
   ],
   "source": [
    "# It is important to tell sympy that all our terms are real and which are positive, otherwise the\n",
    "# integral becomes impossible for it to do.\n",
    "\n",
    "import sympy as sp\n",
    "\n",
    "r, z = sp.symbols('r z', real=True)\n",
    "K, T, S, sigma = sp.symbols('K T S sigma', real=True, positive=True)\n",
    "B = sigma * sp.sqrt(T)\n",
    "A = sp.log(S) + (r-sigma**2/2)*T\n",
    "integrand = sp.exp(-r*T)*(sp.exp(z)-K)*(1/(B*sp.sqrt(2*sp.pi)))*sp.exp(-(z-A)**2/(2*B**2))\n",
    "integrand"
   ]
  },
  {
   "cell_type": "code",
   "execution_count": 3,
   "id": "d4949f6b-e06c-4b4a-bcb4-4667881afdfc",
   "metadata": {},
   "outputs": [
    {
     "data": {
      "text/latex": [
       "$\\displaystyle \\frac{\\left(- K \\operatorname{erf}{\\left(\\frac{\\sqrt{2} \\left(2 T r - T \\sigma^{2} + \\log{\\left(\\frac{S^{2}}{K^{2}} \\right)}\\right)}{4 \\sqrt{T} \\sigma} \\right)} - K + S e^{T r} \\operatorname{erf}{\\left(\\frac{\\sqrt{2} \\left(2 T r + T \\sigma^{2} + \\log{\\left(\\frac{S^{2}}{K^{2}} \\right)}\\right)}{4 \\sqrt{T} \\sigma} \\right)} + S e^{T r}\\right) e^{- T r}}{2}$"
      ],
      "text/plain": [
       "(-K*erf(sqrt(2)*(2*T*r - T*sigma**2 + log(S**2/K**2))/(4*sqrt(T)*sigma)) - K + S*exp(T*r)*erf(sqrt(2)*(2*T*r + T*sigma**2 + log(S**2/K**2))/(4*sqrt(T)*sigma)) + S*exp(T*r))*exp(-T*r)/2"
      ]
     },
     "execution_count": 3,
     "metadata": {},
     "output_type": "execute_result"
    }
   ],
   "source": [
    "V = sp.integrate( integrand, (z,sp.log(K),sp.oo) ).simplify()\n",
    "V"
   ]
  },
  {
   "cell_type": "markdown",
   "id": "1bfa9028-5df1-48af-882e-ce3d9608653d",
   "metadata": {},
   "source": [
    "`Gaussian Integrals` are usually expressed in terms of *error function*. But in the formula given by Black-Scholes, the cdf of the Standard Normal distribution $N(x)$ is instead used so we will also write the error function in terms of $N(x)$ using the following relationship:\n",
    "$$\n",
    "\\boxed{\\text{erf}(x)=2 N(\\sqrt{2}x)-1}\n",
    "$$\n",
    "In Sympy, to do the replacement of x in the expression for $erf(x)$, we use the wild expression *w*."
   ]
  },
  {
   "cell_type": "code",
   "execution_count": 4,
   "id": "02cb10c5-6624-4716-b3f2-dc2535aafa1c",
   "metadata": {},
   "outputs": [
    {
     "data": {
      "text/latex": [
       "$\\displaystyle \\left(- K N{\\left(\\frac{2 T r - T \\sigma^{2} + \\log{\\left(\\frac{S^{2}}{K^{2}} \\right)}}{2 \\sqrt{T} \\sigma} \\right)} + S N{\\left(\\frac{2 T r + T \\sigma^{2} + \\log{\\left(\\frac{S^{2}}{K^{2}} \\right)}}{2 \\sqrt{T} \\sigma} \\right)} e^{T r}\\right) e^{- T r}$"
      ],
      "text/plain": [
       "(-K*N((2*T*r - T*sigma**2 + log(S**2/K**2))/(2*sqrt(T)*sigma)) + S*N((2*T*r + T*sigma**2 + log(S**2/K**2))/(2*sqrt(T)*sigma))*exp(T*r))*exp(-T*r)"
      ]
     },
     "execution_count": 4,
     "metadata": {},
     "output_type": "execute_result"
    }
   ],
   "source": [
    "N = sp.Function('N')\n",
    "w = sp.Wild('w')\n",
    "V = V.replace(sp.erf(w),2*N(sp.sqrt(2)*w)-1)\n",
    "V = V.simplify()\n",
    "V"
   ]
  },
  {
   "cell_type": "code",
   "execution_count": 5,
   "id": "cc4762c7-0e7e-40fa-adec-35498f743f8a",
   "metadata": {},
   "outputs": [
    {
     "name": "stdout",
     "output_type": "stream",
     "text": [
      "True True\n"
     ]
    }
   ],
   "source": [
    "d1,d2 = sp.symbols('d1 d2', real=True, positive=True)\n",
    "d1 = 1/(sigma*sp.sqrt(T)) * (sp.log(S/K) + (r+(1/2)*sigma**2)*T)\n",
    "d2 = 1/(sigma*sp.sqrt(T)) * (sp.log(S/K) + (r-(1/2)*sigma**2)*T)\n",
    "\n",
    "# Checking expressions inside N(*) is d1 and d2.\n",
    "exp_d1 = 1/(2*sigma*sp.sqrt(T)) * (2*T*r + T*sigma**2 + (sp.log(S**2/K**2)))\n",
    "exp_d2 = 1/(2*sigma*sp.sqrt(T)) * (2*T*r - T*sigma**2 + (sp.log(S**2/K**2)))\n",
    "print(sp.simplify(d1 - exp_d1) == 0, sp.simplify(d2 - exp_d2) == 0)"
   ]
  },
  {
   "cell_type": "markdown",
   "id": "23a43c97-c152-47fd-8556-a24aa3cb2370",
   "metadata": {},
   "source": [
    "As we can see, we have derived the solution of Black-Scholes PDE using Feynman-Kac as an Integral(Expectation).\n",
    "Lets also derive an analytic formula for price of a `Digital Call Option`. A Digital call option with strike $K$ and maturity $T$  whose payoff is given by:\n",
    "$$\n",
    "\\text{payoff}=\n",
    "\\begin{cases}\n",
    "1 & S_T > K \\\\\n",
    "0 & \\text{otherwise}.\n",
    "\\end{cases}\n",
    "$$ \n"
   ]
  },
  {
   "cell_type": "code",
   "execution_count": 6,
   "id": "54f38ad0-16d3-4394-a4f0-9c3b9b8c4a48",
   "metadata": {},
   "outputs": [
    {
     "data": {
      "text/latex": [
       "$\\displaystyle N{\\left(\\frac{2 T r - T \\sigma^{2} + \\log{\\left(\\frac{S^{2}}{K^{2}} \\right)}}{2 \\sqrt{T} \\sigma} \\right)} e^{- T r}$"
      ],
      "text/plain": [
       "N((2*T*r - T*sigma**2 + log(S**2/K**2))/(2*sqrt(T)*sigma))*exp(-T*r)"
      ]
     },
     "execution_count": 6,
     "metadata": {},
     "output_type": "execute_result"
    }
   ],
   "source": [
    "# Similar to above but we change the function $f$ in the integrand. \n",
    "integrand = sp.exp(-r*T)*(1/(B*sp.sqrt(2*sp.pi)))*sp.exp(-(z-A)**2/(2*B**2))\n",
    "V = sp.integrate( integrand, (z,sp.log(K),sp.oo) ).simplify()\n",
    "N = sp.Function('N')\n",
    "w = sp.Wild('w')\n",
    "V = V.replace(sp.erf(w),2*N(sp.sqrt(2)*w)-1)\n",
    "V = V.simplify()\n",
    "V"
   ]
  },
  {
   "cell_type": "markdown",
   "id": "0344739a-a9fe-40d2-bc9b-55b1f94112c5",
   "metadata": {},
   "source": [
    "So the price of digital call option is $\\mathbf{e^{-rT} N(d2)}.$"
   ]
  },
  {
   "cell_type": "markdown",
   "id": "994f75ea-66fc-43e7-856d-5e5bd6f95b30",
   "metadata": {},
   "source": [
    "## Monte Carlo Algorithm for Pricing"
   ]
  },
  {
   "cell_type": "markdown",
   "id": "e60f4fe7-3d9a-4a24-a4d1-be82307fc707",
   "metadata": {},
   "source": [
    "Monte Carlo method is especially used for pricing `Path-dependant Derivatives.` *Path-dependent* derivatives have a payoff which depends upon the whole stock price path $S_t \\in [0,T]$. Some of the examples are `Asian options, up-and-out knock-out option, up-and-in knock-in option, down-and-out knock-out option and one-touch option etc.`\n",
    "\n",
    "**Theorem:** A **path-dependent derivative** in the Black-Scholes model\n",
    "may be replicated given an initial payment of\n",
    "\n",
    "$$\n",
    "E^{\\mathbb Q}_t(e^{-r(T-t)} \\text{payoff} )\n",
    "$$\n",
    "so long as this expectation exists.  In this formula, the payoff must be computed the history of $\\tilde{S}_t$\n",
    "rather than $S_t$. This formula gives the price of the derivative.\n",
    "\n",
    "The proof of this theorem uses a suitable variation of the delta-hedging strategy to perform the replication and then applies the Feynman-Kac theorem. Martingale Representation Theorem enable us to prove that the replicating strategy exists without actually computing precisely what this replicating strategy is."
   ]
  },
  {
   "cell_type": "markdown",
   "id": "61e881bd-3d60-412c-8c60-e3cfcbe4d11a",
   "metadata": {},
   "source": [
    "### Martingale Representation Theorem\n",
    "Let $(M_t)_{t\\geq 0}$ be a martingale with respect to a filtration $(\\mathcal{F}_t)_{t\\geq 0}$. The Martingale Representation Theorem states that if $X_t$ is an integrable process that is adapted to the filtration $(\\mathcal{F}_t)_{t\\geq 0}$, then there exists a predictable process $H_t$ such that \n",
    "$$X_t = X_0 +  \\int_{0}^{t} H_s \\,dM_s $$\n",
    "Here, $X_0$ is the initial value of the process $X_t$, $H_t$ is the predictable process, and the integral $\\int_{0}^{t} H_s \\,dM_s$ is a stochastic integral with respect to the martingale $M_t$. \n",
    "\n",
    "The theorem essentially states that any integrable process adapted to a filtration can be represented as the sum of its past information (captured by the predictable process) and the random fluctuations that cannot be predicted (captured by the martingale). This theorem provides a framework for constructing trading strategies and pricing formulas based on martingale methods.\n",
    "\n",
    "Here's how the **Martingale Representation Theorem** can be used to prove the **existence of replicating strategies:**\n",
    "\n",
    "- **Framework for Pricing Derivatives**: In mathematical finance, a derivative security's price is often modeled as the expected value of its future payoffs, discounted to the present. The market is typically assumed to be arbitrage-free, meaning that it's not possible to make a riskless profit. Under these assumptions, the derivative's price must be such that no arbitrage opportunities exist.\n",
    "\n",
    "- **Martingale Pricing Theory**: In the framework of martingale pricing theory, the fundamental idea is that the discounted price process of a derivative should be a martingale under the risk-neutral probability measure. This means that the expected future value of the derivative, discounted to the present, is equal to its current value. If this condition holds, there are no arbitrage opportunities.\n",
    "\n",
    "- **Construction of the Replicating Portfolio**: The Martingale Representation Theorem allows us to express the derivative's payoff as the sum of a predictable process and a martingale. This essentially means that the derivative's future payoffs can be decomposed into two components: one that can be predicted based on available information (predictable process) and one that represents random fluctuations (martingale).\n",
    "\n",
    "- **Use in Pricing and Replication**: Suppose we have a derivative security with a known payoff structure. We can use the Martingale Representation Theorem to express its payoff as the sum of a predictable process and a martingale. Then, by constructing a portfolio that replicates the predictable part of the derivative's payoff and is hedged against the martingale part, we can replicate the derivative's payoff. This replicating portfolio allows us to construct a strategy that mimics the derivative's performance without introducing any arbitrage.\n",
    "\n",
    "- **Verification of No Arbitrage**: Once we have constructed the replicating portfolio, we can verify that it satisfies the no-arbitrage condition by ensuring that its initial cost equals the derivative's current price and that it eliminates any possibility of riskless profit.\n",
    "\n",
    "In summary, the Martingale Representation Theorem provides a theoretical underpinning for the existence of replicating strategies for derivative securities within a no-arbitrage framework, allowing practitioners to price derivatives and construct hedging strategies effectively.\n"
   ]
  },
  {
   "cell_type": "markdown",
   "id": "14e3fe9b-e3e7-4c7a-b265-232627021fc2",
   "metadata": {},
   "source": [
    "### Monte Carlo Pricing Algorithm\n",
    "\n",
    "To estimate the price of the derivatives by Monte Carlo we do the following:\n",
    "\n",
    "1. Performing a simulation in the ${\\mathbb Q}$-measure.\n",
    "2. Computing the resulting payoff using $\\tilde{S}_t$ instead of $S_t$.\n",
    "3. Take the average and discount it by $e^{-rT}$(i.e. Taking $\\mathbb E$ and Discounting)."
   ]
  },
  {
   "cell_type": "markdown",
   "id": "1cb8b0ad-db75-43cb-8ff6-c58c9586001a",
   "metadata": {},
   "source": [
    "Lets price an Asian Call option in Black-Scholes Model using Monte Carlo with following parameters:\n",
    "$$S_0 = 100, r = 0.05, \\sigma = 0.25, T = 1$$\n",
    "An *Asian* call option with maturity $T$ and strike $K$ has payoff given by $\\max\\{ \\overline{S} - K, 0\\}$ where $\\overline{S}$ is the average value of $S$. We must pass $r$ as drift $\\mu$ since we are performing simulation in the ${\\mathbb Q}$-measure using Monte Carlo."
   ]
  },
  {
   "cell_type": "code",
   "execution_count": 7,
   "id": "3964afc8-6c67-42b5-9d94-8f7fe20f3603",
   "metadata": {},
   "outputs": [
    {
     "name": "stdout",
     "output_type": "stream",
     "text": [
      "The price of the Asian call option is estimated as £4.62.\n"
     ]
    }
   ],
   "source": [
    "import mathfinance as mf \n",
    "import scipy.stats\n",
    "\n",
    "def monte_carlo_pricer( S0, r, sigma, T, n_steps, n_paths, payoff_function ):\n",
    "    \"\"\"Returns Price and Confidence Interval.\"\"\"\n",
    "    S_twiddle, times = mf.simulate_gbm_paths(S0, r, sigma, T, n_steps, n_paths )\n",
    "    payoffs = payoff_function(S_twiddle)  # Payoff Vector.\n",
    "    p = 99\n",
    "    alpha = scipy.stats.norm.ppf((1-p/100)/2)\n",
    "    price = np.exp(-r*T)*np.mean( payoffs )  # Expectation of discounted payoff.\n",
    "    sigma_sample = np.exp(-r*T) * np.std( payoffs )\n",
    "    lower = price + alpha*sigma_sample/np.sqrt(n_paths)\n",
    "    upper = price - alpha*sigma_sample/np.sqrt(n_paths)\n",
    "    return  price, lower, upper\n",
    "\n",
    "def asian_call_payoff( S, K ):\n",
    "    \"\"\"Returns Payoff Vector.\"\"\"\n",
    "    S_bar = np.mean(S,axis=1)  # S_bar is average over time points i.e. rows so axis = 1.\n",
    "    return np.maximum( S_bar-K, 0 )\n",
    "\n",
    "def price_asian_call_monte_carlo( S0, r, sigma, K, T, n_steps, n_paths ):\n",
    "    def payoff_fn(S):\n",
    "        return asian_call_payoff(S,K)\n",
    "    return monte_carlo_pricer(S0, r, sigma, T, n_steps, n_paths, payoff_fn )\n",
    "\n",
    "K = 105; T = 1;\n",
    "S0 = 100; r = 0.05; sigma = 0.25\n",
    "n_steps = 365; n_paths = 100000;\n",
    "\n",
    "price,low,high = price_asian_call_monte_carlo(S0,r,sigma,K, T, T*365, n_paths)\n",
    "print(f\"The price of the Asian call option is estimated as £{price:.2f}.\")"
   ]
  },
  {
   "cell_type": "markdown",
   "id": "36c358da-152b-49b6-9f6e-bc4655706f73",
   "metadata": {},
   "source": [
    "## Estimate Accuracy of Monte Carlo Algorithm.\n",
    "Using the Central Limit Theorem, We can measure the error in our price estimation.\n",
    "\n",
    "Let $\\mu_\\text{sample}$ denote the sample mean of\n",
    "$$e^{-rT} \\text{payoff} $$\n",
    "and let $\\sigma_\\text{sample}$ denote the sample standard deviation. Let us assume that this is a reasonable estimate for the true standard deviation(i.e. Population Standard Deviation).\n",
    "We can construct a confidence interval for the expectation using the Central Limit Theorem in the usual way.\n",
    "So the $2$-sided $p$-% confidence interval will be:\n",
    "$$\n",
    "\\boxed{\\mu_{\\text{sample}} \\pm \\frac{\\sigma_\\text{sample}}{\\sqrt{n}} \\underbrace{N^{-1}\\left(\\frac{1-\\frac{p}{100}}{2}\\right)}_{\\alpha}} \n",
    "$$\n",
    "where $n$ is the number of sample paths. $p\\% = 95\\%$ confidence interval means $[0.025,0.975]$."
   ]
  },
  {
   "cell_type": "code",
   "execution_count": 8,
   "id": "32ed375b-989e-4f6f-87b6-16a9917de8c8",
   "metadata": {
    "jupyter": {
     "source_hidden": true
    },
    "tags": []
   },
   "outputs": [
    {
     "data": {
      "image/png": "[encoded data removed]",
      "text/plain": [
       "<Figure size 1080x504 with 1 Axes>"
      ]
     },
     "metadata": {},
     "output_type": "display_data"
    }
   ],
   "source": [
    "import matplotlib.pyplot as plt\n",
    "plt.rcParams['figure.figsize'] = [15,7]\n",
    "\n",
    "mu = 5  # Sample Mean.\n",
    "sigma = 1  # Sample Standard deviation.\n",
    "x = np.linspace(mu - 4*sigma, mu + 4*sigma, 1000)\n",
    "\n",
    "# Calculate the PDF (Probability Density Function) for normal distribution.\n",
    "pdf = scipy.stats.norm.pdf(x, mu, sigma)\n",
    "\n",
    "plt.plot(x, pdf)\n",
    "plt.axvline(mu, color='r', linestyle='--', label='$\\mu_{\\text{sample}}$')\n",
    "plt.axvline(mu + sigma, color='r', linestyle='--', label='μ + σ')\n",
    "plt.axvline(mu - sigma, color='r', linestyle='--', label='μ - σ')\n",
    "plt.annotate(\"\", xy=(mu + sigma, 0.2), xytext=(mu, 0.2),arrowprops=dict(arrowstyle=\"<->\", color='purple'))\n",
    "plt.annotate(\"\", xy=(mu - sigma, 0.2), xytext=(mu, 0.2),arrowprops=dict(arrowstyle=\"<->\", color='purple'))\n",
    "plt.text(mu, 0, '$\\mu$', fontsize = 15)\n",
    "plt.text(mu + sigma, 0, '$(\\mu + \\sigma)$', fontsize = 15)\n",
    "plt.text(mu - sigma, 0, '$(\\mu - \\sigma)$', fontsize = 15)\n",
    "plt.title('Confidence Interval around sample $\\mu$ using multiple of $\\sigma$.',fontsize = 15)\n",
    "plt.xticks([])\n",
    "plt.yticks([])\n",
    "plt.show()"
   ]
  },
  {
   "cell_type": "code",
   "execution_count": 9,
   "id": "2e94a751-4849-4bfb-a0ae-8e107a6f0844",
   "metadata": {},
   "outputs": [
    {
     "name": "stdout",
     "output_type": "stream",
     "text": [
      "Confidence interval=[4.55,4.69] for Asian Call Option.\n"
     ]
    }
   ],
   "source": [
    "print(f'Confidence interval=[{low:.2f},{high:.2f}] for Asian Call Option.')"
   ]
  },
  {
   "cell_type": "markdown",
   "id": "68645c48-e4cd-41d5-b546-26d0b5371f3a",
   "metadata": {},
   "source": [
    "### Limitations of Monte Carlo Method\n",
    "Monte Carlo method for pricing is easy to implement. It can be slow, but for general multidimensional models there isn't a faster alternative, even to price European call options. Another limitation of Monte Carlo pricing is that you cannot price **American options**. Because the payoff depends on the behaviour of the option holder as well as the stock price, these cannot be priced by the Monte Carlo algorithm we have given. You can use finite difference methods or Binomial model to price American options."
   ]
  },
  {
   "cell_type": "markdown",
   "id": "3e918bb3-23f0-4386-b841-7bf750e6b5de",
   "metadata": {},
   "source": [
    "#### Pricing Digital Call Option\n",
    "Lets write a function to price a digital Call Option with strike $K$ in the Black Scholes model by Monte Carlo method using $99\\%$ confidence interval and check this price with the Analytical Formula. Recall, price of digital call option was derived above as $\\mathbf{e^{-rT} N(d2)}.$"
   ]
  },
  {
   "cell_type": "code",
   "execution_count": 10,
   "id": "4af3b0e0-c027-4bc6-8089-a420690bdfc0",
   "metadata": {},
   "outputs": [
    {
     "name": "stdout",
     "output_type": "stream",
     "text": [
      "The price of the Digital call option is estimated as £0.4660.\n",
      "Confidence interval=[0.4649,0.4672] for Digital Call Option.\n",
      "The price of the Digital call option using analytical formula is £0.4667.\n",
      "The difference in price calculated by Monte Carlo compared to true price is 0.0006768575210279737.\n"
     ]
    }
   ],
   "source": [
    "def digital_call_payoff(S, K):\n",
    "    \"\"\"Returns Payoff Vector of ones or zeros.\"\"\"\n",
    "    S_T = S[:,-1]  # Final value of Stock price at time T.\n",
    "    payoff = S_T>K\n",
    "    return payoff\n",
    "\n",
    "def price_digital_call_monte_carlo(S0, r, sigma, K, T, n_steps, n_paths):\n",
    "    def payoff_fn(S):\n",
    "        return digital_call_payoff(S,K)\n",
    "    return monte_carlo_pricer(S0, r, sigma, T, n_steps, n_paths, payoff_fn) \n",
    "\n",
    "def digital_call_price_black_scholes(S, r, sigma, K, T, t=0):\n",
    "    \"\"\"Analytical Price of Digital Call using Black Scholes formula.\"\"\"\n",
    "    d1,d2 = mf.compute_d1_and_d2( S, t, K, T, r, sigma)\n",
    "    price = np.exp(-r*T) * scipy.stats.norm.cdf(d2)\n",
    "    return price\n",
    "\n",
    "S0 = 100\n",
    "r = 0.05\n",
    "sigma = 0.2\n",
    "K = 105\n",
    "T = 2\n",
    "n_steps = 1\n",
    "n_paths = 1000000\n",
    "\n",
    "price,low,high = price_digital_call_monte_carlo(S0,r,sigma,K, T, n_steps, n_paths)\n",
    "assert low<high\n",
    "print(f\"The price of the Digital call option is estimated as £{price:.4f}.\")\n",
    "print(f'Confidence interval=[{low:.4f},{high:.4f}] for Digital Call Option.')\n",
    "\n",
    "true_price = digital_call_price_black_scholes(S0,r,sigma,K,T)\n",
    "assert low<true_price\n",
    "assert true_price<high\n",
    "print(f\"The price of the Digital call option using analytical formula is £{true_price:.4f}.\")\n",
    "\n",
    "error = np.abs(true_price - price)\n",
    "assert error<0.001\n",
    "print(f\"The difference in price calculated by Monte Carlo compared to true price is {error}.\")"
   ]
  },
  {
   "cell_type": "markdown",
   "id": "37de5c0b-2a92-45d6-96b7-bc7dff24146e",
   "metadata": {},
   "source": [
    "Note that we have set *n_steps = 1*. This has lead to faster computation of the call price. However, increasing the number of steps in the Monte Carlo simulation, you do not increase the accuracy of the computation of the option price. This is because we can simulate $S_T$ perfectly using only one time step as we have perfectly solved the SDE."
   ]
  },
  {
   "cell_type": "markdown",
   "id": "86e3318d-e573-46f6-a2c9-29aeba8df488",
   "metadata": {},
   "source": [
    "## Writing Test functions for Monte Carlo Pricer\n",
    "Any code that isn't well tested is normally wrong. When you don't have analytical formula to compare your option price with for eg. Asian Option, we cannot be sure if our Monte Carlo price is correct.\n",
    "\n",
    "`Idea: The strategy is to write more general code that can price any derivative and test it with derivatives\n",
    "where we know the analytical price like vanilla Calls and Puts. We'll then be confident that our more general code works.`\n",
    "\n",
    "We have already written a general `monte_carlo_pricer` function which takes *payoff function* as one of its parameters. This function takes the matrix *S_twiddle* whose rows correspond to paths/scenarios and whose columns correspond to time points and compute the payoff in each scenario. To ensure our function `monte_carlo_pricer` is well-tested and can be used to price a broad range of exotic derivatives in the Black-Scholes model, we test it with simple case of Vanilla Call and Vanilla Put Options."
   ]
  },
  {
   "cell_type": "markdown",
   "id": "80123950-a1c0-4712-b881-4797f8853a8c",
   "metadata": {},
   "source": [
    "### Testing Monte Carlo Pricer with a Vanilla Call and Vanilla Put Option\n",
    "The parameters for the test are $\\mathbf{K = 120}$; $\\mathbf{T = 1}$; $\\mathbf{S_0 = 100}$; $\\mathbf{r = 0.04}$; $\\mathbf{\\sigma = 0.20}$;\n",
    "**number of steps = 365; number of paths = 100000**."
   ]
  },
  {
   "cell_type": "code",
   "execution_count": 11,
   "id": "ebd686e9-3d07-4703-9673-5cba265915cc",
   "metadata": {},
   "outputs": [],
   "source": [
    "# Values used in tests: S0, r, sigma, T, K, n_steps, n_paths.\n",
    "S0 = 100\n",
    "r = 0.04\n",
    "sigma = 0.20\n",
    "T = 1\n",
    "K = 120\n",
    "n_steps = 365\n",
    "n_paths = 100000\n",
    "\n",
    "# Testing with Vanilla Call.\n",
    "def price_call_monte_carlo(S0, r, sigma, K, T, n_steps, n_paths):\n",
    "    # Defining the payoff function for European Call. \n",
    "    def payoff_fn( S ):\n",
    "        \"\"\" Takes an array of stock price as input and outputs payoff. \"\"\"\n",
    "        S_T = S[:,-1]\n",
    "        payoff = np.maximum(S_T-K, 0)\n",
    "        return payoff\n",
    "    return monte_carlo_pricer(S0, r, sigma, T, n_steps, n_paths, payoff_fn)\n",
    "\n",
    "def test_price_call_monte_carlo():\n",
    "    np.random.seed(0)\n",
    "    # Only one step is needed to price a Call option, hence n_steps = 1.\n",
    "    price,low,high = price_call_monte_carlo(S0, r,sigma,K, T,1, n_paths)  # Price and Confidence Interval.\n",
    "    true_price = mf.blackscholes(r, S0, K, T, sigma, t=0, type=\"call\")  # Actual price using Black Scholes Analytical formula.\n",
    "    error = np.abs(true_price - price)\n",
    "    # Checking whether Analytical BS price lies within Confidence Interval. \n",
    "    assert low<true_price\n",
    "    assert true_price<high\n",
    "    assert error<0.1\n",
    "        \n",
    "# Testing with Vanilla Put.\n",
    "def price_put_monte_carlo( S0, r, sigma, K, T, n_steps, n_paths ):\n",
    "    # Defining the payoff function for European Put. \n",
    "    def payoff_fn( S ):\n",
    "        \"\"\" Takes an array of stock price as input and outputs payoff. \"\"\"\n",
    "        S_T = S[:,-1]\n",
    "        payoff = np.maximum( K-S_T, 0 )\n",
    "        return payoff\n",
    "    return monte_carlo_pricer(S0, r, sigma, T, n_steps, n_paths, payoff_fn)\n",
    "\n",
    "def test_price_put_monte_carlo():\n",
    "    np.random.seed(0)\n",
    "    # Only one step is needed to price a Put option, hence n_steps = 1.\n",
    "    price,low,high = price_put_monte_carlo(S0, r,sigma,K, T,1, n_paths)  # Price and Confidence Interval.\n",
    "    true_price = mf.blackscholes(r, S0, K, T, sigma, t=0, type=\"put\")  # Actual price using Black Scholes Analytical formula.\n",
    "    error = np.abs(true_price - price) \n",
    "    # Checking whether Analytical BS price lies within Confidence Interval. \n",
    "    assert low<true_price\n",
    "    assert true_price<high\n",
    "    assert error<0.1\n",
    "          \n",
    "test_price_call_monte_carlo()\n",
    "test_price_put_monte_carlo()"
   ]
  },
  {
   "cell_type": "markdown",
   "id": "f4454c0b-b4c8-49d5-8ce3-37027990db00",
   "metadata": {},
   "source": [
    "We can now be **confident that our Monte Carlo Pricer is well tested** and the price of the Asian option is accurate to the $99\\%$ confidence interval. Since, Asian options does not have an Analytical formula to compare it with, we will only write test function for its payoff function."
   ]
  },
  {
   "cell_type": "code",
   "execution_count": 12,
   "id": "b166a3e4-0088-4eb3-9e71-78ea7f4c2e63",
   "metadata": {},
   "outputs": [],
   "source": [
    "def test_asian_call_payoff():\n",
    "    np.random.seed(0)\n",
    "    S = np.array([[3,7,2],[1,2,3],[3,4,2],[1,1,1]])\n",
    "    payoffs = asian_call_payoff(S,2)    # S_bar -K.\n",
    "    expected = np.array([2,0,1,0])\n",
    "    # Using function from numpy testing module. This function is particularly useful when dealing with floating-point numbers \n",
    "    # where exact equality checks might fail due to numerical imprecision.\n",
    "    np.testing.assert_almost_equal( payoffs, expected, decimal=7)\n",
    "    \n",
    "test_asian_call_payoff() "
   ]
  },
  {
   "cell_type": "markdown",
   "id": "7038bdae-cdfe-41d7-9e74-97d827c46833",
   "metadata": {},
   "source": [
    "Lets also write test functions for digital call function."
   ]
  },
  {
   "cell_type": "code",
   "execution_count": 13,
   "id": "36cd5172-97ec-4535-a68c-e691d7ff5733",
   "metadata": {},
   "outputs": [],
   "source": [
    "def test_digital_call_price_black_scholes():\n",
    "    np.random.seed(0)\n",
    "    price = digital_call_price_black_scholes(S0,r,sigma,K,T)\n",
    "    expected = np.exp(-r*T) * scipy.stats.norm.cdf(1/(sigma*np.sqrt(T))*(np.log(S0/K)+(r-0.5*sigma**2)*T))\n",
    "    np.testing.assert_almost_equal( price, expected, decimal=7)\n",
    "    \n",
    "def test_price_digital_call_monte_carlo():\n",
    "    np.random.seed(0)\n",
    "    # Only one step is needed to price a Digital Call, hence n_steps = 1.\n",
    "    price,low,high = price_digital_call_monte_carlo(S0, r,sigma,K, T,1, n_paths)  # Price and Confidence Interval.\n",
    "    true_price = digital_call_price_black_scholes(S0,r,sigma,K,T)  # Actual price using Black Scholes Analytical formula.\n",
    "    error = np.abs(true_price - price) \n",
    "    # Checking whether Analytical BS price lies within Confidence Interval. \n",
    "    assert low<true_price\n",
    "    assert true_price<high\n",
    "    assert error<0.1\n",
    "    \n",
    "test_digital_call_price_black_scholes()\n",
    "test_price_digital_call_monte_carlo() "
   ]
  },
  {
   "cell_type": "markdown",
   "id": "d0a2b84f-ca41-4120-9a13-2373ec478acc",
   "metadata": {},
   "source": [
    "### Pricing Knock-out Call Option\n",
    "Lets write a function to price a **Up-and-out Knock-out Call Option**. This is an option in the Black Scholes model with maturity $T$, strike $K$ and barrier $B$ whose payoff is given by\n",
    "$$\n",
    "\\text{payoff}=\n",
    "\\begin{cases}\n",
    "\\max\\{S_T - K, 0\\} & S_t < B \\text{ for all } t \\in [0,T]\\\\\n",
    "0 & \\text{otherwise}.\n",
    "\\end{cases}\n",
    "$$"
   ]
  },
  {
   "cell_type": "code",
   "execution_count": 14,
   "id": "09ec2543-0a96-4459-91e7-61391fa75bb5",
   "metadata": {},
   "outputs": [
    {
     "name": "stdout",
     "output_type": "stream",
     "text": [
      "The price of a Up-and-out Knock-out Call Option is estimated as £0.0209.\n",
      "Confidence interval = [0.0189,0.0230] for Up-and-out Knock-out Call Option.\n"
     ]
    }
   ],
   "source": [
    "def up_and_out_knockout_call_payoff(S, K, B):\n",
    "    \"\"\"Returns Payoff Vector.\"\"\"\n",
    "    S_T = S[:,-1]  # Final value of Stock price at time T. \n",
    "    highest_price = np.max(S,axis=1)\n",
    "    payoff = np.where(highest_price >= B, 0, np.maximum(S_T - K, 0))\n",
    "    return payoff\n",
    "\n",
    "def price_up_and_out_knockout_call_monte_carlo(S0, r, sigma, K, B, T, n_steps, n_paths):\n",
    "    def payoff_fn(S):\n",
    "        return up_and_out_knockout_call_payoff(S,K,B)\n",
    "    return monte_carlo_pricer(S0, r, sigma, T, n_steps, n_paths, payoff_fn) \n",
    "\n",
    "def test_up_and_out_knockout_call_payoff():\n",
    "    np.random.seed(0)\n",
    "    S = np.array([[95, 100, 105, 108, 110, 107, 109],[102, 105, 95, 100, 108, 107, 108]])\n",
    "    payoffs = up_and_out_knockout_call_payoff(S,K=102,B=109)   \n",
    "    expected = np.array([0,6])\n",
    "    np.testing.assert_almost_equal( payoffs, expected, decimal=7)\n",
    "\n",
    "# Implementation.\n",
    "test_up_and_out_knockout_call_payoff()  \n",
    "\n",
    "K = 105; T = 1; B = 111\n",
    "S0 = 100; r = 0.05; sigma = 0.25\n",
    "n_steps = 365; n_paths = 100000;\n",
    "price,low,high = price_up_and_out_knockout_call_monte_carlo(S0,r,sigma,K, B, T, n_steps, n_paths)\n",
    "print(f\"The price of a Up-and-out Knock-out Call Option is estimated as £{price:.4f}.\")\n",
    "print(f'Confidence interval = [{low:.4f},{high:.4f}] for Up-and-out Knock-out Call Option.')"
   ]
  },
  {
   "cell_type": "markdown",
   "id": "1d4d26f4-1b6f-4967-ad33-f5f998e7f03c",
   "metadata": {},
   "source": [
    "A **Down-and-out Knock-out Call Option** with maturity $T$, strike $K$ and barrier $B$ has payoff given by\n",
    "$$\n",
    "\\text{payoff}=\n",
    "\\begin{cases}\n",
    "\\max\\{S_T - K, 0\\} & S_t > B \\text{ for all } t \\in [0,T]\\\\\n",
    "0 & \\text{otherwise}.\n",
    "\\end{cases}\n",
    "$$"
   ]
  },
  {
   "cell_type": "code",
   "execution_count": 15,
   "id": "ca9d51ad-aafa-46e1-8ba2-2a6536d63b43",
   "metadata": {},
   "outputs": [
    {
     "name": "stdout",
     "output_type": "stream",
     "text": [
      "The price of a Down-and-out Knock-out Call Option is estimated as £2.6722.\n",
      "Confidence interval = [2.5840,2.7604] for Down-and-out Knock-out Call Option.\n"
     ]
    }
   ],
   "source": [
    "def down_and_out_knockout_call_payoff(S, K, B):\n",
    "    \"\"\"Returns Payoff Vector.\"\"\"\n",
    "    S_T = S[:,-1]  # Final value of Stock price at time T. \n",
    "    lowest_price = np.min(S,axis=1)\n",
    "    payoff = np.where(lowest_price <= B, 0, np.maximum(S_T - K, 0))\n",
    "    return payoff\n",
    "\n",
    "def price_down_and_out_knockout_call_monte_carlo(S0, r, sigma, K, B, T, n_steps, n_paths):\n",
    "    def payoff_fn(S):\n",
    "        return down_and_out_knockout_call_payoff(S,K,B)\n",
    "    return monte_carlo_pricer(S0, r, sigma, T, n_steps, n_paths, payoff_fn) \n",
    "\n",
    "def test_down_and_out_knockout_call_payoff():\n",
    "    np.random.seed(0)\n",
    "    S = np.array([[95, 100, 105, 108, 110, 107, 109],[102, 105, 101, 100, 108, 107, 108]])\n",
    "    payoffs = down_and_out_knockout_call_payoff(S,K=105,B=94)   \n",
    "    expected = np.array([4,3])\n",
    "    np.testing.assert_almost_equal( payoffs, expected, decimal=7)\n",
    "    \n",
    "# Implementation.\n",
    "test_down_and_out_knockout_call_payoff()  \n",
    "\n",
    "K = 107; T = 1; B = 98\n",
    "S0 = 100; r = 0.05; sigma = 0.25\n",
    "n_steps = 365; n_paths = 100000;\n",
    "price,low,high = price_down_and_out_knockout_call_monte_carlo(S0,r,sigma,K, B, T, n_steps, n_paths)\n",
    "print(f\"The price of a Down-and-out Knock-out Call Option is estimated as £{price:.4f}.\")\n",
    "print(f'Confidence interval = [{low:.4f},{high:.4f}] for Down-and-out Knock-out Call Option.')"
   ]
  },
  {
   "cell_type": "markdown",
   "id": "d80e9679-2d29-439d-a9d9-589c21f2b311",
   "metadata": {},
   "source": [
    "### Pricing Knock-in Call Option\n",
    "Lets write a function to price a **Up-and-in Knock-in Call Option**. This is an option in the Black Scholes model with maturity $T$, strike $K$ and barrier $B$ whose payoff is given by\n",
    "$$\n",
    "\\text{payoff}=\n",
    "\\begin{cases}\n",
    "0 & S_t < B \\text{ for all }t \\in [0,T] \\\\\n",
    "\\max\\{S_T - K, 0\\}  & \\text{otherwise}.\n",
    "\\end{cases}\n",
    "$$"
   ]
  },
  {
   "cell_type": "code",
   "execution_count": 16,
   "id": "91991d1b-399b-4697-9620-6c277d6298bf",
   "metadata": {},
   "outputs": [
    {
     "name": "stdout",
     "output_type": "stream",
     "text": [
      "The price of an Up-and-in Knock-in Call Option is estimated as £9.9801.\n",
      "Confidence interval = [9.8415,10.1187] for Up-and-in Knock-in Call Option.\n"
     ]
    }
   ],
   "source": [
    "def up_and_in_knockin_call_payoff(S, K, B):\n",
    "    \"\"\"Returns Payoff Vector.\"\"\"\n",
    "    S_T = S[:,-1]  # Final value of Stock price at time T. \n",
    "    highest_price = np.max(S,axis=1)\n",
    "    payoff = np.where(highest_price < B, 0, np.maximum(S_T - K, 0))\n",
    "    return payoff\n",
    "\n",
    "def price_up_and_in_knockin_call_monte_carlo(S0, r, sigma, K, B, T, n_steps, n_paths):\n",
    "    def payoff_fn(S):\n",
    "        return up_and_in_knockin_call_payoff(S,K,B)\n",
    "    return monte_carlo_pricer(S0, r, sigma, T, n_steps, n_paths, payoff_fn) \n",
    "\n",
    "def test_up_and_in_knockin_call_payoff():\n",
    "    np.random.seed(0)\n",
    "    S = np.array([[95, 100, 105, 108, 110, 107, 109],[102, 105, 95, 100, 108, 107, 108]])\n",
    "    payoffs = up_and_in_knockin_call_payoff(S,K=102,B=109)   \n",
    "    expected = np.array([7,0])\n",
    "    np.testing.assert_almost_equal( payoffs, expected, decimal=7)\n",
    "\n",
    "# Implementation.\n",
    "test_up_and_in_knockin_call_payoff() \n",
    "\n",
    "K = 105; T = 1; B = 111\n",
    "S0 = 100; r = 0.05; sigma = 0.25\n",
    "n_steps = 365; n_paths = 100000;\n",
    "price,low,high = price_up_and_in_knockin_call_monte_carlo(S0, r, sigma, K, B, T, n_steps, n_paths)\n",
    "print(f\"The price of an Up-and-in Knock-in Call Option is estimated as £{price:.4f}.\")\n",
    "print(f'Confidence interval = [{low:.4f},{high:.4f}] for Up-and-in Knock-in Call Option.')"
   ]
  },
  {
   "cell_type": "markdown",
   "id": "360aeb28-6a03-40ce-8cc0-090dc7e170be",
   "metadata": {},
   "source": [
    "### Pricing One-touch Option\n",
    "Lets write a function to price a **One-touch Option**. This is an option in the Black Scholes model with maturity $T$ and barrier $B$ whose payoff is given by\n",
    "$$\n",
    "\\text{payoff}=\n",
    "\\begin{cases} \n",
    "1, & \\text{if } S_t \\geq B\\text{ for all }t \\in [0,T] \\\\\n",
    "0, & \\text{otherwise}\n",
    "\\end{cases}\n",
    "$$"
   ]
  },
  {
   "cell_type": "code",
   "execution_count": 17,
   "id": "6e9492e7-58bb-4403-909f-4c4b5d653e90",
   "metadata": {},
   "outputs": [
    {
     "name": "stdout",
     "output_type": "stream",
     "text": [
      "The price of an One-touch Option is estimated as £0.3631.\n",
      "Confidence interval = [0.3593,0.3668] for One-touch Option.\n"
     ]
    }
   ],
   "source": [
    "def one_touch_payoff(S, B):\n",
    "    \"\"\"Returns Payoff Vector of ones or zeros.\"\"\"\n",
    "    highest_price = np.max(S,axis=1)\n",
    "    payoff = np.where(highest_price >= B, 1, 0)\n",
    "    return payoff\n",
    "\n",
    "def price_one_touch_monte_carlo(S0, r, sigma, B, T, n_steps, n_paths):\n",
    "    def payoff_fn(S):\n",
    "        return one_touch_payoff(S, B)\n",
    "    return monte_carlo_pricer(S0, r, sigma, T, n_steps, n_paths, payoff_fn) \n",
    "\n",
    "def test_one_touch_payoff():\n",
    "    np.random.seed(0)\n",
    "    S = np.array([[95, 100, 105, 108, 110, 107, 109],[102, 105, 95, 100, 108, 107, 108]])\n",
    "    payoffs = one_touch_payoff(S, B=110)\n",
    "    expected = np.array([1,0])\n",
    "    np.testing.assert_almost_equal( payoffs, expected, decimal=7)\n",
    "\n",
    "# Implementation.\n",
    "test_one_touch_payoff()\n",
    "\n",
    "T = 1; B = 125\n",
    "S0 = 100; r = 0.05; sigma = 0.25\n",
    "n_steps = 365; n_paths = 100000;\n",
    "price,low,high = price_one_touch_monte_carlo(S0, r, sigma, B, T, n_steps, n_paths)\n",
    "print(f\"The price of an One-touch Option is estimated as £{price:.4f}.\")\n",
    "print(f'Confidence interval = [{low:.4f},{high:.4f}] for One-touch Option.')"
   ]
  },
  {
   "cell_type": "markdown",
   "id": "f4948a1f-7fb1-4a70-9569-dcdf72163f05",
   "metadata": {},
   "source": [
    "## Computing Greeks using Monte Carlo\n",
    "### Monte Carlo Greeks: Finite Difference\n",
    "Greeks are sensitivity of price of derivative $V$ to changes in Parameters. It is very important to be able to calculate the Greeks for Risk management. A trader will need to know the delta of a derivative in order to carry out the replication strategy.\n",
    "\n",
    "Lets denote $\\theta$ for the each of the parameters of the model as general. So, with $V(\\theta)$ continuous and at least twice differentiable, we have for any $\\Delta\\theta >0$ using Taylor expansion:\n",
    "$$\n",
    "V(\\theta + \\Delta\\theta) = V(\\theta) + \\frac{\\partial V}{\\partial \\theta}\\Delta\\theta + \\frac {1}{2} \\frac{\\partial^2 V}{\\partial \\theta^2}\\Delta\\theta^2 + \\cdots\n",
    "$$\n",
    "\n",
    "In the **Monte Carlo Framework**, the sensitivity to $\\theta$ is estimated using **Forward Difference** as:\n",
    "\n",
    "$$\n",
    "\\frac{\\partial V}{\\partial \\theta} \\approx \\frac{\\bar{V}(\\theta + \\Delta\\theta) - \\bar{V}(\\theta)}{\\Delta\\theta}\\\\\n",
    "\\text{where } \\bar{V} = \\frac{1}{N} \\sum_{i=1}^{N} V_i(\\theta)\n",
    "$$\n",
    "\n",
    "We can also estimate the sensitivity to $\\theta$ using **Central Difference** as:\n",
    "\n",
    "$$\n",
    "\\frac{\\partial V}{\\partial \\theta} = \\frac{\\bar{V}(\\theta + \\Delta\\theta) - \\bar{V}(\\theta - \\Delta\\theta)}{2\\Delta\\theta} + \\mathcal{O}(\\Delta\\theta^2)\\qquad (\\Phi)\n",
    "$$\n",
    "\n",
    "If we were to use **Monte Carlo Finite Difference using Central difference** approach to calculate Greeks then, we first calculate Expected value of discounted Payoff with parameter $\\theta$ which is perturbed/shocked with $\\Delta\\theta$ i.e. $\\bar{V}(\\theta + \\Delta\\theta)$. We do the same with $\\bar{V}(\\theta - \\Delta\\theta)$. Then we use the above formula $(\\Phi)$.\n",
    "\n",
    "#### Delta using Monte Carlo Finite Difference\n",
    "There is a benefit to using Central Difference over Forward difference for $\\Delta\\theta<<0$. Let $\\Delta\\theta = h$. To compute the Delta of an option by Monte Carlo we should choose a reasonably small value of $h$ (say $h=S_0 \\times 10^{-5}$) and compute the price of the option when the first simulated stock price satisfies $\\tilde{S}_0=S_0-h$ and also when $\\tilde{S}_0=S_0+h$ but using the same scenarios for $W^{\\mathbb Q}_t$ in both simulations. We can then estimate the Delta using the central difference estimate for the derivative. Lets write a function to compute the delta of a call option by Monte Carlo.\n",
    "\n",
    "Note: For the central difference we will use the following trick.\n",
    "Suppose that $X$ and $Y$ are two random variables and we wish to estimate the difference $E(X-Y)$. We will **not** estimate $E(X)$ by a simulation of $X$, then estimate $E(Y)$ using a simulation of $Y$, then compute the difference. The reason is that each estimate is just an estimate and so will contain some random error. The correct approach is to simulate $X-Y$ directly or equivalently simulate $X$ and $Y$ separately but using the same scenarios in each simulation. One can then compute $E(X-Y)$ by taking the difference of the averages of $X$ and $Y$."
   ]
  },
  {
   "cell_type": "code",
   "execution_count": 18,
   "id": "7728afb6-4e74-4aa2-9b73-90384028d76c",
   "metadata": {},
   "outputs": [],
   "source": [
    "def delta_monte_carlo( S0, r, sigma, T, n_steps, n_paths, payoff_function ):\n",
    "    h = S0*10**(-5)\n",
    "    S_twiddle, times = mf.simulate_gbm_paths(S0, r, sigma, T, n_steps, n_paths )\n",
    "    paths_for_S_minus_h = S_twiddle/S0*(S0-h)\n",
    "    paths_for_S_plus_h = S_twiddle/S0*(S0+h)\n",
    "    payoffs_S_plus_h = np.exp(-r*T)*payoff_function(paths_for_S_plus_h)\n",
    "    payoffs_S_minus_h = np.exp(-r*T)*payoff_function(paths_for_S_minus_h)\n",
    "    samples = (payoffs_S_plus_h-payoffs_S_minus_h)/(2*h)\n",
    "    p = 99\n",
    "    alpha = scipy.stats.norm.ppf((1-p/100)/2)\n",
    "    delta = np.mean( samples )  # Computes Delta.\n",
    "    sigma_sample = np.std( samples )  # Standard deviation of Delta.\n",
    "    lower = delta + alpha*sigma_sample/np.sqrt(n_paths)\n",
    "    upper = delta - alpha*sigma_sample/np.sqrt(n_paths)\n",
    "    return lower, upper\n",
    "\n",
    "def delta_call_confidence_interval_monte_carlo( S0, r, sigma, K, T, n_paths ):\n",
    "    def call_payoff( S ):\n",
    "        S_T = S[:,-1]\n",
    "        return np.maximum( S_T-K, 0 )\n",
    "    return delta_monte_carlo(S0, r, sigma, T, 1, n_paths, call_payoff )"
   ]
  },
  {
   "cell_type": "code",
   "execution_count": 22,
   "id": "f13b4457-7a1c-4cd7-8988-38609ca7d9df",
   "metadata": {},
   "outputs": [
    {
     "name": "stdout",
     "output_type": "stream",
     "text": [
      "0.5551967241458239 0.549367537175375\n"
     ]
    }
   ],
   "source": [
    "def delta_call_monte_carlo( S0, r, sigma, K, T, n_paths ):\n",
    "    low, high = delta_call_confidence_interval_monte_carlo(S0, r, sigma, K, T, n_paths )\n",
    "    return 0.5*(low+high)  # Taking Average of the Confidence Interval.\n",
    "\n",
    "def test_delta_call_monte_carlo():\n",
    "    np.random.seed(0)\n",
    "    K = 105; T = 1;\n",
    "    S0 = 100; r = 0.05; sigma = 0.25\n",
    "    n_paths = 100000;\n",
    "    low,high = delta_call_confidence_interval_monte_carlo(S0, r,sigma,K, T, n_paths)\n",
    "    bs_delta = mf.black_scholes_call_delta(S0,0,K,T,r,sigma)\n",
    "    assert low<bs_delta\n",
    "    assert bs_delta<high\n",
    "    \n",
    "test_delta_call_monte_carlo()\n",
    "# Some More Test.\n",
    "K = 105; T = 1;\n",
    "S0 = 100; r = 0.05; sigma = 0.25\n",
    "n_paths = 100000;\n",
    "d1 = delta_call_monte_carlo(S0,r,sigma,K,T,n_paths)  # Delta simulation 1.\n",
    "d2 = delta_call_monte_carlo(S0,r,sigma,K,T,n_paths)  # Delta simulation 2.\n",
    "assert d1>0.53\n",
    "assert d1<0.57\n",
    "assert abs(d1-d2)>0.0000001 # Deterministic answers aren't OK.\n",
    "print(d1,d2)"
   ]
  },
  {
   "cell_type": "markdown",
   "id": "d2756cca-ade5-4116-afcc-ab6f9603a536",
   "metadata": {},
   "source": [
    "There are other **Monte Carlo Methods** for calculating **Greeks** available. These include:\n",
    "- Pathwise Sensitivities Method.\n",
    "- Likelihood Ratio Method."
   ]
  },
  {
   "cell_type": "markdown",
   "id": "a97ba857-98ba-49f7-bc5f-36e2d0ea3121",
   "metadata": {},
   "source": [
    "## Improving Accuracy Of Monte Carlo Method by Variance Reduction Techniques\n",
    "## 1. Antithetic Variates/Sampling Method\n",
    "\n",
    "Suppose we have a Monte Carlo pricer based on drawing $n$ normally distributed random\n",
    "numbers ${\\epsilon_i}$ ($1\\leq i \\leq n$). It is often better to compute the price using a sample based on $\\epsilon_i$\n",
    "and $-\\epsilon_i$ rather than to use a sequence of $2n$ independent random variables. Here's the pseudo-code for using the antithetic sampling method\n",
    "to price a derivative with payoff $f(S_T)$ in the Black-Scholes model\n",
    "\n",
    "**Algorithm:**\n",
    "\n",
    "1. Generate n independent standard normally distributed random numbers $\\epsilon_i$. To perform antithetic sampling let $\\epsilon_{i+n}=-\\epsilon_i$.\n",
    "2. Compute the stock price in scenario $i$\n",
    "\n",
    "$$ S^i_T=S_0 e^{(r-\\frac{1}{2}\\sigma^2)T + \\sigma \\sqrt{T} \\epsilon_i }$$\n",
    "\n",
    "3. Estimate the price as $e^{-rT} \\frac{1}{2n} \\sum_{i=1}^{2n} f(S^i_T)$\n",
    "\n",
    "The standard approach without antithetic sampling would be to generate $2n$ independent random numbers $\\epsilon_i$.\n",
    "\n",
    "*Explanation:*\n",
    "\n",
    "To see why this is a good idea, let $\\epsilon$ be a standard normally distributed random variable. Define\n",
    "\n",
    "$$ X_1 = f(S_0 e^{(r-\\frac{1}{2}\\sigma^2)T + \\sigma \\sqrt{T} \\epsilon}). $$\n",
    "\n",
    "If we estimate $E(X_1)$ by generating $2n$ samples then, using the central limit theorem, the standard error of our estimate will be\n",
    "\n",
    "$$ \\sqrt{ \\frac{1}{2n} \\text{Var}(X_1)}. $$\n",
    "\n",
    "Now define instead\n",
    "\n",
    "$$ X_2 = f(S_0 e^{(r-\\frac{1}{2}\\sigma^2)T - \\sigma \\sqrt{T} \\epsilon} )$$\n",
    "\n",
    "We can see that as $\\epsilon$ and $-\\epsilon$ have the same distribution $E(X_1)=E(X_2)$. So if we let $M=\\frac{1}{2}(X_1+X_2)$ then $E(M)=E(X_1)$ too. If we use the antithetic sampling\n",
    "algorithm then we are in effect generating $n$ samples of the variable $M$. We compute that\n",
    "\n",
    "$$ \\text{Var}(M)=\\text{Var}\\left(\\frac{X_1 + X_2}{2}\\right) = \\frac{1}{4}(\\text{Var}(X_1) + \\text{Var}(X_2) +2 \\text{Cov}(X_1,X_2)). $$\n",
    "\n",
    "We know that $\\text{Var}(X_1) = \\text{Var}(X_2)$. If we assume that $\\text{Cov}(X_1,X_2)$ is negative, as it will be for many derivatives,\n",
    "we will have\n",
    "\n",
    "$$\\text{Var}(M) \\leq \\frac{1}{2}\\text{Var}(X_1).$$\n",
    "\n",
    "This means that if we estimate $E(\\frac{1}{2}(X_1+X_2))$ using $n$ samples, by the central limit theorem the standard error of our estimate will be less than\n",
    "\n",
    "$$ \\sqrt{ \\frac{1}{2n} \\text{Var}(X_1) }. $$\n",
    "\n",
    "Thus so long as the correlation between $X_1$ and $X_2$ is negative, antithetic sampling will reduce the standard error of the estimate for $E(X_1)=E(M)$.\n",
    "\n",
    "Note that this only works\n",
    "if the covariance is negative. If the correlation is positive then antithetic sampling\n",
    "will increase the standard error of the estimate. However, you expect the price of a call option to increase if the stock price increases and decrease if the stock price decreases so\n",
    "in the case of a call option you would expect the correlation between $X_1$ and $X_2$ to be negative."
   ]
  },
  {
   "cell_type": "markdown",
   "id": "de32ec66-da4b-4ed9-a2f5-3a5dbec0c8e1",
   "metadata": {},
   "source": [
    "## 2. The Control Variate Method\n",
    "\n",
    "The control variate method is another way of improving Monte Carlo calculations.\n",
    "\n",
    "Suppose we have a random variable $M$ with $E(M)=\\mu$ and we wish to find $\\mu$. Suppose there is another random variable $T$ with $E(T)=\\tau$, but that we know $\\tau$.\n",
    "For example $M$ might be the random payoff of a knock-out call option and $T$ might be the payoff of an ordinary call-option. We can compute the discounted expected value of $T$\n",
    "in the ${\\mathbb Q}$-measure (i.e.\\ the price) using the Black-Scholes formula. This means ${\\tau}$ is something we can compute exactly.\n",
    "\n",
    "Introduce a new random variable $M^*=M + c(T-\\tau)$. We will choose the value of $c$ later, but whatever value we choose we will have $E(M^*)=E(M)$. The idea is to choose\n",
    "$c$ to minimize the variance. We calculate\n",
    "\n",
    "$$\\text{Var}(M^*) = \\text{Var}(M) + c^2 \\text{Var}(T) + 2c \\, \\text{Cov}( M,T).$$\n",
    "\n",
    "We therefore choose $c$ to equal\n",
    "\n",
    "$$ c=\\frac{-\\text{Cov}(M,T)}{\\text{Var}(T,T)} $$\n",
    "\n",
    "giving that\n",
    "\n",
    "$$ \\text{Var}(M^*) = (1-\\rho^2)\\text{Var}(M). $$\n",
    "\n",
    "This motivates the control variate sampling algorithm.\n",
    "\n",
    "**Algorithm:**\n",
    "\n",
    "1. Generate $n$ scenarios for the pair of values $(M^i,T^i)$, where $M^i$ is the value of $M$ in scenario $i$ and $T^i$ is the value of $T$ in that same scenario.\n",
    "For example, you would generate $n$ stock price paths and compute the payoffs of the knock-out option and the call option.\n",
    "2. Use the sample covariance and variance to choose a value of $c$ so that we have approximately\n",
    "\n",
    "$$ c \\approx \\frac{-\\text{Cov}(M,T)}{\\text{Var}(T,T)} $$\n",
    "\n",
    "3. The control variate esimate for $\\mu$ is\n",
    "\n",
    "$$ \\mu = -c \\tau + \\frac{1}{n} \\sum_i^n (M^i + c T^i) $$\n",
    "\n",
    "The standard error of this estimate will be\n",
    "\n",
    "$$ \\sqrt{ \\frac{1}{n} (1-\\rho^2)\\text{Var}(M) }. $$"
   ]
  },
  {
   "cell_type": "code",
   "execution_count": 24,
   "id": "648b8cc2-7bae-4273-b1f3-a8ad1c66e6cf",
   "metadata": {},
   "outputs": [
    {
     "name": "stdout",
     "output_type": "stream",
     "text": [
      "B=110\n",
      "Simple Monte Carlo:\n",
      "Price=0.19432944316814496, Standard Error = 0.00717686415142554\n",
      "Antithetic:\n",
      "Price=0.18824594213166893, Standard Error = 0.0069207012315645935\n",
      "Control Variate: Price=0.1943125282587297,\n",
      "Standard Error = 0.0071685220250829445\n",
      "Black Scholes Price: 8.916037278572539\n",
      "\n",
      "B=150\n",
      "Simple Monte Carlo:\n",
      "Price=6.92822164502698, Standard Error = 0.07482555286984519\n",
      "Antithetic:\n",
      "Price=6.962707286110119, Standard Error = 0.05677753708944299\n",
      "Control Variate: Price=6.922462390465835,\n",
      "Standard Error = 0.05556957672130035\n",
      "Black Scholes Price: 8.916037278572539\n",
      "\n",
      "B=10000\n",
      "Simple Monte Carlo:\n",
      "Price=9.052017159494937, Standard Error = 0.09788035444332484\n",
      "Antithetic:\n",
      "Price=9.097625149251144, Standard Error = 0.07592849550832978\n",
      "Control Variate: Price=8.916030479238525,\n",
      "Standard Error = 4.894262435558303e-06\n",
      "Black Scholes Price: 8.916037278572539\n",
      "\n"
     ]
    }
   ],
   "source": [
    "import numpy as np\n",
    "import mathfinance as mf\n",
    "import matplotlib.pyplot as plt \n",
    "\n",
    "for B in [110,150,10000]:\n",
    "\n",
    "    S0 = 100\n",
    "    K = 100\n",
    "    r = 0.02\n",
    "    sigma = 0.2\n",
    "    T = 1 \n",
    "\n",
    "    n = 10000 # num scenarios for antithetic\n",
    "    N=2*n # num scenarios for other methods\n",
    "    m = 100 # time steps \n",
    "\n",
    "    dt = T/m  #...\n",
    "\n",
    "    # Simulate the stock price\n",
    "    epsilon = np.random.randn(N,m)\n",
    "\n",
    "    Z = np.zeros((N,m+1))\n",
    "    Z[:,0] = np.log(S0)\n",
    "    Z_twiddle = np.zeros((n,m+1))\n",
    "    Z_twiddle[:,0] = np.log(S0)\n",
    "\n",
    "    for i in range(0,m):\n",
    "        Z[:,i+1] = Z[:,i] + (r - 0.5*sigma**2)*dt + np.sqrt(dt)*sigma*epsilon[:,i]\n",
    "        Z_twiddle[:,i+1] = Z_twiddle[:,i] + (r - 0.5*sigma**2)*dt - np.sqrt(dt)*sigma*epsilon[:n,i]\n",
    "\n",
    "    S = np.exp(Z)\n",
    "    S_twiddle = np.exp(Z_twiddle) #...\n",
    "\n",
    "    # Compute the payoff\n",
    "\n",
    "    def compute_discounted_payoff( S ):\n",
    "        ST = S[:,-1]\n",
    "        not_knocked_out = np.amax( S, axis=1 )<=B\n",
    "        call_payoff = np.maximum( ST - K , 0)\n",
    "        P = np.exp(-r*T)*not_knocked_out*call_payoff\n",
    "        return P\n",
    "\n",
    "    P = compute_discounted_payoff(S)\n",
    "    P_twiddle = compute_discounted_payoff(S_twiddle) #...\n",
    "\n",
    "    #  Compute the price using the different approaches\n",
    "\n",
    "    # Standard monte carlo\n",
    "\n",
    "    price_standard = np.mean(P)\n",
    "    error_standard = np.std(P)/np.sqrt( len(P) )\n",
    "\n",
    "    # Antithetic sampling\n",
    "\n",
    "    avg = 0.5*(P[0:n]+P_twiddle[0:n])\n",
    "    price_antithetic = np.mean( avg )\n",
    "    error_antithetic = np.std(avg)/np.sqrt( len(avg ) ) #...\n",
    "\n",
    "    # Control variate method\n",
    "\n",
    "    gamma = mf.blackscholes(r, S0, K, T, sigma, t=0, type=\"call\")\n",
    "    ST = S[:,-1]\n",
    "    C = np.exp(-r*T)*np.maximum( ST - K , 0)\n",
    "    alpha_star = -np.cov(P,C)[0,1]/(np.std(C)**2)\n",
    "    P_star = P + alpha_star*C\n",
    "    price_control_variate = np.mean( P_star ) - alpha_star*gamma\n",
    "    error_control_variate = np.std(P_star)/np.sqrt( len(P_star )) #...\n",
    "\n",
    "    print( \"B={}\".format(B))\n",
    "    print( \"Simple Monte Carlo:\\nPrice={}, Standard Error = {}\".format(price_standard, error_standard) )\n",
    "    print( \"Antithetic:\\nPrice={}, Standard Error = {}\".format(price_antithetic, error_antithetic) )\n",
    "    print( \"Control Variate: Price={},\\nStandard Error = {}\".format(price_control_variate, error_control_variate) )\n",
    "    print( \"Black Scholes Price: {}\".format(gamma))\n",
    "\n",
    "    print( \"\" )"
   ]
  },
  {
   "cell_type": "code",
   "execution_count": null,
   "id": "66bf1906-3148-4990-b362-d1acb0089c27",
   "metadata": {},
   "outputs": [],
   "source": []
  }
 ],
 "metadata": {
  "kernelspec": {
   "display_name": "Python 3",
   "language": "python",
   "name": "python3"
  },
  "language_info": {
   "codemirror_mode": {
    "name": "ipython",
    "version": 3
   },
   "file_extension": ".py",
   "mimetype": "text/x-python",
   "name": "python",
   "nbconvert_exporter": "python",
   "pygments_lexer": "ipython3",
   "version": "3.7.16"
  }
 },
 "nbformat": 4,
 "nbformat_minor": 5
}
