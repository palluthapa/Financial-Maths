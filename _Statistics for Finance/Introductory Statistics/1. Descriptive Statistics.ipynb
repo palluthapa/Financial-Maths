{
 "cells": [
  {
   "cell_type": "markdown",
   "id": "051c2979-056b-40b4-98ee-7b92ca9f8f27",
   "metadata": {},
   "source": [
    "We will generate various plots using R.\n",
    "- Line graph.\n",
    "- Histogram.\n",
    "- Bar charts.\n",
    "- Pie Charts.\n",
    "- Stem and Leaf."
   ]
  },
  {
   "cell_type": "code",
   "execution_count": 38,
   "id": "0fe7c984-8f81-4e2b-abb7-264e0b9857b8",
   "metadata": {},
   "outputs": [
    {
     "data": {
      "image/png": "[encoded data removed]",
      "text/plain": [
       "Plot with title \"Retail Prices Index: Long run series: 1800 to 2023\""
      ]
     },
     "metadata": {},
     "output_type": "display_data",
     "source": "R display func"
    }
   ],
   "source": [
    "# Plotting line graph of Retail Price Index.\n",
    "\n",
    "# Read data from CSV file skipping the first 8 rows as data starts at row 9.\n",
    "rpi = read.csv(\"data/series-140224.csv\", skip = 8, header = FALSE)\n",
    "\n",
    "# Assign column names.\n",
    "colnames(rpi) = c(\"Year\", \"RPI\")\n",
    "\n",
    "# Plotting\n",
    "plot(rpi$Year, rpi$RPI, type = \"l\", xlab = \"Year\", ylab = \"Retail Price Index\", main = \"Retail Prices Index: Long run series: 1800 to 2023\")"
   ]
  },
  {
   "cell_type": "code",
   "execution_count": 2,
   "id": "9f11d61b-d738-46a0-bb5e-fc4a67564e2e",
   "metadata": {},
   "outputs": [],
   "source": [
    "# Loading Dataset.\n",
    "dt = read.csv(\"data/NY-House-Dataset.csv\")"
   ]
  },
  {
   "cell_type": "code",
   "execution_count": 3,
   "id": "5f2a9729-3478-46b8-922c-2af9de302a58",
   "metadata": {},
   "outputs": [
    {
     "data": {
      "text/html": [
       "<ol class=list-inline>\n",
       "\t<li>'BROKERTITLE'</li>\n",
       "\t<li>'TYPE'</li>\n",
       "\t<li>'PRICE'</li>\n",
       "\t<li>'BEDS'</li>\n",
       "\t<li>'BATH'</li>\n",
       "\t<li>'PROPERTYSQFT'</li>\n",
       "\t<li>'ADDRESS'</li>\n",
       "\t<li>'STATE'</li>\n",
       "\t<li>'MAIN_ADDRESS'</li>\n",
       "\t<li>'ADMINISTRATIVE_AREA_LEVEL_2'</li>\n",
       "\t<li>'LOCALITY'</li>\n",
       "\t<li>'SUBLOCALITY'</li>\n",
       "\t<li>'STREET_NAME'</li>\n",
       "\t<li>'LONG_NAME'</li>\n",
       "\t<li>'FORMATTED_ADDRESS'</li>\n",
       "\t<li>'LATITUDE'</li>\n",
       "\t<li>'LONGITUDE'</li>\n",
       "</ol>\n"
      ],
      "text/latex": [
       "\\begin{enumerate*}\n",
       "\\item 'BROKERTITLE'\n",
       "\\item 'TYPE'\n",
       "\\item 'PRICE'\n",
       "\\item 'BEDS'\n",
       "\\item 'BATH'\n",
       "\\item 'PROPERTYSQFT'\n",
       "\\item 'ADDRESS'\n",
       "\\item 'STATE'\n",
       "\\item 'MAIN\\_ADDRESS'\n",
       "\\item 'ADMINISTRATIVE\\_AREA\\_LEVEL\\_2'\n",
       "\\item 'LOCALITY'\n",
       "\\item 'SUBLOCALITY'\n",
       "\\item 'STREET\\_NAME'\n",
       "\\item 'LONG\\_NAME'\n",
       "\\item 'FORMATTED\\_ADDRESS'\n",
       "\\item 'LATITUDE'\n",
       "\\item 'LONGITUDE'\n",
       "\\end{enumerate*}\n"
      ],
      "text/markdown": [
       "1. 'BROKERTITLE'\n",
       "2. 'TYPE'\n",
       "3. 'PRICE'\n",
       "4. 'BEDS'\n",
       "5. 'BATH'\n",
       "6. 'PROPERTYSQFT'\n",
       "7. 'ADDRESS'\n",
       "8. 'STATE'\n",
       "9. 'MAIN_ADDRESS'\n",
       "10. 'ADMINISTRATIVE_AREA_LEVEL_2'\n",
       "11. 'LOCALITY'\n",
       "12. 'SUBLOCALITY'\n",
       "13. 'STREET_NAME'\n",
       "14. 'LONG_NAME'\n",
       "15. 'FORMATTED_ADDRESS'\n",
       "16. 'LATITUDE'\n",
       "17. 'LONGITUDE'\n",
       "\n",
       "\n"
      ],
      "text/plain": [
       " [1] \"BROKERTITLE\"                 \"TYPE\"                       \n",
       " [3] \"PRICE\"                       \"BEDS\"                       \n",
       " [5] \"BATH\"                        \"PROPERTYSQFT\"               \n",
       " [7] \"ADDRESS\"                     \"STATE\"                      \n",
       " [9] \"MAIN_ADDRESS\"                \"ADMINISTRATIVE_AREA_LEVEL_2\"\n",
       "[11] \"LOCALITY\"                    \"SUBLOCALITY\"                \n",
       "[13] \"STREET_NAME\"                 \"LONG_NAME\"                  \n",
       "[15] \"FORMATTED_ADDRESS\"           \"LATITUDE\"                   \n",
       "[17] \"LONGITUDE\"                  "
      ]
     },
     "metadata": {},
     "output_type": "display_data"
    }
   ],
   "source": [
    "# Names of the Variables.\n",
    "names(dt)"
   ]
  },
  {
   "cell_type": "code",
   "execution_count": 4,
   "id": "fb129906-6f4a-4e9f-9f6d-001e6413dadc",
   "metadata": {},
   "outputs": [
    {
     "data": {
      "text/plain": [
       "                                        BROKERTITLE  \n",
       " Brokered by COMPASS                          : 456  \n",
       " Brokered by Douglas Elliman - 575 Madison Ave: 110  \n",
       " Brokered by Brown Harris Stevens             :  93  \n",
       " Brokered by Corcoran East Side               :  91  \n",
       " Brokered by RE MAX Edge                      :  79  \n",
       " Brokered by Winzone Realty Inc               :  68  \n",
       " (Other)                                      :3904  \n",
       "                         TYPE          PRICE                BEDS       \n",
       " Co-op for sale            :1450   Min.   :2.494e+03   Min.   : 1.000  \n",
       " House for sale            :1012   1st Qu.:4.990e+05   1st Qu.: 2.000  \n",
       " Condo for sale            : 891   Median :8.250e+05   Median : 3.000  \n",
       " Multi-family home for sale: 727   Mean   :2.357e+06   Mean   : 3.357  \n",
       " Townhouse for sale        : 299   3rd Qu.:1.495e+06   3rd Qu.: 4.000  \n",
       " Pending                   : 243   Max.   :2.147e+09   Max.   :50.000  \n",
       " (Other)                   : 179                                       \n",
       "      BATH         PROPERTYSQFT                           ADDRESS    \n",
       " Min.   : 0.000   Min.   :  230   2619 Shore Pkwy             :   3  \n",
       " 1st Qu.: 1.000   1st Qu.: 1200   856 Washington Ave Apt 6C   :   3  \n",
       " Median : 2.000   Median : 2184   10 Neal Dow Ave             :   2  \n",
       " Mean   : 2.374   Mean   : 2184   100 Barclay St Apt 20C      :   2  \n",
       " 3rd Qu.: 3.000   3rd Qu.: 2184   100 Wadsworth Rd            :   2  \n",
       " Max.   :50.000   Max.   :65535   1020 Grand Concourse Apt 14D:   2  \n",
       "                                  (Other)                     :4787  \n",
       "                     STATE     \n",
       " Brooklyn, NY 11235     : 102  \n",
       " Brooklyn, NY 11209     :  94  \n",
       " Forest Hills, NY 11375 :  91  \n",
       " Brooklyn, NY 11234     :  90  \n",
       " Staten Island, NY 10314:  86  \n",
       " Bronx, NY 10463        :  79  \n",
       " (Other)                :4259  \n",
       "                                      MAIN_ADDRESS \n",
       " 2619 Shore PkwyBrooklyn, NY 11223          :   3  \n",
       " 856 Washington Ave Apt 6CBrooklyn, NY 11238:   3  \n",
       " 10 Neal Dow AveStaten Island, NY 10314     :   2  \n",
       " 100 Barclay St Apt 20CNew York, NY 10007   :   2  \n",
       " 100 Wadsworth RdStaten Island, NY 10305    :   2  \n",
       " 1020 Grand Concourse Apt 14DBronx, NY 10451:   2  \n",
       " (Other)                                    :4787  \n",
       "  ADMINISTRATIVE_AREA_LEVEL_2            LOCALITY             SUBLOCALITY  \n",
       " United States  :2484         New York       :2505   New York       :1016  \n",
       " New York       :2241         New York County: 979   Kings County   : 727  \n",
       " New York County:  21         Queens County  : 557   Queens County  : 684  \n",
       " 11214          :   8         Kings County   : 464   Queens         : 555  \n",
       " Kings County   :   6         Bronx County   : 182   Richmond County: 480  \n",
       " Queens County  :   6         Richmond County:  59   Brooklyn       : 464  \n",
       " (Other)        :  35         (Other)        :  55   (Other)        : 875  \n",
       "        STREET_NAME        LONG_NAME   \n",
       " Manhattan    : 979   2         :  20  \n",
       " Brooklyn     : 727   100       :  19  \n",
       " Queens       : 684   200       :  19  \n",
       " Staten Island: 480   40        :  16  \n",
       " The Bronx    : 310   50        :  15  \n",
       " New York     : 285   Amboy Road:  15  \n",
       " (Other)      :1336   (Other)   :4697  \n",
       "                                             FORMATTED_ADDRESS    LATITUDE    \n",
       " 61-20 Grand Central Pkwy, Forest Hills, NY 11375, USA:   4    Min.   :40.50  \n",
       " 120 Queens Blvd #98, Rego Park, NY 11374, USA        :   3    1st Qu.:40.64  \n",
       " 218 W 103rd St, New York, NY 10025, USA              :   3    Median :40.73  \n",
       " 2619 Shore Pkwy, Brooklyn, NY 11223, USA             :   3    Mean   :40.71  \n",
       " 39 W 23rd St, New York, NY 10010, USA                :   3    3rd Qu.:40.77  \n",
       " 46 Laight St, New York, NY 10013, USA                :   3    Max.   :40.91  \n",
       " (Other)                                              :4782                   \n",
       "   LONGITUDE     \n",
       " Min.   :-74.25  \n",
       " 1st Qu.:-73.99  \n",
       " Median :-73.95  \n",
       " Mean   :-73.94  \n",
       " 3rd Qu.:-73.87  \n",
       " Max.   :-73.70  \n",
       "                 "
      ]
     },
     "metadata": {},
     "output_type": "display_data"
    }
   ],
   "source": [
    "summary(dt)"
   ]
  },
  {
   "cell_type": "code",
   "execution_count": 6,
   "id": "1c43748e-699e-4167-b9d6-f98d532617bd",
   "metadata": {},
   "outputs": [
    {
     "data": {
      "image/png": "[encoded data removed]",
      "text/plain": [
       "plot without title"
      ]
     },
     "metadata": {},
     "output_type": "display_data",
     "source": "R display func"
    }
   ],
   "source": [
    "# Plotting pie chart.\n",
    "freq_dist_LOCALITY = table(dt$LOCALITY)  # Frequency distribution of the variable LOCALITY.\n",
    "pie(freq_dist_LOCALITY)"
   ]
  },
  {
   "cell_type": "code",
   "execution_count": 7,
   "id": "af48efe8-eecf-48f1-8c53-f2d9f2a8fbdd",
   "metadata": {},
   "outputs": [],
   "source": [
    "attach(dt)  # Access variables of a DataFrame without invoking any function or method."
   ]
  },
  {
   "cell_type": "code",
   "execution_count": 8,
   "id": "c7d1bed0-cc25-4103-a76a-f5e657621eb3",
   "metadata": {},
   "outputs": [
    {
     "data": {
      "image/png": "[encoded data removed]",
      "text/plain": [
       "plot without title"
      ]
     },
     "metadata": {},
     "output_type": "display_data",
     "source": "R display func"
    },
    {
     "data": {
      "image/png": "[encoded data removed]",
      "text/plain": [
       "plot without title"
      ]
     },
     "metadata": {},
     "output_type": "display_data",
     "source": "R display func"
    },
    {
     "data": {
      "image/png": "[encoded data removed]",
      "text/plain": [
       "plot without title"
      ]
     },
     "metadata": {},
     "output_type": "display_data",
     "source": "R display func"
    }
   ],
   "source": [
    "# Plotting Pareto Plot.\n",
    "barplot(freq_dist_LOCALITY)\n",
    "barplot(sort(freq_dist_LOCALITY))  # Pareto plot.\n",
    "barplot(sort(freq_dist_LOCALITY), horiz = TRUE)  # Horizontal Pareto plot."
   ]
  },
  {
   "cell_type": "code",
   "execution_count": 14,
   "id": "ab69373d-5415-4ace-a978-6fa78efe2988",
   "metadata": {},
   "outputs": [
    {
     "data": {
      "image/png": "[encoded data removed]",
      "text/plain": [
       "plot without title"
      ]
     },
     "metadata": {},
     "output_type": "display_data",
     "source": "R display func"
    },
    {
     "data": {
      "image/png": "[encoded data removed]",
      "text/plain": [
       "plot without title"
      ]
     },
     "metadata": {},
     "output_type": "display_data",
     "source": "R display func"
    },
    {
     "data": {
      "image/png": "[encoded data removed]",
      "text/plain": [
       "plot without title"
      ]
     },
     "metadata": {},
     "output_type": "display_data",
     "source": "R display func"
    }
   ],
   "source": [
    "# Plotting Stacked Barchart and Side-by-side Barchart.\n",
    "barplot(table(LOCALITY,TYPE), legend = TRUE, col = 1:11)\n",
    "barplot(table(TYPE,LOCALITY), legend = TRUE, col = 1:11)\n",
    "\n",
    "barplot(table(TYPE,LOCALITY), beside = TRUE, legend = TRUE, col = 1:11)  # Side-by-side barchart."
   ]
  },
  {
   "cell_type": "code",
   "execution_count": 26,
   "id": "ce85419d-8251-4d0b-b8e6-75dc7d198419",
   "metadata": {},
   "outputs": [
    {
     "data": {
      "image/png": "[encoded data removed]",
      "text/plain": [
       "Plot with title \"Histogram of PROPERTYSQFT\""
      ]
     },
     "metadata": {},
     "output_type": "display_data",
     "source": "R display func"
    }
   ],
   "source": [
    "# Plotting Histogram.\n",
    "#hist(PROPERTYSQFT, breaks = 3)\n",
    "hist(PROPERTYSQFT, breaks = seq(0,70000,10000))"
   ]
  },
  {
   "cell_type": "code",
   "execution_count": 28,
   "id": "c8b2cbaf-f96e-4c5b-8896-9e939c002768",
   "metadata": {},
   "outputs": [
    {
     "name": "stdout",
     "output_type": "stream",
     "text": [
      "\n",
      "  The decimal point is 4 digit(s) to the right of the |\n",
      "\n",
      "  0 | 00000000000000000000000000000000000000000000000000000000000011111111+4474\n",
      "  0 | 55555555555555555555555555555555555555555555555555555555555555555555+120\n",
      "  1 | 00000011111112222222223334\n",
      "  1 | 556678889\n",
      "  2 | 01234\n",
      "  2 | 7\n",
      "  3 | 23\n",
      "  3 | \n",
      "  4 | \n",
      "  4 | 8\n",
      "  5 | \n",
      "  5 | 55\n",
      "  6 | \n",
      "  6 | 6\n",
      "\n"
     ]
    }
   ],
   "source": [
    "# Plotting Stem and Leaf diagram.\n",
    "stem(PROPERTYSQFT)"
   ]
  },
  {
   "cell_type": "markdown",
   "id": "6124107f-8102-43e9-92c6-da8f484d53a7",
   "metadata": {},
   "source": [
    "### Central Tendency\n",
    "- Mean.\n",
    "- Median.\n",
    "- Mode."
   ]
  },
  {
   "cell_type": "code",
   "execution_count": 42,
   "id": "48a73380-ae9b-4ac4-9e3d-ee770c9f3695",
   "metadata": {},
   "outputs": [
    {
     "data": {
      "text/html": [
       "32.4285714285714"
      ],
      "text/latex": [
       "32.4285714285714"
      ],
      "text/markdown": [
       "32.4285714285714"
      ],
      "text/plain": [
       "[1] 32.42857"
      ]
     },
     "metadata": {},
     "output_type": "display_data"
    }
   ],
   "source": [
    "# Mean.\n",
    "x = c(1,58,12,15,112,14,15)  # Creates a vector.\n",
    "mean(x)"
   ]
  },
  {
   "cell_type": "markdown",
   "id": "8a5f2e34-f6ef-42bf-8f09-8dafc91d0363",
   "metadata": {},
   "source": [
    "### Weighted Mean\n",
    "$$\n",
    "\\bar{x} = \\frac{\\Sigma x_i w_i}{\\Sigma w_i}\n",
    "$$"
   ]
  },
  {
   "cell_type": "code",
   "execution_count": 40,
   "id": "880c742d-de3b-42fb-b229-b73392acf41d",
   "metadata": {},
   "outputs": [
    {
     "data": {
      "text/html": [
       "85.9"
      ],
      "text/latex": [
       "85.9"
      ],
      "text/markdown": [
       "85.9"
      ],
      "text/plain": [
       "[1] 85.9"
      ]
     },
     "metadata": {},
     "output_type": "display_data"
    }
   ],
   "source": [
    "weights = c(20,30,50)\n",
    "marks = c(74,92,87)\n",
    "\n",
    "sum(weights*marks)/sum(weights)"
   ]
  },
  {
   "cell_type": "markdown",
   "id": "6cb650e6-859c-46f8-8c32-74654e1cfbeb",
   "metadata": {},
   "source": [
    "### Median"
   ]
  },
  {
   "cell_type": "code",
   "execution_count": 43,
   "id": "02766637-5802-420d-9324-513acbf354aa",
   "metadata": {},
   "outputs": [
    {
     "data": {
      "text/html": [
       "87"
      ],
      "text/latex": [
       "87"
      ],
      "text/markdown": [
       "87"
      ],
      "text/plain": [
       "[1] 87"
      ]
     },
     "metadata": {},
     "output_type": "display_data"
    },
    {
     "data": {
      "text/html": [
       "25"
      ],
      "text/latex": [
       "25"
      ],
      "text/markdown": [
       "25"
      ],
      "text/plain": [
       "[1] 25"
      ]
     },
     "metadata": {},
     "output_type": "display_data"
    }
   ],
   "source": [
    "median(marks)\n",
    "median(c(10,20,30,40))"
   ]
  },
  {
   "cell_type": "markdown",
   "id": "a46f7717-e24f-4036-839e-0b201c8b10b4",
   "metadata": {},
   "source": [
    "### Mode\n",
    "No built-in function to calculate mode in R."
   ]
  },
  {
   "cell_type": "code",
   "execution_count": 55,
   "id": "5009f577-7df0-4a2a-b7ad-241a1da7ba5c",
   "metadata": {},
   "outputs": [],
   "source": [
    "modal <- function(x) \n",
    "{\n",
    "### R function to calculate the mode of a (categorical)variable.\n",
    "\n",
    " tt <- table(x)\n",
    " mc <- which(tt==max(tt))\n",
    " if(length(mc) == length(x)) {\n",
    "  modal = \"There is no mode.\"\n",
    " } else {\n",
    "  modal = names(tt[mc])\n",
    " }\n",
    "return(modal)\n",
    "}"
   ]
  },
  {
   "cell_type": "code",
   "execution_count": 56,
   "id": "dd1141b6-9e19-491f-afd1-db57fe5a6dd1",
   "metadata": {},
   "outputs": [
    {
     "name": "stdout",
     "output_type": "stream",
     "text": [
      "[1] \"1\" \"8\"\n"
     ]
    }
   ],
   "source": [
    "mode = modal(c(1,1,1,2,2,5,7,8,8,8,9,9,10))\n",
    "print(mode)"
   ]
  },
  {
   "cell_type": "markdown",
   "id": "6ba71a0f-78ab-437e-9f84-2df281188bf6",
   "metadata": {},
   "source": [
    "### Hildebrand Rule and Skewness\n",
    "Hildebrand's Rule is a heuristic or a rough guide used to estimate the skewness of a distribution based on the relationship between the mean, median, and mode. It's not a formal statistical measure like Pearson's skewness coefficient, but it can give a quick indication of skewness. For a more precise measure of skewness, formal statistical methods like Pearson's skewness coefficient or visual inspection of the data through histograms or Q-Q plots can be used.\n",
    "\n",
    "`Hildebrand Ratio` is defined as\n",
    "$$H = \\frac{\\bar{x}-\\tilde{x}}{s}$$\n",
    "where $\\bar{x}$ is the sample mean, $\\tilde{x}$ is the sample median and $s$ is the sample standard deviation. If $|H|<0.20$, then the data are sufficiently symmetric and mean can be used. If not we should used Median."
   ]
  },
  {
   "cell_type": "code",
   "execution_count": 60,
   "id": "f7538667-85cf-4d90-94e7-80ae865da122",
   "metadata": {},
   "outputs": [
    {
     "data": {
      "text/html": [
       "-0.253535717050064"
      ],
      "text/latex": [
       "-0.253535717050064"
      ],
      "text/markdown": [
       "-0.253535717050064"
      ],
      "text/plain": [
       "[1] -0.2535357"
      ]
     },
     "metadata": {},
     "output_type": "display_data"
    }
   ],
   "source": [
    "y = c(72,70,75,66,68,70,69,52)\n",
    "H = (mean(y)-median(y))/sd(y)\n",
    "H"
   ]
  },
  {
   "cell_type": "markdown",
   "id": "2d361ec4-b3c6-4e52-bb5c-ce47f4c2e865",
   "metadata": {},
   "source": [
    "Since, y is not sufficiently symmetric(H = -0.25), the mean should not be used as the measure of centre."
   ]
  },
  {
   "cell_type": "markdown",
   "id": "d89008a8-63b9-4424-8ce8-95380e8412eb",
   "metadata": {},
   "source": [
    "### Measures of Spread\n",
    "Measure of how much we can expect a value to differ from the measure of centre.\n",
    "- Range ($max - min$).\n",
    "- Variance.\n",
    "- IQR ($Q_3 - Q_1$).\n"
   ]
  },
  {
   "cell_type": "markdown",
   "id": "afda7e22-c1a9-48cd-a02d-08ab45ad8f11",
   "metadata": {},
   "source": [
    "### Variance\n",
    "Polulation variance($\\sigma^2$) is given by:\n",
    "$$\\sigma^2 = \\frac{\\Sigma (x_i - \\mu)^2}{N}$$\n",
    "Sample variance($s^2$) is given by:\n",
    "$$s^2 = \\frac{\\Sigma (x_i - \\bar{x})^2}{n-1}$$\n",
    "The main purpose of sample statistics is to estimate a population parameter. The divisor $(n-1)$ ensures that it is an unbiased estimator for population variance $\\sigma^2.$"
   ]
  },
  {
   "cell_type": "code",
   "execution_count": 63,
   "id": "8e04e955-1a5e-43c0-a559-193663da67a2",
   "metadata": {},
   "outputs": [
    {
     "data": {
      "text/html": [
       "285.2"
      ],
      "text/latex": [
       "285.2"
      ],
      "text/markdown": [
       "285.2"
      ],
      "text/plain": [
       "[1] 285.2"
      ]
     },
     "metadata": {},
     "output_type": "display_data"
    }
   ],
   "source": [
    "var(c(31,22,52,62,54))  # Sample variance."
   ]
  },
  {
   "cell_type": "code",
   "execution_count": 66,
   "id": "dadd8378-034c-479d-9046-7834e6d8345a",
   "metadata": {},
   "outputs": [
    {
     "data": {
      "text/html": [
       "228.16"
      ],
      "text/latex": [
       "228.16"
      ],
      "text/markdown": [
       "228.16"
      ],
      "text/plain": [
       "[1] 228.16"
      ]
     },
     "metadata": {},
     "output_type": "display_data"
    }
   ],
   "source": [
    "# Calculating Polupation Variance.\n",
    "n = 5\n",
    "var(c(31,22,52,62,54)) * (n-1)/n"
   ]
  },
  {
   "cell_type": "code",
   "execution_count": 69,
   "id": "d02b2235-0e8b-44fb-8df0-f4a0e0045f4b",
   "metadata": {},
   "outputs": [],
   "source": [
    "# Population Variance function.\n",
    "population_var = function(x)\n",
    "    {\n",
    "    return (mean( (x-mean(x))^2))\n",
    "    }"
   ]
  },
  {
   "cell_type": "code",
   "execution_count": 70,
   "id": "4f8dfaaa-a586-4175-9f54-ae62a0d9bc75",
   "metadata": {},
   "outputs": [
    {
     "data": {
      "text/html": [
       "228.16"
      ],
      "text/latex": [
       "228.16"
      ],
      "text/markdown": [
       "228.16"
      ],
      "text/plain": [
       "[1] 228.16"
      ]
     },
     "metadata": {},
     "output_type": "display_data"
    }
   ],
   "source": [
    "population_var(c(31,22,52,62,54))"
   ]
  },
  {
   "cell_type": "markdown",
   "id": "2f655f67-a260-431c-aed4-cc8841253f21",
   "metadata": {},
   "source": [
    "### Coefficient of Cariation\n",
    "The coefficient of variation (CV) is a statistical measure used to assess the relative variability or dispersion of a dataset, irrespective of the units of measurement. It's particularly useful when comparing variability between datasets with different means or units.\n",
    "$$CV = \\left( \\frac{s}{\\bar{x}} \\right) \\times 100\\%$$\n",
    "where $\\bar{x}$ is the sample mean and $s$ is the sample standard deviation.\n",
    "A lower CV indicates lower variability relative to the mean, while a higher CV suggests higher variability relative to the mean."
   ]
  },
  {
   "cell_type": "markdown",
   "id": "13c15a24-e689-4324-839e-54f108842778",
   "metadata": {},
   "source": [
    "### Measures of Relative Position\n",
    "- Percentiles.\n",
    "- Quartiles.\n",
    "- Box-Plot.\n",
    "- Z-scores."
   ]
  },
  {
   "cell_type": "markdown",
   "id": "dba360dd-06c8-4c1c-b289-4be50aecfcd6",
   "metadata": {},
   "source": [
    "### Percentiles\n",
    "A percentile is a measure used in statistics to indicate the value below which a given percentage of observations in a group of observations fall. The location of data value for the $P^{th}$ percentile in the ordered data set is :\n",
    "$$L = n * \\frac{P}{100}$$\n",
    "where, n = No. of data points and P = $P^{th}$ percentile.\n",
    "When using this formula to find the location of the percentile's value in the data set, you must make sure to follow these two rules.\n",
    "* If the formula results in a decimal value for L, the location is the next larger whole number.\n",
    "* If the formula results in a whole number, the percentile's value is the arithmetic mean of the data value in that location and the data value in the next larger location."
   ]
  },
  {
   "cell_type": "code",
   "execution_count": 5,
   "id": "cea71618-24fa-4983-bccd-1c7688fcbe00",
   "metadata": {},
   "outputs": [
    {
     "data": {
      "text/plain": [
       "   Min. 1st Qu.  Median    Mean 3rd Qu.    Max. \n",
       "  12.00   23.50   45.00   49.37   71.00   95.00 "
      ]
     },
     "metadata": {},
     "output_type": "display_data"
    },
    {
     "data": {
      "text/html": [
       "19"
      ],
      "text/latex": [
       "19"
      ],
      "text/markdown": [
       "19"
      ],
      "text/plain": [
       "[1] 19"
      ]
     },
     "metadata": {},
     "output_type": "display_data"
    }
   ],
   "source": [
    "# R gives summary of 5 Quartiles easily.\n",
    "a = c(22,15,29,65,89,77,58,35,45,65,85,25,14,17,12,89,36,65,95)\n",
    "summary(a)\n",
    "length(a)"
   ]
  },
  {
   "cell_type": "code",
   "execution_count": 16,
   "id": "fc6807e7-db77-4fa3-9b93-a5313dcd6ff7",
   "metadata": {},
   "outputs": [
    {
     "data": {
      "image/png": "[encoded data removed]",
      "text/plain": [
       "plot without title"
      ]
     },
     "metadata": {},
     "output_type": "display_data",
     "source": "R display func"
    }
   ],
   "source": [
    "# Box and whisker Plot.\n",
    "boxplot(a,horizontal = TRUE, col = 'red')"
   ]
  },
  {
   "cell_type": "markdown",
   "id": "bfc24b12-9093-48b8-8703-efcd08025615",
   "metadata": {},
   "source": [
    "### Standard Score\n",
    "The standard score/ Z-score for a population is given by $$z = \\frac{x- \\mu}{\\sigma}$$\n",
    "If the z-score is 1.47 then it is approxiately 1.47 standard deviations above mean."
   ]
  },
  {
   "cell_type": "markdown",
   "id": "99c613b4-29c9-4f91-b74b-d2d5c0ca5d65",
   "metadata": {},
   "source": [
    "- Counting the number of heads if a coin is flipped 3 times in a row.\n",
    "The pmf is given by:\n",
    "$$\n",
    "\\begin{aligned}\n",
    "\\mathbb{P}[X=x] = \n",
    "\\begin{cases}\n",
    "  0.125 & \\text{if } x = 0 \\text{ or } 3 \\\\\n",
    "  0.375 & \\text{if } x = 1  \\text{ or } 2\\\\\n",
    "  0 & \\text{if } \\text{Otherwise}\n",
    "\\end{cases}\n",
    "\\end{aligned}\n",
    "$$\n",
    "The Expected Value is calculated as:\n",
    "$$\\mathbb{E}[X] = \\sum_{x\\in\\Omega} x \\mathbb{P}[X=x]$$\n",
    "And the Variance is:\n",
    "$$\\mathbb{V}[X] = \\sum_{x\\in\\Omega} (x-\\mu)^2 \\mathbb{P}[X=x]$$\n",
    "The Median is:\n",
    "$$\\tilde{X} = \\{x|\\mathbb{P}[X\\leq x] \\geq 0.50 \\text{ and } \\mathbb{P}[X\\geq x] \\geq 0.50\\}$$\n",
    "For continuous distribution, the definition of median reduces to $\\mathbb{P}[X\\leq \\tilde{x}] = 0.50$\n",
    "Lets calculate these in R."
   ]
  },
  {
   "cell_type": "code",
   "execution_count": 2,
   "id": "0ccc6026-ade1-4bb1-a07e-2869899f3641",
   "metadata": {},
   "outputs": [
    {
     "name": "stdout",
     "output_type": "stream",
     "text": [
      "[1] 1.5\n"
     ]
    }
   ],
   "source": [
    "# Expected Value.\n",
    "x = 0:3  # x = 0,1,2,3\n",
    "p = c(0.125, 0.375, 0.375, 0.125)\n",
    "expected_value = sum(x*p)\n",
    "print(expected_value)"
   ]
  },
  {
   "cell_type": "code",
   "execution_count": 3,
   "id": "cc3a2309-ee22-4b3e-af1f-8529f1fe48de",
   "metadata": {},
   "outputs": [
    {
     "name": "stdout",
     "output_type": "stream",
     "text": [
      "[1] \"Var = 0.75 Standard Deviation = 0.866025403784439\"\n"
     ]
    }
   ],
   "source": [
    "# Variance.\n",
    "variance = sum( (x-expected_value)^2 * p )\n",
    "std_deviation = sqrt(variance)\n",
    "print(paste('Var =', variance, 'Standard Deviation =', std_deviation))"
   ]
  },
  {
   "cell_type": "code",
   "execution_count": 8,
   "id": "7fe157fe-fb9c-491b-80b6-e3c6a990252b",
   "metadata": {},
   "outputs": [
    {
     "name": "stdout",
     "output_type": "stream",
     "text": [
      "[1] 0.125 0.500 0.875 1.000\n",
      "[1] 0 1 2 3\n"
     ]
    }
   ],
   "source": [
    "# Median.\n",
    "print(cumsum(p))\n",
    "print(x)"
   ]
  },
  {
   "cell_type": "markdown",
   "id": "c750754f-2113-4889-bfc6-b7238a0e30fa",
   "metadata": {},
   "source": [
    "So median is any number between 1 and 2."
   ]
  },
  {
   "cell_type": "code",
   "execution_count": null,
   "id": "7467383b-a3b7-4650-a375-4c3b221be950",
   "metadata": {},
   "outputs": [],
   "source": []
  }
 ],
 "metadata": {
  "kernelspec": {
   "display_name": "R",
   "language": "R",
   "name": "ir"
  },
  "language_info": {
   "codemirror_mode": "r",
   "file_extension": ".r",
   "mimetype": "text/x-r-source",
   "name": "R",
   "pygments_lexer": "r",
   "version": "3.3.2"
  }
 },
 "nbformat": 4,
 "nbformat_minor": 5
}
