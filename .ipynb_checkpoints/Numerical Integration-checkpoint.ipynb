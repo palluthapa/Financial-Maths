{
 "cells": [
  {
   "cell_type": "markdown",
   "metadata": {},
   "source": [
    "# Numerical Integration\n",
    "## Trapezoidal Rule\n",
    "This method gives the result of definite integral $\\int_{a}^{b} f(x) \\,dx$ using trapezoid to approximate the area under the curve between $x=a$ and $x=b$ as $\\int_{a}^{b} f(x) \\,dx \\approx (b-a)\\frac{f(a)+f(b)}{2}$.\n",
    "The numerical approximation formula is:\n",
    "\n",
    "\\begin{equation}\n",
    "    \\int_{a}^{b} f(x) \\,dx \\approx \\frac{1}{2}\\sum_{n=1}^{N} (x_{n+1}-x_{n})(f(x_{n+1}+f(x_{n})))\n",
    "\\end{equation}"
   ]
  },
  {
   "cell_type": "code",
   "execution_count": 7,
   "metadata": {},
   "outputs": [
    {
     "name": "stdout",
     "output_type": "stream",
     "text": [
      "1.999998351770852\n"
     ]
    }
   ],
   "source": [
    "import numpy as np\n",
    "a = 0.0\n",
    "b = np.pi\n",
    "N = 1000    # Number of points.\n",
    "h = (b-a)/N\n",
    "x = np.linspace(a,b,N)\n",
    "y = np.sin(x) + np.cos(x)    # Function to be integrated.\n",
    "f = 0.0\n",
    "for i in range(len(x)-1):\n",
    "    f += 0.5*((x[i+1]-x[i])*(y[i+1]+y[i]))\n",
    "print(f)"
   ]
  },
  {
   "cell_type": "code",
   "execution_count": 1,
   "metadata": {},
   "outputs": [
    {
     "name": "stdout",
     "output_type": "stream",
     "text": [
      "Don't know how to reset  #, please run `%reset?` for details\n",
      "Don't know how to reset  clears, please run `%reset?` for details\n",
      "Don't know how to reset  all, please run `%reset?` for details\n",
      "Don't know how to reset  variables, please run `%reset?` for details\n",
      "Don't know how to reset  and, please run `%reset?` for details\n",
      "Don't know how to reset  names, please run `%reset?` for details\n",
      "Don't know how to reset  defined, please run `%reset?` for details\n",
      "Flushing input history\n",
      "Don't know how to reset  the, please run `%reset?` for details\n",
      "Don't know how to reset  current, please run `%reset?` for details\n",
      "Don't know how to reset  namespace, please run `%reset?` for details\n",
      "Don't know how to reset  forcefully., please run `%reset?` for details\n"
     ]
    }
   ],
   "source": [
    "%reset -f    # Clears all variables and names defined in the current namespace forcefully."
   ]
  },
  {
   "cell_type": "markdown",
   "metadata": {},
   "source": [
    "## Simpson's Rule\n",
    "The numerical approximation formula is given as:\n",
    "    $S_{N}(f)= \\frac{h}{3}\\sum_{i=1}^{\\frac{N}{2}}(f(x_{2i-2})+4f(x_{2i-1})+f(x_{2i}))$ where the interval size is $h=\\frac{(b-a)}{N}$ and $N$ is the total numbers of points."
   ]
  },
  {
   "cell_type": "markdown",
   "metadata": {},
   "source": [
    "## Python In-built Commands"
   ]
  },
  {
   "cell_type": "code",
   "execution_count": 8,
   "metadata": {},
   "outputs": [
    {
     "name": "stdout",
     "output_type": "stream",
     "text": [
      "1.9999983517708522\n"
     ]
    }
   ],
   "source": [
    "import numpy as np\n",
    "from scipy.integrate import simps, romb\n",
    "a = 0.0\n",
    "b = np.pi\n",
    "N = 1000    # Number of points.\n",
    "h = (b-a)/N\n",
    "x = np.linspace(a,b,N)\n",
    "y = np.sin(x) + np.cos(x)    # Function to be integrated.\n",
    "trap = np.trapz(y,x)\n",
    "print(trap)"
   ]
  },
  {
   "cell_type": "code",
   "execution_count": null,
   "metadata": {},
   "outputs": [],
   "source": []
  }
 ],
 "metadata": {
  "kernelspec": {
   "display_name": "Python 3",
   "language": "python",
   "name": "python3"
  },
  "language_info": {
   "codemirror_mode": {
    "name": "ipython",
    "version": 3
   },
   "file_extension": ".py",
   "mimetype": "text/x-python",
   "name": "python",
   "nbconvert_exporter": "python",
   "pygments_lexer": "ipython3",
   "version": "3.7.6"
  }
 },
 "nbformat": 4,
 "nbformat_minor": 4
}
