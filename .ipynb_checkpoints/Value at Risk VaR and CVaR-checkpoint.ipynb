{
 "cells": [
  {
   "cell_type": "markdown",
   "id": "97c81033-11e9-44e6-a9a1-d14343e31324",
   "metadata": {},
   "source": [
    "## Value at Risk (VaR)\n",
    "`Value at risk (VaR)` is a single, summary, statistical measure of possible portfolio losses. It aggregates all of the risks in a portfolio into a single number. VaR is defined as the loss level that will not be exceeded with a certain confidence level over a certain period of time. Again, this is related to the idea of downside risk, which\n",
    "measures the likelihood that a financial instrument or portfolio will lose value.\n",
    "\n",
    "`Definition:` $\\text{VaR}_{H,\\alpha}$ with time horizon H and confidence level $\\alpha$ is defined as that number such that $$\\mathbb{P}[L_H < VaR_{H,\\alpha}] = \\alpha$$\n",
    "Here $L_H$ is the loss on our portfolio ($L_H = \\text{Portfolio}_0 - \\text{Portfolio}_H$). The loss at time H is smaller than $VaR_{H,\\alpha}$ with $\\mathbb{P}$-probalility $\\alpha$.In other word, it is that level of loss over a time T that we will not exceed with $\\mathbb{P}$-probalility $\\alpha$. VaR is the $\\alpha$ $\\mathbb{P}$-percentile of the loss distribution over T.\n",
    "\n",
    "`Drawbacks of VaR: `\n",
    "* VaR does not take into account the tail structure beyond the percentile.\n",
    "* VaR is not sub-additive on portfolios. Suppose we have two portfolios P1 and P2, and a third portfolio P = P1 + P2 that is given by the two earlier portfolios together. VaR at a given confidence level and horizon would be sub-additive if $VaR(P1 + P2) \\leq VaR(P1) + VaR(P2)$. i.e. the risk of the total portfolio is smaller than the sum of the risks of its sub-portfolios (benefits of diversification). However, this is not true for VaR."
   ]
  },
  {
   "cell_type": "markdown",
   "id": "a3cf4ee8-63bb-47f8-9334-27bae1ce55aa",
   "metadata": {
    "tags": []
   },
   "source": [
    "## Expected Shortfall (ES)/Conditional Value at Risk (CVaR)\n",
    "As a remedy to this sub-additivity problem and only partly to the first drawback(tail Structure), a new risk measure Expected Shortfall (ES) or Conditional VaR (CVaR) has been introduced. ES requires us to compute VaR first, and then takes the expected value on the Tail of the loss distribution for values larger than VaR conditional on the loss being larger than Value at Risk. ES is sub-additive. ES looks at the tail after VaR, but only in expectation, without analyzing the tail structure carefully. Hence, it is only a partial solution to tail structure problem.\n",
    "\n",
    "`Definition: ` ES/CVaR for a portfolio at a confidence level $\\alpha$ and a risk horizon H is\n",
    "$$\\text{CVaR}_{H,\\alpha} = \\mathbb{E}^{\\mathbb{P}} [\\text{L}_{\\text{H}}|\\text{L}_\\text{H} > \\text{VaR}_{H,\\alpha} ] $$\n",
    "Other names this is average value at risk (AVaR) and expected tail loss (ETL)."
   ]
  },
  {
   "cell_type": "markdown",
   "id": "29182c09-d736-44e5-9e89-cc061b01846f",
   "metadata": {},
   "source": [
    "<u>Calculation Methods for VaR and CVaR</u>:\n",
    "- Historical Method: Makes no assumptions about Asset distribution.\n",
    "- Parametric Method (Variance-Covariance): Must use specific distribution for all assets.\n",
    "- Monte Carlo Method: Can use any distribution for each assets."
   ]
  },
  {
   "cell_type": "code",
   "execution_count": 1,
   "id": "4f5bbdcd-d9e4-4034-8f2d-495ffe5a2929",
   "metadata": {},
   "outputs": [],
   "source": [
    "# Historical VaR and CVaR. \n",
    "import pandas as pd\n",
    "import numpy as np\n",
    "import datetime as dt\n",
    "from pandas_datareader import data as pdr\n",
    "from scipy.stats import norm, t\n",
    "import matplotlib.pyplot as plt"
   ]
  },
  {
   "cell_type": "code",
   "execution_count": 2,
   "id": "e2cea02a-3225-4736-9df4-88c7442726d2",
   "metadata": {},
   "outputs": [
    {
     "data": {
      "text/plain": [
       "True"
      ]
     },
     "execution_count": 2,
     "metadata": {},
     "output_type": "execute_result"
    }
   ],
   "source": []
  },
  {
   "cell_type": "code",
   "execution_count": null,
   "id": "d6caddf5-2a2f-462c-b1e0-dd5f37218264",
   "metadata": {},
   "outputs": [],
   "source": []
  }
 ],
 "metadata": {
  "kernelspec": {
   "display_name": "Python 3",
   "language": "python",
   "name": "python3"
  },
  "language_info": {
   "codemirror_mode": {
    "name": "ipython",
    "version": 3
   },
   "file_extension": ".py",
   "mimetype": "text/x-python",
   "name": "python",
   "nbconvert_exporter": "python",
   "pygments_lexer": "ipython3",
   "version": "3.7.10"
  }
 },
 "nbformat": 4,
 "nbformat_minor": 5
}
