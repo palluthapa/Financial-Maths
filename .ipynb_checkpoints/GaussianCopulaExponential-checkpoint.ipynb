{
 "cells": [
  {
   "cell_type": "code",
   "execution_count": 3,
   "metadata": {},
   "outputs": [
    {
     "name": "stdout",
     "output_type": "stream",
     "text": [
      "Z_1: -0.3663572230428933\n",
      "Z_2: -2.1269708070168374\n",
      "X: -0.3663572230428933\n",
      "Y: 0.3663572230428933\n",
      "U: 0.3570492676145156\n",
      "V: 0.6429507323854844\n",
      "E_1: 0.44168717916456574\n",
      "E_2: 1.0298815022017933\n"
     ]
    }
   ],
   "source": [
    "import numpy as np\n",
    "import math\n",
    "from scipy.stats import norm\n",
    "\n",
    "# iid Normal random variables.\n",
    "rho = -1\n",
    "Z_1 = norm.ppf(np.random.uniform(0.0, 1.0))\n",
    "Z_2 = norm.ppf(np.random.uniform(0.0, 1.0))\n",
    "print(f\"Z_1: {Z_1}\")\n",
    "print(f\"Z_2: {Z_2}\")\n",
    "\n",
    "# Correlated Normal random variables.\n",
    "X = Z_1\n",
    "Y = rho*Z_1 + (math.sqrt(1-rho**2)*Z_2)\n",
    "print(f\"X: {X}\")\n",
    "print(f\"Y: {Y}\")\n",
    "\n",
    "# Correlated Uniform random variables.\n",
    "U = norm.cdf(X)\n",
    "V = norm.cdf(Y)\n",
    "print(f\"U: {U}\")\n",
    "print(f\"V: {V}\")\n",
    "\n",
    "# Correlated Exponential random variables.\n",
    "E_1 = -math.log(1-U)\n",
    "E_2 = -math.log(1-V)\n",
    "print(f\"E_1: {E_1}\")\n",
    "print(f\"E_2: {E_2}\")"
   ]
  }
 ],
 "metadata": {
  "kernelspec": {
   "display_name": "Python 3",
   "language": "python",
   "name": "python3"
  },
  "language_info": {
   "codemirror_mode": {
    "name": "ipython",
    "version": 3
   },
   "file_extension": ".py",
   "mimetype": "text/x-python",
   "name": "python",
   "nbconvert_exporter": "python",
   "pygments_lexer": "ipython3",
   "version": "3.7.6"
  }
 },
 "nbformat": 4,
 "nbformat_minor": 4
}
