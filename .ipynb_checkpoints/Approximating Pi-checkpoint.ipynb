{
 "cells": [
  {
   "cell_type": "markdown",
   "metadata": {},
   "source": [
    "# Approximating Pi using Monte Carlo simulation\n",
    "Given a unit circle inside a square of length 2. If we play a game of throwing balls into the square, the probalility of number of balls falling inside unit square is$\\frac{\\pi}{4}$. That is  $\\mathbb{P}(\\text{Balls in Circle}) = \\frac{\\pi}{4}$. Now if we multiply this probability by 4 we get the value for $\\pi$."
   ]
  },
  {
   "cell_type": "code",
   "execution_count": 9,
   "metadata": {},
   "outputs": [
    {
     "name": "stdout",
     "output_type": "stream",
     "text": [
      "The approximate value of Pi is: 3.1416204\n"
     ]
    }
   ],
   "source": [
    "import numpy as np\n",
    "import random\n",
    "\n",
    "N = 10000000    # Total Number of balls thrown.\n",
    "circle = 0   # Initialising number of balls that landed inside circle.\n",
    "array = np.arange(1,N+1)\n",
    "\n",
    "\n",
    "for i in array:\n",
    "    x = random.uniform(-1,1)\n",
    "    y = random.uniform(-1,1)\n",
    "    if x**2 + y**2 <= 1:\n",
    "        circle += 1\n",
    "\n",
    "P = circle/N\n",
    "Pi = P*4\n",
    "print(f\"The approximate value of Pi is: {Pi}\")"
   ]
  },
  {
   "cell_type": "markdown",
   "metadata": {},
   "source": [
    "# Running Problem"
   ]
  },
  {
   "cell_type": "code",
   "execution_count": 1,
   "metadata": {},
   "outputs": [
    {
     "name": "stdout",
     "output_type": "stream",
     "text": [
      "5.698113441467285\n",
      "0.729064\n"
     ]
    },
    {
     "data": {
      "image/png": "[encoded data removed]",
      "text/plain": [
       "<Figure size 432x288 with 1 Axes>"
      ]
     },
     "metadata": {
      "needs_background": "light"
     },
     "output_type": "display_data"
    }
   ],
   "source": [
    "import numpy as np\n",
    "import matplotlib.pyplot as plt\n",
    "from time import time\n",
    "\n",
    "\n",
    "def get_calories_burned(lower_temp, upper_temp, avg_tol, sd_tol, avg_calories_burned):\n",
    "    #get the temp\n",
    "    temp = np.random.uniform(lower_temp, upper_temp)\n",
    "    \n",
    "    #get the tolerance\n",
    "    tol = np.random.normal(avg_tol, sd_tol)\n",
    "    \n",
    "    #if the temp is higher than our tolerance, then run\n",
    "    if temp > tol:\n",
    "        cals = np.random.exponential(avg_calories_burned)\n",
    "    else:\n",
    "        cals = 0\n",
    "        \n",
    "    return cals\n",
    "\n",
    "num_days = 1000000\n",
    "daily_calories = []\n",
    "\n",
    "start = time()\n",
    "for _ in range(num_days):\n",
    "    cals = get_calories_burned(40, 60, 55, 5, 200)\n",
    "    daily_calories.append(cals)\n",
    "end = time()\n",
    "print(end - start)\n",
    "\n",
    "plt.hist(daily_calories)\n",
    "plt.title(np.mean(daily_calories))\n",
    "\n",
    "\n",
    "print(len([i for i in daily_calories if i == 0]) / num_days)\n"
   ]
  },
  {
   "cell_type": "markdown",
   "metadata": {},
   "source": [
    "# Efficient Method : Vectorization¶"
   ]
  },
  {
   "cell_type": "code",
   "execution_count": 2,
   "metadata": {},
   "outputs": [
    {
     "name": "stdout",
     "output_type": "stream",
     "text": [
      "0.07564449310302734\n",
      "0.72857\n"
     ]
    },
    {
     "data": {
      "image/png": "[encoded data removed]",
      "text/plain": [
       "<Figure size 432x288 with 1 Axes>"
      ]
     },
     "metadata": {
      "needs_background": "light"
     },
     "output_type": "display_data"
    }
   ],
   "source": [
    "start = time()\n",
    "\n",
    "#get all temps at once\n",
    "temps = np.random.uniform(40, 60, num_days)\n",
    "\n",
    "#get all the tolerances at once\n",
    "tols = np.random.normal(55, 5, num_days)\n",
    "\n",
    "#get all the calories at once\n",
    "daily_calories = np.random.exponential(200, num_days)\n",
    "\n",
    "#if temp is less than tol, then you didnt run\n",
    "daily_calories[temps < tols] = 0\n",
    "\n",
    "end = time()\n",
    "print(end - start)\n",
    "\n",
    "plt.hist(daily_calories)\n",
    "plt.title(np.mean(daily_calories))\n",
    "\n",
    "print(len([i for i in daily_calories if i == 0]) / num_days)\n"
   ]
  },
  {
   "cell_type": "code",
   "execution_count": 1,
   "metadata": {},
   "outputs": [
    {
     "name": "stdout",
     "output_type": "stream",
     "text": [
      "(100000,)\n",
      "(100000,)\n"
     ]
    }
   ],
   "source": [
    "import numpy as np\n",
    "import matplotlib.pyplot as plt\n",
    "import math\n",
    "\n",
    "n = 100\n",
    "N = 100000\n",
    "X = np.random.rand(N,n)\n",
    "mu = 0.5\n",
    "sigma = math.sqrt(1/12)\n",
    "Y = 1/math.sqrt(n) * np.sum((X-mu)/sigma,1)\n",
    "print(np.shape(Y))\n",
    "print(np.shape(np.transpose(Y)))"
   ]
  },
  {
   "cell_type": "code",
   "execution_count": null,
   "metadata": {},
   "outputs": [],
   "source": []
  }
 ],
 "metadata": {
  "kernelspec": {
   "display_name": "Python 3",
   "language": "python",
   "name": "python3"
  },
  "language_info": {
   "codemirror_mode": {
    "name": "ipython",
    "version": 3
   },
   "file_extension": ".py",
   "mimetype": "text/x-python",
   "name": "python",
   "nbconvert_exporter": "python",
   "pygments_lexer": "ipython3",
   "version": "3.7.10"
  }
 },
 "nbformat": 4,
 "nbformat_minor": 4
}
