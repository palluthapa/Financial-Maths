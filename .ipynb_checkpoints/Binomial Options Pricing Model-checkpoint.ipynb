{
 "cells": [
  {
   "cell_type": "code",
   "execution_count": 115,
   "id": "9972c9b0-134d-4604-b8e2-765231ca8630",
   "metadata": {},
   "outputs": [],
   "source": [
    "import numpy as np\n",
    "import matplotlib.pyplot as plt\n",
    "import time\n",
    "import mathfinance as mf\n",
    "import scipy.optimize"
   ]
  },
  {
   "cell_type": "markdown",
   "id": "cf472a58-51ec-4f2d-b0c6-64d7a3e29dc7",
   "metadata": {
    "jp-MarkdownHeadingCollapsed": true,
    "tags": []
   },
   "source": [
    "### One-Period Binomial Model\n",
    "In a financial market, there is a `Risky asset` $S_t$(stock). The value of the stock at time ($t = 0$) is $S_0$.\n",
    "We assume a stock moves up a factor of $u$ or down a factor $d$ with a probability of $p$ or $(q = 1-p)$ respectively. There is also `Non-Risky asset` which can be a Bank Account or a Bond. $B_0$ is the amount invested in Bank Account at time ($t = 0$). Hence at time ($t = 1$), $B_1 = B_0(1+r)$ or $B_1 = B_0 e^{rT}$ in continuous time. In general, we have the interest rate $r \\geq 0$. \n",
    "\n",
    "<img src=\"pics/binomial1.jpg\" width=\"330\" height=\"500\"/>\n",
    "<img src=\"pics/binomial2.jpg\" width=\"530\" height=\"500\"/>"
   ]
  },
  {
   "cell_type": "markdown",
   "id": "69b8c103-e328-4158-b3ba-6eb6eaff74ed",
   "metadata": {},
   "source": [
    "### Arbitrage\n",
    "- `Type I Arbitrage`:\n",
    "In this case we begin our portfolio with zero investment and have zero chance of losing money and some chance of profit. Let $V_t$ be the portfolio value at time t.\n",
    "$$\n",
    "\\Biggl\\{\n",
    "\\begin{split}\n",
    "V_0 &= 0 \\\\\n",
    "\\mathbb{P}(V_T \\geq 0) &= 1 \\qquad \\text{(No chance of losing money)} \\\\\n",
    "\\mathbb{P}(V_T > 0) &> 0 \\qquad \\text{(Some chance of profit)} \\\\\n",
    "\\end{split}\n",
    "$$\n",
    "\n",
    "- `Type II Arbitrage`:\n",
    "In this case we receive credit today.\n",
    "$$\n",
    "\\Biggl\\{\n",
    "\\begin{split}\n",
    "V_0 &< 0 \\qquad \\text{(Receive credit)} \\\\\n",
    "\\mathbb{P}(V_T \\geq 0) &= 1 \\qquad \\text{(No chance of losing money)} \\\\\n",
    "\\end{split}\n",
    "$$"
   ]
  },
  {
   "cell_type": "markdown",
   "id": "40f8bd37-d5b0-45a0-91bd-0d54552a7a26",
   "metadata": {},
   "source": [
    "### Replicating Portfolio\n",
    "As an Option seller, we receive fee $X_0$ from buyer of the option. By trading in risky and non-risky assets at time $t = 1$, the value of the option should be same as our investment.\n",
    "- At $t = 0$, $X_0 = V_0$ i.e. the price of the option $V_0$ must be same as portfolio.\n",
    "- At $t = 1$, $X_1 = V_1$ for all possibilities up or down."
   ]
  },
  {
   "cell_type": "markdown",
   "id": "fbd23f2c-f189-4d99-914f-2643172891f6",
   "metadata": {},
   "source": [
    "### Law of One Price Theorem\n",
    "Let $V^{i}_{T} = \\text{Portfolio i at time T}$. \n",
    "$$ \\mathbb{P}(V_{T}^{\\alpha} = V_{T}^{\\beta}) = 1 \\implies V_{0}^{\\alpha} = V_{0}^{\\beta}$$\n",
    "If we have two portfolios $\\alpha$ and $\\beta$ with same value at time $T$(maturity) Then, the portfolios are the same at the start time $T = 0$.\n",
    "\n",
    "### Evolution of Stock Price(3-Period)\n",
    "Here is evolution of Stock price tree in binomial model for 3-period. We have used the recombining tree for computational efficiency.\n",
    "\n",
    "<img src=\"pics/binomial3.jpg\" width=\"400\" height=\"500\"/>"
   ]
  },
  {
   "cell_type": "markdown",
   "id": "f6170715-78b4-4f5c-8c66-462764f00cee",
   "metadata": {},
   "source": [
    "Using Law of One-Price Theorem, if we have $\\mathbb{P}(S_T + B_T = C_T) = 1$ (i.e. combined stock value and bank account at time T equals Option price at T) Then, $V_0 = C_0$.\n",
    "\n",
    "$V_T = (S_T,B_T) \\cdot \\theta$ where $\\theta = \\begin{pmatrix} \\beta \\\\ \\alpha \\end{pmatrix}$.\n",
    "$\\beta$ is the quantity of stock and $\\alpha$ is the quantity of bank account. Now using the Theorem,\n",
    "$$\n",
    "\\begin{align}\n",
    "C_0 &= \\alpha B_0 + \\beta S_0 \\qquad \\text{(Law of One Price equation)} \\\\\n",
    "C_0 &= \\alpha + \\beta S_0 \\tag 1 \\qquad \\text{(Since $B_0 = 1$ at t = 1)} \\\\\n",
    "\\end{align}\n",
    "$$\n",
    "\n",
    "$$\n",
    "\\begin{align}\n",
    "C_u &= \\alpha B_T + \\beta S_0 u  \\\\\n",
    "    &= \\alpha e^{rT} + \\beta S_0 u \\tag 2 \\\\\n",
    "C_d &= \\alpha B_T + \\beta S_0 d  \\\\\n",
    "    &= \\alpha e^{rT} + \\beta S_0 d \\tag 3 \\\\    \n",
    "\\end{align}\n",
    "$$\n",
    "(2)-(3) gives:\n",
    "$$\n",
    "\\begin{align}\n",
    "C_u - C_d &= \\beta (S_0 u - S_0 d)  \\\\\n",
    "\\beta &= \\frac {C_u - C_d }{S_0 u - S_0 d} \\tag 4 \\\\    \n",
    "\\end{align}\n",
    "$$\n",
    "Using (3),\n",
    "$$\n",
    "\\begin{align}\n",
    "C_d &= \\alpha e^{rT} + \\beta S_0 d  \\\\\n",
    "\\alpha &= e^{-rT} (C_d - \\beta S_0 d)  \\tag 5 \\\\    \n",
    "\\end{align}\n",
    "$$\n",
    "Substituting (4) and (5) into (1):\n",
    "$$\n",
    "\\begin{align}\n",
    "C_0 &= \\alpha + \\beta S_0  \\\\\n",
    "    &= e^{-rT} (C_d - \\beta S_0 d) + \\beta S_0 \\\\ \n",
    "    &= e^{-rT}[C_d - \\beta S_0 d + \\beta S_0 e^{rT}] \\\\\n",
    "    &= e^{-rT}[C_d + \\beta (S_0 e^{rT} - S_0 d)] \\\\\n",
    "    &= e^{-rT}\\Bigl[C_d + \\frac {C_u - C_d}{S_0 u - S_0 d} (S_0 e^{rT} - S_0 d)\\Bigl] \\\\\n",
    "    &= e^{-rT}\\Bigl[C_d + C_u \\frac {S_0 e^{rT} - S_0 d}{S_0 u - S_0 d} - C_d \\frac {S_0 e^{rT} - S_0 d}{S_0 u - S_0 d}\\Bigl] \\\\\n",
    "    &= e^{-rT}\\Bigl[\\frac {S_0 e^{rT} - S_0 d}{S_0 u - S_0 d} C_u + (1 - \\frac {S_0 e^{rT} - S_0 d}{S_0 u - S_0 d})C_d \\Bigl] \\\\\n",
    "    &= e^{-rT}\\Bigl[\\frac {e^{rT} - d}{u - d} C_u + (1 - \\frac {e^{rT} - d}{u - d})C_d \\Bigl] \\\\\n",
    "C_0 &= e^{-rT}[\\tilde{p} C_u + (1 - \\tilde{p})C_d] \\tag 6\\\\\n",
    "\\end{align}\n",
    "$$\n",
    "Here, $\\tilde{p} = \\frac {e^{rT} - d}{u - d}$ is a Risk-Neutral measure. Note $\\tilde{p}$ is not the physical probability of up/down of stock. Also  $0 < \\tilde{p} < 1$.\n",
    "- `Lemma:` Binomial Model has No-Arbitrage iff $0 < d < 1+r < u$.\n",
    "\n",
    "(6) is the No-Arbitrage formula built from Law of One price which can be used to price options by backward propogation even for Multi-period model.\n",
    "\n",
    "#### Stencil for Pricing\n",
    "We use the Recombining Stock tree using nodes $(i,j)$ and initial stock price $S_0$. $C_{i,j}$ = Derivative price at node $(i,j)$.\n",
    "<img src=\"pics/binomial4.jpg\" width=\"400\" height=\"500\"/>\n",
    "\n",
    "$j$ goes from bottom to top and $i$ goes from left to right in terms of `time steps`. Each node of this Multi-period Binomial tree is represented $(i,j)$. In this tree: $$S_{i,j} = S_0 u^jd^{i-j}$$ In N-period Model, the terminal condition for the derivative is the Payoff at the last time step N. So, \n",
    "$$\n",
    "\\begin{align}\n",
    "C_{N,j} &= \\text{Payoff Function} \\\\\n",
    "C_{N,j} &= Max(S_{N,j} - K, 0) \\qquad \\text{(Call Option Payoff)}\n",
    "\\end{align}\n",
    "$$\n",
    "We can use (6) formula backwards to get prices for each preceding nodes."
   ]
  },
  {
   "cell_type": "markdown",
   "id": "39a29cd6-106d-4800-9a05-58d09080fb65",
   "metadata": {},
   "source": [
    "At expiration, we know the price of the option.  It is either 0 if out-of-the-money, or its intrinsic value if in-the-money.\n",
    "\n",
    "The price at the preceding node is then give by, \n",
    "$$C = e^{-rt}(pC_u + (1-p)C_d)$$\n",
    "\n",
    "If the tree has multiple layers as shown above, we can then repeat the above process to entirely fill out the tree.\n",
    "### The Cox-Ross-Rubinstein model\n",
    "As number of steps increases, to form a binomial tree with $\\Delta t$ step size, we must select $u$ and $d$, such that they are consistent with stock return’s volatility. Cox, Ross and Rubinstein purposed by setting $u$ and $d$ as:\n",
    "$$\n",
    "u = e^{\\sigma \\sqrt{\\Delta t}}\\\\\n",
    "d = \\frac {1}{u} = e^{-\\sigma \\sqrt{\\Delta t}}\n",
    "$$\n"
   ]
  },
  {
   "cell_type": "markdown",
   "id": "cff39c83-74ab-46c1-8f3f-59e9455b522b",
   "metadata": {},
   "source": [
    "We now write a function that calculates the price of European Call/Put Option using the Binomial Tree Model."
   ]
  },
  {
   "cell_type": "code",
   "execution_count": 72,
   "id": "89280963-b538-4d3f-b178-0bdf7e54889b",
   "metadata": {},
   "outputs": [],
   "source": [
    "def binomial_pricer(S0, K, r, T, M, sigma, type = \"call\"):\n",
    "    '''\n",
    "    Calculates the Price of a European call/put option with strike K and maturity T using Binomial Model.\n",
    "    \n",
    "            Parameters:\n",
    "                    S0 (double): Current price of the underlying asset.\n",
    "                    K (double) : Strike price of the option.\n",
    "                    r (double) : Risk-free Interest Rate.\n",
    "                    T (double) : Time to maturity/expiration (in years).\n",
    "                    M (Int)    : Number of points in time direction.\n",
    "                    sigma (double) : Volatility of the underlying asset.\n",
    "                    type (String) : European call or put option.\n",
    "\n",
    "            Returns:\n",
    "                    price (double): Price of a European call/put option.\n",
    "    '''\n",
    "    N = M-1     # Number of time steps.\n",
    "    dt = T/N    # Time-step size.\n",
    "    u = np.exp(sigma * np.sqrt(dt))\n",
    "    d = 1/u     # Down-factor in Binomial model. 1/u ensures that it is a recombining tree.\n",
    "    p = (np.exp(r*dt) - d) / (u-d)    # Risk-Neutral probability measure.     \n",
    "    S  = np.zeros( (M, M) )    # Initialising Stock Price matrix with all zeros.\n",
    "    O = np.zeros( (M, M) )     # Initialising Option Price matrix with all zeros.\n",
    "\n",
    "    # Generating Stock Prices.\n",
    "    S[0, 0] = S0\n",
    "    #  Fill out the remaining values.\n",
    "    for i in range(1, M ):\n",
    "        Q = i + 1\n",
    "        S[i, 0] = d * S[i-1, 0]\n",
    "        for j in range(1, M ):\n",
    "            S[i, j] = u * S[i - 1, j - 1]\n",
    " \n",
    "    #  Calculate the option price at expiration.\n",
    "    if type == \"call\":\n",
    "        expiration = S[-1,:] - K\n",
    "    elif type == \"put\":\n",
    "        expiration = K - S[-1,:]\n",
    "           \n",
    "    expiration.shape = (expiration.size, )\n",
    "    expiration = np.where(expiration >= 0, expiration, 0)\n",
    "    O[-1,:] =  expiration   # Set the last row of the Options matrix to our expiration values.\n",
    "\n",
    "    #  Backpropagate to fill the remaining Options values at each nodes.\n",
    "    for i in range(M - 2,-1,-1):\n",
    "        for j in range(i + 1):\n",
    "            O[i,j] = np.exp(-r * dt) * ((1-p) * O[i+1,j] + p * O[i+1,j+1])\n",
    "\n",
    "    return O[0,0]"
   ]
  },
  {
   "cell_type": "code",
   "execution_count": 73,
   "id": "368200b1-bea5-4ac3-8a40-bfce6720cc12",
   "metadata": {},
   "outputs": [
    {
     "name": "stdout",
     "output_type": "stream",
     "text": [
      "15.62718707565503\n"
     ]
    }
   ],
   "source": [
    "# Initialise parameters.\n",
    "S0 = 100      # Initial stock price.\n",
    "K = 100       # Strike price.\n",
    "T = 1         # Time to maturity in years.\n",
    "r = 0.06      # Annual risk-free rate.\n",
    "M = 4         # Number of points in time direction.\n",
    "sigma = 0.3   # Volatility.\n",
    "\n",
    "call_price = binomial_pricer(S0, K, r, T, M, sigma, type = \"call\")\n",
    "print(call_price)"
   ]
  },
  {
   "cell_type": "markdown",
   "id": "75779c3b-0aec-45d4-aee7-21877c7a6a03",
   "metadata": {},
   "source": [
    "Lets vectorize our `binomial_pricer` and make use of the formula $S_{i,j} = S_0 u^jd^{i-j}$ so that our code runs efficiently."
   ]
  },
  {
   "cell_type": "code",
   "execution_count": 74,
   "id": "3906e4fe-3988-4548-999a-6ca2ca094142",
   "metadata": {},
   "outputs": [
    {
     "name": "stdout",
     "output_type": "stream",
     "text": [
      "15.62718707565503\n"
     ]
    }
   ],
   "source": [
    "def binomial_pricer_vectorized(S0, K, r, T, M, sigma, type = \"call\"):\n",
    "    '''\n",
    "    Calculates the Price of a European call/put option with strike K and maturity T using Binomial Model.\n",
    "    \n",
    "            Parameters:\n",
    "                    S0 (double): Current price of the underlying asset.\n",
    "                    K (double) : Strike price of the option.\n",
    "                    r (double) : Risk-free Interest Rate.\n",
    "                    T (double) : Time to maturity/expiration (in years).\n",
    "                    M (Int)    : Number of points in time direction.\n",
    "                    sigma (double) : Volatility of the underlying asset.\n",
    "                    type (String) : European call or put option.\n",
    "\n",
    "            Returns:\n",
    "                    price (double): Price of a European call/put option.\n",
    "    '''\n",
    "    N = M-1     # Number of time steps.\n",
    "    dt = T/N    # Time-step size.\n",
    "    u = np.exp(sigma * np.sqrt(dt))\n",
    "    d = 1/u     # Down-factor in Binomial model. 1/u ensures that it is a recombining tree.\n",
    "    p = (np.exp(r*dt) - d) / (u-d)    # Risk-Neutral probability measure. \n",
    "   \n",
    "    # Initialising Asset prices at maturity - Time step N.\n",
    "    S = S0 * d ** (np.arange(N,-1,-1)) * u ** (np.arange(0,N+1,1))\n",
    "\n",
    "    # Initialise option values at maturity.\n",
    "    if type == \"call\":\n",
    "        O = np.maximum( S - K , np.zeros(N+1) )\n",
    "    elif type == \"put\":\n",
    "        O = np.maximum( K - S , np.zeros(N+1) )    \n",
    "\n",
    "    # Backpropagate to fill the remaining Options values at each nodes.\n",
    "    for i in np.arange(N,0,-1):\n",
    "        O = np.exp(-r*dt) * ( p * O[1:i+1] + (1-p) * O[0:i] )\n",
    "\n",
    "    return O[0]\n",
    "\n",
    "call_price = binomial_pricer_vectorized(S0, K, r, T, M, sigma, type = \"call\")\n",
    "print(call_price)"
   ]
  },
  {
   "cell_type": "markdown",
   "id": "54819cb4-2690-421b-8e69-dee8ff766874",
   "metadata": {},
   "source": [
    "Lets compare the time taken by `binomial_pricer()` with `binomial_pricer_vectorized()`"
   ]
  },
  {
   "cell_type": "code",
   "execution_count": 75,
   "id": "905b9a26-c88c-440e-ac79-c0d2afc88db8",
   "metadata": {},
   "outputs": [
    {
     "name": "stdout",
     "output_type": "stream",
     "text": [
      "Time taken for binomial_pricer with M=5: 0.0 seconds\n",
      "Time taken for binomial_pricer_vectorized with M=5: 0.0 seconds\n",
      "Time taken for binomial_pricer with M=50: 0.0060198307037353516 seconds\n",
      "Time taken for binomial_pricer_vectorized with M=50: 0.0020346641540527344 seconds\n",
      "Time taken for binomial_pricer with M=500: 0.4083278179168701 seconds\n",
      "Time taken for binomial_pricer_vectorized with M=500: 0.01562047004699707 seconds\n",
      "Time taken for binomial_pricer with M=1000: 1.301236867904663 seconds\n",
      "Time taken for binomial_pricer_vectorized with M=1000: 0.019438982009887695 seconds\n",
      "Time taken for binomial_pricer with M=2500: 8.01438570022583 seconds\n",
      "Time taken for binomial_pricer_vectorized with M=2500: 0.031226634979248047 seconds\n"
     ]
    }
   ],
   "source": [
    "for M in [5, 50, 500, 1000, 2500]:\n",
    "    start_time = time.time()\n",
    "    binomial_pricer(S0, K, r, T, M, sigma, type=\"call\")\n",
    "    end_time = time.time()\n",
    "    print(f\"Time taken for binomial_pricer with M={M}: {end_time - start_time} seconds\")\n",
    "\n",
    "    start_time = time.time()\n",
    "    binomial_pricer_vectorized(S0, K, r, T, M, sigma, type=\"call\")\n",
    "    end_time = time.time()\n",
    "    print(f\"Time taken for binomial_pricer_vectorized with M={M}: {end_time - start_time} seconds\")"
   ]
  },
  {
   "cell_type": "markdown",
   "id": "e79b8ca0-a3ff-44ec-887f-6ee10dace88f",
   "metadata": {},
   "source": [
    "## Comparison with Black-Scholes Price"
   ]
  },
  {
   "cell_type": "code",
   "execution_count": 80,
   "id": "70ba79cd-8ec5-416b-9c58-d73026534e39",
   "metadata": {},
   "outputs": [
    {
     "name": "stdout",
     "output_type": "stream",
     "text": [
      "Binomial Price :  18.472966290958272\n",
      "Black-Scholes Price :  18.472604456409655\n"
     ]
    }
   ],
   "source": [
    "S0 = 100      \n",
    "K = 100      \n",
    "T = 1     \n",
    "r = 0.06           \n",
    "M = 10000\n",
    "sigma = 0.40\n",
    "blackscholes_call_price = mf.blackscholes(r, S0, K, T, sigma, t=0, type=\"call\")\n",
    "binomial_call_price = binomial_pricer_vectorized(S0, K, r, T, M, sigma, type=\"call\")\n",
    "print('Binomial Price : ', binomial_call_price)\n",
    "print('Black-Scholes Price : ', blackscholes_call_price)"
   ]
  },
  {
   "cell_type": "markdown",
   "id": "33a67bd3-a34d-4249-85ba-806acadabab6",
   "metadata": {},
   "source": [
    "As the number of nodes in Binomial Tree increases, it converges with Black-Scholes Price."
   ]
  },
  {
   "cell_type": "markdown",
   "id": "8a3bc179-03c2-4bbf-b370-2e58bb282499",
   "metadata": {},
   "source": [
    "## Implied Volatility using Binomial Pricing"
   ]
  },
  {
   "cell_type": "code",
   "execution_count": 114,
   "id": "66dc2152-b513-44c7-aed7-2eac50903e39",
   "metadata": {},
   "outputs": [
    {
     "name": "stdout",
     "output_type": "stream",
     "text": [
      "Implied Volatility :  30.757659013187848 %\n"
     ]
    }
   ],
   "source": [
    "# # Tesla call option expiring 21 june 2024.\n",
    "M = 5000\n",
    "r = 0.0532\n",
    "S = 239.29\n",
    "K = 220\n",
    "t = 191/365\n",
    "V_KT = 45.37     # Market price of Option.\n",
    "\n",
    "def f( sigma ):\n",
    "        return binomial_pricer_vectorized(S, K, r, T, M, sigma, type = \"call\") - V_KT\n",
    "    \n",
    "sol = scipy.optimize.root_scalar(f, x0=0.01, x1=1.0, method='secant')\n",
    "assert sol.converged\n",
    "print(\"Implied Volatility : \",sol.root * 100,\"%\")"
   ]
  },
  {
   "cell_type": "code",
   "execution_count": null,
   "id": "2ee4d480-9b24-41d5-8e5a-373b13a82553",
   "metadata": {},
   "outputs": [],
   "source": []
  }
 ],
 "metadata": {
  "kernelspec": {
   "display_name": "Python 3",
   "language": "python",
   "name": "python3"
  },
  "language_info": {
   "codemirror_mode": {
    "name": "ipython",
    "version": 3
   },
   "file_extension": ".py",
   "mimetype": "text/x-python",
   "name": "python",
   "nbconvert_exporter": "python",
   "pygments_lexer": "ipython3",
   "version": "3.7.16"
  }
 },
 "nbformat": 4,
 "nbformat_minor": 5
}
