{
 "cells": [
  {
   "cell_type": "code",
   "execution_count": 48,
   "id": "9972c9b0-134d-4604-b8e2-765231ca8630",
   "metadata": {},
   "outputs": [],
   "source": [
    "import numpy as np\n",
    "import matplotlib.pyplot as plt\n",
    "import time\n",
    "import mathfinance as mf\n",
    "import scipy.optimize\n",
    "plt.rcParams['figure.figsize'] = [15,7]"
   ]
  },
  {
   "cell_type": "markdown",
   "id": "cf472a58-51ec-4f2d-b0c6-64d7a3e29dc7",
   "metadata": {
    "jp-MarkdownHeadingCollapsed": true,
    "tags": []
   },
   "source": [
    "### One-Period Binomial Model\n",
    "In a financial market, there is a `Risky asset` $S_t$(stock). The value of the stock at time ($t = 0$) is $S_0$.\n",
    "We assume a stock moves up a factor of $u$ or down a factor $d$ with a probability of $p$ or $(q = 1-p)$ respectively. There is also `Non-Risky asset` which can be a Bank Account or a Bond. $B_0$ is the amount invested in Bank Account at time ($t = 0$). Hence at time ($t = 1$), $B_1 = B_0(1+r)$ or $B_1 = B_0 e^{rT}$ in continuous time. In general, we have the interest rate $r \\geq 0$. \n",
    "\n",
    "<img src=\"pics/binomial1.jpg\" width=\"330\" height=\"500\"/>\n",
    "<img src=\"pics/binomial2.jpg\" width=\"530\" height=\"500\"/>"
   ]
  },
  {
   "cell_type": "markdown",
   "id": "69b8c103-e328-4158-b3ba-6eb6eaff74ed",
   "metadata": {},
   "source": [
    "### Arbitrage\n",
    "- `Type I Arbitrage`:\n",
    "In this case we begin our portfolio with zero investment and have zero chance of losing money and some chance of profit. Let $V_t$ be the portfolio value at time t.\n",
    "$$\n",
    "\\Biggl\\{\n",
    "\\begin{split}\n",
    "V_0 &= 0 \\\\\n",
    "\\mathbb{P}(V_T \\geq 0) &= 1 \\qquad \\text{(No chance of losing money)} \\\\\n",
    "\\mathbb{P}(V_T > 0) &> 0 \\qquad \\text{(Some chance of profit)} \\\\\n",
    "\\end{split}\n",
    "$$\n",
    "\n",
    "- `Type II Arbitrage`:\n",
    "In this case we receive credit today.\n",
    "$$\n",
    "\\Biggl\\{\n",
    "\\begin{split}\n",
    "V_0 &< 0 \\qquad \\text{(Receive credit)} \\\\\n",
    "\\mathbb{P}(V_T \\geq 0) &= 1 \\qquad \\text{(No chance of losing money)} \\\\\n",
    "\\end{split}\n",
    "$$"
   ]
  },
  {
   "cell_type": "markdown",
   "id": "40f8bd37-d5b0-45a0-91bd-0d54552a7a26",
   "metadata": {},
   "source": [
    "### Replicating Portfolio\n",
    "As an Option seller, we receive fee $X_0$ from buyer of the option. By trading in risky and non-risky assets at time $t = 1$, the value of the option should be same as our investment.\n",
    "- At $t = 0$, $X_0 = V_0$ i.e. the price of the option $V_0$ must be same as portfolio.\n",
    "- At $t = 1$, $X_1 = V_1$ for all possibilities up or down."
   ]
  },
  {
   "cell_type": "markdown",
   "id": "fbd23f2c-f189-4d99-914f-2643172891f6",
   "metadata": {},
   "source": [
    "### Law of One Price Theorem\n",
    "Let $V^{i}_{T} = \\text{Portfolio i at time T}$. \n",
    "$$ \\mathbb{P}(V_{T}^{\\alpha} = V_{T}^{\\beta}) = 1 \\implies V_{0}^{\\alpha} = V_{0}^{\\beta}$$\n",
    "If we have two portfolios $\\alpha$ and $\\beta$ with same value at time $T$(maturity) Then, the portfolios are the same at the start time $T = 0$.\n",
    "\n",
    "### Evolution of Stock Price(3-Period)\n",
    "Here is evolution of Stock price tree in binomial model for 3-period. We have used the recombining tree for computational efficiency.\n",
    "\n",
    "<img src=\"pics/binomial3.jpg\" width=\"400\" height=\"500\"/>"
   ]
  },
  {
   "cell_type": "markdown",
   "id": "f6170715-78b4-4f5c-8c66-462764f00cee",
   "metadata": {},
   "source": [
    "Using Law of One-Price Theorem, if we have $\\mathbb{P}(S_T + B_T = C_T) = 1$ (i.e. combined stock value and bank account at time T equals Option price at T) Then, $V_0 = C_0$.\n",
    "\n",
    "$V_T = (S_T,B_T) \\cdot \\theta$ where $\\theta = \\begin{pmatrix} \\beta \\\\ \\alpha \\end{pmatrix}$.\n",
    "$\\beta$ is the quantity of stock and $\\alpha$ is the quantity of bank account. Now using the Theorem,\n",
    "$$\n",
    "\\begin{align}\n",
    "C_0 &= \\alpha B_0 + \\beta S_0 \\qquad \\text{(Law of One Price equation)} \\\\\n",
    "C_0 &= \\alpha + \\beta S_0 \\tag 1 \\qquad \\text{(Since $B_0 = 1$ at t = 1)} \\\\\n",
    "\\end{align}\n",
    "$$\n",
    "\n",
    "$$\n",
    "\\begin{align}\n",
    "C_u &= \\alpha B_T + \\beta S_0 u  \\\\\n",
    "    &= \\alpha e^{rT} + \\beta S_0 u \\tag 2 \\\\\n",
    "C_d &= \\alpha B_T + \\beta S_0 d  \\\\\n",
    "    &= \\alpha e^{rT} + \\beta S_0 d \\tag 3 \\\\    \n",
    "\\end{align}\n",
    "$$\n",
    "(2)-(3) gives:\n",
    "$$\n",
    "\\begin{align}\n",
    "C_u - C_d &= \\beta (S_0 u - S_0 d)  \\\\\n",
    "\\beta &= \\frac {C_u - C_d }{S_0 u - S_0 d} \\tag 4 \\\\    \n",
    "\\end{align}\n",
    "$$\n",
    "Using (3),\n",
    "$$\n",
    "\\begin{align}\n",
    "C_d &= \\alpha e^{rT} + \\beta S_0 d  \\\\\n",
    "\\alpha &= e^{-rT} (C_d - \\beta S_0 d)  \\tag 5 \\\\    \n",
    "\\end{align}\n",
    "$$\n",
    "Substituting (4) and (5) into (1):\n",
    "$$\n",
    "\\begin{align}\n",
    "C_0 &= \\alpha + \\beta S_0  \\\\\n",
    "    &= e^{-rT} (C_d - \\beta S_0 d) + \\beta S_0 \\\\ \n",
    "    &= e^{-rT}[C_d - \\beta S_0 d + \\beta S_0 e^{rT}] \\\\\n",
    "    &= e^{-rT}[C_d + \\beta (S_0 e^{rT} - S_0 d)] \\\\\n",
    "    &= e^{-rT}\\Bigl[C_d + \\frac {C_u - C_d}{S_0 u - S_0 d} (S_0 e^{rT} - S_0 d)\\Bigl] \\\\\n",
    "    &= e^{-rT}\\Bigl[C_d + C_u \\frac {S_0 e^{rT} - S_0 d}{S_0 u - S_0 d} - C_d \\frac {S_0 e^{rT} - S_0 d}{S_0 u - S_0 d}\\Bigl] \\\\\n",
    "    &= e^{-rT}\\Bigl[\\frac {S_0 e^{rT} - S_0 d}{S_0 u - S_0 d} C_u + (1 - \\frac {S_0 e^{rT} - S_0 d}{S_0 u - S_0 d})C_d \\Bigl] \\\\\n",
    "    &= e^{-rT}\\Bigl[\\frac {e^{rT} - d}{u - d} C_u + (1 - \\frac {e^{rT} - d}{u - d})C_d \\Bigl] \\\\\n",
    "C_0 &= e^{-rT}[\\tilde{p} C_u + (1 - \\tilde{p})C_d] \\tag 6\\\\\n",
    "\\end{align}\n",
    "$$\n",
    "Here, $\\tilde{p} = \\frac {e^{rT} - d}{u - d}$ is a Risk-Neutral measure. Note $\\tilde{p}$ is not the physical probability of up/down of stock. Also  $0 < \\tilde{p} < 1$.\n",
    "- `Lemma:` Binomial Model has No-Arbitrage iff $0 < d < 1+r < u$.\n",
    "\n",
    "(6) is the No-Arbitrage formula built from Law of One price which can be used to price options by backward propogation even for Multi-period model.\n",
    "\n",
    "#### Stencil for Pricing\n",
    "We use the Recombining Stock tree using nodes $(i,j)$ and initial stock price $S_0$. $C_{i,j}$ = Derivative price at node $(i,j)$.\n",
    "<img src=\"pics/binomial4.jpg\" width=\"400\" height=\"500\"/>\n",
    "\n",
    "$j$ goes from bottom to top and $i$ goes from left to right in terms of `time steps`. Each node of this Multi-period Binomial tree is represented $(i,j)$. In this tree: $$S_{i,j} = S_0 u^jd^{i-j}$$ In N-period Model, the terminal condition for the derivative is the Payoff at the last time step N. So, \n",
    "$$\n",
    "\\begin{align}\n",
    "C_{N,j} &= \\text{Payoff Function} \\\\\n",
    "C_{N,j} &= Max(S_{N,j} - K, 0) \\qquad \\text{(Call Option Payoff)}\n",
    "\\end{align}\n",
    "$$\n",
    "We can use (6) formula backwards to get prices for each preceding nodes."
   ]
  },
  {
   "cell_type": "markdown",
   "id": "39a29cd6-106d-4800-9a05-58d09080fb65",
   "metadata": {},
   "source": [
    "At expiration, we know the price of the option.  It is either 0 if out-of-the-money, or its intrinsic value if in-the-money.\n",
    "\n",
    "The price at the preceding node is then give by, \n",
    "$$C = e^{-rt}(pC_u + (1-p)C_d)$$\n",
    "\n",
    "If the tree has multiple layers as shown above, we can then repeat the above process to entirely fill out the tree.\n",
    "### The Cox-Ross-Rubinstein model\n",
    "As number of steps increases, to form a binomial tree with $\\Delta t$ step size, we must select $u$ and $d$, such that they are consistent with stock return’s volatility. Cox, Ross and Rubinstein purposed by setting $u$ and $d$ as:\n",
    "$$\n",
    "u = e^{\\sigma \\sqrt{\\Delta t}}\\\\\n",
    "d = \\frac {1}{u} = e^{-\\sigma \\sqrt{\\Delta t}}\n",
    "$$\n"
   ]
  },
  {
   "cell_type": "markdown",
   "id": "cff39c83-74ab-46c1-8f3f-59e9455b522b",
   "metadata": {},
   "source": [
    "We now write a function that calculates the price of European Call/Put Option using the Binomial Tree Model."
   ]
  },
  {
   "cell_type": "code",
   "execution_count": 3,
   "id": "89280963-b538-4d3f-b178-0bdf7e54889b",
   "metadata": {},
   "outputs": [],
   "source": [
    "def binomial_pricer(S0, K, r, T, M, sigma, type = \"call\"):\n",
    "    '''\n",
    "    Calculates the Price of a European call/put option with strike K and maturity T using Binomial Model. \n",
    "    Uses Cox-Ross-Rubinstein model.\n",
    "    \n",
    "            Parameters:\n",
    "                    S0 (double): Current price of the underlying asset.\n",
    "                    K (double) : Strike price of the option.\n",
    "                    r (double) : Risk-free Interest Rate.\n",
    "                    T (double) : Time to maturity/expiration (in years).\n",
    "                    M (Int)    : Number of points in time direction.\n",
    "                    sigma (double) : Volatility of the underlying asset.\n",
    "                    type (String) : European call or put option.\n",
    "\n",
    "            Returns:\n",
    "                    price (double): Price of a European call/put option.\n",
    "    '''\n",
    "    N = M-1     # Number of time steps.\n",
    "    dt = T/N    # Time-step size.\n",
    "    u = np.exp(sigma * np.sqrt(dt))\n",
    "    d = 1/u     # Down-factor in Binomial model. 1/u ensures that it is a recombining tree.\n",
    "    p = (np.exp(r*dt) - d) / (u-d)    # Risk-Neutral probability measure.     \n",
    "    S  = np.zeros( (M, M) )    # Initialising Stock Price matrix with all zeros.\n",
    "    O = np.zeros( (M, M) )     # Initialising Option Price matrix with all zeros.\n",
    "\n",
    "    # Generating Stock Prices.\n",
    "    S[0, 0] = S0\n",
    "    #  Fill out the remaining values.\n",
    "    for i in range(1, M ):\n",
    "        Q = i + 1\n",
    "        S[i, 0] = d * S[i-1, 0]\n",
    "        for j in range(1, M ):\n",
    "            S[i, j] = u * S[i - 1, j - 1]\n",
    " \n",
    "    #  Calculate the option price at expiration.\n",
    "    if type == \"call\":\n",
    "        expiration = S[-1,:] - K\n",
    "    elif type == \"put\":\n",
    "        expiration = K - S[-1,:]\n",
    "           \n",
    "    expiration.shape = (expiration.size, )\n",
    "    expiration = np.where(expiration >= 0, expiration, 0)\n",
    "    O[-1,:] =  expiration   # Set the last row of the Options matrix to our expiration values.\n",
    "\n",
    "    #  Backpropagate to fill the remaining Options values at each nodes.\n",
    "    for i in range(M - 2,-1,-1):\n",
    "        for j in range(i + 1):\n",
    "            O[i,j] = np.exp(-r * dt) * ((1-p) * O[i+1,j] + p * O[i+1,j+1])\n",
    "\n",
    "    return O[0,0]"
   ]
  },
  {
   "cell_type": "code",
   "execution_count": 4,
   "id": "368200b1-bea5-4ac3-8a40-bfce6720cc12",
   "metadata": {},
   "outputs": [
    {
     "name": "stdout",
     "output_type": "stream",
     "text": [
      "15.62718707565503\n"
     ]
    }
   ],
   "source": [
    "# Initialise parameters.\n",
    "S0 = 100      # Initial stock price.\n",
    "K = 100       # Strike price.\n",
    "T = 1         # Time to maturity in years.\n",
    "r = 0.06      # Annual risk-free rate.\n",
    "M = 4         # Number of points in time direction.\n",
    "sigma = 0.3   # Volatility.\n",
    "\n",
    "call_price = binomial_pricer(S0, K, r, T, M, sigma, type = \"call\")\n",
    "print(call_price)"
   ]
  },
  {
   "cell_type": "markdown",
   "id": "75779c3b-0aec-45d4-aee7-21877c7a6a03",
   "metadata": {},
   "source": [
    "Lets vectorize our `binomial_pricer` and make use of the formula $S_{i,j} = S_0 u^jd^{i-j}$ so that our code runs efficiently."
   ]
  },
  {
   "cell_type": "code",
   "execution_count": 5,
   "id": "3906e4fe-3988-4548-999a-6ca2ca094142",
   "metadata": {},
   "outputs": [
    {
     "name": "stdout",
     "output_type": "stream",
     "text": [
      "15.62718707565503\n"
     ]
    }
   ],
   "source": [
    "def binomial_pricer_vectorized(S0, K, r, T, M, sigma, type = \"call\"):\n",
    "    '''\n",
    "    Calculates the Price of a European call/put option with strike K and maturity T using Binomial Model.\n",
    "    Uses Cox-Ross-Rubinstein model.\n",
    "            Parameters:\n",
    "                    S0 (double): Current price of the underlying asset.\n",
    "                    K (double) : Strike price of the option.\n",
    "                    r (double) : Risk-free Interest Rate.\n",
    "                    T (double) : Time to maturity/expiration (in years).\n",
    "                    M (Int)    : Number of points in time direction.\n",
    "                    sigma (double) : Volatility of the underlying asset.\n",
    "                    type (String) : European call or put option.\n",
    "\n",
    "            Returns:\n",
    "                    price (double): Price of a European call/put option.\n",
    "    '''\n",
    "    N = M-1     # Number of time steps.\n",
    "    dt = T/N    # Time-step size.\n",
    "    u = np.exp(sigma * np.sqrt(dt))\n",
    "    d = 1/u     # Down-factor in Binomial model. 1/u ensures that it is a recombining tree.\n",
    "    p = (np.exp(r*dt) - d) / (u-d)    # Risk-Neutral probability measure. \n",
    "   \n",
    "    # Initialising Asset prices at maturity - Time step N.\n",
    "    S = S0 * d ** (np.arange(N,-1,-1)) * u ** (np.arange(0,N+1,1))\n",
    "\n",
    "    # Initialise option values at maturity.\n",
    "    if type == \"call\":\n",
    "        O = np.maximum( S - K , np.zeros(N+1) )\n",
    "    elif type == \"put\":\n",
    "        O = np.maximum( K - S , np.zeros(N+1) )    \n",
    "\n",
    "    # Backpropagate to fill the remaining Options values at each nodes.\n",
    "    for i in np.arange(N,0,-1):\n",
    "        O = np.exp(-r*dt) * ( p * O[1:i+1] + (1-p) * O[0:i] )\n",
    "\n",
    "    return O[0]\n",
    "\n",
    "call_price = binomial_pricer_vectorized(S0, K, r, T, M, sigma, type = \"call\")\n",
    "print(call_price)"
   ]
  },
  {
   "cell_type": "markdown",
   "id": "54819cb4-2690-421b-8e69-dee8ff766874",
   "metadata": {},
   "source": [
    "Lets compare the time taken by `binomial_pricer()` with `binomial_pricer_vectorized()`"
   ]
  },
  {
   "cell_type": "code",
   "execution_count": 6,
   "id": "905b9a26-c88c-440e-ac79-c0d2afc88db8",
   "metadata": {},
   "outputs": [
    {
     "name": "stdout",
     "output_type": "stream",
     "text": [
      "Time taken for binomial_pricer with M=5: 0.0009992122650146484 seconds\n",
      "Time taken for binomial_pricer_vectorized with M=5: 0.0 seconds\n",
      "Time taken for binomial_pricer with M=50: 0.005982875823974609 seconds\n",
      "Time taken for binomial_pricer_vectorized with M=50: 0.0009987354278564453 seconds\n",
      "Time taken for binomial_pricer with M=500: 0.32018160820007324 seconds\n",
      "Time taken for binomial_pricer_vectorized with M=500: 0.003996610641479492 seconds\n",
      "Time taken for binomial_pricer with M=1000: 1.2515525817871094 seconds\n",
      "Time taken for binomial_pricer_vectorized with M=1000: 0.008975028991699219 seconds\n",
      "Time taken for binomial_pricer with M=2500: 7.851285457611084 seconds\n",
      "Time taken for binomial_pricer_vectorized with M=2500: 0.025912761688232422 seconds\n"
     ]
    }
   ],
   "source": [
    "for M in [5, 50, 500, 1000, 2500]:\n",
    "    start_time = time.time()\n",
    "    binomial_pricer(S0, K, r, T, M, sigma, type=\"call\")\n",
    "    end_time = time.time()\n",
    "    print(f\"Time taken for binomial_pricer with M={M}: {end_time - start_time} seconds\")\n",
    "\n",
    "    start_time = time.time()\n",
    "    binomial_pricer_vectorized(S0, K, r, T, M, sigma, type=\"call\")\n",
    "    end_time = time.time()\n",
    "    print(f\"Time taken for binomial_pricer_vectorized with M={M}: {end_time - start_time} seconds\")"
   ]
  },
  {
   "cell_type": "markdown",
   "id": "e79b8ca0-a3ff-44ec-887f-6ee10dace88f",
   "metadata": {},
   "source": [
    "## Comparison with Black-Scholes Price"
   ]
  },
  {
   "cell_type": "code",
   "execution_count": 7,
   "id": "70ba79cd-8ec5-416b-9c58-d73026534e39",
   "metadata": {},
   "outputs": [
    {
     "name": "stdout",
     "output_type": "stream",
     "text": [
      "Binomial Price :  18.472966290958272\n",
      "Black-Scholes Price :  18.472604456409655\n"
     ]
    }
   ],
   "source": [
    "S0 = 100      \n",
    "K = 100      \n",
    "T = 1     \n",
    "r = 0.06           \n",
    "M = 10000\n",
    "sigma = 0.40\n",
    "blackscholes_call_price = mf.blackscholes(r, S0, K, T, sigma, t=0, type=\"call\")\n",
    "binomial_call_price = binomial_pricer_vectorized(S0, K, r, T, M, sigma, type=\"call\")\n",
    "print('Binomial Price : ', binomial_call_price)\n",
    "print('Black-Scholes Price : ', blackscholes_call_price)"
   ]
  },
  {
   "cell_type": "markdown",
   "id": "33a67bd3-a34d-4249-85ba-806acadabab6",
   "metadata": {},
   "source": [
    "As the number of nodes in Binomial Tree increases, it converges with Black-Scholes Price."
   ]
  },
  {
   "cell_type": "markdown",
   "id": "8a3bc179-03c2-4bbf-b370-2e58bb282499",
   "metadata": {},
   "source": [
    "## Implied Volatility using Binomial Pricing\n",
    "Lets compute implied volatility by finding roots of the following equation:\n",
    "$$\\text{Binomial}(\\sigma) - \\text{Market Price Of Option} = 0 $$"
   ]
  },
  {
   "cell_type": "code",
   "execution_count": 8,
   "id": "66dc2152-b513-44c7-aed7-2eac50903e39",
   "metadata": {},
   "outputs": [
    {
     "name": "stdout",
     "output_type": "stream",
     "text": [
      "Implied Volatility :  30.757659013187848 %\n"
     ]
    }
   ],
   "source": [
    "# # Tesla call option expiring 21 june 2024.\n",
    "M = 5000\n",
    "r = 0.0532\n",
    "S = 239.29\n",
    "K = 220\n",
    "t = 191/365\n",
    "V_KT = 45.37     # Market price of Option.\n",
    "\n",
    "def f( sigma ):\n",
    "        return binomial_pricer_vectorized(S, K, r, T, M, sigma, type = \"call\") - V_KT\n",
    "    \n",
    "sol = scipy.optimize.root_scalar(f, x0=0.01, x1=1.0, method='secant')\n",
    "assert sol.converged\n",
    "print(\"Implied Volatility : \",sol.root * 100,\"%\")"
   ]
  },
  {
   "cell_type": "markdown",
   "id": "94b04e28-e3c4-4719-9e81-7c0201600c2c",
   "metadata": {},
   "source": [
    "## Choosing Binomial parameters $\\tilde{p},u,d$ to match Risk-Neutral Mean and Variance of GBM Process\n",
    "1. **CRR - Cox, Ross & Rubinstein (1979)**: Chooses equal size jumps. Good for small time frame. Uses small number of steps. Only works for short term approximation. We expect over a small period of time the binomial model should behave in the same way as an asset in a risk neutral world. So we assume that over the small period of time $\\Delta t$ the `expected return of the binomial model` matches the `expected return in a risk-neutral world`. Hence, matching the *Mean* and *Variance*, we get the following two equations:\n",
    "$$\n",
    "\\mathbb{E}_t (S_{t+\\Delta t}) = p u + (1-p) d = e^{r\\Delta t} = \\text{Mean}\\\\\n",
    "\\mathbb{V}ar_t (S_{t+\\Delta t}) = p u^2 + (1-p) d^2 - (e^{r\\Delta t})^2 = \\sigma^2 \\Delta t = \\text{Variance}\n",
    "$$\n",
    "Choosing $u = \\frac{1}{d}$ and solving for parameters $p, u$ and $d$ leads to:\n",
    "$$\n",
    "\\boxed{\n",
    "\\begin{aligned}\n",
    "u &= e^{\\sigma \\sqrt{\\Delta t}}\\\\\n",
    "d &= \\frac {1}{u} = e^{-\\sigma \\sqrt{\\Delta t}}\\\\\n",
    "p &= \\frac{e^{r\\Delta t}-d}{u-d} \n",
    "\\end{aligned}}\n",
    "$$\n",
    "2. **JR - Jarrow & Rudd (1983)**: Choose Risk-Neutral probability $\\tilde{p} = \\frac{1}{2}$. Chooses equal size jumps. Good for small time frame. Uses small number of steps. Only works for short term approximation. Again, matching the *Mean* and *Variance*:\n",
    "$$\n",
    "p u + (1-p) d = e^{r\\Delta t}\\\\\n",
    "p u^2 + (1-p) d^2 - (e^{r\\Delta t})^2 = \\sigma^2 \\Delta t\n",
    "$$\n",
    "Choosing $p = \\frac{1}{2}$ and solving for parameters $p, u$ and $d$ leads to:\n",
    "$$\n",
    "\\boxed{\n",
    "\\begin{aligned}\n",
    "u &= e^{(r-\\frac{\\sigma^2}{2})\\Delta t +\\sigma\\sqrt{\\Delta t}}\\\\\n",
    "d &= e^{(r-\\frac{\\sigma^2}{2})\\Delta t -\\sigma\\sqrt{\\Delta t}}\\\\\n",
    "p &= \\frac{1}{2} \n",
    "\\end{aligned}}\n",
    "$$\n",
    "    **Jarrow-Rudd Risk Neutral**: The Jarrow-Rudd Risk Neutral model is a minor modification to the standard Jarrow-Rudd model. The same $u$ and $d$ are used, however instead of $p = \\frac{1}{2}$ the standard risk neutral value for $p$ is chosen.\n",
    "$$\n",
    "\\boxed{\n",
    "\\begin{aligned}\n",
    "u &= e^{(r-\\frac{\\sigma^2}{2})\\Delta t +\\sigma\\sqrt{\\Delta t}}\\\\\n",
    "d &= e^{(r-\\frac{\\sigma^2}{2})\\Delta t -\\sigma\\sqrt{\\Delta t}}\\\\\n",
    "p &= \\frac{e^{r\\Delta t}-d}{u-d}\n",
    "\\end{aligned}}\n",
    "$$\n",
    "- Limitation of **CRR & JR** Methods\n",
    "  The limitation of these methods is that they only work for short term approximations as we are not really getting the best approximation for the underlying's distribution. One of the ways of getting round this problem is use GBM as the underlying and approximating that. The Natural log of GBM process has a constant Mean and Variance and is Normally distributed. We turn the tree into Natural log of Asset prices. By matching the Mean and Variance of this new tree we get following two methods.\n",
    "\n",
    "3. **EQP** - Equal Probabilities.\n",
    "4. **TRG - Trigeorgis (1992)**: Equal jump size. `More accurate than CRR, JR and EQP` and robust over time."
   ]
  },
  {
   "cell_type": "markdown",
   "id": "3a4de427-3f2d-492a-a27c-ee021ff3b491",
   "metadata": {},
   "source": [
    "<img src=\"pics/logtree.jpg\" width=\"250\" height=\"400\"/>\n",
    "Geometric Brownian Motion (GBM) Dynamics:\n",
    "$$\n",
    "dS_t = rS_t dt + \\sigma S_t dW_t\n",
    "$$\n",
    "\n",
    "Apply Ito's lemma to $\\ln(S_t)$:\n",
    "$$\n",
    "\\begin{aligned}\n",
    "f(s) &= \\ln(s), \\quad f'(s) = \\frac{1}{s}, \\quad f''(s) = -\\frac{1}{s^2} \\\\\n",
    "d \\ln(St) &= \\frac{1}{S_t}dSt - \\frac{1}{2}\\frac{1}{S_t^2} (dS_t)^2\\\\\n",
    "          &= \\frac{1}{S_t}(r S_t dt + \\sigma S_t dW_t) - \\frac{1}{2}\\frac{1}{S_t^2}(r S_t dt + \\sigma S_t dW_t)^2 \\\\\n",
    "d \\ln(St)       &= (r - \\frac{\\sigma^2}{2})dt + \\sigma dW_t\n",
    "\\end{aligned}\n",
    "$$\n",
    "Writing $x = \\ln(S_t), \\nu = (r - \\frac{\\sigma^2}{2}), z = W_t$, we get\n",
    "$$dx = \\nu dt + \\sigma dz$$\n",
    "Now using $\\ln(S)$ dynamics, lets match *Mean* and *Variance*:\n",
    "$$\n",
    "\\nu \\Delta t = \\mathbb{E}(\\Delta x) = p_u \\Delta x_u + p_d \\Delta x_d\\\\\n",
    "\\sigma^2 \\Delta t + \\nu^2 \\Delta t^2 = \\mathbb{E}(\\Delta x^2) = p_u \\Delta x_u^2 + p_d \\Delta x_d^2\n",
    "$$\n",
    "Choosing equal probabilities $p_u = p_d = \\frac{1}{2}$ we get the **EQP**:\n",
    "$$\n",
    "\\boxed{\n",
    "p_u = p_d = \\frac{1}{2}\\\\\n",
    "\\nu \\Delta t = \\frac{1}{2} \\Delta x_u + \\frac{1}{2} \\Delta x_d\\\\\n",
    "\\sigma^2 \\Delta t + \\nu^2 \\Delta t^2 = \\frac{1}{2} (\\Delta x_u)^2 + \\frac{1}{2} (\\Delta x_d)^2\\\\\n",
    "\\text{which gives:}\\\\\n",
    "\\Delta x_u = \\frac{1}{2}\\nu \\Delta t + \\frac{1}{2} \\sqrt(4\\sigma^2\\Delta t - 3\\nu^2\\Delta t^2)\\\\\n",
    "\\Delta x_d = \\frac{3}{2}\\nu \\Delta t - \\frac{1}{2} \\sqrt(4\\sigma^2\\Delta t - 3\\nu^2\\Delta t^2)}\n",
    "$$\n",
    "For **TRG - Trigeorgis**, we take equal jump sizes, so we get:\n",
    "$$\n",
    "\\boxed{\n",
    "\\Delta x_u = \\Delta x_d = \\pm \\Delta x\\\\\n",
    "\\nu \\Delta t = p_u \\Delta x + p_d (-\\Delta x)\\\\\n",
    "\\sigma^2 \\Delta t + \\nu^2 \\Delta t^2 = p_u (\\Delta x)^2 + p_d (-\\Delta x)^2\\\\\n",
    "\\text{which gives:}\\\\\n",
    "\\Delta x = \\sqrt(\\sigma^2\\Delta t + \\nu^2\\Delta t^2)\\\\\n",
    "p_u = \\frac{1}{2} + \\frac{1}{2} \\frac{\\nu \\Delta t}{\\Delta x}}\n",
    "$$"
   ]
  },
  {
   "cell_type": "markdown",
   "id": "683900df-331b-4ebf-bfb4-ef47e7a7c847",
   "metadata": {},
   "source": [
    "We have already implemented `Cox, Ross & Rubinstein model` which uses equal jump sizes in the function `binomial_pricer_vectorized(S0, K, r, T, M, sigma, type = \"call\")` above. Lets write a code for `Jarrow and Rudd (JR) Method` which uses equal risk-neutral probabilities $(p=\\frac{1}{2})$."
   ]
  },
  {
   "cell_type": "code",
   "execution_count": 40,
   "id": "6072f5fd-e54c-4d9c-b583-f3c0631115e4",
   "metadata": {},
   "outputs": [
    {
     "name": "stdout",
     "output_type": "stream",
     "text": [
      "5.773426306825837\n",
      "5.754089414567574\n"
     ]
    }
   ],
   "source": [
    "def binomial_pricer_vectorized_JR(S0, K, r, T, M, sigma, type = \"call\"):\n",
    "    '''\n",
    "    Calculates the Price of a European call/put option with strike K and maturity T using Binomial Model.\n",
    "    Uses Jarrow and Rudd (JR) Method.\n",
    "            Parameters:\n",
    "                    S0 (double): Current price of the underlying asset.\n",
    "                    K (double) : Strike price of the option.\n",
    "                    r (double) : Risk-free Interest Rate.\n",
    "                    T (double) : Time to maturity/expiration (in years).\n",
    "                    M (Int)    : Number of points in time direction.\n",
    "                    sigma (double) : Volatility of the underlying asset.\n",
    "                    type (String) : European call or put option.\n",
    "\n",
    "            Returns:\n",
    "                    price (double): Price of a European call/put option.\n",
    "    '''\n",
    "    N = M-1     # Number of time steps.\n",
    "    dt = T/N    # Time-step size.\n",
    "    u = np.exp((r - 0.5*sigma**2)*dt + sigma*np.sqrt(dt))    # Jarrow and Rudd u parameter.\n",
    "    d = np.exp((r - 0.5*sigma**2)*dt - sigma*np.sqrt(dt))    # Jarrow and Rudd d parameter.\n",
    "    p = 0.5    # Jarrow and Rudd p parameter which is equal Risk-Neutral probability measure. \n",
    "   \n",
    "    # Initialising Asset prices at maturity - Time step N.\n",
    "    S = S0 * d ** (np.arange(N,-1,-1)) * u ** (np.arange(0,N+1,1))\n",
    "\n",
    "    # Initialise option values at maturity.\n",
    "    if type == \"call\":\n",
    "        O = np.maximum( S - K , np.zeros(N+1) )\n",
    "    elif type == \"put\":\n",
    "        O = np.maximum( K - S , np.zeros(N+1) )    \n",
    "\n",
    "    # Backpropagate to fill the remaining Options values at each nodes.\n",
    "    for i in np.arange(N,0,-1):\n",
    "        O = np.exp(-r*dt) * ( p * O[1:i+1] + (1-p) * O[0:i] )\n",
    "\n",
    "    return O[0]\n",
    "\n",
    "\n",
    "# Initialise parameters\n",
    "S0 = 100      # initial stock price\n",
    "K = 110       # strike price\n",
    "T = 0.5       # time to maturity in years\n",
    "r = 0.06      # annual risk-free rate\n",
    "M = 101       # number of time steps\n",
    "sigma = 0.3   # Annualised stock price volatility\n",
    "type = 'call' # Option Type 'call' or 'put'\n",
    "\n",
    "call_price_CRR = binomial_pricer_vectorized(S0, K, r, T, M, sigma, type = \"call\")\n",
    "call_price_JR = binomial_pricer_vectorized_JR(S0, K, r, T, M, sigma, type = \"call\")\n",
    "print(call_price_CRR)\n",
    "print(call_price_JR)"
   ]
  },
  {
   "cell_type": "markdown",
   "id": "dac49c72-9d25-41b3-9537-b188390f16e5",
   "metadata": {},
   "source": [
    "Lets write code for `Equal Probabilities (EQP) Method` where we choose equal risk-neutral probabilities, under logarithmic asset pricing tree."
   ]
  },
  {
   "cell_type": "code",
   "execution_count": 43,
   "id": "cfc0dfca-debb-45ae-8789-de2fa86662ac",
   "metadata": {},
   "outputs": [
    {
     "name": "stdout",
     "output_type": "stream",
     "text": [
      "5.736584478866665\n"
     ]
    }
   ],
   "source": [
    "def binomial_pricer_vectorized_EQP(S0, K, r, T, M, sigma, type = \"call\"):\n",
    "    '''\n",
    "    Calculates the Price of a European call/put option with strike K and maturity T using Binomial Model.\n",
    "    Uses Equal Probabilities (EQP) Method.\n",
    "            Parameters:\n",
    "                    S0 (double): Current price of the underlying asset.\n",
    "                    K (double) : Strike price of the option.\n",
    "                    r (double) : Risk-free Interest Rate.\n",
    "                    T (double) : Time to maturity/expiration (in years).\n",
    "                    M (Int)    : Number of points in time direction.\n",
    "                    sigma (double) : Volatility of the underlying asset.\n",
    "                    type (String) : European call or put option.\n",
    "\n",
    "            Returns:\n",
    "                    price (double): Price of a European call/put option.\n",
    "    '''\n",
    "    N = M-1     # Number of time steps.\n",
    "    dt = T/N    # Time-step size.\n",
    "    nu = r - 0.5*sigma**2\n",
    "    delta_xu = 0.5*nu*dt + 0.5*np.sqrt(4*sigma**2 * dt - 3*nu**2 * dt**2)  # EQP dxu parameter.\n",
    "    delta_xd = 1.5*nu*dt - 0.5*np.sqrt(4*sigma**2 * dt - 3*nu**2 * dt**2)  # EQP dxd parameter.\n",
    "    pu = 0.5  # EQP pu parameter.(probability of delta x up).\n",
    "       \n",
    "    # Initialising Asset prices at maturity - Time step N.\n",
    "    S = S0 * np.exp(N*delta_xd) * np.exp(np.arange(0, N+1, 1) * (delta_xu - delta_xd))\n",
    "\n",
    "    # Initialise option values at maturity.\n",
    "    if type == \"call\":\n",
    "        O = np.maximum( S - K , np.zeros(N+1) )\n",
    "    elif type == \"put\":\n",
    "        O = np.maximum( K - S , np.zeros(N+1) )    \n",
    "\n",
    "    # Backpropagate to fill the remaining Options values at each nodes.\n",
    "    for i in np.arange(N,0,-1):\n",
    "        O = np.exp(-r*dt) * ( pu * O[1:i+1] + (1-pu) * O[0:i] )\n",
    "\n",
    "    return O[0]\n",
    "\n",
    "call_price_EQP = binomial_pricer_vectorized_EQP(S0, K, r, T, M, sigma, type = \"call\")\n",
    "print(call_price_EQP)"
   ]
  },
  {
   "cell_type": "markdown",
   "id": "afd301fb-89eb-4c9f-8564-c03947b92497",
   "metadata": {},
   "source": [
    "We will now write code for `Trigeorgis Method(TRG)` where we choose equal jump sizes, under logarithmic asset pricing tree."
   ]
  },
  {
   "cell_type": "code",
   "execution_count": 44,
   "id": "ab16431f-3fa4-4ffe-8c5d-10b0d8169bea",
   "metadata": {},
   "outputs": [
    {
     "name": "stdout",
     "output_type": "stream",
     "text": [
      "5.773359020180716\n"
     ]
    }
   ],
   "source": [
    "def binomial_pricer_vectorized_TRG(S0, K, r, T, M, sigma, type = \"call\"):\n",
    "    '''\n",
    "    Calculates the Price of a European call/put option with strike K and maturity T using Binomial Model.\n",
    "    Uses Trigeorgis Method(TRG).\n",
    "            Parameters:\n",
    "                    S0 (double): Current price of the underlying asset.\n",
    "                    K (double) : Strike price of the option.\n",
    "                    r (double) : Risk-free Interest Rate.\n",
    "                    T (double) : Time to maturity/expiration (in years).\n",
    "                    M (Int)    : Number of points in time direction.\n",
    "                    sigma (double) : Volatility of the underlying asset.\n",
    "                    type (String) : European call or put option.\n",
    "\n",
    "            Returns:\n",
    "                    price (double): Price of a European call/put option.\n",
    "    '''\n",
    "    N = M-1     # Number of time steps.\n",
    "    dt = T/N    # Time-step size.\n",
    "    nu = r - 0.5*sigma**2\n",
    "    delta_xu = np.sqrt(sigma**2 * dt + nu**2 * dt**2)  # TRG dxu parameter.\n",
    "    delta_xd = -delta_xu  # TRG dxd parameter.\n",
    "    pu = 0.5 + 0.5*nu*dt/delta_xu  # TRG pu parameter.(probability of delta x up).\n",
    "       \n",
    "    # Initialising Asset prices at maturity - Time step N.\n",
    "    S = S0 * np.exp(N*delta_xd) * np.exp(np.arange(0, N+1, 1) * (delta_xu - delta_xd))\n",
    "\n",
    "    # Initialise option values at maturity.\n",
    "    if type == \"call\":\n",
    "        O = np.maximum( S - K , np.zeros(N+1) )\n",
    "    elif type == \"put\":\n",
    "        O = np.maximum( K - S , np.zeros(N+1) )    \n",
    "\n",
    "    # Backpropagate to fill the remaining Options values at each nodes.\n",
    "    for i in np.arange(N,0,-1):\n",
    "        O = np.exp(-r*dt) * ( pu * O[1:i+1] + (1-pu) * O[0:i] )\n",
    "\n",
    "    return O[0]\n",
    "\n",
    "call_price_TRG = binomial_pricer_vectorized_TRG(S0, K, r, T, M, sigma, type = \"call\")\n",
    "print(call_price_TRG)"
   ]
  },
  {
   "cell_type": "markdown",
   "id": "22cddf4f-5eb3-46d0-8091-db8329f3af13",
   "metadata": {},
   "source": [
    "### Methods Comparison\n",
    "Lets compare these method as we increase the time step and also plot the Black-Scholes price. Recall, as $\\Delta t \\rightarrow 0$, the Binomial price converges to Black-Scholes price."
   ]
  },
  {
   "cell_type": "code",
   "execution_count": 61,
   "id": "fca8e552-fa72-45cd-80af-bb8c53973516",
   "metadata": {},
   "outputs": [
    {
     "data": {
      "image/png": "[encoded data removed]",
      "text/plain": [
       "<Figure size 1080x504 with 1 Axes>"
      ]
     },
     "metadata": {
      "needs_background": "light"
     },
     "output_type": "display_data"
    }
   ],
   "source": [
    "# Initialise Empty list to add Option prices using different method and time steps.\n",
    "BS, CRR, JR, EQP, TRG = [],[],[],[],[]\n",
    "M = range(10, 700, 10)\n",
    "\n",
    "for i in M:\n",
    "    BS.append(mf.blackscholes(r, S0, K, T, sigma, t=0, type=\"call\"))\n",
    "    CRR.append(binomial_pricer_vectorized(S0, K, r, T, i, sigma, type = \"call\"))\n",
    "    JR.append(binomial_pricer_vectorized_JR(S0, K, r, T, i, sigma, type = \"call\"))\n",
    "    EQP.append(binomial_pricer_vectorized_EQP(S0, K, r, T, i, sigma, type = \"call\"))\n",
    "    TRG.append(binomial_pricer_vectorized_TRG(S0, K, r, T, i, sigma, type = \"call\"))\n",
    "\n",
    "plt.xlabel('Number of Time points (Time points - 1 = Periods of Binomial Model)', fontsize = 12) \n",
    "plt.ylabel('Option Price', fontsize = 12) \n",
    "plt.plot(M, CRR, label='Cox_Ross_Rubinstein')\n",
    "plt.plot(M, JR, label='Jarrow_Rudd')\n",
    "plt.plot(M, EQP, label='EQP')\n",
    "plt.plot(M, TRG, 'rx',label='Trigeorgis')\n",
    "plt.plot(M, BS, 'ko',label='Black-Scholes')\n",
    "plt.legend(loc='lower right')\n",
    "plt.title('Comparing different Methods as number of steps increases.', fontsize = 15)\n",
    "plt.show()"
   ]
  },
  {
   "cell_type": "markdown",
   "id": "6e51ec81-2706-4e01-86ea-4e7911f8f733",
   "metadata": {},
   "source": [
    "### Barrier Options\n",
    "This is a `Path-dependent option` whose payoff depends upon the whole stock price path $S_t \\in [0,T]$.\n",
    "Let $\\tau \\in [0,T]$ or $\\tau \\in [0 < t_0 < \\dots < t_k <T]$ be the monitoring dates in continuous and discrete domain respectively and let $B$ be the barrier value. Barrier options can be `up-and-in, up-and-out, down-and-out` etc meaning they either becomes worthless after hitting the barrier $B$ (out) or becomes activated with payoff after hitting the barrier (in).\n",
    "- Up-and-Out Knock-out Call Option: $$\\text{Payoff} = (S-K)^+ \\mathbb{1}_{\\{\\underset{t \\in \\tau}{\\text{Max}} S_T < B\\}}$$\n",
    "- Down-and-Out Knock-out Call Option: $$\\text{Payoff} = (S-K)^+ \\mathbb{1}_{\\{\\underset{t \\in \\tau}{\\text{Min}} S_T > B\\}}$$\n",
    "\n",
    "We can use the same Tree as before with stock tree being represented with nodes $(i,j)$ and the initial stock price $S_0$. Each node in the tree is calculated using $S_{i,j} = S_0 u^jd^{i-j}$. Recall, $i$ is the temporal direction while $j$ is node going from bottom to top at each $i$.\n",
    "- Up-and-Out Knock-out Call Option\n",
    "    - `Terminal value :` $C_N^j = (S_N^j - K)^+ \\mathbb{1}_{\\{ S_N^j < B\\}}$ for Up-and-Out Knock-out Call Option. \n",
    "     - For all other nodes $(i,j)$ we have:\n",
    "        - If $t_n \\in T$ and $S_i^j \\geq B$ then $C_i^j = 0$.\n",
    "        - Else if $t_n \\notin T$ or $S_i^j < B$ then $C_i^j = e^{-r\\Delta t}\\big[\\tilde{p}_i^j  C_{i+1}^{j+1} + (1 - \\tilde{p}_i^j ) C_{i+1}^{j-1}\\big]$.\n",
    "        \n",
    "Since European option has no conditions on pricing compared to Barrier option, so $\\text{Barrier Option Price} \\leq \\text{European Option Price}$. Lets write the code for Up-and-Out option."
   ]
  },
  {
   "cell_type": "code",
   "execution_count": 94,
   "id": "50d1fa2d-8620-4f4c-bfe3-cac02ede08fa",
   "metadata": {},
   "outputs": [
    {
     "name": "stdout",
     "output_type": "stream",
     "text": [
      "2.0067555064602067\n"
     ]
    }
   ],
   "source": [
    "def binomial_pricer_upandout(S0, K, r, T, M, sigma, B, type = \"call\"):\n",
    "    '''\n",
    "    Calculates the Price of a Barrier call/put option with strike K and maturity T using Binomial Model.\n",
    "    Uses Cox-Ross-Rubinstein model.\n",
    "            Parameters:\n",
    "                    S0 (double): Current price of the underlying asset.\n",
    "                    K (double) : Strike price of the option.\n",
    "                    r (double) : Risk-free Interest Rate.\n",
    "                    T (double) : Time to maturity/expiration (in years).\n",
    "                    M (Int)    : Number of points in time direction.\n",
    "                    sigma (double) : Volatility of the underlying asset.\n",
    "                    B (double) : Barrier Value.\n",
    "                    type (String) : Barrier call or put option.\n",
    "\n",
    "            Returns:\n",
    "                    price (double): Price of a Barrier call/put option.\n",
    "    '''\n",
    "    N = M-1     # Number of time steps.\n",
    "    dt = T/N    # Time-step size.\n",
    "    u = np.exp(sigma * np.sqrt(dt))\n",
    "    d = 1/u     # Down-factor in Binomial model. 1/u ensures that it is a recombining tree.\n",
    "    p = (np.exp(r*dt) - d) / (u-d)    # Risk-Neutral probability measure. \n",
    "   \n",
    "    # Initialising Asset prices at maturity - Time step N.\n",
    "    S = S0 * d ** (np.arange(N,-1,-1)) * u ** (np.arange(0,N+1,1))\n",
    "\n",
    "    # Initialise option values at maturity.\n",
    "    if type == \"call\":\n",
    "        O = np.maximum( S - K , np.zeros(N+1) )\n",
    "    elif type == \"put\":\n",
    "        O = np.maximum( K - S , np.zeros(N+1) )    \n",
    "        \n",
    "    # Checking if Barrier is crossed at Maturity.\n",
    "    O[S >= B] = 0\n",
    "\n",
    "    # Backpropagate to fill the remaining Options values at each nodes.\n",
    "    for i in np.arange(N-1,-1,-1):\n",
    "        S = S0 * d**(np.arange(i,-1,-1)) * u**(np.arange(0,i+1,1))\n",
    "        O[:i+1] = np.exp(-r*dt) * ( p * O[1:i+2] + (1-p) * O[0:i+1] )\n",
    "        O = O[:-1]\n",
    "        O[S >= B] = 0\n",
    "\n",
    "    return O[0]\n",
    "\n",
    "# Initialise parameters\n",
    "S0 = 100      # Initial stock price.\n",
    "K = 100       # Strike price.\n",
    "T = 0.5       # time to maturity in years.\n",
    "r = 0.06      # annual risk-free rate.\n",
    "M = 1000    # number of time points.\n",
    "sigma = 0.3   # Annualised stock price volatility.\n",
    "B = 125       # up-and-out barrier price/value.\n",
    "type = 'call' # Option Type 'call' or 'put'.\n",
    "\n",
    "barrier_price = binomial_pricer_upandout(S0, K, r, T, M, sigma, B, type = \"call\")\n",
    "print(barrier_price)"
   ]
  },
  {
   "cell_type": "markdown",
   "id": "fbf35450-4208-4782-90c9-60c16ebf320c",
   "metadata": {},
   "source": [
    "### American Put Option\n",
    "We will price American Put option for Non-dividend paying underlying. The payoff of American Put option is $$\\text{Payoff} = (K - S_{\\tau})^+$$ where $\\tau \\leq T$ is the time of exercise.\n",
    "\n",
    "- `Lemma :` It is never optimal to ecercise an American Call option with an underlying that does not pay dividend and when Interest rates are positive.\n",
    "   - <u>Proof</u>: Assume two portfolios $V_\\alpha$ and $V_\\beta$. $$V_\\alpha = \\underbrace{C}_{(S_\\tau - K)^+} + Ke^{-r(T-t)}$$ and $$V_\\beta = S$$\n",
    "   When $\\tau < T$: $$V_\\alpha = (S_\\tau - K)^+ + Ke^{-r(T-\\tau)} < V_\\beta = S_\\tau$$\n",
    "   When $\\tau = T$: $$V_\\alpha = (S_\\tau - K)^+ + K \\geq V_\\beta = S_T$$\n",
    "   Since, $V_\\alpha \\geq V_\\beta$ when $\\tau = T$, we should not exercise early. $\\blacksquare$"
   ]
  },
  {
   "cell_type": "code",
   "execution_count": 97,
   "id": "e7623aea-a632-4545-ab47-0749a25dcecc",
   "metadata": {},
   "outputs": [
    {
     "name": "stdout",
     "output_type": "stream",
     "text": [
      "7.231006437933018\n"
     ]
    }
   ],
   "source": [
    "def binomial_pricer_American(S0, K, r, T, M, sigma, type = \"call\"):\n",
    "    '''\n",
    "    Calculates the Price of a American call/put option with strike K and maturity T using Binomial Model.\n",
    "    Uses Cox-Ross-Rubinstein model.\n",
    "            Parameters:\n",
    "                    S0 (double): Current price of the underlying asset.\n",
    "                    K (double) : Strike price of the option.\n",
    "                    r (double) : Risk-free Interest Rate.\n",
    "                    T (double) : Time to maturity/expiration (in years).\n",
    "                    M (Int)    : Number of points in time direction.\n",
    "                    sigma (double) : Volatility of the underlying asset.\n",
    "                    type (String) : American call or put option.\n",
    "\n",
    "            Returns:\n",
    "                    price (double): Price of a American call/put option.\n",
    "    '''\n",
    "    N = M-1     # Number of time steps.\n",
    "    dt = T/N    # Time-step size.\n",
    "    u = np.exp(sigma * np.sqrt(dt))\n",
    "    d = 1/u     # Down-factor in Binomial model. 1/u ensures that it is a recombining tree.\n",
    "    p = (np.exp(r*dt) - d) / (u-d)    # Risk-Neutral probability measure. \n",
    "   \n",
    "    # Initialising Asset prices at maturity - Time step N.\n",
    "    S = S0 * d ** (np.arange(N,-1,-1)) * u ** (np.arange(0,N+1,1))\n",
    "\n",
    "    # Initialise option values at maturity.\n",
    "    if type == \"call\":\n",
    "        O = np.maximum( S - K , np.zeros(N+1) )\n",
    "    elif type == \"put\":\n",
    "        O = np.maximum( K - S , np.zeros(N+1) )    \n",
    "    \n",
    "    # Backpropagate to fill the remaining Options values at each nodes.\n",
    "    for i in np.arange(N-1,-1,-1):\n",
    "        S = S0 * d**(np.arange(i,-1,-1)) * u**(np.arange(0,i+1,1))\n",
    "        O[:i+1] = np.exp(-r*dt) * ( p * O[1:i+2] + (1-p) * O[0:i+1] )\n",
    "        O = O[:-1]\n",
    "        if type == \"call\":\n",
    "            O = np.maximum( S - K , O )\n",
    "        elif type == \"put\":\n",
    "            O = np.maximum( K - S , O )    \n",
    "\n",
    "    return O[0]\n",
    "\n",
    "# Initialise parameters\n",
    "S0 = 100      # Initial stock price.\n",
    "K = 100       # Strike price.\n",
    "T = 0.5       # time to maturity in years.\n",
    "r = 0.06      # annual risk-free rate.\n",
    "M = 100    # number of time points.\n",
    "sigma = 0.3   # Annualised stock price volatility.\n",
    "type = 'put' # Option Type 'call' or 'put'.\n",
    "\n",
    "american_put = binomial_pricer_American(S0, K, r, T, M, sigma, type)\n",
    "print(american_put)"
   ]
  },
  {
   "cell_type": "code",
   "execution_count": null,
   "id": "35e736f6-4c5e-490d-9e0b-1e9a3a0d2857",
   "metadata": {},
   "outputs": [],
   "source": []
  }
 ],
 "metadata": {
  "kernelspec": {
   "display_name": "Python 3",
   "language": "python",
   "name": "python3"
  },
  "language_info": {
   "codemirror_mode": {
    "name": "ipython",
    "version": 3
   },
   "file_extension": ".py",
   "mimetype": "text/x-python",
   "name": "python",
   "nbconvert_exporter": "python",
   "pygments_lexer": "ipython3",
   "version": "3.7.16"
  }
 },
 "nbformat": 4,
 "nbformat_minor": 5
}
