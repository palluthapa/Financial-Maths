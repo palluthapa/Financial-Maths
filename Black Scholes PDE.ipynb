{
 "cells": [
  {
   "cell_type": "markdown",
   "id": "48c4453c-b051-4374-9e05-e79bbea04e9c",
   "metadata": {},
   "source": [
    "## Black-Scholes PDE\n",
    "The `Black-Scholes partial differential equation (PDE)` for option $V$ is:\n",
    "$$\n",
    "\\frac{\\partial V}{\\partial t} + r S_t \\frac{\\partial V}{\\partial S} +  \\frac{1}{2} \\sigma^2 S_t^2 \\frac{\\partial^2 V}{\\partial S^2} - r V_t = 0 $$\n",
    "Writing $\\Delta_t=\\frac{\\partial V}{\\partial S_t}$ and $\\Gamma_t=\\frac{\\partial^2 V}{\\partial S_t^2}$, we get\n",
    "$$\\frac{\\partial V}{\\partial t} + r S_t \\Delta_t + \\frac{1}{2} \\sigma^2 S_t^2 \\Gamma_t - r V_t = 0 \n",
    "$$"
   ]
  },
  {
   "cell_type": "markdown",
   "id": "ccdd2da7-b680-4015-9c07-8d534636ca42",
   "metadata": {},
   "source": [
    "## The Greeks\n",
    "We can measure the sensitivity of the price to market conditions using partial derivatives of $V$.\n",
    "These partial derivatives are collectively called `The Greeks.` These can be seen as some kind of Risk-measure since they measure sensitivity to changes in the market. As the partial derivatives are linear, we can add up the Greeks of the components to compute the Greeks of the portfolio.\n",
    "If a trader writes (i.e. sells) a call option and replicates it using the delta-hedging strategy, then the delta of their portfolio is 0 at all times. This is because their portfolio consists of $-1$ units of the option and $\\Delta$ units of the stock. So the total $\\Delta$ is $-1 \\cdot  \\Delta + 1 \\cdot \\Delta=0$, since the $\\Delta$ of the stock is 1 ($\\frac{\\partial S}{\\partial S}=1$). So the $\\Delta$ hedging strategy can be viewed\n",
    "as the strategy of ensuring that this particular risk-measure is always 0. In practice, derivatives traders manage their portfolios to ensure that most of the Greek's are low as, at least heuristically, one would then expect that the portfolio is hedged against risks such as a change in interest rate or volatility.\n",
    "$$\n",
    "\\begin{split}\n",
    "\\Delta&:=\\frac{\\partial V}{\\partial S} \\\\ \n",
    "\\Gamma&:=\\frac{\\partial^2 V}{\\partial S^2} \\\\\n",
    "\\rho&:=\\frac{\\partial V}{\\partial r} \\\\\n",
    "\\theta&:=\\frac{\\partial V}{\\partial t} \\\\\n",
    "\\text{Vega}&:=\\frac{\\partial V}{\\partial \\sigma}\n",
    "\\end{split}\n",
    "$$"
   ]
  },
  {
   "cell_type": "markdown",
   "id": "9a69331d-19e2-4778-9e91-321221a6a22f",
   "metadata": {},
   "source": [
    "### Calculating formula for $\\Delta$ using `sympy`\n",
    "We begin by creating the symbols we need and then compute $V$ according to the Black-Scholes formula.\n",
    "We introduce a variable $\\tau=T-t$. We also indicate that all our variables will be positive as this will allow more simplification rules to be applied later. Since $N$ is a symbolic function rather than a variable, we must create it using `Function` command instead of using `symbols`."
   ]
  },
  {
   "cell_type": "code",
   "execution_count": 4,
   "id": "aa043614-b3ee-49a2-a5ed-3fda467f9caa",
   "metadata": {},
   "outputs": [
    {
     "data": {
      "text/latex": [
       "$\\displaystyle - K N{\\left(- \\sigma \\sqrt{\\tau} + \\frac{\\tau \\left(r + \\frac{\\sigma^{2}}{2}\\right) + \\log{\\left(\\frac{S}{K} \\right)}}{\\sigma \\sqrt{\\tau}} \\right)} e^{- r \\tau} + S N{\\left(\\frac{\\tau \\left(r + \\frac{\\sigma^{2}}{2}\\right) + \\log{\\left(\\frac{S}{K} \\right)}}{\\sigma \\sqrt{\\tau}} \\right)}$"
      ],
      "text/plain": [
       "-K*N(-sigma*sqrt(tau) + (tau*(r + sigma**2/2) + log(S/K))/(sigma*sqrt(tau)))*exp(-r*tau) + S*N((tau*(r + sigma**2/2) + log(S/K))/(sigma*sqrt(tau)))"
      ]
     },
     "metadata": {},
     "output_type": "display_data"
    },
    {
     "data": {
      "text/latex": [
       "$\\displaystyle - \\frac{K e^{- r \\tau} \\left. \\frac{d}{d \\xi_{1}} N{\\left(\\xi_{1} \\right)} \\right|_{\\substack{ \\xi_{1}=- \\sigma \\sqrt{\\tau} + \\frac{\\tau \\left(r + \\frac{\\sigma^{2}}{2}\\right) + \\log{\\left(\\frac{S}{K} \\right)}}{\\sigma \\sqrt{\\tau}} }}}{S \\sigma \\sqrt{\\tau}} + N{\\left(\\frac{\\tau \\left(r + \\frac{\\sigma^{2}}{2}\\right) + \\log{\\left(\\frac{S}{K} \\right)}}{\\sigma \\sqrt{\\tau}} \\right)} + \\frac{\\left. \\frac{d}{d \\xi_{1}} N{\\left(\\xi_{1} \\right)} \\right|_{\\substack{ \\xi_{1}=\\frac{\\tau \\left(r + \\frac{\\sigma^{2}}{2}\\right) + \\log{\\left(\\frac{S}{K} \\right)}}{\\sigma \\sqrt{\\tau}} }}}{\\sigma \\sqrt{\\tau}}$"
      ],
      "text/plain": [
       "-K*exp(-r*tau)*Subs(Derivative(N(_xi_1), _xi_1), _xi_1, -sigma*sqrt(tau) + (tau*(r + sigma**2/2) + log(S/K))/(sigma*sqrt(tau)))/(S*sigma*sqrt(tau)) + N((tau*(r + sigma**2/2) + log(S/K))/(sigma*sqrt(tau))) + Subs(Derivative(N(_xi_1), _xi_1), _xi_1, (tau*(r + sigma**2/2) + log(S/K))/(sigma*sqrt(tau)))/(sigma*sqrt(tau))"
      ]
     },
     "execution_count": 4,
     "metadata": {},
     "output_type": "execute_result"
    }
   ],
   "source": [
    "import sympy as sp\n",
    "\n",
    "S, tau, K, r, sigma, D1, D2 = sp.symbols('S tau K r sigma D1 D2',positive=True)\n",
    "N = sp.Function('N')\n",
    "d1 = 1/(sigma*sp.sqrt(tau))*(sp.log(S/K)+(r+sigma**2/2)*tau)\n",
    "d2 = d1 - sigma * sp.sqrt(tau)\n",
    "V = S*N(d1) -K*sp.exp(-r*tau)*N(d2)\n",
    "display(V)\n",
    "Delta = sp.diff(V,S)\n",
    "Delta"
   ]
  },
  {
   "cell_type": "markdown",
   "id": "c1141cd1-c648-4d19-8b5a-e570705fbf3b",
   "metadata": {},
   "source": [
    "Notice that we obtain an expression for $\\Delta$ in terms of the function $N$ and its partial derivative. We know the partial derivative of $N$ satisfies\n",
    "$$\n",
    "\\frac{d N(x)}{dx}=\\frac{1}{\\sqrt{2 \\pi}}\\exp{-x^2/2}\n",
    "$$\n",
    "so we can simplify these derivative terms. What we want to do is take our expression for $\\Delta$ and replace all partial derivatives of the form\n",
    "$$\n",
    "\\frac{d N(*_x)}{d *_x}\n",
    "$$\n",
    "with\n",
    "$$\n",
    "\\frac{1}{\\sqrt{2 \\pi}}e^{-\\frac{*_x^2}{2}}.\n",
    "$$\n",
    "In these last two expressions $*_x$ could be any variable at all, but it must be the same expression each time it occurs. The label $x$ on\n",
    "the pattern indicates that all the $*_x$ expressions must be identical. You can make changes to a `sympy` expression using the `replace` function. "
   ]
  },
  {
   "cell_type": "code",
   "execution_count": 10,
   "id": "d153f26d-28b4-4016-aa23-78b28be4df97",
   "metadata": {},
   "outputs": [
    {
     "data": {
      "text/latex": [
       "$\\displaystyle N{\\left(\\frac{2 r \\tau + \\sigma^{2} \\tau + \\log{\\left(\\frac{S^{2}}{K^{2}} \\right)}}{2 \\sigma \\sqrt{\\tau}} \\right)}$"
      ],
      "text/plain": [
       "N((2*r*tau + sigma**2*tau + log(S**2/K**2))/(2*sigma*sqrt(tau)))"
      ]
     },
     "execution_count": 10,
     "metadata": {},
     "output_type": "execute_result"
    }
   ],
   "source": [
    "Delta = Delta.replace(sp.Derivative(N(sp.Wild('x')),sp.Wild('x')), sp.exp(-sp.Wild('x')**2/2)/(sp.sqrt(2*sp.pi)))\n",
    "Delta = Delta.simplify()\n",
    "Delta "
   ]
  },
  {
   "cell_type": "markdown",
   "id": "f5a30a9f-2eba-478f-9339-741a55d4e074",
   "metadata": {},
   "source": [
    "This can be written very neatly as\n",
    "$$\\Delta = N(d_1).$$\n",
    "We check this on the next line to make sure by simlifying $\\Delta - N(d_1)$. We expect zero."
   ]
  },
  {
   "cell_type": "code",
   "execution_count": 11,
   "id": "6a0dfa79-bb45-4eef-b85e-151d4a4a1ef5",
   "metadata": {},
   "outputs": [
    {
     "data": {
      "text/latex": [
       "$\\displaystyle 0$"
      ],
      "text/plain": [
       "0"
      ]
     },
     "execution_count": 11,
     "metadata": {},
     "output_type": "execute_result"
    }
   ],
   "source": [
    "(N(d1)-Delta).simplify()"
   ]
  },
  {
   "cell_type": "markdown",
   "id": "7f16e95a-93c3-4d83-a719-b4aa9b73fd7d",
   "metadata": {},
   "source": [
    "- Lets use `sympy` to show that $V$ satisfies the Black-Scholes PDE\n",
    "$$\n",
    "\\frac{\\partial V}{\\partial t} + r S \\frac{\\partial V}{\\partial S } + \\frac{1}{2} \\sigma^2 S^2 \\frac{\\partial^2 V}{\\partial S^2 } - r V = 0.\n",
    "$$"
   ]
  },
  {
   "cell_type": "code",
   "execution_count": 12,
   "id": "c3d6514d-9647-4847-8c98-555c1fee82a3",
   "metadata": {},
   "outputs": [
    {
     "data": {
      "text/latex": [
       "$\\displaystyle \\frac{\\sqrt{2} e^{- \\frac{\\left(2 r \\tau + \\sigma^{2} \\tau + \\log{\\left(\\frac{S^{2}}{K^{2}} \\right)}\\right)^{2}}{8 \\sigma^{2} \\tau}}}{2 \\sqrt{\\pi} S \\sigma \\sqrt{\\tau}}$"
      ],
      "text/plain": [
       "sqrt(2)*exp(-(2*r*tau + sigma**2*tau + log(S**2/K**2))**2/(8*sigma**2*tau))/(2*sqrt(pi)*S*sigma*sqrt(tau))"
      ]
     },
     "execution_count": 12,
     "metadata": {},
     "output_type": "execute_result"
    }
   ],
   "source": [
    "Gamma = sp.diff( Delta, S )\n",
    "Gamma = Gamma.replace(sp.Derivative(N(sp.Wild('x')),sp.Wild('x')), sp.exp(-sp.Wild('x')**2/2)/(sp.sqrt(2*sp.pi)))\n",
    "Gamma = Gamma.simplify()\n",
    "Gamma"
   ]
  },
  {
   "cell_type": "code",
   "execution_count": 14,
   "id": "f791d34d-3a86-45f6-ba45-c557b1402779",
   "metadata": {},
   "outputs": [
    {
     "data": {
      "text/latex": [
       "$\\displaystyle - \\frac{\\left(4 K r \\sigma \\tau^{\\frac{9}{2}} N{\\left(\\frac{2 r \\tau - \\sigma^{2} \\tau + \\log{\\left(\\frac{S^{2}}{K^{2}} \\right)}}{2 \\sigma \\sqrt{\\tau}} \\right)} + \\frac{\\sqrt{2} K \\tau^{3} \\left(2 \\sigma^{2} \\tau - \\tau \\left(2 r + \\sigma^{2}\\right) + \\log{\\left(\\frac{S^{2}}{K^{2}} \\right)}\\right) e^{- \\frac{\\left(- 2 \\sigma^{2} \\tau + \\tau \\left(2 r + \\sigma^{2}\\right) + \\log{\\left(\\frac{S^{2}}{K^{2}} \\right)}\\right)^{2}}{8 \\sigma^{2} \\tau}}}{2 \\sqrt{\\pi}} + \\frac{\\sqrt{2} S \\tau^{3} \\left(\\tau \\left(2 r + \\sigma^{2}\\right) - \\log{\\left(\\frac{S^{2}}{K^{2}} \\right)}\\right) e^{r \\tau} e^{- \\frac{\\left(\\tau \\left(2 r + \\sigma^{2}\\right) + \\log{\\left(\\frac{S^{2}}{K^{2}} \\right)}\\right)^{2}}{8 \\sigma^{2} \\tau}}}{2 \\sqrt{\\pi}}\\right) e^{- r \\tau}}{4 \\sigma \\tau^{\\frac{9}{2}}}$"
      ],
      "text/plain": [
       "-(4*K*r*sigma*tau**(9/2)*N((2*r*tau - sigma**2*tau + log(S**2/K**2))/(2*sigma*sqrt(tau))) + sqrt(2)*K*tau**3*(2*sigma**2*tau - tau*(2*r + sigma**2) + log(S**2/K**2))*exp(-(-2*sigma**2*tau + tau*(2*r + sigma**2) + log(S**2/K**2))**2/(8*sigma**2*tau))/(2*sqrt(pi)) + sqrt(2)*S*tau**3*(tau*(2*r + sigma**2) - log(S**2/K**2))*exp(r*tau)*exp(-(tau*(2*r + sigma**2) + log(S**2/K**2))**2/(8*sigma**2*tau))/(2*sqrt(pi)))*exp(-r*tau)/(4*sigma*tau**(9/2))"
      ]
     },
     "execution_count": 14,
     "metadata": {},
     "output_type": "execute_result"
    }
   ],
   "source": [
    "theta = -sp.diff(V, tau)\n",
    "theta = theta.replace(sp.Derivative(N(sp.Wild('x')),sp.Wild('x')), sp.exp(-sp.Wild('x')**2/2)/(sp.sqrt(2*sp.pi)))\n",
    "theta = theta.simplify()\n",
    "theta"
   ]
  },
  {
   "cell_type": "code",
   "execution_count": 16,
   "id": "a7e179c5-11a5-40dd-bbc3-9e927709743d",
   "metadata": {},
   "outputs": [
    {
     "data": {
      "text/latex": [
       "$\\displaystyle 0$"
      ],
      "text/plain": [
       "0"
      ]
     },
     "execution_count": 16,
     "metadata": {},
     "output_type": "execute_result"
    }
   ],
   "source": [
    "black_scholes_pde = theta + r*S*Delta + sigma**2*S**2*Gamma/2 - r*V\n",
    "black_scholes_pde = black_scholes_pde.simplify()\n",
    "assert black_scholes_pde == 0\n",
    "black_scholes_pde"
   ]
  }
 ],
 "metadata": {
  "kernelspec": {
   "display_name": "Python 3",
   "language": "python",
   "name": "python3"
  },
  "language_info": {
   "codemirror_mode": {
    "name": "ipython",
    "version": 3
   },
   "file_extension": ".py",
   "mimetype": "text/x-python",
   "name": "python",
   "nbconvert_exporter": "python",
   "pygments_lexer": "ipython3",
   "version": "3.7.16"
  }
 },
 "nbformat": 4,
 "nbformat_minor": 5
}
