{
 "cells": [
  {
   "cell_type": "markdown",
   "metadata": {},
   "source": [
    "# Monte Carlo Integration in Python\n",
    "The average of a function over an interval $[a,b]$ can be written as:\n",
    "$$\\overline{f} = \\frac{1}{b-a} \\int_{a}^b f(x)dx$$\n",
    "$$(b-a)\\overline{f} = \\int_{a}^b f(x)dx$$\n",
    "$$(b-a)\\frac{1}{N}\\sum_{i}f(x_{i}) = \\int_{a}^b f(x)dx$$\n",
    "This is the Monte Carlo approximation for the integral. The *N* in the above formula is the number of points used.\n",
    "The steps for Monte Carlo are:\n",
    "1. Function to Integrate.\n",
    "2. Limits.\n",
    "3. Random number generator\n",
    "4. Loop through monte carlo equation.\n",
    "Another way to think of it as:\n",
    "- Domain for your Random set of Numbers.\n",
    "- Generate Random samples from Domain.\n",
    "- Do deterministic computation.\n",
    "### Percentage Error of Monte Carlo Method\n",
    "$$ Percentage Error = \\frac{1}{\\sqrt{N}}$$\n",
    "where $N$ is the number of trials or random samples.\n",
    "MCM is quick for data with higher numbers of degrees of freedom.for example A moving particle has 6 degrees of freedom(3 spatial,3 velocities).\n",
    "$$Probalility of Red Dots landing on Shape = \\frac{Area of Shape}{Area of Rectangle}$$\n",
    "$$\\frac{Number of points under graph}{Number of generated points} = \\frac{Area under graph}{Area of Box}$$\n",
    "$$Area under Graph = \\frac{No. of points under graph}{No. of generated points} * Area of Box$$\n",
    "$$\\int_{a}^b f(x)dx = \\frac{No. of points under graph}{No. of generated points} * Area of Box$$"
   ]
  },
  {
   "cell_type": "code",
   "execution_count": 52,
   "metadata": {
    "scrolled": true
   },
   "outputs": [
    {
     "name": "stdout",
     "output_type": "stream",
     "text": [
      "Integral = 21.07921962059998\n",
      "Elapsed time during the whole program in seconds: 1.65625\n"
     ]
    },
    {
     "data": {
      "image/png": "[encoded data removed]",
      "text/plain": [
       "<Figure size 432x288 with 1 Axes>"
      ]
     },
     "metadata": {
      "needs_background": "light"
     },
     "output_type": "display_data"
    }
   ],
   "source": [
    "import numpy as np\n",
    "import matplotlib.pyplot as plt\n",
    "from scipy import random\n",
    "import time\n",
    "%matplotlib inline\n",
    "\n",
    "start_time = time.process_time()\n",
    "\n",
    "# Limits of integration.\n",
    "a = 0\n",
    "b = 10\n",
    "\n",
    "N = 1000    # Number of points.\n",
    "S = 1000    # Number of Simulations.\n",
    "\n",
    "# Initialising function and variables.\n",
    "def function(x):\n",
    "    return np.sqrt(x)\n",
    "\n",
    "x_values = random.uniform(a,b,N)\n",
    "integral = 0\n",
    "areas = []\n",
    "\n",
    "for i in range(S):\n",
    "    x_values = random.uniform(a,b,N)\n",
    "    integral = 0\n",
    "    \n",
    "    for i in range(N):\n",
    "        integral += function(x_values[i])\n",
    "    \n",
    "    answer = (b-a)/float(N)*integral\n",
    "    areas.append(answer)\n",
    "    \n",
    "ans = np.mean(areas)\n",
    "plt.title('Distribution of Areas')\n",
    "plt.hist(areas, bins=30, ec='black', color='#d10aca')\n",
    "plt.xlabel('Areas')\n",
    "print('Integral = '+str(ans))\n",
    "end_time = time.process_time()\n",
    "simulation_time = end_time-start_time\n",
    "print(\"Elapsed time during the whole program in seconds:\", end_time-start_time) "
   ]
  },
  {
   "cell_type": "markdown",
   "metadata": {},
   "source": [
    "Integrate $\\int_{1}^{10} \\frac{\\ln(x)}{x} \\,dx$ using monte carlo by creating rectangle of length $9$ and width $\\frac{1}{e}$ and throwing random points inside the rectangle and figuring what proportion of points lie inside the curve."
   ]
  },
  {
   "cell_type": "code",
   "execution_count": 2,
   "metadata": {},
   "outputs": [
    {
     "name": "stdout",
     "output_type": "stream",
     "text": [
      "2.662306727813611\n"
     ]
    }
   ],
   "source": [
    "import math\n",
    "import random\n",
    "\n",
    "def func(x):\n",
    "    return math.log(x)/x\n",
    "\n",
    "count = 0.0\n",
    "in_area = 0.0\n",
    "\n",
    "while count<10000:\n",
    "    x_cord = random.uniform(1,10)\n",
    "    y_cord = random.uniform(0,1/math.e)\n",
    "    \n",
    "    if y_cord<func(x_cord):\n",
    "        in_area += 1\n",
    "    \n",
    "    count += 1\n",
    "\n",
    "area_box = 9/math.e\n",
    "\n",
    "print(in_area/count*area_box)"
   ]
  },
  {
   "cell_type": "code",
   "execution_count": null,
   "metadata": {},
   "outputs": [],
   "source": []
  }
 ],
 "metadata": {
  "kernelspec": {
   "display_name": "Python 3",
   "language": "python",
   "name": "python3"
  },
  "language_info": {
   "codemirror_mode": {
    "name": "ipython",
    "version": 3
   },
   "file_extension": ".py",
   "mimetype": "text/x-python",
   "name": "python",
   "nbconvert_exporter": "python",
   "pygments_lexer": "ipython3",
   "version": "3.7.16"
  }
 },
 "nbformat": 4,
 "nbformat_minor": 4
}
