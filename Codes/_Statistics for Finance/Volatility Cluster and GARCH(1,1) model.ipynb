{
 "cells": [
  {
   "cell_type": "markdown",
   "id": "3e4a7527-198a-4cb9-8b73-49a7d407de5c",
   "metadata": {},
   "source": [
    "# Volatility Clusters\n",
    "1. Produce volatility charts (historical and implied).\n",
    "2. Identify volatility clusters on volatility charts.\n",
    "3. Fit a GARCH(1,1) model to the price data.\n",
    "4. Write the resulting GARCH(1,1) model."
   ]
  },
  {
   "cell_type": "markdown",
   "id": "1b639551-881e-4caa-824e-a3a932ea5431",
   "metadata": {},
   "source": [
    "## 1. Volatility charts\n",
    "### Steps:\n",
    "- Download volatility data for a stock in Bloomberg (e.g.IBM). Use (stock ticker) GO, then HVT and GO, select the\n",
    "range (1 year of data), click Actions, export to Excel.\n",
    "- In R do a plot of the 30-day historical vol and the implied vol superimposed (i.e. on the same chart)."
   ]
  },
  {
   "cell_type": "code",
   "execution_count": 1,
   "id": "a0e50d4a-8173-40d2-a5f6-6776bcc19b0b",
   "metadata": {},
   "outputs": [
    {
     "data": {
      "text/plain": [
       "     ï..Date    IBM.US.Equity.Price IBM.US.Equity.Hist.Vol..10.\n",
       " 05/15/17:  1   Min.   :139.7       Min.   : 6.589             \n",
       " 05/16/17:  1   1st Qu.:145.1       1st Qu.: 8.402             \n",
       " 05/17/17:  1   Median :148.4       Median :10.360             \n",
       " 05/18/17:  1   Mean   :149.1       Mean   :14.050             \n",
       " 05/19/17:  1   3rd Qu.:153.6       3rd Qu.:12.752             \n",
       " 05/22/17:  1   Max.   :162.1       Max.   :51.512             \n",
       " (Other) :123                                                  \n",
       " IBM.US.Equity.Hist.Vol..30. IBM.US.Equity.Hist.Vol..50.\n",
       " Min.   : 8.799              Min.   : 9.218             \n",
       " 1st Qu.:10.340              1st Qu.:13.380             \n",
       " Median :13.909              Median :13.741             \n",
       " Mean   :15.196              Mean   :14.969             \n",
       " 3rd Qu.:16.352              3rd Qu.:16.242             \n",
       " Max.   :28.769              Max.   :23.050             \n",
       "                                                        \n",
       " IBM.US.Equity.Hist.Vol..100. IBM.US.Equity.Implied.Vol\n",
       " Min.   :11.68                Min.   :11.92            \n",
       " 1st Qu.:13.31                1st Qu.:13.69            \n",
       " Median :14.65                Median :14.18            \n",
       " Mean   :14.64                Mean   :15.66            \n",
       " 3rd Qu.:15.00                3rd Qu.:18.52            \n",
       " Max.   :18.88                Max.   :23.25            \n",
       "                                                       "
      ]
     },
     "metadata": {},
     "output_type": "display_data"
    },
    {
     "data": {
      "text/html": [
       "<ol class=list-inline>\n",
       "\t<li>'ï..Date'</li>\n",
       "\t<li>'IBM.US.Equity.Price'</li>\n",
       "\t<li>'IBM.US.Equity.Hist.Vol..10.'</li>\n",
       "\t<li>'IBM.US.Equity.Hist.Vol..30.'</li>\n",
       "\t<li>'IBM.US.Equity.Hist.Vol..50.'</li>\n",
       "\t<li>'IBM.US.Equity.Hist.Vol..100.'</li>\n",
       "\t<li>'IBM.US.Equity.Implied.Vol'</li>\n",
       "</ol>\n"
      ],
      "text/latex": [
       "\\begin{enumerate*}\n",
       "\\item 'ï..Date'\n",
       "\\item 'IBM.US.Equity.Price'\n",
       "\\item 'IBM.US.Equity.Hist.Vol..10.'\n",
       "\\item 'IBM.US.Equity.Hist.Vol..30.'\n",
       "\\item 'IBM.US.Equity.Hist.Vol..50.'\n",
       "\\item 'IBM.US.Equity.Hist.Vol..100.'\n",
       "\\item 'IBM.US.Equity.Implied.Vol'\n",
       "\\end{enumerate*}\n"
      ],
      "text/markdown": [
       "1. 'ï..Date'\n",
       "2. 'IBM.US.Equity.Price'\n",
       "3. 'IBM.US.Equity.Hist.Vol..10.'\n",
       "4. 'IBM.US.Equity.Hist.Vol..30.'\n",
       "5. 'IBM.US.Equity.Hist.Vol..50.'\n",
       "6. 'IBM.US.Equity.Hist.Vol..100.'\n",
       "7. 'IBM.US.Equity.Implied.Vol'\n",
       "\n",
       "\n"
      ],
      "text/plain": [
       "[1] \"ï..Date\"                      \"IBM.US.Equity.Price\"         \n",
       "[3] \"IBM.US.Equity.Hist.Vol..10.\"  \"IBM.US.Equity.Hist.Vol..30.\" \n",
       "[5] \"IBM.US.Equity.Hist.Vol..50.\"  \"IBM.US.Equity.Hist.Vol..100.\"\n",
       "[7] \"IBM.US.Equity.Implied.Vol\"   "
      ]
     },
     "metadata": {},
     "output_type": "display_data"
    },
    {
     "data": {
      "text/html": [
       "'data.frame'"
      ],
      "text/latex": [
       "'data.frame'"
      ],
      "text/markdown": [
       "'data.frame'"
      ],
      "text/plain": [
       "[1] \"data.frame\""
      ]
     },
     "metadata": {},
     "output_type": "display_data"
    }
   ],
   "source": [
    "mydata <- read.csv(\"data/IBM_vol.csv\") \n",
    "summary(mydata)\n",
    "colnames(mydata)  # names of the columns of the data.\n",
    "dat=mydata[1]   # gives first column (Date).\n",
    "price=mydata[2]\n",
    "hist=mydata[4]  # gives 30 days historical vol.\n",
    "impl=mydata[7]  # gives implied vol.\n",
    "class(dat)      # class data.frame."
   ]
  },
  {
   "cell_type": "code",
   "execution_count": 2,
   "id": "fc1fe063-bed5-48a8-a732-93936e18d5ce",
   "metadata": {},
   "outputs": [],
   "source": [
    "hist=as.vector(as.matrix(hist))  # convert from data.frame class to vector.\n",
    "dat=as.Date(mydata$ï..Date,\"%m/%d/%Y\")\n",
    "impl=as.vector(as.matrix(impl))\n",
    "price=as.vector(as.matrix(price))"
   ]
  },
  {
   "cell_type": "markdown",
   "id": "5fd9509d-c70b-4e64-9b06-8c75665ca89f",
   "metadata": {},
   "source": [
    "## 2. Volatility clusters\n",
    "`\"large changes tend to be followed by large changes, of either sign, and small changes tend to be followed by small changes.`” Mandelbrot (1963)\n",
    "- GARCH and stochastic volatility models are aimed at this.\n",
    "- GARCH(1,1): Squared volatility depends on last period’s volatility.\n",
    "$$\n",
    "\\begin{split}\n",
    "Y_t & = \\sigma_t \\epsilon_t \\\\\n",
    "\\sigma_t^2 & = \\alpha_0 + \\alpha_1 Y_{t-1}^2 + \\beta_1 \\sigma_{t-1}^2\n",
    "\\end{split}\n",
    "$$\n",
    "- These models ”propose statistical constructions which mimick volatility clustering in financial time series, but do not provide economic explanation for it” Cont (2005).\n"
   ]
  },
  {
   "cell_type": "code",
   "execution_count": 3,
   "id": "d7966d64-9748-4b9a-9714-95513ce7802d",
   "metadata": {},
   "outputs": [
    {
     "data": {
      "image/png": "[encoded data removed]",
      "text/plain": [
       "plot without title"
      ]
     },
     "metadata": {},
     "output_type": "display_data",
     "source": "R display func"
    }
   ],
   "source": [
    "# Plot historical and implied vol superimposed.\n",
    "plot(dat,hist,type=\"o\",ylim=c(0,40),ylab=\"vol\")\n",
    "par(new=T)\n",
    "plot(dat,impl,type=\"o\",col=\"red\",ylim=c(0,40),ylab=\"vol\",lty=2)\n",
    "legend(dat[124],40,c(\"historical\",\"implied\"),col=c(\"blue\",\"red\"), lty=1:2)\n",
    "arrows(dat[5],hist[5]+5,dat[5],hist[5],col=\"blue\")\n",
    "text(dat[5],hist[5]+6,\"cluster\",col=\"blue\")"
   ]
  },
  {
   "cell_type": "markdown",
   "id": "83cdf98e-2492-49a5-8181-ddd33bc4d9f7",
   "metadata": {
    "tags": []
   },
   "source": [
    "## 3. Fit GARCH(1,1)\n",
    "- Use the downloaded price data.\n",
    "- Compute the log-returns.\n",
    "- Load R package tseries: require(tseries).\n",
    "- Use the function garch() for the log-returns.\n",
    "- Output the coefficients of the model.\n",
    "Write the model (where do you use $\\alpha_0, \\alpha_1, \\beta_1$?)"
   ]
  },
  {
   "cell_type": "code",
   "execution_count": 4,
   "id": "0ed4e196-6a9d-4095-84d9-30c6b698c2df",
   "metadata": {},
   "outputs": [
    {
     "data": {
      "image/png": "[encoded data removed]",
      "text/plain": [
       "plot without title"
      ]
     },
     "metadata": {},
     "output_type": "display_data",
     "source": "R display func"
    }
   ],
   "source": [
    "plot(price,type=\"o\",ylab=\"vol\")"
   ]
  },
  {
   "cell_type": "code",
   "execution_count": 5,
   "id": "b3f971ba-1910-4573-b95b-90795bfcb710",
   "metadata": {},
   "outputs": [
    {
     "data": {
      "image/png": "[encoded data removed]",
      "text/plain": [
       "plot without title"
      ]
     },
     "metadata": {},
     "output_type": "display_data",
     "source": "R display func"
    }
   ],
   "source": [
    "# Compute log-returns of prices.\n",
    "log_returns = diff(log(price), lag=1)\n",
    "plot(log_returns,type=\"o\")\n",
    "abline(h=0)"
   ]
  },
  {
   "cell_type": "code",
   "execution_count": 10,
   "id": "bfb2d1cd-27b8-446b-acda-fa0e79bda3de",
   "metadata": {},
   "outputs": [
    {
     "name": "stdout",
     "output_type": "stream",
     "text": [
      "\n",
      " ***** ESTIMATION WITH ANALYTICAL GRADIENT ***** \n",
      "\n",
      "\n",
      "     I     INITIAL X(I)        D(I)\n",
      "\n",
      "     1     1.033871e-04     1.000e+00\n",
      "     2     5.000000e-02     1.000e+00\n",
      "     3     5.000000e-02     1.000e+00\n",
      "\n",
      "    IT   NF      F         RELDF    PRELDF    RELDX   STPPAR   D*STEP   NPRELDF\n",
      "     0    1 -5.123e+02\n",
      "     1   11 -5.124e+02  2.22e-05  5.20e-05  2.4e-05  4.7e+09  2.4e-06  1.24e+05\n",
      "     2   12 -5.124e+02  5.06e-07  5.97e-07  1.9e-05  2.0e+00  2.4e-06  2.59e-03\n",
      "     3   13 -5.124e+02  3.99e-09  8.37e-09  1.9e-05  2.0e+00  2.4e-06  2.58e-03\n",
      "     4   21 -5.124e+02  8.54e-05  6.13e-05  1.4e-01  1.8e+00  1.9e-02  2.59e-03\n",
      "     5   23 -5.126e+02  3.17e-04  2.22e-04  1.9e-01  2.0e+00  3.9e-02  4.72e-01\n",
      "     6   25 -5.126e+02  8.55e-05  8.18e-05  3.1e-02  2.0e+00  7.8e-03  5.50e+01\n",
      "     7   28 -5.126e+02  1.79e-06  1.78e-06  6.0e-04  2.0e+00  1.6e-04  6.44e+03\n",
      "     8   30 -5.126e+02  3.58e-06  3.57e-06  1.2e-03  2.0e+00  3.1e-04  6.29e+05\n",
      "     9   32 -5.126e+02  7.20e-06  7.17e-06  2.4e-03  2.0e+00  6.2e-04  6.33e+07\n",
      "    10   35 -5.126e+02  1.44e-07  1.44e-07  4.7e-05  2.0e+00  1.2e-05  6.42e+09\n",
      "    11   37 -5.126e+02  2.89e-07  2.89e-07  9.5e-05  2.0e+00  2.5e-05  6.41e+11\n",
      "    12   39 -5.126e+02  5.78e-08  5.78e-08  1.9e-05  2.0e+00  5.0e-06  6.41e+13\n",
      "    13   41 -5.126e+02  1.16e-07  1.16e-07  3.8e-05  2.0e+00  9.9e-06  6.41e+15\n",
      "    14   43 -5.126e+02  2.31e-08  2.31e-08  7.6e-06  2.0e+00  2.0e-06  6.41e+17\n",
      "    15   46 -5.126e+02  1.85e-07  1.85e-07  6.1e-05  2.0e+00  1.6e-05  6.42e+19\n",
      "    16   49 -5.126e+02  3.70e-09  3.70e-09  1.2e-06  2.0e+00  3.2e-07  6.42e+21\n",
      "    17   51 -5.126e+02  7.40e-10  7.40e-10  2.4e-07  2.0e+00  6.4e-08  6.42e+23\n",
      "    18   53 -5.126e+02  1.48e-09  1.48e-09  4.8e-07  2.0e+00  1.3e-07  6.42e+25\n",
      "    19   55 -5.126e+02  2.96e-09  2.96e-09  9.7e-07  2.0e+00  2.5e-07  6.42e+27\n",
      "    20   57 -5.126e+02  5.92e-10  5.92e-10  1.9e-07  2.0e+00  5.1e-08  6.42e+29\n",
      "    21   60 -5.126e+02  1.18e-11  1.18e-11  3.9e-09  2.0e+00  1.0e-09 -1.16e-02\n",
      "    22   62 -5.126e+02  2.37e-11  2.37e-11  7.8e-09  2.0e+00  2.0e-09 -1.16e-02\n",
      "    23   64 -5.126e+02  4.74e-12  4.74e-12  1.6e-09  2.0e+00  4.1e-10 -1.16e-02\n",
      "    24   66 -5.126e+02  9.47e-12  9.47e-12  3.1e-09  2.0e+00  8.1e-10 -1.16e-02\n",
      "    25   68 -5.126e+02  1.89e-11  1.89e-11  6.2e-09  2.0e+00  1.6e-09 -1.16e-02\n",
      "    26   71 -5.126e+02  3.79e-13  3.79e-13  1.2e-10  2.0e+00  3.3e-11 -1.16e-02\n",
      "    27   73 -5.126e+02  7.57e-13  7.58e-13  2.5e-10  2.0e+00  6.5e-11 -1.16e-02\n",
      "    28   76 -5.126e+02  1.55e-14  1.52e-14  5.0e-12  2.0e+00  1.3e-12 -1.16e-02\n",
      "    29   79 -5.126e+02  1.21e-13  1.21e-13  4.0e-11  2.0e+00  1.0e-11 -1.16e-02\n",
      "    30   82 -5.126e+02  2.44e-15  2.43e-15  7.9e-13  2.0e+00  2.1e-13 -1.16e-02\n",
      "    31   84 -5.126e+02  5.10e-15  4.85e-15  1.6e-12  2.0e+00  4.2e-13 -1.16e-02\n",
      "    32   86 -5.126e+02  6.65e-16  9.70e-16  3.2e-13  2.0e+00  8.3e-14 -1.16e-02\n",
      "    33   88 -5.126e+02  2.00e-15  1.94e-15  6.4e-13  2.0e+00  1.7e-13 -1.16e-02\n",
      "    34   90 -5.126e+02  4.44e-15  3.88e-15  1.3e-12  2.0e+00  3.3e-13 -1.16e-02\n",
      "    35   92 -5.126e+02  6.65e-16  7.76e-16  2.5e-13  2.0e+00  6.7e-14 -1.16e-02\n",
      "    36   94 -5.126e+02  4.44e-16  1.55e-16  5.1e-14  2.0e+00  1.3e-14  6.42e+59\n",
      "    37   96 -5.126e+02  0.00e+00  3.10e-17  1.0e-14  2.0e+00  2.7e-15 -1.16e-02\n",
      "\n",
      " ***** FALSE CONVERGENCE *****\n",
      "\n",
      " FUNCTION    -5.126171e+02   RELDX        1.017e-14\n",
      " FUNC. EVALS      96         GRAD. EVALS      37\n",
      " PRELDF       3.104e-17      NPRELDF     -1.164e-02\n",
      "\n",
      "     I      FINAL X(I)        D(I)          G(I)\n",
      "\n",
      "     1    1.074341e-04     1.000e+00    -3.612e+01\n",
      "     2    9.463821e-02     1.000e+00    -5.242e+00\n",
      "     3    5.977203e-15     1.000e+00     3.240e+00\n",
      "\n"
     ]
    },
    {
     "data": {
      "text/plain": [
       "\n",
       "Call:\n",
       "garch(x = log_returns)\n",
       "\n",
       "Coefficient(s):\n",
       "       a0         a1         b1  \n",
       "1.074e-04  9.464e-02  5.977e-15  \n"
      ]
     },
     "metadata": {},
     "output_type": "display_data"
    },
    {
     "ename": "ERROR",
     "evalue": "Error in object[[i]]: object of type 'closure' is not subsettable\n",
     "execution_count": 10,
     "output_type": "error",
     "traceback": [
      "Error in object[[i]]: object of type 'closure' is not subsettable\nTraceback:\n",
      "1. summary(garch)",
      "2. summary.default(garch)"
     ]
    }
   ],
   "source": [
    "# Fit GARCH(1,1).\n",
    "require(tseries)\n",
    "garch(log_returns)\n",
    "summary(garch)"
   ]
  },
  {
   "cell_type": "code",
   "execution_count": null,
   "id": "d88e3915-8519-40a9-a1f8-0cf192d38d3f",
   "metadata": {},
   "outputs": [],
   "source": []
  }
 ],
 "metadata": {
  "kernelspec": {
   "display_name": "R",
   "language": "R",
   "name": "ir"
  },
  "language_info": {
   "codemirror_mode": "r",
   "file_extension": ".r",
   "mimetype": "text/x-r-source",
   "name": "R",
   "pygments_lexer": "r",
   "version": "3.6.1"
  }
 },
 "nbformat": 4,
 "nbformat_minor": 5
}
