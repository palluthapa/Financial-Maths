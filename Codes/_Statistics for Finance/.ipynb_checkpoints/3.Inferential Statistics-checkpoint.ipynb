{
 "cells": [
  {
   "cell_type": "markdown",
   "id": "ca166584-b715-4fc1-a557-75d463c480b8",
   "metadata": {},
   "source": [
    "# Inferential Statistics"
   ]
  },
  {
   "cell_type": "markdown",
   "id": "3925a5e5-3847-4118-a413-ee71d8d9364e",
   "metadata": {},
   "source": [
    "### Central Limit Theorem\n",
    "Let $X$ be a random variable with mean $\\mu$ and finite variance $\\sigma^2$. Let us draw a random sample of size $n$ from this distribution. Then, the distribution of the sample sums converges to a Normal distribution as $n$ gets larger. Specifically,$$\\sum_{i=1}^{n} X_i \\xrightarrow[]{\\hspace{0.5cm}d\\hspace{0.5cm}} \\mathcal{N}(n\\mu,n\\sigma^2)$$\n",
    "Note the $X_i$ have to be independent.\n",
    "The Central Limit Theorem (CLT) tells us the following:\n",
    "- The sum of independent random variables is more Normal than the distribution of the variable itself, unless the variable is Normally distributed or if it has an infinite variance.\n",
    "     - The Binomial is a sum of independent Bernoulli RVs.\n",
    "     - The Poisson is a sum of independent Poisson RVs.\n",
    "\n",
    "- Because the sample mean is just the sample sum, divided by a constant ($n$), the CLT tells us that the distribution of sample means will tend towards Normal.\n",
    "- The speed of convergence depends on how closely the data distribution is to Normal. The closer, the faster."
   ]
  },
  {
   "cell_type": "markdown",
   "id": "3388d577-8ba0-475c-b8a5-6abf85f9fd99",
   "metadata": {},
   "source": [
    "### The Distribution of Sample Means\n",
    "Also known as Sampling Distribution of the mean.\n",
    "- Start with population.\n",
    "- Decide on $n$, eg. $n=20$.\n",
    "- Take as many samples of $n$ as possible from the population.\n",
    "- Calculate Mean$\\overline{X}$ for each sample.\n",
    "- Make histogram of all the $\\overline{X}$.\n",
    "\n",
    "A Sampling distribution is a Probability distribution of a sample statistic based on all possible simple *random samples* of the *same size* from the *same population.* A sample statistic is considered *Unbiased* if the mean of its Sampling distribution equals the *parameters* being estimated.\n",
    "\n",
    "#### Corollary: (Distribution of Sample Mean)\n",
    "Let $X$ be a random variable with finite mean $\\mu$ and finite variance $\\sigma^2$. Let us draw a random sample of size $n$ from this distribution.\n",
    "Then, the distribution of the sample mean is\n",
    "$$\\overline{X_n}\\xrightarrow[]{\\hspace{0.5cm}d\\hspace{0.5cm}} \\mathcal{N}(\\mu,\\frac{\\sigma^2}{n})$$"
   ]
  },
  {
   "cell_type": "code",
   "execution_count": 36,
   "id": "d53b2869-0b82-4432-bc33-5ddda478e0d0",
   "metadata": {},
   "outputs": [
    {
     "data": {
      "image/png": "[encoded data removed]",
      "text/plain": [
       "Plot with title \"Sampling Distribution of the Mean\""
      ]
     },
     "metadata": {},
     "output_type": "display_data",
     "source": "R display func"
    }
   ],
   "source": [
    "population = rbinom(100000, size = 100, prob = 0.5)  # Example population.\n",
    "n = 100  # sample size.\n",
    "num_samples = 10000  # Number of samples to take.\n",
    "\n",
    "# Initialize vector to store sample means.\n",
    "sample_means = numeric(num_samples)\n",
    "\n",
    "# Take samples and calculate means.\n",
    "for (i in 1:num_samples) \n",
    "{\n",
    "  sample = sample(population, n, replace = TRUE)\n",
    "  sample_means[i] = mean(sample)\n",
    "}\n",
    "\n",
    "# Create histogram of sample means.\n",
    "hist(sample_means,freq = FALSE, main = \"Sampling Distribution of the Mean\", xlab = \"Sample Mean\", ylab = \"Density\", col = \"yellow\", border = \"black\")\n",
    "\n",
    "# Overlay a normal distribution curve\n",
    "mu = mean(population)  # Mean of the population.\n",
    "sigma = sqrt(var(population) / n)  # Standard deviation of the sampling distribution.\n",
    "x = seq(mu - 3*sigma, mu + 3*sigma, length.out = 100)\n",
    "curve(dnorm(x, mean = mu, sd = sigma), add = TRUE, col = \"red\", lwd = 2)"
   ]
  },
  {
   "cell_type": "markdown",
   "id": "2276dd1c-8bc4-47ec-a9fa-42b07269dd6c",
   "metadata": {},
   "source": [
    "- Example: From the data we have mean of 441.55 and standard deviation of 241.45. Find the 95% central confidence interval for the mean violent crime rate for 51 states of USA.\n",
    "\n",
    "Here, $n=51$, we can apply the above corollary and approximate the sampling distribution as $$\\overline{X} \\sim \\mathcal{N}(441.55,\\frac{241.45^2}{51})$$\n",
    "The endpoints of 95% confidence interval will be at the 0.025 and 0.975 quantiles of the distribution."
   ]
  },
  {
   "cell_type": "code",
   "execution_count": 16,
   "id": "bd38b5c9-1a14-489b-9f19-af8a94e08059",
   "metadata": {},
   "outputs": [
    {
     "name": "stdout",
     "output_type": "stream",
     "text": [
      "[375.2841, 507.8159]"
     ]
    }
   ],
   "source": [
    "c = qnorm(c(0.025,0.975), m = 441.55, s = 241.45/sqrt(51))\n",
    "cat(\"[\", c[1], \", \", c[2], \"]\", sep = \"\")"
   ]
  },
  {
   "cell_type": "markdown",
   "id": "fabdbc40-2e6e-4508-90e3-726cca009785",
   "metadata": {},
   "source": [
    "Note: Confidence Interval is about the sample means."
   ]
  },
  {
   "cell_type": "markdown",
   "id": "1c27b510-9985-4263-8eaa-7f387bc9d95e",
   "metadata": {},
   "source": [
    "#### Bootstrapping Confidence Interval\n",
    "Bootstrapping is using the data under repeated sampling to estimate the population parameter. Its greatest use is in estimating Confidence Interval for the mean from data. Below we will generate a dataset and perform bootstrapping. In practice we should use actual data."
   ]
  },
  {
   "cell_type": "code",
   "execution_count": 17,
   "id": "cc56a302-98d2-48c0-bc94-321b9d5d6ac9",
   "metadata": {},
   "outputs": [
    {
     "data": {
      "text/html": [
       "<dl class=dl-horizontal>\n",
       "\t<dt>2.5%</dt>\n",
       "\t\t<dd>709.392300885502</dd>\n",
       "\t<dt>97.5%</dt>\n",
       "\t\t<dd>1224.32239327224</dd>\n",
       "</dl>\n"
      ],
      "text/latex": [
       "\\begin{description*}\n",
       "\\item[2.5\\textbackslash{}\\%] 709.392300885502\n",
       "\\item[97.5\\textbackslash{}\\%] 1224.32239327224\n",
       "\\end{description*}\n"
      ],
      "text/markdown": [
       "2.5%\n",
       ":   709.39230088550297.5%\n",
       ":   1224.32239327224\n",
       "\n"
      ],
      "text/plain": [
       "     2.5%     97.5% \n",
       " 709.3923 1224.3224 "
      ]
     },
     "metadata": {},
     "output_type": "display_data"
    }
   ],
   "source": [
    "Data = 1000 * rexp(51)  # Generate the dataset.\n",
    "\n",
    "mn = numeric()  # Initialize an empty vector to store the sample means.\n",
    "for(i in 1:1e4)   # Runs for 10000 times.\n",
    "{\n",
    "    x = sample(Data, replace = TRUE)  # Takes random sample from a data.\n",
    "    mn[i] = mean(x)  # Mean of sample.\n",
    "}\n",
    "\n",
    "quantile(mn, c(0.025, 0.975))  # 95% confidence Interval from data."
   ]
  },
  {
   "cell_type": "markdown",
   "id": "a41f37c2-84e9-4ed8-8d45-ebb97e13829c",
   "metadata": {},
   "source": [
    "### Distribution of Sample Proportions\n",
    "#### Corollary: (Distribution of Sample Proportion)\n",
    "Let $X \\sim \\mathcal{Bin}(n,p)$ be a random sample of size $n$ from Bernoulli random variables.\n",
    "Then, the distribution of the sample proportion is\n",
    "$$P = \\frac{1}{n}X \\xrightarrow[]{\\hspace{0.5cm}d\\hspace{0.5cm}}\\mathcal{N}\\Bigl(p, \\frac{p(1-p)}{n}\\Bigr)$$"
   ]
  },
  {
   "cell_type": "markdown",
   "id": "4a872219-f018-43a4-8158-ea946459171b",
   "metadata": {},
   "source": [
    "- Example: According to the US Census, 18% of Americans are below the poverty line. If I randomly sample n = 10 people from the United States, what is the probability that more than 20% of them are below the poverty line?\n",
    "\n",
    "We are asked to calculate $\\mathbb{P}[P > 0.20]$. Thus, since the probability statement deals with P, we need to know the distribution of P.\n",
    "From the corollary, we know that the approximate distribution of the sample proportion is\n",
    "$$P \\sim \\mathcal{N}(0.18, \\frac{0.18(0.82)}{10}) = \\mathcal{N}(0.18, 0.01476)$$\n",
    "$$\\mathbb{P}[P > 0.20] \\approx 1-[P \\leq 0.20] $$"
   ]
  },
  {
   "cell_type": "code",
   "execution_count": 18,
   "id": "1c9bc749-2bf7-4d02-89a5-40c68d115e84",
   "metadata": {},
   "outputs": [
    {
     "data": {
      "text/html": [
       "0.434620914635696"
      ],
      "text/latex": [
       "0.434620914635696"
      ],
      "text/markdown": [
       "0.434620914635696"
      ],
      "text/plain": [
       "[1] 0.4346209"
      ]
     },
     "metadata": {},
     "output_type": "display_data"
    }
   ],
   "source": [
    "1 - pnorm(0.20, m = 0.18, s = sqrt(0.01476))"
   ]
  },
  {
   "cell_type": "markdown",
   "id": "fe913d5e-1829-47ce-ac1a-556389668a01",
   "metadata": {},
   "source": [
    "Lets calculate the 95% central confidence interval for the sample proportion but this time $n=1000$."
   ]
  },
  {
   "cell_type": "code",
   "execution_count": 19,
   "id": "539f4c95-33b2-44ed-a850-11271557637a",
   "metadata": {},
   "outputs": [
    {
     "name": "stdout",
     "output_type": "stream",
     "text": [
      "[0.1561883, 0.2038117]"
     ]
    }
   ],
   "source": [
    "c = qnorm( c(0.025, 0.975), m = 0.18, s = sqrt(0.0001476) )\n",
    "cat(\"[\", c[1], \", \", c[2], \"]\", sep = \"\")"
   ]
  },
  {
   "cell_type": "markdown",
   "id": "90c30931-eabd-4cb7-b343-df326c1529de",
   "metadata": {},
   "source": [
    "So, I would be surprised to get a sample proportion outside 15% to 20% when my sample size is 1000."
   ]
  },
  {
   "cell_type": "markdown",
   "id": "47001fc0-485c-4a35-9139-60ffc17115ec",
   "metadata": {},
   "source": [
    "### Confidence Interval\n",
    "A confidence interval is a set of values that theoretically contain the population parameter a given proportion of the time when the experiment is performed many times. Here we look at confidence intervals for single population parameters.\n",
    "\n",
    "Note that the confidence interval\n",
    "- gives information about the population parameter.\n",
    "- is a set of reasonable values for that parameter.\n",
    "- is a function of the data (and thus a random variable).\n",
    "- is a result of a probability distribution calculation.\n",
    "\n",
    "That is, if $(lowercl, uppercl)$ is a $(1 -\\alpha) \\times 100\\%$ confidence interval for the parameter $\\theta$, then $(1 -\\alpha) \\times 100\\%$ of the intervals - under repeated experiments - contain the parameter $\\theta$. We normally use $\\alpha = 0.05$, meaning a 95% confidence interval.\n"
   ]
  },
  {
   "cell_type": "markdown",
   "id": "ddbc3cb7-0a63-4e36-a8d7-893725210aa2",
   "metadata": {},
   "source": [
    "The `Confidence level` is the theoretical frequency (or proportion) of possible confidence intervals that contain the true value of their corresponding parameter.\n",
    "\n",
    "- The value of the confidence level is $c = 1 - \\alpha$. We generally use $\\alpha=0.05$.\n",
    "- The value $\\alpha$ is also called the theoretical Type I error rate. It is selected by the researcher to reflect tradition in the discipline and the particularities of the\n",
    "current research."
   ]
  },
  {
   "cell_type": "code",
   "execution_count": 34,
   "id": "b75da38d-5637-4f49-92a0-63e923943af7",
   "metadata": {},
   "outputs": [
    {
     "data": {
      "text/html": [
       "18"
      ],
      "text/latex": [
       "18"
      ],
      "text/markdown": [
       "18"
      ],
      "text/plain": [
       "[1] 18"
      ]
     },
     "metadata": {},
     "output_type": "display_data"
    },
    {
     "data": {
      "text/html": [
       "<dl class=dl-horizontal>\n",
       "\t<dt>2.5%</dt>\n",
       "\t\t<dd>1.16666666666667</dd>\n",
       "\t<dt>97.5%</dt>\n",
       "\t\t<dd>2.72222222222222</dd>\n",
       "</dl>\n"
      ],
      "text/latex": [
       "\\begin{description*}\n",
       "\\item[2.5\\textbackslash{}\\%] 1.16666666666667\n",
       "\\item[97.5\\textbackslash{}\\%] 2.72222222222222\n",
       "\\end{description*}\n"
      ],
      "text/markdown": [
       "2.5%\n",
       ":   1.1666666666666797.5%\n",
       ":   2.72222222222222\n",
       "\n"
      ],
      "text/plain": [
       "    2.5%    97.5% \n",
       "1.166667 2.722222 "
      ]
     },
     "metadata": {},
     "output_type": "display_data"
    },
    {
     "data": {
      "image/png": "[encoded data removed]",
      "text/plain": [
       "Plot with title \"Histogram of st\""
      ]
     },
     "metadata": {},
     "output_type": "display_data",
     "source": "R display func"
    }
   ],
   "source": [
    "# Bootstrapping\n",
    "score = c(0,3,0,2,5,4,2,4,4,0,4,2,2,0,1,0,0,2)\n",
    "length(score)\n",
    "\n",
    "st = numeric()\n",
    "for(i in 1:1e4) \n",
    "{\n",
    "    x = sample(score, replace=TRUE)\n",
    "    st[i] = mean(x)\n",
    "}\n",
    "hist(st,col = \"blue\", border = \"black\")\n",
    "quantile(st, c(0.025,0.975))"
   ]
  },
  {
   "cell_type": "markdown",
   "id": "31cc01fb-3155-45cd-aa9c-ab7b0b2b770d",
   "metadata": {},
   "source": [
    "We can create confidence intervals without bootstrapping.\n",
    "Recall that for large $n$, $X\\sim \\mathcal{N}(\\mu,\\sigma^2)$. Applying the z-transform (i.e.z-score\n",
    "formula) to $\\overline{X}$ gives\n",
    "$$\\frac{\\overline{X}-\\mu}{\\sqrt{\\frac{\\sigma^2}{n}}}\\sim \\mathcal{N}(0,1)$$\n",
    "So the expression on the left is between -1.96 and 1.96 (95% confidence interval of Standard normal) approximately 95% of the time.\n",
    "i.e. the theoretical 95% interval for $\\frac{\\overline{X}-\\mu}{\\sqrt{\\frac{\\sigma^2}{n}}}$ is between -1.96 and 1.96.\n",
    "What we want is the confidence interval for $\\mu$. we can solve for $\\mu$ to get a 95% confidence interval for $\\mu$, the population parameter:\n",
    "One bound of a 95% confidence interval for $\\mu$ is:\n",
    "$$\n",
    "\\begin{aligned}\n",
    "\\frac{\\overline{X}-\\mu}{\\sqrt{\\frac{\\sigma^2}{n}}} &= -1.96 \\\\\n",
    "\\overline{X}-\\mu &= -1.96 \\sqrt{\\frac{\\sigma^2}{n}} \\\\\n",
    "\\mu &= \\overline{X} + 1.96\\sqrt{\\frac{\\sigma^2}{n}}\n",
    "\\end{aligned}\n",
    "$$\n",
    "Similarly, the other bound is $\\mu = \\overline{X} - 1.96\\sqrt{\\frac{\\sigma^2}{n}}$.\n",
    "Hence, the endpoints of 95% confidence interval for $\\mu$ are $$\\boxed{\\mu = \\overline{X} \\pm Z_{\\frac{\\alpha}{2}}\\sqrt{\\frac{\\sigma^2}{n}}}$$\n",
    "$Z_{\\frac{\\alpha}{2}}$ is the $\\frac{\\alpha}{2}$ quantile for the Z distribution. If $\\alpha = 5\\%$, then $Z_{\\frac{\\alpha}{2}} = 1.96$."
   ]
  },
  {
   "cell_type": "markdown",
   "id": "8d0eafc7-e65d-42c6-9358-ef57b3500f8a",
   "metadata": {},
   "source": [
    "This confidence interval for $\\mu$ works if\n",
    "- You are estimating $\\mu$.\n",
    "- You are able to calculate $\\bar{x}$ and $n$.\n",
    "- You know $\\sigma^2$.\n",
    "- The data are generated from a Normal process (or $n$ is large enough).\n",
    "\n",
    "To calculate population variance, you need to know $\\mu$. However, since we are estimating $\\mu$ in this procedure,\n",
    "we don't know $\\sigma^2$. Since, we cannot use the z-procedure, we use a different procedure."
   ]
  },
  {
   "cell_type": "markdown",
   "id": "c7426e77-524e-471a-8c3d-6966a77ee8f2",
   "metadata": {},
   "source": [
    "#### The t-procedure\n",
    "It can be shown that the following is true:\n",
    "$$\\frac{\\overline{X}-\\mu}{\\sqrt{\\frac{s^2}{n}}}\\sim t_{df}$$\n",
    "where $df = n - 1$ (in this one-sample case).\n",
    "From this, we have the following confidence interval\n",
    "$$\\mu = \\overline{X} \\pm T_{\\frac{\\alpha}{2}}\\sqrt{\\frac{s^2}{n}}$$\n",
    "\n",
    "Here, $T_{\\frac{\\alpha}{2}}$ is the $\\frac{\\alpha}{2}$ quantile for the t distribution with $n - 1$ degrees\n",
    "of freedom. If $\\alpha = 5\\%$ and $n = 10$, then $T_{\\frac{\\alpha}{2}} = t_{n-1,\\alpha/2}=2.262157$. The t-distribution is wider than the standard normal distribution as there are more values on the tails."
   ]
  },
  {
   "cell_type": "markdown",
   "id": "8a9ee21b-26c9-4320-9ed6-94a674584129",
   "metadata": {},
   "source": [
    "This confidence interval for $\\mu$ works if\n",
    "- You are estimating $\\mu$.\n",
    "- You are able to calculate $\\bar{x}$ and $n$.\n",
    "- The data are generated from a Normal process (or $n$ is large enough).\n",
    "\n",
    "Other useful procedures for one-population procedures: \n",
    "\n",
    "Population Parameter||Procedure\n",
    "---|:---:|---: \n",
    "$\\mu :$|$\\overline{X}$ from Normal distribution|t-procedure\n",
    "|$\\overline{X}$ from symmetric and continuous distribution distribution| Wilcoxon procedure\n",
    "|otherwise|non-parametric bootstrap\n",
    "$\\tilde{\\mu}$ Population Median:| $\\overline{X}$ from continuous distribution |Wilcoxon procedure\n",
    "$p$:| $X$ from Binomial|Binomial test\n",
    "$\\sigma^2$:|$\\overline{X}$ from Normal distribution|Chi-Square test\n",
    "|otherwise|non-parametric bootstrap\n",
    "\n",
    "In hypothesis testing you create hypothesis before you collect the data and you test your hypothesis with that data, whereas in confidence interval you have no idea about the parameter value and you estimate parameter value from the data. So confidence interval is solely from the data and hypothesis testing is from the data and the claimed hypothesis."
   ]
  },
  {
   "cell_type": "markdown",
   "id": "6d1ce3c5-e232-4e6b-aee6-f32947fdbd87",
   "metadata": {},
   "source": [
    "### Hypothesis Testing\n",
    "The theory behind hypothesis testing is\n",
    "\n",
    "- State the research hypothesis and the null hypothesis.\n",
    "\n",
    "- Determine how much the data support the null hypothesis:\n",
    "    - Determine the parameter tested.\n",
    "    - Determine appropriate statistic or estimator.\n",
    "    - Determine distribution of that statistic under the null hypothesis.\n",
    "    - Determine how likely it is to observe the statistic (data) if the null hypothesis is true.($p$-value)\n",
    "\n",
    "- Interpret that level of support."
   ]
  },
  {
   "cell_type": "markdown",
   "id": "e22feed5-e87b-486a-8dee-6fb936d10619",
   "metadata": {},
   "source": [
    "A `Hypothesis ` is a testable claim about reality. Since it is a claim about reality, it concerns some aspect of the\n",
    "population (a parameter). The usual parameters hypothesized about are the mean $\\mu$, proportion $p$, and variance $\\sigma^2$. BUT we can hypothesize about any aspects of the population. The \"generic\" parameter is $\\theta$.\n",
    "\n",
    "Since it is a claim about reality, it separates all possible realities into those that are consistent with the hypothesis and those that are incompatible with it."
   ]
  },
  {
   "cell_type": "markdown",
   "id": "fdbac4b3-9a8b-4f66-91bf-c80c2aa80b39",
   "metadata": {},
   "source": [
    "A `research hypothesis` is a testable claim about reality made by the scientist.\n",
    "This is the one that the statistician must eventually come to a conclusion about. Because we are using statistics to test this hypothesis, we create two statistics-specific hypotheses. These two hypotheses divide all possible\n",
    "realities into two groups, those that are a part of the research and those that are not.\n",
    "\n",
    "$H_R$|$H_0$|$H_A$\n",
    "---|:---:|---: \n",
    "$\\theta <\\theta_0$|$\\theta \\geq \\theta_0$|$\\theta <\\theta_0$\n",
    "$\\theta =\\theta_0$|$\\theta = \\theta_0$|$\\theta \\neq \\theta_0$\n",
    "$\\theta >\\theta_0$|$\\theta \\leq \\theta_0$|$\\theta >\\theta_0$\n",
    "$\\theta \\leq \\theta_0$|$\\theta \\leq \\theta_0$|$\\theta >\\theta_0$\n",
    "$\\theta \\neq \\theta_0$|$\\theta = \\theta_0$|$\\theta \\neq \\theta_0$\n",
    "$\\theta \\geq \\theta_0$|$\\theta \\geq \\theta_0$|$\\theta <\\theta_0$\n",
    "**Table**: Listing of all possible research hypothesis and their corresponding Null and Alternative Hypothesis.\n",
    "\n",
    "The symbol $\\theta$ is a generic parameter. It can represent $\\mu, p, \\sigma^2$ or any other parameter you can imagine.\n",
    "The symbol $\\theta_0$ represents the value claimed by the researcher. It is a number.\n",
    "The research hypothesis$H_R$ is given to us by the researcher. From that $H_R$ we create Null and Alternative Hypothesis. The Null Hypothesis must always have the **equals to** part as we are going to create a probability distribution for the parameter/statistic based on that *equals to* part. The Null and Alternative are complete opposite. The way to create null hypothesis is you look for symbol on research hypothesis, if it includes *equal to* part then thats null otherwise its the alternative hypothesis.\n",
    "\n",
    "#### p-value\n",
    "The `p-value` is the probability of observing a test statistic this extreme, or more so, given the null hypothesis is true. It is the probability of observing data this extreme, or more so, given the null hypothesis is true.\n",
    "It is the amount of support in the data for the null\n",
    "hypothesis. We assume the Null hypothesis is True and we calculate $p$-value based on that. If the $p$-value is large then there is more support in the data for Null hypothesis and if its small there is less support.\n",
    "\n",
    "#### Decision Theory \n",
    "This part is making a decision about the research\n",
    "hypothesis based on the data.\n",
    "\n",
    "> Do the dota sufficiently support the research hypothesis?\n",
    "\n",
    "Note that the very statement is binary: Yes or No.\n",
    "Since the decision is binary, we need to determine a 'cut-off' point between what supports the research hypothesis and what does not. This boundary is referred to as **the alpha-value.**\n",
    "\n",
    "If the level of support($p$-value) is less than alpha, we reject the null hypothesis. Otherwise, we do not (we fail to reject).\n",
    "\n",
    "#### alpha-value\n",
    "The alpha value is the **Type I error rate** claimed by the statistician. *Type I error* occurs when the researcher rejects a true null hypothesis.\n",
    "\n",
    "#### Type I error rate\n",
    "The **Type I error rate** is the proportion of the time the researcher commits a Type I error (i.e. rejects a true null hypothesis).\n",
    "\n",
    "Note: The actual *Type I error rate* may not be $\\alpha$.\n",
    "\n",
    "#### Type II error\n",
    "A **Type II error** occurs when the researcher fails to reject a false null hypothesis. Its value is symbolized by $\\beta$.\n",
    "\n",
    "Both are error rates. So, we would like to minimize both. However, decreasing $\\alpha$ results in increasing $\\beta$.\n",
    "Furthermore, reducing either to zero results in the other being 100%.\n",
    "\n",
    "There is another non-standard error called *Type III*. This gives insight into what can go wrong in statistical analysis.\n",
    "The **Type III error** occurs when the researcher rejects a false null hypothesis, but for wrong reason.\n",
    "Causes of Type III errors include:\n",
    "- wrong test.\n",
    "- aggregation bias.\n",
    "- ecological fallacy.\n",
    "- collinearity among predictors.\n",
    "\n",
    "THE KEY TO AVOIDING TYPE III ERRORS IS TO FULLY UNDERSTAND\n",
    "THE STATISTICAL TESTS, THE WRONG TEST OR THE WRONG\n",
    "INTERPRETATION OR THE WRONG ASSUMPTIONS ALL LEAD TO\n",
    "ERRORS. Type III errors can be eliminated while Type I and II cannot be eliminated."
   ]
  },
  {
   "cell_type": "markdown",
   "id": "0b2c09c9-af1c-4eb9-a147-e4ddd01f43f9",
   "metadata": {},
   "source": [
    "- Exercise: I would like to test if my coin is biased in favor of getting heads. Specifically, using statistical language, my research hypothesis is $H_R:p>0.50$. To test this, I flip the coin 100 times and get 58 heads."
   ]
  },
  {
   "cell_type": "markdown",
   "id": "09b32cdb-15c7-4f16-93da-d85687fb56b7",
   "metadata": {},
   "source": [
    "From the problem set-up, we know that the number of heads, $X$ is distributed as $X \\sim \\mathcal{Bin}(n = 100; p = 0.50)$ - if the coin is fair.\n",
    "Also, if the the number of observed heads is too large, we know that the alternative hypothesis is more likely to be correct. The Null and Alternative hypothesis are:\n",
    "$$\n",
    "H_0 : p \\leq p_0 \\\\\n",
    "H_A : p > p_0\n",
    "$$\n",
    "with $p_0 = 0.50$\n",
    "$$\n",
    "H_0 : p \\leq 0.50 \\\\\n",
    "H_A : p > 0.50\n",
    "$$\n",
    "Lets calculate the $p$-value i.e. the probability of observing data this extreme, or more so, given the null hypothesis is true. Thus, it is :\n",
    "$$\n",
    "\\begin{aligned}\n",
    "p-value &= \\mathbb{P}[X \\geq 58 | X \\sim \\mathcal{Bin}(100;0.50)]\\\\\n",
    "&= 1 - \\mathbb{P}[X < 58 | X \\sim \\mathcal{Bin}(100;0.50)]\\\\\n",
    "&= 1 - \\mathbb{P}[X \\leq 57 | X \\sim \\mathcal{Bin}(100;0.50)]\n",
    "\\end{aligned}\n",
    "$$"
   ]
  },
  {
   "cell_type": "code",
   "execution_count": 2,
   "id": "ef8080c9-2761-494a-885a-6516240ff578",
   "metadata": {},
   "outputs": [
    {
     "data": {
      "text/html": [
       "0.0666053096036067"
      ],
      "text/latex": [
       "0.0666053096036067"
      ],
      "text/markdown": [
       "0.0666053096036067"
      ],
      "text/plain": [
       "[1] 0.06660531"
      ]
     },
     "metadata": {},
     "output_type": "display_data"
    }
   ],
   "source": [
    "1 - pbinom( 57, size = 100, prob = 0.50)"
   ]
  },
  {
   "cell_type": "markdown",
   "id": "e6d398f9-cc1a-4e8e-877a-d484cf7e02a9",
   "metadata": {
    "tags": []
   },
   "source": [
    "At $\\alpha = 0.05$, since $p$-value$> \\alpha$, we do not reject the Null hypothesis. The data are not sufficiently against the Null hypothesis."
   ]
  },
  {
   "cell_type": "markdown",
   "id": "d9d39b6e-5081-41fa-b63e-874e4b8f10d9",
   "metadata": {},
   "source": [
    "- Exercise: I believe that my blackjack dealer is cheating. If everything is fair, then I would expect to have a blackjack 4.75% of the time. I have played n = 132 hands and got a blackjack only once. Is this fair? Specifically, using statistical language, my research hypothesis (claim) is $H_R:p < 0.0475$."
   ]
  },
  {
   "cell_type": "markdown",
   "id": "d04161e1-d1c6-440b-bc1c-f53865016894",
   "metadata": {},
   "source": [
    "The Null and Alternative hypothesis are:\n",
    "$$\n",
    "H_0 : p \\geq p_0 \\\\\n",
    "H_A : p < p_0\n",
    "$$\n",
    "with $p_0 = 0.0475$\n",
    "$$\n",
    "H_0 : p \\geq 0.0475 \\\\\n",
    "H_A : p < 0.0475\n",
    "$$\n",
    "The *number of Blackjacks* $X$ is distributed as $X \\sim \\mathcal{Bin}(n = 132; p = 0.0475)$ - if the dealer is fair. Also, if the number of observed blackjacks is too small, we know that the alternative hypothesis is more likely to be correct.\n",
    "Lets calculate the $p$-value:\n",
    "$$\n",
    "\\begin{aligned}\n",
    "p-value &= \\mathbb{P}[X \\leq 1 | X \\sim \\mathcal{Bin}(132;0.0475)]\n",
    "\\end{aligned}\n",
    "$$"
   ]
  },
  {
   "cell_type": "code",
   "execution_count": 3,
   "id": "04aac6fe-75bd-4fc7-9c44-9079290725c3",
   "metadata": {},
   "outputs": [
    {
     "data": {
      "text/html": [
       "0.0123027018738042"
      ],
      "text/latex": [
       "0.0123027018738042"
      ],
      "text/markdown": [
       "0.0123027018738042"
      ],
      "text/plain": [
       "[1] 0.0123027"
      ]
     },
     "metadata": {},
     "output_type": "display_data"
    }
   ],
   "source": [
    "pbinom( 1, size = 132, prob = 0.0475)"
   ]
  },
  {
   "cell_type": "markdown",
   "id": "cca6aee1-7205-4ba1-a2ea-c896caf6bd08",
   "metadata": {},
   "source": [
    "At $\\alpha = 0.05$, since $p$-value$< \\alpha$, we reject the Null hypothesis. We have evidence that the dealer is cheating."
   ]
  },
  {
   "cell_type": "markdown",
   "id": "1913ce1f-28c0-4feb-8d60-45378184f03c",
   "metadata": {},
   "source": [
    "- Exercise: I believe that this die is biased against getting a 6. Specifically, using statistical language, my research hypothesis (claim) is $H_R:p < 0.1667$. To test this, I roll the die 100 times and get a 6 a total of 9 times."
   ]
  },
  {
   "cell_type": "markdown",
   "id": "4fdf280e-f561-42db-bac3-a9c53c96f0d5",
   "metadata": {},
   "source": [
    "The Null and Alternative hypothesis are:\n",
    "$$\n",
    "H_0 : p \\geq p_0 \\\\\n",
    "H_A : p < p_0\n",
    "$$\n",
    "with $p_0 = 0.1667$\n",
    "$$\n",
    "H_0 : p \\geq 0.1667 \\\\\n",
    "H_A : p < 0.1667\n",
    "$$\n",
    "The *number of Sixes* $X$ is distributed as $X \\sim \\mathcal{Bin}(n = 100; p = 0.1667)$ - if the die is fair. Also, if the number of observed sixes is too small, we know that the alternative hypothesis is more likely to be correct.\n",
    "Lets calculate the $p$-value:\n",
    "$$\n",
    "\\begin{aligned}\n",
    "p-value &= \\mathbb{P}[X \\leq 9 | X \\sim \\mathcal{Bin}(100;0.1667)]\n",
    "\\end{aligned}\n",
    "$$"
   ]
  },
  {
   "cell_type": "code",
   "execution_count": 4,
   "id": "6f7544d2-6898-4689-bed1-f39e42811160",
   "metadata": {},
   "outputs": [
    {
     "data": {
      "text/html": [
       "0.0212496434662792"
      ],
      "text/latex": [
       "0.0212496434662792"
      ],
      "text/markdown": [
       "0.0212496434662792"
      ],
      "text/plain": [
       "[1] 0.02124964"
      ]
     },
     "metadata": {},
     "output_type": "display_data"
    }
   ],
   "source": [
    "pbinom( 9, size = 100, prob = 0.1667 )"
   ]
  },
  {
   "cell_type": "markdown",
   "id": "a9d48823-84ee-4ac2-aab2-adf84016bfaa",
   "metadata": {},
   "source": [
    "At $\\alpha = 0.05$, since $p$-value$< \\alpha$, we reject the Null hypothesis. We have evidence that the die is biased against getting 6."
   ]
  },
  {
   "cell_type": "markdown",
   "id": "a7a08cb9-0dc9-43d9-9c13-6c126953a235",
   "metadata": {},
   "source": [
    "- Exercise: A burger restaurant claims that the weight of a quarter-pounder hamburger patty (before cooking) is 4 ounces, with a standard deviation of $\\sigma$ = 1 ounce. In symbols, this is $H_R:\\mu = 4$. To test this, we weigh a stack of $n = 25$ patties and find that the total weight is only 94 ounces. Is there sufficient evidence that restaurant is incorrect?"
   ]
  },
  {
   "cell_type": "markdown",
   "id": "b1458092-23fe-4e15-9adc-23aa3d906290",
   "metadata": {},
   "source": [
    "$$\n",
    "H_0 : \\mu = 4 \\\\\n",
    "H_A : \\mu \\neq 4\n",
    "$$"
   ]
  },
  {
   "cell_type": "markdown",
   "id": "9572ac21-ea2c-4bfd-baf2-22399a3728b1",
   "metadata": {},
   "source": [
    "We calculate $\\mathbb{P}[T \\leq 94\\, or\\, T \\geq 106]$ which are the two extremes below and above what we would expect of 100. Here, $T \\sim \\mathcal{N}(n \\mu; n \\sigma^2)\\rightarrow T \\sim \\mathcal{N}(100; \\sigma^2 = 25(1^2) )$\n",
    "$$\n",
    "\\begin{aligned}\n",
    "\\mathbb{P}[T \\leq 94\\, or\\, T \\geq 106] &= \\mathbb{P}[T \\leq 94] + \\mathbb{P}[T \\geq 106]\\\\\n",
    "&= \\mathbb{P}[T \\leq 94] + 1 - \\mathbb{P}[T \\leq 106]\n",
    "\\end{aligned}\n",
    "$$"
   ]
  },
  {
   "cell_type": "code",
   "execution_count": 8,
   "id": "17e11679-3584-45b4-8c86-a9a3125f3509",
   "metadata": {},
   "outputs": [
    {
     "data": {
      "text/html": [
       "0.230139340443416"
      ],
      "text/latex": [
       "0.230139340443416"
      ],
      "text/markdown": [
       "0.230139340443416"
      ],
      "text/plain": [
       "[1] 0.2301393"
      ]
     },
     "metadata": {},
     "output_type": "display_data"
    }
   ],
   "source": [
    "pnorm(94, m = 100, s = 5 ) + 1 - pnorm(106, m = 100, s = 5 )"
   ]
  },
  {
   "cell_type": "markdown",
   "id": "7f393a35-3dcb-47e3-ad75-edd7d0bc3818",
   "metadata": {},
   "source": [
    "At $\\alpha = 0.05$, since $p$-value$> \\alpha$, we cannot reject the Null hypothesis."
   ]
  },
  {
   "cell_type": "markdown",
   "id": "b5ff78bf-114e-4e37-b835-8642943dfa9e",
   "metadata": {},
   "source": [
    "- Exercise: Same restaurant claims that the weight of a half-pounder hamburger patty(before cooking) is 8 ounces, with a standard deviation of $\\sigma = 1$ ounce. In symbols, this is$H_R:\\mu=8$. To test this, we weigh a stack of $n = 25$ patties and find that the average weight is only 7.5 ounces. Is there sufficient evidence that restaurant is incorrect?"
   ]
  },
  {
   "cell_type": "markdown",
   "id": "7c5b57e4-4681-42f7-86d8-5a72ace9d5cd",
   "metadata": {},
   "source": [
    "$$\n",
    "H_0 : \\mu = 8 \\\\\n",
    "H_A : \\mu \\neq 8\n",
    "$$\n",
    "We calculate $\\mathbb{P}[\\overline{X} \\leq 7.5\\, or\\, \\overline{X} \\geq 8.5]$ which are the two extremes below and above what we would expect of 8. Here, $\\overline{X} \\sim \\mathcal{N}\\bigl(\\mu; \\frac{\\sigma^2}{n}\\bigr)\\rightarrow \\overline{X} \\sim \\mathcal{N}\\bigl(8; \\sigma^2 = \\frac{1}{25}\\bigr)$\n",
    "\n",
    "Note: $\\sigma = \\frac{1}{\\sqrt{25}} = \\frac{1}{5}$\n",
    "$$\n",
    "\\begin{aligned}\n",
    "\\mathbb{P}[\\overline{X} \\leq 7.5\\, or\\, \\overline{X} \\geq 8.5] &= \\mathbb{P}[\\overline{X} \\leq 7.5] + \\mathbb{P}[\\overline{X} \\geq 8.5]\\\\\n",
    "&= \\mathbb{P}[\\overline{X} \\leq 7.5] + 1 - \\mathbb{P}[\\overline{X} \\leq 8.5]\n",
    "\\end{aligned}\n",
    "$$"
   ]
  },
  {
   "cell_type": "code",
   "execution_count": 9,
   "id": "10798fbf-ea6e-4088-9cda-f2c74320a4ee",
   "metadata": {},
   "outputs": [
    {
     "data": {
      "text/html": [
       "0.0124193306515523"
      ],
      "text/latex": [
       "0.0124193306515523"
      ],
      "text/markdown": [
       "0.0124193306515523"
      ],
      "text/plain": [
       "[1] 0.01241933"
      ]
     },
     "metadata": {},
     "output_type": "display_data"
    }
   ],
   "source": [
    "pnorm(7.5, m = 8, s = 1/5 ) + 1 - pnorm(8.5, m = 8, s = 1/5 )"
   ]
  },
  {
   "cell_type": "markdown",
   "id": "8a160255-9b86-47c5-bc1f-f8c718fe5245",
   "metadata": {},
   "source": [
    "At $\\alpha = 0.05$, since $p$-value$ < \\alpha$, we reject the Null hypothesis. We have sufficient evidence that restaurant is incorrect."
   ]
  },
  {
   "cell_type": "markdown",
   "id": "d795c135-daf6-4796-bdc4-7fee519ea978",
   "metadata": {},
   "source": [
    "### Handling Proportions\n",
    "Test hypothesis about:\n",
    "- A single population proportion.\n",
    "- The difference between two population proportions.\n",
    "\n",
    "#### One-Parameter Procedures: *p*\n",
    "Parametric Procedure: Binomial procedure.\n",
    "- Graphic: Binomial plot $binom.plot(x, n)$.\n",
    "- Requires: Data generated from Binomial distribution\n",
    "- R function: $binom.test(x, n)$"
   ]
  },
  {
   "cell_type": "markdown",
   "id": "7eccaa2f-989a-4c38-a9f3-707013b45441",
   "metadata": {},
   "source": [
    "Since we are trying to draw conclusions about a single population proportion, we should use a test statistic based on the sample proportion (Wald test) or upon what we observe (Binomial test). $X \\sim \\mathcal{Bin}(n,p)$\n",
    "Fortunately, the number of observations serves as a particularly fine test statistic, because we know its distribution exactly. We only know the distribution of proportions approximately."
   ]
  },
  {
   "cell_type": "markdown",
   "id": "4a8eaaca-0f12-462a-9c40-a6586405e320",
   "metadata": {},
   "source": [
    "- Exercise: I have a coin that I think is fair. To test this, I flip it 10 times and count the number of heads in those 10 flips. A total of 3 heads actually came up. Is this sufficient evidence that the coin is not fair?\n",
    "\n",
    "Here, the claim is $p = 0.50$ (fair). Since it contains the '$=$' sign, it is the null hypothesis. So the two hypotheses are:\n",
    "$$\n",
    "H_0 : p = 0.50 \\\\\n",
    "H_A :p \\neq 0.50\n",
    "$$\n",
    "We are trying to make a conclusion about $p$ where the data are generated from a Binomial distribution. Thus, under the null hypothesis,$X \\sim \\mathcal{Bin}(n = 10, p = 0.50)$\n",
    "We observed X = 3. The p-value is defined as the probability of observing data this extreme or more so - given that the null hypothesis is true.\n",
    "Here, that means\n",
    "$$\n",
    "\\begin{aligned}\n",
    "p-value &= P[X \\leq 3] + P[X \\geq 7]\\\\\n",
    "        &= P[X \\leq 3] + 1 - P[X < 7]\\\\\n",
    "        &= P[X \\leq 3] + 1 - P[X \\leq 6]\n",
    "\\end{aligned}\n",
    "$$"
   ]
  },
  {
   "cell_type": "code",
   "execution_count": 10,
   "id": "84673f5f-cb97-4c46-af14-8d367d78521c",
   "metadata": {},
   "outputs": [
    {
     "data": {
      "text/html": [
       "0.34375"
      ],
      "text/latex": [
       "0.34375"
      ],
      "text/markdown": [
       "0.34375"
      ],
      "text/plain": [
       "[1] 0.34375"
      ]
     },
     "metadata": {},
     "output_type": "display_data"
    }
   ],
   "source": [
    "pbinom(3, size = 10, prob = 0.50) + 1 - pbinom(6, size = 10, prob = 0.50)"
   ]
  },
  {
   "cell_type": "markdown",
   "id": "0fe101ca-c381-4b14-923f-266d5e414fd5",
   "metadata": {},
   "source": [
    "At $\\alpha = 0.05$, since $p$-value$ > \\alpha$, we fail to reject the Null hypothesis. There is not sufficient evidence that the coin is not fair. We can also do the above test in one line as below:"
   ]
  },
  {
   "cell_type": "code",
   "execution_count": 11,
   "id": "0a7533c1-1a18-4f5b-8a7f-e9106f42258d",
   "metadata": {},
   "outputs": [
    {
     "data": {
      "text/plain": [
       "\n",
       "\tExact binomial test\n",
       "\n",
       "data:  3 and 10\n",
       "number of successes = 3, number of trials = 10, p-value = 0.3438\n",
       "alternative hypothesis: true probability of success is not equal to 0.5\n",
       "95 percent confidence interval:\n",
       " 0.06673951 0.65245285\n",
       "sample estimates:\n",
       "probability of success \n",
       "                   0.3 \n"
      ]
     },
     "metadata": {},
     "output_type": "display_data"
    }
   ],
   "source": [
    "binom.test(x = 3, n = 10, p = 0.50)"
   ]
  },
  {
   "cell_type": "markdown",
   "id": "f4cf5274-dcfb-47d6-8f2c-e380f9421616",
   "metadata": {},
   "source": [
    "Note, there is 95% confidence interval for the probability of a flip landing head is from 0.067 to 0.652."
   ]
  },
  {
   "cell_type": "markdown",
   "id": "b1ba8cd7-e0ac-477d-aa71-fefefd4da151",
   "metadata": {},
   "source": [
    "- Exercise: I contend that more than a quarter of the students at a school are Juniors. To test this, I randomly sample from the student body asking class year. In my sample of 100 students, 30 stated they were Juniors.\n",
    "\n",
    "Here, the claim is $p > 0.25$. Since it contains the '$>$' sign, it is not the null hypothesis. That means the two hypotheses are:\n",
    "$$\n",
    "H_0: p\\leq 0.25\\\\\n",
    "H_A: p>0.25\n",
    "$$\n",
    "Here, $X \\sim \\mathcal{Bin}(n = 100, p = 0.25)$.\n",
    "Since $H_A: p>0.25$, The $p$-value is:\n",
    "$$\n",
    "\\begin{aligned}\n",
    "p-value &= P[X \\geq 30]\\\\\n",
    "        &= 1 - P[X < 30]\\\\\n",
    "        &= 1 - P[X \\leq 29]\n",
    "\\end{aligned}\n",
    "$$"
   ]
  },
  {
   "cell_type": "code",
   "execution_count": 14,
   "id": "df29a50b-ca71-4b23-a667-226d1f2014da",
   "metadata": {},
   "outputs": [
    {
     "data": {
      "text/html": [
       "0.149541046566574"
      ],
      "text/latex": [
       "0.149541046566574"
      ],
      "text/markdown": [
       "0.149541046566574"
      ],
      "text/plain": [
       "[1] 0.149541"
      ]
     },
     "metadata": {},
     "output_type": "display_data"
    }
   ],
   "source": [
    "1- pbinom(29, size = 100, prob = 0.25)"
   ]
  },
  {
   "cell_type": "markdown",
   "id": "1c6184fa-e00d-4888-b5ee-7cd877473702",
   "metadata": {},
   "source": [
    "At $\\alpha = 0.05$, since $p$-value$ > \\alpha$, we fail to reject the Null hypothesis. "
   ]
  },
  {
   "cell_type": "code",
   "execution_count": 16,
   "id": "7e98bed8-316f-427a-b188-bdb138a48a80",
   "metadata": {},
   "outputs": [
    {
     "data": {
      "text/plain": [
       "\n",
       "\tExact binomial test\n",
       "\n",
       "data:  30 and 100\n",
       "number of successes = 30, number of trials = 100, p-value = 0.1495\n",
       "alternative hypothesis: true probability of success is greater than 0.25\n",
       "95 percent confidence interval:\n",
       " 0.2249232 1.0000000\n",
       "sample estimates:\n",
       "probability of success \n",
       "                   0.3 \n"
      ]
     },
     "metadata": {},
     "output_type": "display_data"
    }
   ],
   "source": [
    "binom.test(x = 30, n = 100, p = 0.25, alternative = \"greater\")"
   ]
  },
  {
   "cell_type": "markdown",
   "id": "df62ebd8-5828-47b8-917d-3a0b570d0999",
   "metadata": {},
   "source": [
    "- Exercise (Representativeness): A sample consisted of 661 students, of which 22 were Freshmen. Given that the proportion of Freshmen at University is 28%, are the data representative in terms of Freshmen?\n",
    "\n",
    "Here, the claim is $p = 0.28$. Since it contains the '$=$' sign, it is the null hypothesis. That means the two hypotheses are:\n",
    "$$\n",
    "H_0 : p = 0.28 \\\\\n",
    "H_A: p \\neq 0.28\n",
    "$$\n",
    "Under the Null hypothesis the number of Freshman in my sample follow $X \\sim \\mathcal{Bin}(n=661, p=0.28)$.\n",
    "$$\n",
    "\\begin{aligned}\n",
    "p-value &= P[X \\leq 22] + P[X \\geq 348] \\\\\n",
    "        &= P[X \\leq 22] + 1 - P[X < 348]\\\\\n",
    "        &= P[X \\leq 22] + 1 - P[X \\leq 347]\n",
    "\\end{aligned}\n",
    "$$"
   ]
  },
  {
   "cell_type": "code",
   "execution_count": 17,
   "id": "afb8c405-f264-4298-9322-a826880993c3",
   "metadata": {},
   "outputs": [
    {
     "data": {
      "text/html": [
       "0"
      ],
      "text/latex": [
       "0"
      ],
      "text/markdown": [
       "0"
      ],
      "text/plain": [
       "[1] 0"
      ]
     },
     "metadata": {},
     "output_type": "display_data"
    }
   ],
   "source": [
    "pbinom(22, size = 661, prob = 0.28) + 1 - pbinom(347, size = 661, prob = 0.28)"
   ]
  },
  {
   "cell_type": "markdown",
   "id": "265e7e06-54f0-49ce-a0ec-3d8e6fbd46b0",
   "metadata": {},
   "source": [
    "At $\\alpha = 0.05$, since $p$-value$ < \\alpha$, we reject the Null hypothesis in favour of the alternative hypothesis. This sample is not representative of population in terms of freshmen at the university."
   ]
  },
  {
   "cell_type": "code",
   "execution_count": 18,
   "id": "0402b094-c705-4af5-9b7b-8d8ce721b91c",
   "metadata": {},
   "outputs": [
    {
     "data": {
      "text/plain": [
       "\n",
       "\tExact binomial test\n",
       "\n",
       "data:  22 and 661\n",
       "number of successes = 22, number of trials = 661, p-value < 2.2e-16\n",
       "alternative hypothesis: true probability of success is not equal to 0.28\n",
       "95 percent confidence interval:\n",
       " 0.02097345 0.04995873\n",
       "sample estimates:\n",
       "probability of success \n",
       "             0.0332829 \n"
      ]
     },
     "metadata": {},
     "output_type": "display_data"
    }
   ],
   "source": [
    "binom.test(x = 22, n = 661, p = 0.28)"
   ]
  },
  {
   "cell_type": "markdown",
   "id": "96854fe4-af83-4e55-8f6b-3441a3e8c1b6",
   "metadata": {
    "tags": []
   },
   "source": [
    "#### Two-Parameter Procedures: *p1 - p2*\n",
    "\n",
    "Parametric Procedure: Two Proportions Procedure\n",
    "- Graphic: Binomial plot.\n",
    "  $binom.plot(x=c(x1,x2), n=c(n1,n2))$\n",
    "- Requires: Expected number of successes is at least 5 in each group.\n",
    "- R function: $prop.test(x=c(x1,x2), n=c(n1,n2))$\n",
    "\n",
    "**Note**: This procedure makes adjustments for the fact that\n",
    "the Binomial distribution is discrete and the Normal distribution is not.\n",
    "\n",
    "Since we are trying to draw conclusions about the difference between two population proportions, we should use a test statistic based on the difference in two sample proportions.\n",
    "\n",
    "We are given\n",
    "$$\n",
    "X \\sim \\mathcal{Bin}(n_x,p_x) \\\\\n",
    "Y \\sim \\mathcal{Bin}(n_y,p_y)\n",
    "$$\n",
    "Unfortunately, $X - Y$ is not an estimator of $p_x - p_y$. Fortunately, the sample proportion for $X$ minus the sample proportion for $Y$ is a good estimator for $p_x - p_y$. That is\n",
    "$$\n",
    "\\frac{X}{n_x} - \\frac{Y}{n_y}\n",
    "$$\n",
    "where numerator is the number of successes and the denominator is the number of trials for $X$ and $Y$ respectively.\n",
    "Its distribution can be obtained by CLT:\n",
    "$$\n",
    "X \\sim \\mathcal{N}\\bigl(n_xp_x, n_xp_x(1-p_x)\\bigr) \\\\\n",
    "Y \\sim \\mathcal{N}\\bigl(n_yp_y, n_yp_y(1-p_y)\\bigr)\n",
    "$$\n",
    "Hence,\n",
    "$$\n",
    "\\frac{X}{n_x} \\sim \\mathcal{N}\\biggl(p_x, \\frac{p_x(1-p_x)}{n_x}\\biggr) \\\\\n",
    "\\frac{Y}{n_y} \\sim \\mathcal{N}\\biggl(p_y, \\frac{p_y(1-p_y)}{n_y}\\biggr)\n",
    "$$\n",
    "Define $\\frac{X}{n_x} = P_x$ and $\\frac{Y}{n_y} = P_y$. Thus\n",
    "$$\n",
    "P_x - P_y \\sim \\mathcal{N}\\biggl(p_x-p_y, \\frac{p_x(1-p_x)}{n_x} + \\frac{p_y(1-p_y)}{n_y} \\biggr)\n",
    "$$\n",
    "The $p_x-p_y$ is what we are trying to estimate. The difference in sample porportion $P_x - P_y$ is unbiased for population porportion estimate $p_x-p_y$.\n",
    "\n",
    "Standardizing the variable on the left, we have our test statistic:\n",
    "$$\n",
    "Z = \\frac{(P_x-P_y)-(p_x-p_y)}{\\sqrt{\\frac{p_x(1-p_x)}{n_x} + \\frac{p_y(1-p_y)}{n_y}}} \\sim \\mathcal{N}(0, 1)\n",
    "$$\n",
    "If $p_x=p_y$ is a part of our null hypothesis, then this test statistic simplifies to \n",
    "$$\n",
    "Z = \\frac{(P_x-P_y)}{\\sqrt{\\frac{p_x(1-p_x)}{n_x} + \\frac{p_y(1-p_y)}{n_y}}} \\sim \\mathcal{N}(0, 1)\n",
    "$$\n",
    "This is the $Z$-procedure version of the proportions test.\n",
    "#### Equivalent Test (Chi-Square)\n",
    "If we square both sides, we have an equivalent Chi-square version:\n",
    "$$\n",
    "\\frac{(P_x-P_y)^2}{\\frac{p_x(1-p_x)}{n_x} + \\frac{p_y(1-p_y)}{n_y}} \\sim \\mathcal{X^2}\n",
    "$$"
   ]
  },
  {
   "cell_type": "markdown",
   "id": "b32e1978-0593-447e-87b7-3f1180057d33",
   "metadata": {},
   "source": [
    "- Exercise: I would like to determine if the proportion of males who wear hats is the same as the proportion of females who do. To test this, I sample 100 males and 100 females. 10 males and 16 females were wearing hats.\n",
    "\n",
    "Notice, here we are dealing with proportions in two seperate populations, proportions of hat wearers in males and females.\n",
    "The hypotheses are:\n",
    "$$\n",
    "H_0 : p_f = p_m \\\\\n",
    "H_A: p_f \\neq p_m\n",
    "$$\n",
    "- Step 1: Gather all information.\n",
    "Note that we are given the following information from the   problem:\n",
    "$$\n",
    "p_x = 10/100 = 0.10 \\\\\n",
    "p_y = 16/100 = 0.16 \\\\\n",
    "n_x = 100 \\\\\n",
    "n_y = 100 \\\\\n",
    "\\alpha = 0.05 ... Z_{\\frac{\\alpha}{2}} = \\pm 1.96\n",
    "$$\n",
    "Since, we are testing a hypothesis comparing two proportions, this is\n",
    "our test statistic formula:\n",
    "$$\n",
    "TS = \\frac{(p_x-p_y)}{\\sqrt{\\frac{p_x(1-p_x)}{n_x} + \\frac{p_y(1-p_y)}{n_y}}}\n",
    "$$\n",
    "- Step 2: Calculate the Test Statistic (TS)."
   ]
  },
  {
   "cell_type": "code",
   "execution_count": 2,
   "id": "5206c66c-64e1-4393-a245-0e3f8a951a1b",
   "metadata": {},
   "outputs": [
    {
     "name": "stdout",
     "output_type": "stream",
     "text": [
      "[1] -1.266601\n"
     ]
    }
   ],
   "source": [
    "TS = (0.10-0.16)/sqrt( (0.10*0.90)/100 + (0.16*0.84)/100 )\n",
    "print(TS)"
   ]
  },
  {
   "cell_type": "markdown",
   "id": "ed6299b4-add8-44d5-927f-2815f6e4ff0e",
   "metadata": {},
   "source": [
    "- Step 3: Calculate the $p$-value.\n",
    "The $p$-value for this two-tailed test is the probability of observing data (test statistic) this extreme - or more so - given the null hypothesis is true.\n",
    "$$\n",
    "\\begin{aligned}\n",
    "p-value &= P[Z \\leq -1.266601] + P[Z \\geq 1.266601] \\\\\n",
    "        &= P[Z \\leq -1.266601] + 1- P[Z \\leq 1.266601]\n",
    "\\end{aligned}\n",
    "$$"
   ]
  },
  {
   "cell_type": "code",
   "execution_count": 4,
   "id": "f2af6573-501b-4fd0-855d-3d0af80f22aa",
   "metadata": {},
   "outputs": [
    {
     "data": {
      "text/html": [
       "0.205297997302522"
      ],
      "text/latex": [
       "0.205297997302522"
      ],
      "text/markdown": [
       "0.205297997302522"
      ],
      "text/plain": [
       "[1] 0.205298"
      ]
     },
     "metadata": {},
     "output_type": "display_data"
    }
   ],
   "source": [
    "pnorm(TS, m = 0, s = 1 ) + 1 - pnorm(-TS, m = 0, s = 1 )"
   ]
  },
  {
   "cell_type": "markdown",
   "id": "c616af52-dcf3-491f-bd73-4b68aafbfce8",
   "metadata": {},
   "source": [
    "- Step 4: Conclusion: \n",
    "\n",
    "  Because the $p$-value of 0.2053 is greater than our $\\alpha = 0.05$, we cannot reject the null hypothesis. There is not enough evidence to claim that the females wear hats at a different proportion than males."
   ]
  },
  {
   "cell_type": "code",
   "execution_count": 5,
   "id": "91c792b2-39ad-43a9-866e-92e3a1f227b3",
   "metadata": {},
   "outputs": [
    {
     "data": {
      "text/plain": [
       "\n",
       "\t2-sample test for equality of proportions with continuity correction\n",
       "\n",
       "data:  c(10, 16) out of c(100, 100)\n",
       "X-squared = 1.1052, df = 1, p-value = 0.2931\n",
       "alternative hypothesis: two.sided\n",
       "95 percent confidence interval:\n",
       " -0.16284521  0.04284521\n",
       "sample estimates:\n",
       "prop 1 prop 2 \n",
       "  0.10   0.16 \n"
      ]
     },
     "metadata": {},
     "output_type": "display_data"
    }
   ],
   "source": [
    "# Doing the above test in one line in R.\n",
    "prop.test(x=c(10,16), n=c(100,100))"
   ]
  },
  {
   "cell_type": "markdown",
   "id": "5d6677b8-2626-4b14-a143-2d1b4df86199",
   "metadata": {},
   "source": [
    "Note: The types of hypothesis for which we use the Binomial test are those where we are trying to test hypothesis about one single population proportion. We use proportions test for hypothesis about comparing two population proportions."
   ]
  },
  {
   "cell_type": "markdown",
   "id": "b972a320-b200-42ab-bcd5-fa13a085fa3b",
   "metadata": {},
   "source": [
    "### Discrete Distribution Matching\n",
    "Here we comparing an observed (categorical) distribution to a hypothesized one.\n",
    "\n",
    "#### Goodness of Fit\n",
    "**Parametric Procedure: Chi-Square Goodness-of-Fit Procedure**\n",
    "- Null hypothesis: Data are generated by the hypothesized\n",
    "distribution.\n",
    "- Graphic: Binomial plot\n",
    "$binom.plot(x=c(x1,x2, ... ,xk), n=c(n1,n2, ... ,nk))$\n",
    "- Requires: Expected number of successes is at least 5 in each group.\n",
    "- R function:\n",
    "$chisq.test(x=c(x1,x2, ... ,xk), p=c(p1,p2, ... ,pk))$"
   ]
  },
  {
   "cell_type": "markdown",
   "id": "73f71fbc-3f0c-4eaf-b3a3-3c69c750be70",
   "metadata": {},
   "source": [
    "- Example: I would like to test if my three-sided die is fair. To do this, I roll it $n = 600$ times and tabulate the observed frequency distribution. In those 600 rolls, I got $n_1 = 180$ ones, $n_2 =215$ twos, and $n_3 = 205$ threes.\n",
    "\n",
    "We are given the following informations:\n",
    "- Observed counts: {180, 215, 205} = {$x_1, x_2, x_3$}\n",
    "- Expected counts: {200, 200, 200} = {$\\mu_1, \\mu_2, \\mu_3$}\n",
    "\n",
    "The goal is to create a test statistic that measures how far the observed counts are from the expected counts, while still having a distribution we know (or can determine).\n",
    "\n",
    "It can be shown that this test statistic approximately follows a Chi-square distribution with $k - 1$ degrees of freedom (if the $\\mu_i$ are large enough). In this example its $3-1=2$ degrees of freedom.\n",
    "\n",
    "$$TS = \\sum_{i=1}^k \\frac{(x_i-\\mu_i)^2}{\\mu_i}$$\n",
    "\n",
    "It just requires that we can determine the expected value of each count $\\mu_i$.\n",
    "- Recall from the Binomial distribution that $u_i = np_i$\n",
    "- Here,\n",
    "    - $n$ is the number of rolls.\n",
    "    - $p_i$ is the probability of the $i^{th}$ outcome."
   ]
  },
  {
   "cell_type": "code",
   "execution_count": 8,
   "id": "9497eab6-6a4b-49c3-bb04-5ac0ddfd6bce",
   "metadata": {},
   "outputs": [
    {
     "name": "stdout",
     "output_type": "stream",
     "text": [
      "[1] 3.25\n"
     ]
    }
   ],
   "source": [
    "x = c(180, 215, 205)\n",
    "mu = c(200, 200, 200)\n",
    "TS = sum((x-mu)^2/mu)\n",
    "print(TS)"
   ]
  },
  {
   "cell_type": "markdown",
   "id": "6cf23415-6498-4282-a41d-aa21ae80651d",
   "metadata": {},
   "source": [
    "Here, we compare test statistic to the Chi-square distribution with $k-1 = 2$ degrees of freedom.\n",
    "$$\n",
    "\\begin{aligned}\n",
    "p-value &= P[X \\geq 3.25] \\\\\n",
    "        &= 1- P[X \\leq 3.25]\n",
    "\\end{aligned}\n",
    "$$"
   ]
  },
  {
   "cell_type": "code",
   "execution_count": 10,
   "id": "4387a362-71ba-4b48-9c4f-4b74e4e54eb7",
   "metadata": {},
   "outputs": [
    {
     "name": "stdout",
     "output_type": "stream",
     "text": [
      "[1] 0.1969117\n"
     ]
    }
   ],
   "source": [
    "p_value = 1 - pchisq(TS, df = 2)\n",
    "print(p_value)"
   ]
  },
  {
   "cell_type": "markdown",
   "id": "f54294ee-32bb-4a85-ac0e-12fec6030aa4",
   "metadata": {},
   "source": [
    "Because the $p$-value of 0.1969117 is greater than our $\\alpha = 0.05$, we fail to reject the null hypothesis. There is not enough evidence to claim if my three-sided die is unfair. We are also unable to conclude that the die is fair. In fact, this experiment gave us no additional\n",
    "information about the outcome distribution of my favorite three-sided die."
   ]
  },
  {
   "cell_type": "code",
   "execution_count": 11,
   "id": "f2bd001a-611f-4bf6-b2a6-fbe0b71c41a0",
   "metadata": {},
   "outputs": [
    {
     "data": {
      "text/plain": [
       "\n",
       "\tChi-squared test for given probabilities\n",
       "\n",
       "data:  x\n",
       "X-squared = 3.25, df = 2, p-value = 0.1969\n"
      ]
     },
     "metadata": {},
     "output_type": "display_data"
    }
   ],
   "source": [
    "# Doing the above test in one line in R.\n",
    "chisq.test(x = x, p=c(1/3, 1/3, 1/3))"
   ]
  },
  {
   "cell_type": "markdown",
   "id": "83ba48aa-2df1-4fbe-b653-70d47fe54783",
   "metadata": {},
   "source": [
    "- Exercise: The Department of Mathematics claims that the proportion of its graduates who went to graduate school is twice the proportion of any other post-baccalaureate path.\n",
    "\n",
    "To test this, the Department sent out a questionnaire to all of the alumni for whom they had current addresses. Here is a table of the results for 35 who replied.\n",
    "\n",
    "Category|Grad School|Business|Education|Unemployed\n",
    "---|:---:|:---:|:---:|---: \n",
    "Count|13|7|10|5\n",
    "Expected|14|7|7|7\n"
   ]
  },
  {
   "cell_type": "code",
   "execution_count": 13,
   "id": "7d4a02a5-ad9e-46d2-a2c9-116ef43faad0",
   "metadata": {},
   "outputs": [
    {
     "data": {
      "text/html": [
       "1.92857142857143"
      ],
      "text/latex": [
       "1.92857142857143"
      ],
      "text/markdown": [
       "1.92857142857143"
      ],
      "text/plain": [
       "[1] 1.928571"
      ]
     },
     "metadata": {},
     "output_type": "display_data"
    },
    {
     "data": {
      "text/html": [
       "0.587363506052187"
      ],
      "text/latex": [
       "0.587363506052187"
      ],
      "text/markdown": [
       "0.587363506052187"
      ],
      "text/plain": [
       "[1] 0.5873635"
      ]
     },
     "metadata": {},
     "output_type": "display_data"
    }
   ],
   "source": [
    "obs = c(13, 7, 10, 5)\n",
    "exp = c (14, 7, 7, 7)\n",
    "TS = sum( (obs-exp)^2/exp )\n",
    "TS\n",
    "1-pchisq(TS, df=3)"
   ]
  },
  {
   "cell_type": "code",
   "execution_count": 14,
   "id": "a3a59e5e-fdd0-4690-9099-fb6a72af04fc",
   "metadata": {},
   "outputs": [
    {
     "data": {
      "text/plain": [
       "\n",
       "\tChi-squared test for given probabilities\n",
       "\n",
       "data:  obs\n",
       "X-squared = 1.9286, df = 3, p-value = 0.5874\n"
      ]
     },
     "metadata": {},
     "output_type": "display_data"
    }
   ],
   "source": [
    "# Doing the above test in one line in R.\n",
    "chisq.test(x = obs, p=c(14, 7, 7, 7)/35)"
   ]
  },
  {
   "cell_type": "markdown",
   "id": "2cb48040-dae6-4106-aece-cfaeb5ea2d20",
   "metadata": {},
   "source": [
    "Because the $p$-value of 0.5874 is greater than our selected value of $\\alpha= 0.05$, we cannot reject the null hypothesis. The claim made by the Department of Mathematics that twice as many of its graduates go to\n",
    "graduate school than any other category is reasonable, given the data."
   ]
  },
  {
   "cell_type": "markdown",
   "id": "9ec329d1-dd4e-4572-8b59-9fb94645633d",
   "metadata": {},
   "source": [
    "### Categorical Independence\n",
    "Testing for independence between two catagorical variables.\n",
    "Test of Independence\n",
    "\n",
    "#### Parametric Procedure: Chi-Square Test of Independence\n",
    "- Null hypothesis: The two categorical variables are independent.\n",
    "- Graphic: Matrix plot $mosaicplot( table(x,y) )$\n",
    "- Requires: Expected number of successes is at least 5 in each table cell.\n",
    "- R function: $chisq.test( table(x,y) )$"
   ]
  },
  {
   "cell_type": "markdown",
   "id": "ac1539c9-f4d8-4855-a3a4-35c91d35bc38",
   "metadata": {},
   "source": [
    "- Exercise: I would like to test if there is a relationship between whether a person has blue eyes and whether that person is a Maths major.\n",
    "\n",
    "To do this, I asked 100 people at university and measure if they have blue eyes and if their major is in Maths. Here is the contingency table:\n",
    "\n",
    " .|Blue|Not Blue\n",
    "---|:---:|---: \n",
    "Maths|7|28\n",
    "Not Maths|13|52\n",
    "\n",
    "Two categorical variables are independent if the value of one does not affect the probability of the other. So in this example the probability of a Math major does not depend on whether you are blue-eyed i.e. the distribution of Math majors is the same for blue-eyed as it is for non-blue-eyed.\n",
    "\n",
    "The proportion of the blue-eyed people in the sample is\n",
    "$$(7+13)/100 = 20\\%$$\n",
    "The proportion of the blue-eyed people who are Math majors is $$7/(7+28) = 20\\%$$\n",
    "The proportion of the blue-eyed people who are Not Math majors is $$13/(13+52) = 20\\%$$\n",
    "The proportion of the Non-blue-eyed people in the sample is $$(28+52)/100 = 80\\%$$\n",
    "The proportion of the Non-blue-eyed people who are Math majors is $$28/(7+28) = 80\\%$$\n",
    "The proportion of the Non-blue-eyed people who are Not Math majors is $$52/(13+52) = 80\\%$$\n",
    "In other words, knowledge of whether the person is blue-eyed or not does not change the probability that person is a Maths major. The two variables are independent."
   ]
  },
  {
   "cell_type": "markdown",
   "id": "6242e5b7-a92b-4dd7-be5f-9a8942725513",
   "metadata": {},
   "source": [
    "- Theory of the Test."
   ]
  },
  {
   "cell_type": "markdown",
   "id": "717ea0f2-e0ec-4d34-8951-534cbc1b947a",
   "metadata": {},
   "source": [
    "Data:\n",
    "\n",
    ".|$$A_1$$|$$A_2$$\n",
    "---|:---:|---: \n",
    "$$B_1$$|$$x_{11}$$|$$x_{12}$$\n",
    "$$B_2$$|$$x_{21}$$|$$x_{22}$$\n",
    "\n",
    "Data with row sums and column sums:\n",
    "\n",
    ".|$A_1$|$A_2$|Row Sum\n",
    "---|:---:|:---:|---: \n",
    "$B_1$|$x_{11}$|$x_{12}$|$r_1$\n",
    "$B_2$|$x_{21}$|$x_{22}$|$r_2$\n",
    "Column Sums|$c_1$|$c_2$|$n$\n",
    "\n",
    "If the two variables are perfectly independent, the Expected values would be:\n",
    "\n",
    ".|$A_1$|$A_2$|Row Sum\n",
    "---|:---:|:---:|---: \n",
    "$B_1$|$\\mu_{11} = n\\frac{r_1}{n}\\frac{c_1}{n}$|$\\mu_{12} = n\\frac{r_1}{n}\\frac{c_2}{n}$|$r_1$\n",
    "$B_2$|$\\mu_{21} = n\\frac{r_2}{n}\\frac{c_1}{n}$|$\\mu_{22} = n\\frac{r_2}{n}\\frac{c_2}{n}$|$r_2$\n",
    "Column Sums|$c_1$|$c_2$|$n$\n",
    "\n",
    "If the observed and the expected values are exactly the same, the two catagorical variables are mathematically independent. However, since the sample is random, two independent variables cannot always give such perfect results.\n",
    "-  Thus, we need to create a test statistic to determine if the results are statistically significant.\n",
    "\n",
    "As before, that test statistic is\n",
    "$$X_2 = \\sum \\frac{(x_i - \\mu_i)^2}{\\mu_i}$$\n",
    "\n",
    "As before in the goodness-of-fit test, we are summing up over all of the cells. The test statistic has a Chi-square distribution with $df= (r-1)(c-1)$ degrees of freedom.\n",
    "- Exercise(Previous example): I would like to determine if the proportion of males who wear hats is the same as the proportion of females who do. To test this, I sample 100 males and 100 females. 10 males and 16 females were wearing hats. Lets investigate this as a question of whether two variables (gender and hat-wearing) are independent."
   ]
  },
  {
   "cell_type": "markdown",
   "id": "f6b1dc27-1e10-41c6-aed7-7b46354622e9",
   "metadata": {},
   "source": [
    ".|Hat|No-Hat|Row Sum\n",
    "---|:---:|:---:|---: \n",
    "Female|16|84|100\n",
    "Male|10|90|100\n",
    "Column Sums|26|174|200\n",
    "\n",
    ".|Hat|No-Hat|Row Sum\n",
    "---|:---:|:---:|---: \n",
    "Female|$$\\mu_{11} = 200\\frac{100}{200}\\frac{26}{200}=13$$|$$\\mu_{12} = 200\\frac{100}{200}\\frac{174}{200}=87$$|$100$\n",
    "Male|$$\\mu_{21} = 200\\frac{100}{200}\\frac{26}{200}=13$$|$$\\mu_{22} = 200\\frac{100}{200}\\frac{174}{200}=87$$|$100$\n",
    "Column Sums|$26$|$174$|$200$\n",
    "\n",
    "The test Statistic value is:\n",
    "$$\n",
    "X_2 = \\sum_i \\frac{(x_i-\\mu_i)^2}{\\mu_i}\n",
    "$$"
   ]
  },
  {
   "cell_type": "code",
   "execution_count": 21,
   "id": "5f9f2f51-131c-4d09-9bef-d008883745a9",
   "metadata": {},
   "outputs": [
    {
     "data": {
      "text/html": [
       "1.59151193633952"
      ],
      "text/latex": [
       "1.59151193633952"
      ],
      "text/markdown": [
       "1.59151193633952"
      ],
      "text/plain": [
       "[1] 1.591512"
      ]
     },
     "metadata": {},
     "output_type": "display_data"
    }
   ],
   "source": [
    "x = c(16, 84, 10, 90)\n",
    "mu = c(13, 87, 13, 87)\n",
    "TS = sum( (x-mu)^2/mu )\n",
    "TS"
   ]
  },
  {
   "cell_type": "markdown",
   "id": "d8dc43dc-c66f-4653-b0d3-616bda3326b0",
   "metadata": {},
   "source": [
    "This test statistic follows a Chi-square distribution with $(2-1)(2-1)= 1$ degree of freedom.\n",
    "The $p$- value is:\n",
    "$$p-value = \\mathbb{P}[X_2 \\geq 1.5915] = 1- \\mathbb{P}[X_2 \\leq 1.5915]$$"
   ]
  },
  {
   "cell_type": "code",
   "execution_count": 22,
   "id": "6d72533e-1a63-4076-bb80-7207ef2afe61",
   "metadata": {},
   "outputs": [
    {
     "data": {
      "text/html": [
       "0.207110253248926"
      ],
      "text/latex": [
       "0.207110253248926"
      ],
      "text/markdown": [
       "0.207110253248926"
      ],
      "text/plain": [
       "[1] 0.2071103"
      ]
     },
     "metadata": {},
     "output_type": "display_data"
    }
   ],
   "source": [
    "1 - pchisq(TS, df = 1)"
   ]
  },
  {
   "cell_type": "markdown",
   "id": "a9832a71-4920-434b-a28a-947534983916",
   "metadata": {},
   "source": [
    "Because the $p$-value of 0.2071 is greater than our selected value of $\\alpha= 0.05$, we cannot reject the null hypothesis. There is no significant evidence that the hat-wearing rate differs between males and females."
   ]
  },
  {
   "cell_type": "code",
   "execution_count": 23,
   "id": "8e23db48-3b52-4c1e-bf05-683be73911c7",
   "metadata": {},
   "outputs": [
    {
     "data": {
      "text/plain": [
       "\n",
       "\tPearson's Chi-squared test with Yates' continuity correction\n",
       "\n",
       "data:  obs\n",
       "X-squared = 1.1052, df = 1, p-value = 0.2931\n"
      ]
     },
     "metadata": {},
     "output_type": "display_data"
    }
   ],
   "source": [
    "# Testing in R.\n",
    "obs = matrix( c(16, 10, 84, 90), ncol = 2)\n",
    "chisq.test(obs)"
   ]
  },
  {
   "cell_type": "code",
   "execution_count": 24,
   "id": "469c0158-b4a2-44ec-acc6-58ffa4442443",
   "metadata": {},
   "outputs": [
    {
     "data": {
      "text/plain": [
       "\n",
       "\tPearson's Chi-squared test\n",
       "\n",
       "data:  obs\n",
       "X-squared = 1.5915, df = 1, p-value = 0.2071\n"
      ]
     },
     "metadata": {},
     "output_type": "display_data"
    }
   ],
   "source": [
    "chisq.test(obs, correct = FALSE)"
   ]
  },
  {
   "cell_type": "markdown",
   "id": "20ce643f-2ff5-4a3c-a4a3-f906954da8bc",
   "metadata": {},
   "source": [
    "- Exercise: I would like to determine if females have a different grade distribution in a course than males. Observations from past courses:\n",
    "\n",
    "Gender|A|B|C|D|E\n",
    "---|:---:|:---:|:---:|:---:|---: \n",
    "Female|57|72|61|40|22\n",
    "Male|49|68|55|32|20"
   ]
  },
  {
   "cell_type": "code",
   "execution_count": 1,
   "id": "6f2515eb-ef2d-4765-8059-41c438825ae5",
   "metadata": {},
   "outputs": [
    {
     "data": {
      "text/plain": [
       "\n",
       "\tPearson's Chi-squared test\n",
       "\n",
       "data:  obs\n",
       "X-squared = 0.36674, df = 4, p-value = 0.9851\n"
      ]
     },
     "metadata": {},
     "output_type": "display_data"
    }
   ],
   "source": [
    "# Testing in R.\n",
    "obs = matrix( c(57,49,72,68,61,55,40,32,22,20), ncol = 5)\n",
    "chisq.test(obs)"
   ]
  },
  {
   "cell_type": "code",
   "execution_count": 29,
   "id": "f9511284-628a-4da5-aa7e-65ae000516da",
   "metadata": {},
   "outputs": [
    {
     "data": {
      "text/plain": [
       "\n",
       "\tPearson's Chi-squared test\n",
       "\n",
       "data:  obs\n",
       "X-squared = 0.36674, df = 4, p-value = 0.9851\n"
      ]
     },
     "metadata": {},
     "output_type": "display_data"
    }
   ],
   "source": []
  },
  {
   "cell_type": "markdown",
   "id": "68d51f76-933a-4d8b-9b69-e216edeb9b65",
   "metadata": {},
   "source": [
    "Because the $p$-value of 0.9851 is greater than our usual $\\alpha$ of 0.05, we cannot rejeet the null hypothesis. There is no significant evidence that the the grade distribution differs between females and males.\n",
    "\n",
    "Note: To Test for independence of two numeric variables we use Regression."
   ]
  },
  {
   "cell_type": "markdown",
   "id": "ee8b0dc6-0161-4ff7-9741-68865003a0ae",
   "metadata": {},
   "source": [
    "### Analysis of Variance\n",
    "Tests for:\n",
    " - The Means of more than two populations.\n",
    " - Independence between a numeric and a catagorical variable."
   ]
  },
  {
   "cell_type": "markdown",
   "id": "dcbde65f-197f-405e-9851-70fd869cc22b",
   "metadata": {},
   "source": [
    "- Exercise: I would like to test if the average GPA is the same for the four types of majors: MNS, HSS, HUM, and ART.\n",
    "\n",
    "To do this, I asked 200 people at a College, 50 of each major type, and asked two questions:\n",
    "- What is your major type?\n",
    "- What is your GPA?\n",
    "\n",
    "There are a few equivalent ways of looking at this question:\n",
    "- Do the means in each group significantly differ?\n",
    "- Are the group and the GPA independent?\n",
    "- Does including the group identifier improve our ability to\n",
    "estimate?\n",
    "\n",
    "The last gives some insight into the test statistic:\n",
    "- Improving predictions implies we reduce uncertainty in those predictions(reduce variance).\n",
    "\n",
    "Think of this as the idea behind the Analysis of Variance procedure.\n",
    "- Measure the variance of the original data (corrected).\n",
    "- Measure the variance unexplained in the model.\n",
    "- Calculate the ratio(f-ratio) of the explained variance to the unexplained.\n",
    "\n",
    "This last ratio is the test statistic.\n",
    "Here is the ANOVA table:\n",
    "\n",
    "Source|Sum of Squares(SS)|df|Mean-Squared(MS)|F|p\n",
    "---|:---:|:---:|:---:|:---:|---: \n",
    "Model|||\n",
    "Error|||\n",
    "Total|||\n",
    "\n",
    "The column marked \"SS\" contains the \"sum of squares\" for the three sources. The sum of squares is just the sum of the deviation between the observation and the mean. As such,\n",
    "$$\n",
    "SS_{Model} = \\sum_i \\sum_j (\\overline{y_j}-\\overline{\\overline{y}})^2 \\\\\n",
    "SS_{Error} = \\sum_i \\sum_j (\\overline{y_{ij}}-\\overline{y_j})^2 \\\\\n",
    "SS_{Total} = \\sum_i \\sum_j (\\overline{y_{ij}}-\\overline{\\overline{y}})^2 \n",
    "$$\n",
    "\n",
    "In each of these, the $i$ represents a value within a group, and $j$ represents a group. Also, $\\overline{\\overline{y}}$ is the average of all measurements (the grand mean) and $\\overline{y_j}$ is the average of the measurements in group $j$.\n",
    "\n",
    "Source|Sum of Squares(SS)|df|Mean-Squared(MS)|F|p\n",
    "---|:---:|:---:|:---:|:---:|---: \n",
    "Model|7.83||\n",
    "Error|92.46||\n",
    "Total|100.29||\n",
    "\n",
    "**Note**: $SS_M +SS_E = SS_T$. This is an interest result as this means that the Model and what remains(Error) are independent.\n",
    "\n",
    "The column marked \"df\" contains the \"degrees of freedom\" for the three sources. What are degrees of freedom? They are parameters that reflect the amount of information contributed by each source .\n",
    "$$\n",
    "df_{Model}=k-1\\\\\n",
    "df_{Error} = k(n -1) = N - k\\\\\n",
    "df_{Total}=N-1\n",
    "$$\n",
    "In each of these, the $k$ represents the number of groups, $n$ represents the sample size within each group, and $N$ represents the total sample size.\n",
    "\n",
    "Source|Sum of Squares(SS)|df|Mean-Squared(MS)|F|p\n",
    "---|:---:|:---:|:---:|:---:|---: \n",
    "Model|7.83|3|\n",
    "Error|92.46|196|\n",
    "Total|100.29|199|\n",
    "\n",
    "**Note**: $df_M +df_E = df_T$.\n",
    "\n",
    "The column marked $MS$ contains the \"mean squares\" for the three sources. These are the estimates of the individual variances. They are the $SS$ divided by the $df$ for each source. Recall our definition of sample variance. It is just the sum of squares divided by the degrees of freedom, $n - 1$.\n",
    "$$\n",
    "MS_{Model} = \\frac{SS_{Model}}{df_{Model}} \\\\\n",
    "MS_{Error} = \\frac{SS_{Error}}{df_{Error}}\n",
    "$$\n",
    "*Note* that we could also caleulate $MS_{Total}$. It is not used in ANOVA,so we do not. Its formula is\n",
    "\n",
    "$$MS_{Total} = \\frac{1}{N-1} \\sum_i \\sum_j (y_{ij} - \\overline{\\overline{y}})^2$$\n",
    "\n",
    "This is just the sample variance of the measurements.\n",
    "\n",
    "Source|Sum of Squares(SS)|df|Mean-Squared(MS)|F|p\n",
    "---|:---:|:---:|:---:|:---:|---: \n",
    "Model|7.83|3|2.6104\n",
    "Error|92.46|196|0.4718\n",
    "Total|100.29|199|\n",
    "\n",
    "*Note:* $MS_M + MS_E \\neq MS_T$. i.e. the total variance is not partitioned between the 2-sources.\n",
    "\n",
    "The column marked $F$ contains the \"F-statistic\" for the model.\n",
    "$$\n",
    "F = \\frac{MS_{Model}}{MS_{Error}}\n",
    "$$\n",
    "\n",
    "As with all test statistics, it is a measure of how far the data are from the null hypothesis. It has a distribution. As you can/should guess, the distribution of the $F$-statistic is $F$.\n",
    "\n",
    "Source|Sum of Squares(SS)|df|Mean-Squared(MS)|F|p\n",
    "---|:---:|:---:|:---:|:---:|---: \n",
    "Model|7.83|3|2.6104|5.533\n",
    "Error|92.46|196|0.4718\n",
    "Total|100.29|199|\n",
    "\n",
    "The column marked $p$ contains the $p$-value for the model. \n",
    "$$p-value = \\mathbb{P}[F\\geq f] = 1 - \\mathbb{P}[F \\leq f]$$\n",
    "\n",
    "Here, $f$ is the value of the test statistic you calculated above.\n",
    "\n",
    "As with all $p$-values, it is a measure of how far the data are from the null hypothesis. Compare it to your selected value of $\\alpha$. If the $p$-value is less than $\\alpha$, then you reject the null hypothesis.\n",
    "\n",
    "What is the null hypothesis:\n",
    "- All population means are the same.\n",
    "- The numeric variable is independent of the categorical variable.\n",
    "- The model does not significantly improve our prediction ability.\n",
    "\n",
    "Source|Sum of Squares(SS)|df|Mean-Squared(MS)|F|p\n",
    "---|:---:|:---:|:---:|:---:|---: \n",
    "Model|7.83|3|2.6104|5.533|0.00115\n",
    "Error|92.46|196|0.4718\n",
    "Total|100.29|199|\n",
    "\n",
    "Since $p$-value of 0.00115 is less than $\\alpha = 0.05$, we reject the Null hypothesis. At least one of the population means differ. The two variables (GPA and Major type) are not independent. The model helps in our prediction accuracy."
   ]
  },
  {
   "cell_type": "markdown",
   "id": "74fd2308-bb39-4476-9b93-ad6bb72d1a81",
   "metadata": {},
   "source": [
    "- Example: Does rice variety influence average yield amongst these four varieties?\n",
    "\n",
    "One of the typical examples for introducing ANOVA concerns\n",
    "comparing rice yields across four different varieties. Here is the raw data:\n",
    "\n",
    "Variety A = $934, 1041, 1028, 935$\n",
    "\n",
    "Variety B = $880, 963, 924, 946$  \n",
    "\n",
    "Variety C = $987, 951, 976, 840$\n",
    "\n",
    "Variety D = $992, 1143, 1140, 1191$\n",
    "\n",
    "From the data, \n",
    "$$\n",
    "\\overline{y_1} = 984.5,\\qquad \\overline{y_2} = 928.25\\\\\n",
    "\\overline{y_3} = 938.5,\\qquad \\overline{y_4} = 1116.5 \\\\\n",
    "\\overline{\\overline{y}} = 991.9375\n",
    "$$\n",
    "Plugging these values and calculating:\n",
    "$$SS_{Model} = \\sum_i \\sum_j (\\overline{y_j}-\\overline{\\overline{y}})^2 = 89931\\\\\n",
    "SS_{Error} = \\sum_i \\sum_j (\\overline{y_{ij}}-\\overline{y_j})^2 = 49876 \\\\\n",
    "SS_{Total} = \\sum_i \\sum_j (\\overline{y_{ij}}-\\overline{\\overline{y}})^2 = 139807\n",
    "$$\n",
    "The degrees of freedom are:\n",
    "$$\n",
    "df_{Model}=k-1 = 4-1 = 3\\\\\n",
    "df_{Error} = k(n -1) = 4(4-1) = 12\\\\\n",
    "df_{Total}=N-1= 16-1= 15\n",
    "$$\n",
    "The Mean-Squared are:\n",
    "$$\n",
    "MS_{Model} = \\frac{SS_{Model}}{df_{Model}} = \\frac{89931}{3} = 29977 \\\\\n",
    "MS_{Error} = \\frac{SS_{Error}}{df_{Error}} = \\frac{49876}{12} = 4156\n",
    "$$\n",
    "The \"F-statistic\" for the model is:\n",
    "$$\n",
    "F = \\frac{MS_{Model}}{MS_{Error}} = \\frac{29977}{4156} = 7.212\n",
    "$$\n",
    "The $p$-value for the model:\n",
    "$$\n",
    "\\begin{aligned}\n",
    "p-value &= \\mathbb{P}[F\\geq f]\\\\\n",
    "        &= 1 - \\mathbb{P}[F \\leq f]\\\\\n",
    "        &= 1- \\mathbb{P}[F \\leq 7.212]\\\\\n",
    "        &= 0.00503\n",
    "\\end{aligned}\n",
    "$$\n",
    "\n",
    "Source|Sum of Squares(SS)|df|Mean-Squared(MS)|F|p\n",
    "---|:---:|:---:|:---:|:---:|---: \n",
    "Model|89931|3|29977|7.212|0.00503\n",
    "Error|49876|12|4156\n",
    "Total|139807|15|\n",
    "\n",
    "Since $p$-value of 0.00503 is less than $\\alpha = 0.05$, we reject the Null hypothesis. The average yield per acre for the four varieties is not the same. The yield and variety variables are dependent. Our ability to predict the yield for a plot depends on knowing the rice yield planted."
   ]
  },
  {
   "cell_type": "code",
   "execution_count": 3,
   "id": "8fb0baf2-ffa7-412c-ab1a-02e5d3266bd7",
   "metadata": {},
   "outputs": [
    {
     "data": {
      "text/plain": [
       " variety     yield       \n",
       " A:4     Min.   : 840.0  \n",
       " B:4     1st Qu.: 934.8  \n",
       " C:4     Median : 969.5  \n",
       " D:4     Mean   : 991.9  \n",
       "         3rd Qu.:1031.2  \n",
       "         Max.   :1191.0  "
      ]
     },
     "metadata": {},
     "output_type": "display_data"
    }
   ],
   "source": [
    "data = data.frame(\n",
    "  variety = c(\"A\", \"A\", \"A\", \"A\", \"B\", \"B\", \"B\", \"B\", \"C\", \"C\", \"C\", \"C\", \"D\", \"D\", \"D\", \"D\"),\n",
    "  yield = c(934, 1041, 1028, 935, 880, 963, 924, 946, 987, 951, 976, 840, 992, 1143, 1140, 1191)\n",
    ")\n",
    "summary(data)"
   ]
  },
  {
   "cell_type": "code",
   "execution_count": 6,
   "id": "538eb155-fca9-4514-800d-c9145f735ae4",
   "metadata": {},
   "outputs": [
    {
     "data": {
      "text/plain": [
       "             Df Sum Sq Mean Sq F value  Pr(>F)   \n",
       "data$variety  3  89931   29977   7.212 0.00503 **\n",
       "Residuals    12  49876    4156                   \n",
       "---\n",
       "Signif. codes:  0 '***' 0.001 '**' 0.01 '*' 0.05 '.' 0.1 ' ' 1"
      ]
     },
     "metadata": {},
     "output_type": "display_data"
    }
   ],
   "source": [
    "# ANOVA in R.\n",
    "rice = aov(data$yield ~ data$variety)\n",
    "summary(rice)"
   ]
  },
  {
   "cell_type": "markdown",
   "id": "06d04d14-c28a-4b74-bb50-e6d5e022ad41",
   "metadata": {},
   "source": [
    "The \"**\" means $p$-value is between 0.001 and 0.01."
   ]
  },
  {
   "cell_type": "markdown",
   "id": "a543f41b-2390-4d13-ac9c-993bbb55371d",
   "metadata": {},
   "source": [
    "ANOVA procedure helps us determine:\n",
    "- if the mean of several groups are the same.\n",
    "- if a numeric and a categorical variable are independent.\n",
    "- if knowing group membership helps with estimation of the\n",
    "dependent variable."
   ]
  },
  {
   "cell_type": "markdown",
   "id": "10efe8f5-b5eb-4b45-bbf7-929beac4dd3f",
   "metadata": {},
   "source": [
    "Note: When the $F$-value is small the $p$-value is large and vice-versa for ANOVA. The Null hypothehis for ANOVA are:\n",
    "- Either All means are equal or\n",
    "- Two variables are independent or\n",
    "- Grouping variable gives no information about the numeric variable."
   ]
  },
  {
   "cell_type": "code",
   "execution_count": null,
   "id": "81a9a38d-107c-44d2-9410-877cdd5acb65",
   "metadata": {},
   "outputs": [],
   "source": []
  }
 ],
 "metadata": {
  "kernelspec": {
   "display_name": "R",
   "language": "R",
   "name": "ir"
  },
  "language_info": {
   "codemirror_mode": "r",
   "file_extension": ".r",
   "mimetype": "text/x-r-source",
   "name": "R",
   "pygments_lexer": "r",
   "version": "3.3.2"
  }
 },
 "nbformat": 4,
 "nbformat_minor": 5
}
