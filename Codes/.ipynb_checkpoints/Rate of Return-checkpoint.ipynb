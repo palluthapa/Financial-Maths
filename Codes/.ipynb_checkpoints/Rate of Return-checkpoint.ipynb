{
 "cells": [
  {
   "cell_type": "markdown",
   "metadata": {},
   "source": [
    "# Calculating rates of return\n",
    "A Simple return is preferable when you have to deal with multiple assets over the same timeframe.\n",
    "    $$\\text{Simple returns} = \\frac{\\text{Final Price} – \\text{Initial Price}}{\\text{Initial Price}}$$\n",
    "For making calculations about a single asset over a given timeframe, Log Return is better to use.\n",
    "$$Log \\hspace{0.1cm} returns = \\log \\bigg(\\frac{Final}{Initial Price}\\bigg)$$"
   ]
  },
  {
   "cell_type": "markdown",
   "metadata": {},
   "source": [
    "## Rate of return of a portfolio\n",
    "$$r_p = \\sum_{i=1}^{n} W_i r_i = W_1r_1 + W_2r_2 +\\dots + W_nr_n$$\n",
    "where $r_p$ is the rate of return of a portfolio, $r_i$ is the rates of return of individual securities and $W_i$ is the security’s weight in the overall portfolio."
   ]
  },
  {
   "cell_type": "code",
   "execution_count": null,
   "metadata": {},
   "outputs": [],
   "source": []
  }
 ],
 "metadata": {
  "kernelspec": {
   "display_name": "Python 3",
   "language": "python",
   "name": "python3"
  },
  "language_info": {
   "codemirror_mode": {
    "name": "ipython",
    "version": 3
   },
   "file_extension": ".py",
   "mimetype": "text/x-python",
   "name": "python",
   "nbconvert_exporter": "python",
   "pygments_lexer": "ipython3",
   "version": "3.7.16"
  }
 },
 "nbformat": 4,
 "nbformat_minor": 4
}
