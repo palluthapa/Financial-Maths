{
 "cells": [
  {
   "cell_type": "markdown",
   "id": "78c7beb8-f885-4943-b49c-232786f0d4c3",
   "metadata": {},
   "source": [
    "# Bloomberg Terminal\n",
    "<img src=\"pics/bloomberg.png\" width=\"700\" height=\"600\" title=\"Source: https://www.bloomberg.com\"/>\n",
    "Notes on using Bloomberg Terminal and Functions."
   ]
  },
  {
   "cell_type": "markdown",
   "id": "ed34c6e4-10f6-450f-b01b-f5c3eb5b57c0",
   "metadata": {},
   "source": [
    "Here are few of the functions on Bloomberg Terminal.\n",
    "- BQ - Bloomberg Quote, a quick summary of the security.\n",
    "- GP - Graph of historic prices.\n",
    "- GIP - Graph of intraday day prices.\n",
    "- GIP 5 - Graph of 5 days prices.\n",
    "- SECF - Security finder.\n",
    "- FA - Financial analysis.\n",
    "- DES - Description.\n",
    "- ANC - Analyst coverage - the advice of analysts.\n",
    "- NEWS - Market News.\n",
    "- MOST - Most up, most down, most active etc.\n",
    "- EQS - Equity search - sophisticated search for equities.\n",
    "- OMON - Options monitor.\n",
    "- PORT - Price a portfolio."
   ]
  },
  {
   "cell_type": "markdown",
   "id": "7d921416-9cc8-4e97-9664-e09ee9229c34",
   "metadata": {},
   "source": [
    "### Introduction: Searching Asset Prices\n",
    "On the top search bar (blue) type `GOOG US equity`. This is the ticker symbol for Google stock listed in US. Now type `DES` to get the description of the security. To look for price quotes type `BQ`. The *Bid price* is the price you receive for selling the security immediately. The *Ask price* is the price you must pay to buy the security immediately. Use `GP` for the graph of prices."
   ]
  },
  {
   "cell_type": "markdown",
   "id": "ddcb2282-72df-456b-91d2-05ca7bfd586e",
   "metadata": {},
   "source": [
    "### Exploring Market Data\n",
    "- Find out whats happening today in the Market by typing `NEWS`. If for example we have news saying stocks will go up and bonds will go down, lets verify this by examining the data ourselves.\n",
    "- To check if Stocks have gone up/down, we type `SPX INDEX` to see *S&P 500 Indices* which summarizes the movement of 500 major US stocks. We can then select the command ` GIP` which gives Intraday Price Charts for today. To see further back in time type `GIP 5` for the last 5 days Intraday Price Charts.\n",
    "- To check if Bonds have gone up/down, we type `TYA Comdty` which gives 10-Year US Treasury Note. We then select `GIP 5` to see the last 5 days Intraday Price Charts.\n",
    "- We can also check for impact of USD to other currencies. Type `USDJPY` followed by `GIP 5` for comparing USD to Japanese Yen (1 dollar to Yen). Some of the ticker symbols for major currencies are `GBP` for UK Pound Sterling, `EUR` for Euros and `CHF` for Swiss Franc.\n",
    "- When investors lose confidence in Market, they tend to move their money into Gold. To check how much gold you can get for your USD type `USDXAU` followed by `GIP 5`. (Note: `XAU` is the ticker symbol for gold). As I did this I noticed money moved into gold overnight and the USD-gold price decreases. As investors gain confidence in USD, the USD-gold prices again increases during the day.\n",
    "- If you believe certain stocks might perform well due to some news, we can check for individual stock. For example, to check for BAE Systems stocks traded in London Stock Exchange, type `BA/LN Equity`. Type `GP` to see graph of stock prices."
   ]
  },
  {
   "cell_type": "code",
   "execution_count": null,
   "id": "28ec6d7a-6021-43ec-be9a-917f8eafa736",
   "metadata": {},
   "outputs": [],
   "source": []
  }
 ],
 "metadata": {
  "kernelspec": {
   "display_name": "Python 3",
   "language": "python",
   "name": "python3"
  },
  "language_info": {
   "codemirror_mode": {
    "name": "ipython",
    "version": 3
   },
   "file_extension": ".py",
   "mimetype": "text/x-python",
   "name": "python",
   "nbconvert_exporter": "python",
   "pygments_lexer": "ipython3",
   "version": "3.7.16"
  }
 },
 "nbformat": 4,
 "nbformat_minor": 5
}
