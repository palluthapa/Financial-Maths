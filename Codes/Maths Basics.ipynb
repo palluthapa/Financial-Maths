{
 "cells": [
  {
   "cell_type": "markdown",
   "id": "ead5acd8",
   "metadata": {},
   "source": [
    "<span style=\"color:blue\">\n",
    "1. Generating a list $f$ containing the first 100 elements of the Fibonacci series defined by\n",
    "</span>\n",
    "$$ f_0=1$$\n",
    "$$ f_1=1$$\n",
    "$$ f_i=f_{i-1}+f_{i-2} \\quad \\text{ for } i \\geq 2$$"
   ]
  },
  {
   "cell_type": "code",
   "execution_count": 4,
   "id": "e5fddb86",
   "metadata": {},
   "outputs": [
    {
     "name": "stdout",
     "output_type": "stream",
     "text": [
      "length of f :  100\n",
      "[1, 1, 2, 3, 5, 8, 13, 21, 34, 55, 89, 144, 233, 377, 610, 987, 1597, 2584, 4181, 6765, 10946, 17711, 28657, 46368, 75025, 121393, 196418, 317811, 514229, 832040, 1346269, 2178309, 3524578, 5702887, 9227465, 14930352, 24157817, 39088169, 63245986, 102334155, 165580141, 267914296, 433494437, 701408733, 1134903170, 1836311903, 2971215073, 4807526976, 7778742049, 12586269025, 20365011074, 32951280099, 53316291173, 86267571272, 139583862445, 225851433717, 365435296162, 591286729879, 956722026041, 1548008755920, 2504730781961, 4052739537881, 6557470319842, 10610209857723, 17167680177565, 27777890035288, 44945570212853, 72723460248141, 117669030460994, 190392490709135, 308061521170129, 498454011879264, 806515533049393, 1304969544928657, 2111485077978050, 3416454622906707, 5527939700884757, 8944394323791464, 14472334024676221, 23416728348467685, 37889062373143906, 61305790721611591, 99194853094755497, 160500643816367088, 259695496911122585, 420196140727489673, 679891637638612258, 1100087778366101931, 1779979416004714189, 2880067194370816120, 4660046610375530309, 7540113804746346429, 12200160415121876738, 19740274219868223167, 31940434634990099905, 51680708854858323072, 83621143489848422977, 135301852344706746049, 218922995834555169026, 354224848179261915075]\n"
     ]
    }
   ],
   "source": [
    "f = [1,1]\n",
    "for i in range(2,100):\n",
    "    f.append(f[i-1]+f[i-2])\n",
    "    \n",
    "assert len(f) == 100\n",
    "print(\"length of f : \",len(f))\n",
    "print(f)"
   ]
  },
  {
   "cell_type": "markdown",
   "id": "ac190f7b",
   "metadata": {},
   "source": [
    "<span style=\"color:blue\">\n",
    "2. Compute the following double sum: \n",
    "<span>\n",
    "$$\\sum_{i=1}^{2} \\sum_{j=1}^{3} ij$$"
   ]
  },
  {
   "cell_type": "code",
   "execution_count": 5,
   "id": "e10d0712",
   "metadata": {},
   "outputs": [
    {
     "name": "stdout",
     "output_type": "stream",
     "text": [
      "18\n"
     ]
    }
   ],
   "source": [
    "total = 0\n",
    "for i in range(1,2+1):\n",
    "    for j in range(1, 3+1):\n",
    "        total = total + (i*j)\n",
    "print(total)"
   ]
  },
  {
   "cell_type": "markdown",
   "id": "be93f0eb",
   "metadata": {},
   "source": [
    "<span style=\"color:blue\">\n",
    "3. Write a factorial function and use it to build exponential function\n",
    "<span>$$ e^x = \\sum_{i=0}^\\infty \\frac{x^i}{i!}. $$."
   ]
  },
  {
   "cell_type": "code",
   "execution_count": 6,
   "id": "1c44c939",
   "metadata": {},
   "outputs": [
    {
     "name": "stdout",
     "output_type": "stream",
     "text": [
      "120\n",
      "7.3887125220458545\n"
     ]
    }
   ],
   "source": [
    "def factorial(n):\n",
    "    prod = 1\n",
    "    for i in range(1,n+1):\n",
    "        prod = prod * i\n",
    "    return prod\n",
    "\n",
    "def exponential_function( x, nTerms=10):\n",
    "    total = 0\n",
    "    for i in range(0,nTerms):\n",
    "        total = total + (x**i)/factorial(i)\n",
    "    return total\n",
    "\n",
    "assert (5*4*3*2*1) == 120\n",
    "print(factorial(5))\n",
    "print(exponential_function(2))"
   ]
  },
  {
   "cell_type": "markdown",
   "id": "16a1074c",
   "metadata": {},
   "source": [
    "<span style=\"color:blue\">\n",
    "4. Computing sum of vector like list or array. <span>"
   ]
  },
  {
   "cell_type": "code",
   "execution_count": 10,
   "id": "f45cba06",
   "metadata": {},
   "outputs": [
    {
     "name": "stdout",
     "output_type": "stream",
     "text": [
      "6\n",
      "6\n"
     ]
    }
   ],
   "source": [
    "def compute_sum(v):\n",
    "    total = 0\n",
    "    for i in range(0,len(v)):\n",
    "        total = total + v[i]\n",
    "    return total\n",
    "\n",
    "v = [1,2,3]\n",
    "b = (1,2,3)\n",
    "print(compute_sum(v))\n",
    "print(compute_sum(b))"
   ]
  },
  {
   "cell_type": "markdown",
   "id": "532a646a",
   "metadata": {},
   "source": [
    "<span style=\"color:blue\">\n",
    "5. Computing product of vector like list or array. <span>"
   ]
  },
  {
   "cell_type": "code",
   "execution_count": 16,
   "id": "b820d2bb",
   "metadata": {},
   "outputs": [],
   "source": [
    "def product(v):\n",
    "    prod = 1\n",
    "    for i in range(0,len(v)):\n",
    "        prod = prod * v[i]\n",
    "    return prod\n",
    "assert product([5,10,100]) == 5000\n",
    "assert product((9,8,7)) == 504"
   ]
  },
  {
   "cell_type": "markdown",
   "id": "d95b9964",
   "metadata": {},
   "source": [
    "<span style=\"color:blue\">\n",
    "6. Write a Python function `quadratic_solver` which computes all the roots the equation $a x^2 + b x + c=0$ and returns them as a list. Return an empty list if the equation has no real roots. <span>"
   ]
  },
  {
   "cell_type": "code",
   "execution_count": 21,
   "id": "6c46ed05",
   "metadata": {},
   "outputs": [
    {
     "name": "stdout",
     "output_type": "stream",
     "text": [
      "[-3.0, -1.0]\n"
     ]
    }
   ],
   "source": [
    "import math\n",
    "\n",
    "def quadratic_solver(a,b,c):\n",
    "    discriminant = b**2-4*a*c\n",
    "    if discriminant < 0:\n",
    "        return []\n",
    "    x1 = (-b + math.sqrt(discriminant))/(2*a)\n",
    "    x2 = (-b - math.sqrt(discriminant))/(2*a)\n",
    "    return [x1,x2]\n",
    "\n",
    "assert len(quadratic_solver(1,0,1)) == 0\n",
    "roots = quadratic_solver(1,4,3)\n",
    "assert len(roots) == 2\n",
    "roots.sort()\n",
    "assert abs(roots[0]-(-3)) < 0.0001\n",
    "assert abs(roots[1]-(-1)) < 0.0001\n",
    "print(roots)"
   ]
  },
  {
   "cell_type": "code",
   "execution_count": null,
   "id": "2ba7c678",
   "metadata": {},
   "outputs": [],
   "source": []
  }
 ],
 "metadata": {
  "kernelspec": {
   "display_name": "Python 3",
   "language": "python",
   "name": "python3"
  },
  "language_info": {
   "codemirror_mode": {
    "name": "ipython",
    "version": 3
   },
   "file_extension": ".py",
   "mimetype": "text/x-python",
   "name": "python",
   "nbconvert_exporter": "python",
   "pygments_lexer": "ipython3",
   "version": "3.7.10"
  }
 },
 "nbformat": 4,
 "nbformat_minor": 5
}
