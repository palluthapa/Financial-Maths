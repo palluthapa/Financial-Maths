{
 "cells": [
  {
   "cell_type": "markdown",
   "id": "ac497237-3c44-4ae8-9325-e5de6b4c2dc6",
   "metadata": {},
   "source": [
    "# Stochastic Volatility Model\n",
    "In these model not only we assume that Asset price follows stochastic proceess but also its variance. We predominantly use these models to value the price of an option.\n",
    "\n",
    "Recall that the `Black-Scholes model` assumes that stock price $S$ follows `Geometric Brownian Motion`:\n",
    "$$dS_t = \\mu S_t dt + \\sigma S_t dW_t$$\n",
    "And the $Log$-return follows a Normal distribution.\n",
    "$$\n",
    "S_T = S_0 e^{(\\mu - \\frac{\\sigma^2}{2})T + \\sigma W_T}\\\\\n",
    "ln\\bigl(\\frac{S_T}{S_0}\\bigr) \\sim \\mathcal{N}\\Bigl((\\mu - \\frac{\\sigma^2}{2})T, \\sigma^2 T\\Bigr)\n",
    "$$\n",
    "But in practice this is not true and we can observe that historical returns are not Normally distributed and in general have fatter tails. Black-Scholes also assumes that the implied volatility is constant which is not true in practice as we can see that the volatilities implied by option prices with different strikes or time to maturity are different. In practice we see volatility is a function of time and it tends to increase in periods of market stress when stock returns are more negative.\n",
    "To model volatility more accurately we now assume that both the asset price $S$ and the variance $v$ are stochastic:\n",
    "\n",
    "$$\n",
    "\\begin{aligned}\n",
    "dS_t &= \\underbrace{\\mu}_{\\text{drift of asset price}} S_t dt + \\sqrt{\\nu_t} S_t dW_t^1 \\\\\n",
    "d\\nu_t &= \\alpha(S,\\nu,t) dt + \\xi \\beta(S,\\nu,t) \\sqrt{\\nu_t} dW_t^2 \\\\\n",
    "dW_t^1 dW_t^2 &= \\rho dt\n",
    "\\end{aligned}\n",
    "$$\n",
    "\n",
    "Here, the asset price follows process similar to GBM but with variance $\\nu_t$ being stochastic as well.\n",
    "\n",
    "$\\mu$ is the drift of the asset price. The choice of two functions $\\alpha(S,\\nu,t)$ and $\\beta(S,\\nu,t)$ will determine how volatility behaves. If both of these functions are zero then $\\nu = \\nu_0$ i.e. the initial variance which is constant and we are back in Black-Scholes framework. \n",
    "$\\nu_0$ controls the volatility level. \n",
    "\n",
    "$\\xi$ is the volatility of volatility(Vol of Vol). The higher this number increases the probability to have extreme movements on both sides. It increases the tail risk of the return distribution, its `kurtosis`. This translates into higher risk and higher prices for out-of-the-money (OTM) options and an increase of the implied volatility on the wings creating a volatility smile.\n",
    "\n",
    "$\\rho$ is the correlation between the two Brownian motions. It measures the correlation between the asset return and the change of the variance. It controls the spot/vol correlation. A negative correlation means that negative returns tends to come with higher volatility. This is typically whar we observe on the stock market with higher volatility in crisis periods. This parameter controls the asymmetry of the return distribution, its `skewness`. A negative spot/vol correlation will typically increase the probability to have very negative returns and reduce the probability to have very positive ones. This translates into higher risk higher price and so higher implied volatility for out of the Money(OTM) put options on the left side and lower risk,lower price and so lower implied volatility for OTM Call options on the right side. The implied volatility is said to have a negative skew in this case with an asymmetric curve and higher implied volatility for low strike prices on the left compared to high strike prices on the right."
   ]
  },
  {
   "cell_type": "markdown",
   "id": "566986bc-76ed-42a6-8fdd-2a20e5c3f588",
   "metadata": {},
   "source": [
    "## Heston Model (1993)\n",
    "$$\n",
    "\\begin{aligned}\n",
    "dS_t &= \\mu S_t dt + \\sqrt{\\nu_t} S_t dW_t^1 \\\\\n",
    "d\\nu_t &= \\kappa (\\theta - \\nu_t)dt + \\xi \\sqrt{\\nu_t} dW_t^2 \\\\\n",
    "dW_t^1 dW_t^2 &= \\rho dt\n",
    "\\end{aligned}\n",
    "$$\n",
    "where \n",
    "$$\n",
    "S_t = \\text{Underlying asset price at time t.}\\\\\n",
    "\\mu = \\text{Drift of the price process.} \\\\\n",
    "\\nu_t = \\text{Instantaneous variance at time t.} \\\\\n",
    "\\kappa = \\text{Speed of mean-reversion.} \\\\\n",
    "\\theta = \\text{Long term mean of the variance.} \\\\\n",
    "\\xi = \\text{Volatility of the variance.} \\\\\n",
    "W_t^1, W_t^1 = \\text{Wiener processes under }\\mathbb{P}. \\\\\n",
    "\\rho = \\text{Correlation of the two Wiener processes.} \\\\\n",
    "$$\n",
    "The Heston model is one of the most famous Stochastic Volatility model. It assumes that the variance follows \n",
    "- Mean-reverting process with $\\theta$ being the long-term mean of the variance and $\\kappa$ controlling the speed of the reversion.\n",
    "\n",
    "Heston is the general case of Stochastic Volatility model seen before with:\n",
    "$$\n",
    "\\alpha(S,\\nu,t) = \\kappa (\\theta - \\nu_t)\\\\\n",
    "\\beta(S,\\nu,t) = 1\n",
    "$$\n",
    "This is quite popular model as it leads to an explicit analytic formula through an integral for the pricing of European Call and Put options."
   ]
  },
  {
   "cell_type": "markdown",
   "id": "65817fcd-fb55-45cf-b8bd-334c5e7def73",
   "metadata": {},
   "source": [
    "## SABR Model\n",
    "The SABR model for stochastic Alpha, Beta and Rho was developed to model the dynamics of forward rates. It assumes that the dynamics of the forward price follows:\n",
    "$$\n",
    "\\begin{aligned}\n",
    "dF_t &= \\alpha_t  F_t^\\beta  dW_t^1 \\\\\n",
    "d\\alpha_t &= \\nu  \\alpha_t  dW_t^2 \\\\\n",
    "dW_t^1 dW_t^2 &= \\rho dt\n",
    "\\end{aligned}\n",
    "$$\n",
    "where \n",
    "$$\n",
    "\\alpha_0 = \\text{Initial Variance.}\\\\\n",
    "\\beta = \\text{Exponent.} \\\\\n",
    "\\nu = \\text{Volatility of the Variance.} \\\\\n",
    "\\rho = \\text{Correlation of the two Wiener processes.} \\\\\n",
    "$$\n",
    "This is another popular Stochastic Volatility model. It has different form compared to the general expression seen before but still has the 3 parameters controlling the shape of the volatility curve. The Volatility level is controlled by the initial variance $\\alpha_0$. The tail risk and the smile is controlled by the Vol of Vol $\\nu$ while the asymmetry and the skewness is controlled with the correlation parameter $\\rho$. $\\beta$ also tends to control the Volatility skew and it is often fixed at 0.5 in practice. There is no closed form solution for the pricing of vanilla options under the SABR model except in the special cases of $\\beta = 0$ or $1$. But we get good asymptotic estimations and an expression of the Black-Scholes implied Volatility as a function of SABR parameters. It allows to fit relatively well the observed Volatilities implied from option prices for a given maturity with few parameters and it can be useful to interpolate or extrapolate it."
   ]
  },
  {
   "cell_type": "code",
   "execution_count": null,
   "id": "a71c66d9-4659-4be6-804f-2a1f476e3300",
   "metadata": {},
   "outputs": [],
   "source": []
  }
 ],
 "metadata": {
  "kernelspec": {
   "display_name": "Python 3",
   "language": "python",
   "name": "python3"
  },
  "language_info": {
   "codemirror_mode": {
    "name": "ipython",
    "version": 3
   },
   "file_extension": ".py",
   "mimetype": "text/x-python",
   "name": "python",
   "nbconvert_exporter": "python",
   "pygments_lexer": "ipython3",
   "version": "3.7.16"
  }
 },
 "nbformat": 4,
 "nbformat_minor": 5
}
