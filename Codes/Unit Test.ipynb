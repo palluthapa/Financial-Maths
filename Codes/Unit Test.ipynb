{
 "cells": [
  {
   "cell_type": "markdown",
   "id": "d97a9976-4585-474f-983b-f5190d322b09",
   "metadata": {},
   "source": [
    "## Unit Tests (Automated Test)\n",
    "We should always write code using lots of small functions and write a test for every function you write.\n",
    "\n",
    "### The `assert` function\n",
    "\n",
    "To help you test code, Python contains a special command `assert` which checks that a statement\n",
    "is true. If the statement is not true, Python stops with an error. If the statement is true, Python\n",
    "does nothing at all."
   ]
  },
  {
   "cell_type": "code",
   "execution_count": 2,
   "id": "13cf8ae7-52a8-4881-a20c-7f5febc6a9ea",
   "metadata": {},
   "outputs": [],
   "source": [
    "# This does nothing at all.\n",
    "assert 2+3 == 5"
   ]
  },
  {
   "cell_type": "markdown",
   "id": "2da2138e-6d19-4d20-ad48-c3088872de7f",
   "metadata": {},
   "source": [
    "### Comparing floating point numbers\n",
    "\n",
    "Remember that Python only stores numbers to a certain accuracy, so you should never test floating point numbers\n",
    "are equal using `==`, instead test that their difference is small."
   ]
  },
  {
   "cell_type": "code",
   "execution_count": 6,
   "id": "975e9fbc-2822-42ac-8150-5061991b5b6c",
   "metadata": {},
   "outputs": [],
   "source": [
    "import numpy as np\n",
    "assert (abs(np.sin(np.pi)-0) < 0.00000001)"
   ]
  },
  {
   "cell_type": "markdown",
   "id": "a922e985-6421-4baf-a8d4-54a1b8acfaa0",
   "metadata": {},
   "source": [
    "To write an automated test for your code you should write a function that takes no parameters and\n",
    "which will do nothing if your code works. Such a function is called a *unit test*. It is excellent practice to write test *before* you write the code. Apart from anything else this means that you\n",
    "have to decide what your code will do before you write it. Being clear on what you are trying to achieve\n",
    "is a very good idea!\n",
    "\n",
    "### Automatically running tests\n",
    "\n",
    "There are various tools for automatically running unit tests in Python. A simple one to use\n",
    "is `pytest`. \n",
    "\n",
    "The functions and tests can be included in an single file and it is possible to run all these tests from a Jupyter notebook as follows. \n",
    "    ```\n",
    "    import pytest\n",
    "    pytest.main(['filename.py'])\n",
    "    ```"
   ]
  },
  {
   "cell_type": "markdown",
   "id": "fd5ff69a-7f4f-4265-9a2d-dc80968f992f",
   "metadata": {},
   "source": [
    "## Summary\n",
    "\n",
    "* Divide your code into lots of functions and test each function separately.\n",
    "* Automate the testing of your code using unit tests.\n",
    "* Use the `assert` statement in your tests and throughout your code to test your assumptions.\n",
    "* Use `pytest` (or another test runner) to automatically run all your test functions\n",
    "* Note: Code that isn't tested usually doesn't work, so test everything."
   ]
  },
  {
   "cell_type": "code",
   "execution_count": null,
   "id": "d0327425-a7d5-4ef5-83b2-437be6a57d58",
   "metadata": {},
   "outputs": [],
   "source": []
  }
 ],
 "metadata": {
  "kernelspec": {
   "display_name": "Python 3",
   "language": "python",
   "name": "python3"
  },
  "language_info": {
   "codemirror_mode": {
    "name": "ipython",
    "version": 3
   },
   "file_extension": ".py",
   "mimetype": "text/x-python",
   "name": "python",
   "nbconvert_exporter": "python",
   "pygments_lexer": "ipython3",
   "version": "3.7.16"
  }
 },
 "nbformat": 4,
 "nbformat_minor": 5
}
