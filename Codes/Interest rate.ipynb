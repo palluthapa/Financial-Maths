{
 "cells": [
  {
   "cell_type": "markdown",
   "id": "eb56414c",
   "metadata": {},
   "source": [
    "## Simple Interest\n",
    " $$ \\text{Money after t years} = p\\,(1+tr) $$\n",
    "## Compound Interest\n",
    " $$ \\text{Money after t years} = p\\,(1+r/n)^{nt} $$\n",
    " where \n",
    " * p = Principal amount\n",
    " * t = time in years\n",
    " * r = interest rate per year in decimal\n",
    " * n = number of times interest is compounded per year\n",
    "\n",
    "Note: In financial mathematics, times are always written in units of one year."
   ]
  },
  {
   "cell_type": "code",
   "execution_count": 29,
   "id": "d4a676b7",
   "metadata": {},
   "outputs": [
    {
     "name": "stdout",
     "output_type": "stream",
     "text": [
      "336.00000000000006\n"
     ]
    }
   ],
   "source": [
    "def principal_with_simple_interest(p,apr,t):\n",
    "    '''\n",
    "    Return the total value of a bank account invested at the given rate for t years with simple interest.\n",
    "\n",
    "            Parameters:\n",
    "                    p (float)  : Principal amount invested initially.\n",
    "                    apr (float): Annual percentage rate expressed in decimal.\n",
    "                    t (float)  : Time in years (eg: 6 month = 0.5).\n",
    "\n",
    "            Returns:\n",
    "                    (float): Total bank account with simple interest.\n",
    "    '''\n",
    "    return p*(1+apr*t)\n",
    "\n",
    "total = principal_with_simple_interest(300,0.04,3)    # £300 invested for 3 years at 4%.\n",
    "#assert abs(total-336) < 0.001\n",
    "print(total)"
   ]
  },
  {
   "cell_type": "code",
   "execution_count": 30,
   "id": "2fe587dc",
   "metadata": {},
   "outputs": [
    {
     "name": "stdout",
     "output_type": "stream",
     "text": [
      "226.32040429843246\n"
     ]
    }
   ],
   "source": [
    "def principal_with_compound_interest(p,apr,n,t):\n",
    "    '''\n",
    "    Return the total value of a bank account invested at the given rate for t years with compounding.\n",
    "\n",
    "            Parameters:\n",
    "                    p (float)  : Principal amount invested initially.\n",
    "                    apr (float): Annual percentage rate expressed in decimal.\n",
    "                    n (int)    : Number of times interest compounded per year (eg: quarterly = 4).\n",
    "                    t (float)  : Time in years (eg: 6 month = 0.5).\n",
    "\n",
    "            Returns:\n",
    "                    (float): Total bank account with compound interest.\n",
    "    '''\n",
    "    return p*(1+apr/n)**(n*t)\n",
    "\n",
    "total = principal_with_compound_interest(210,0.05,12,1.5)    # Monthly compounded for 18 months at 5%.\n",
    "assert abs(total-226.32) < 0.001\n",
    "print(total)"
   ]
  },
  {
   "cell_type": "markdown",
   "id": "0f36d2e9",
   "metadata": {},
   "source": [
    "## Continuously Compounding Interest Rate\n",
    "Financial mathematics assumes risk-free bank account gathers interest continuously. The value of the bank account at time $t$ is given by $$ p\\, e^{rt} $$ where $p$ is the initial principaland $r$ is the risk-free rate. \n",
    "$$\\lim_{n \\to \\infty} p\\Bigl(1 + \\dfrac{r}{n}\\Bigl)^{nt} = p\\, e^{rt} $$"
   ]
  },
  {
   "cell_type": "code",
   "execution_count": 43,
   "id": "24ac3c49",
   "metadata": {},
   "outputs": [
    {
     "name": "stdout",
     "output_type": "stream",
     "text": [
      "110.51709180756477\n"
     ]
    }
   ],
   "source": [
    "import math\n",
    "def principal_with_continuously_compounding(p,r,t):\n",
    "    '''\n",
    "    Return the total value of a bank account invested at the risk-rate for t years with continuously compounding.\n",
    "\n",
    "            Parameters:\n",
    "                    p (float)  : Principal amount invested initially.\n",
    "                    r (float)  : Risk-free rate expressed in decimal.\n",
    "                    t (float)  : Time in years (eg: 6 month = 0.5).\n",
    "\n",
    "            Returns:\n",
    "                    (float): Total bank account with continuously compounding.\n",
    "    '''\n",
    "    return p*math.exp(r*t)\n",
    "\n",
    "total = principal_with_continuously_compounding(100,0.05,2)    # Continuously compounding £100 at 5% for 2yrs.\n",
    "assert abs(total-110.5171) < 0.001\n",
    "print(total)"
   ]
  },
  {
   "cell_type": "markdown",
   "id": "f2b439ef",
   "metadata": {},
   "source": [
    "## Effective Annual Interest Rate (EAR)\n",
    "This is the interest rate that is adjusted for compounding. It is an Interest rate expressed as if it were compounded once per year. It allows the evaluation of the true return on an investment or true interest rate on a loan.\n",
    "$$ EAR = \\Bigl(1 + \\dfrac{APR}{n}\\Bigl)^{n} -1 $$\n",
    "where \n",
    " * APR = Annual Percentage Rate \n",
    " * n = Number of compounding periods per year\n",
    " \n",
    "As the number of compounding period tends to infinity it reaches a limit:\n",
    "$$ \\lim_{n \\to \\infty}\\Bigl(1 + \\dfrac{APR}{n}\\Bigl)^{n} -1 = e^{APR} - 1 $$"
   ]
  },
  {
   "cell_type": "code",
   "execution_count": 38,
   "id": "c4d3d625",
   "metadata": {},
   "outputs": [
    {
     "name": "stdout",
     "output_type": "stream",
     "text": [
      "0.4257608868461793\n"
     ]
    }
   ],
   "source": [
    "def effective_annual_interest_rate(apr,n):\n",
    "    '''\n",
    "    Return the Effective Annual Interest Rate.\n",
    "\n",
    "            Parameters:\n",
    "                    apr (float): Annual percentage rate expressed in decimal.\n",
    "                    n (int)    : Number of times interest compounded per year (eg: quarterly = 4).\n",
    "                    \n",
    "            Returns:\n",
    "                    EAR(float): Effective Annual Interest Rate in decimal.\n",
    "    '''\n",
    "    EAR = (1 + apr/n)**n -1\n",
    "    return EAR\n",
    "EAR = effective_annual_interest_rate(0.36,12)    # Credit card with an APR of 36% and interest charged monthly.\n",
    "assert abs(EAR-0.4257) < 0.001\n",
    "print(EAR)"
   ]
  },
  {
   "cell_type": "code",
   "execution_count": 42,
   "id": "18df5dc8",
   "metadata": {},
   "outputs": [],
   "source": [
    "def risk_free_rate_to_ear(apr):\n",
    "    '''\n",
    "    Return the Effective Annual Interest Rate from APR or risk-free rate.\n",
    "\n",
    "            Parameters:\n",
    "                    apr (float): Annual percentage rate or risk-free rate expressed in decimal.\n",
    "                                        \n",
    "            Returns:\n",
    "                    EAR(float): Effective Annual Interest Rate in decimal.\n",
    "    '''\n",
    "    EAR = math.exp(apr) - 1\n",
    "    return EAR\n",
    "assert abs(risk_free_rate_to_ear(0.05)- 0.05) < 0.01    "
   ]
  }
 ],
 "metadata": {
  "kernelspec": {
   "display_name": "Python 3",
   "language": "python",
   "name": "python3"
  },
  "language_info": {
   "codemirror_mode": {
    "name": "ipython",
    "version": 3
   },
   "file_extension": ".py",
   "mimetype": "text/x-python",
   "name": "python",
   "nbconvert_exporter": "python",
   "pygments_lexer": "ipython3",
   "version": "3.7.10"
  }
 },
 "nbformat": 4,
 "nbformat_minor": 5
}
