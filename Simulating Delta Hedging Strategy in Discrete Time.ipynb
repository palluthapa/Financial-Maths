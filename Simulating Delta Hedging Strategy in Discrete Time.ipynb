{
 "cells": [
  {
   "cell_type": "markdown",
   "id": "c43878aa-f6e9-4b87-bce6-3611790177ed",
   "metadata": {},
   "source": [
    "## Testing the Theory of Black & Scholes by Simulating Delta Hedging Strategy in Discrete Time"
   ]
  },
  {
   "cell_type": "markdown",
   "id": "7b752243-8fb3-404b-aa02-8d80dbf97376",
   "metadata": {},
   "source": [
    "We will test if following the delta hedging strategy at fixed times in a grid $(0,\\delta t, 2 \\delta t, \\ldots)$ *approximately* replicates a call option. We will see whether numerically the error in the approximation tends to zero as $\\delta t \\to 0$.\n",
    "\n",
    "- `Idea`: We are trying to find the final value of Replicating portfolio by delta hedging and the value of our portfolio should be approximately equal to the Black-Scholes price of the option since it replicates the option. As a seller of option, we receive $V_0$(Option Price). This will be the initial amount from which we set up our portfolio such that final value of Portfolio equals payoff of the option.\n",
    "- Lets figure out the Wealth equation for this portfolio. Denote total wealth of trader at time $t$ as $\\Pi_t$ and their bank balance as $B_t$. Also denote $S_t$ for the stock price process, $q_t=\\Delta_t$ for the quantity of stock they hold and $V_0$ as the Black-Scholes price of the option at time $0$.\n",
    "- At Time $t=0$: \n",
    "\n",
    "    The initial condition of our trading strategy is $$\\Pi_0=V_0$$ The initial wealth is given by the Black-Scholes formula.\n",
    "- At Time $0<t<T$:\n",
    "\n",
    "    At these time points in the grid, they earn interest on their bank balance and they adjust their stock holding. Let $B_t$ denote their bank balance after hedging at time $t$. $$B_t=\\Pi_t - q_t S_t.$$The bank balance at time $t+\\delta t$ before hedging is $$e^{r \\delta t}B_t = e^{r \\delta t}(\\Pi_t - q_t S_t)$$The quantity of stock they hold at time $t+\\delta t$ before rehedging is $q_t$. It's market value is $$q_t S_{t+\\delta t}.$$So their total wealth at time $t+\\delta t$ is\n",
    "$$\\boxed{\n",
    "\\Pi_{t+\\delta t} = \\overbrace{e^{r \\delta t}(\\Pi_t - q_t S_t)}^{\\text{Bank Balance}} + \\overbrace{q_t S_{t+\\delta t}}^{\\text{Value of Stock}}\n",
    "} \\longrightarrow \\text{(Before Rehedging)}\n",
    "$$    "
   ]
  },
  {
   "cell_type": "markdown",
   "id": "1fc8b1ee-5be0-4f93-ad3b-1796cb27c34a",
   "metadata": {},
   "source": [
    "### Simulation\n",
    "The steps for this simulation are:\n",
    "1. Simulate $500$ stock price scenarios on a grid of size $\\delta t$.\n",
    "2. For each scenario, compute the result of following the Black-Scholes strategy to compute the final portfolio value at time $T$.\n",
    "3. Compute the error of the replication strategy. \n",
    "$$ E_{T}:=\\text{Final value of replication portfolio}-\\text{Call option payoff} $$\n",
    "4. Plot a histogram of the results."
   ]
  },
  {
   "cell_type": "markdown",
   "id": "717e6e6e-d99b-448c-96af-16695ea4476b",
   "metadata": {},
   "source": [
    "We will write the following functions for the simulations:\n",
    "- `simulate_gbm_paths( S0, mu, sigma, T, n_steps, n_paths)` will generate the stock prices. `blackscholes(r, S, K, T, sigma, t=0, type=\"call\")` will compute the Black-Scholes price of the call option and `black_scholes_delta(S,t,K,T,r,sigma)` will compute $\\Delta = \\frac{\\partial V}{\\partial S_t} = N(d_1)$. Finally we write `simulate_delta_hedging( S0, K, T, r, mu, sigma, n_steps, n_paths)` for simulating Delta hedging and testing our hypothesis."
   ]
  },
  {
   "cell_type": "markdown",
   "id": "591c75a5-a5be-4421-b3ef-4bbe68565dfd",
   "metadata": {},
   "source": [
    "### Simulating Hedging\n",
    "We begin by simulating $S_t$. We then compute $\\Pi_0$ from the formula $\\Pi_0 = V_0$. Then at each time point $t$ we use the formula\n",
    "$$\n",
    "\\Pi_{t+\\delta t} = e^{r \\delta t}(\\Pi_t - \\Delta_t S_t) + \\Delta_t S_{t+\\delta t}\n",
    "$$"
   ]
  },
  {
   "cell_type": "code",
   "execution_count": 1,
   "id": "0d685017-b545-47ee-81d2-f459a02f39ac",
   "metadata": {},
   "outputs": [],
   "source": [
    "import numpy as np\n",
    "import matplotlib.pyplot as plt\n",
    "import mathfinance as mf\n",
    "plt.rcParams['figure.figsize'] = [15,7]\n",
    "\n",
    "def simulate_delta_hedging( S0, K, T, r, mu, sigma, n_steps, n_paths):\n",
    "    S, times = mf.simulate_gbm_paths(S0,mu,sigma,T,n_steps,n_paths)  # Simulate Stock prices.\n",
    "    Pi = np.zeros(S.shape)  # Wealth Matrix Pi containing all the values of wealth for all times.\n",
    "    t=times[0]  # Start at time 0.\n",
    "    V = mf.blackscholes(r, S0, K, T, sigma, t=0, type=\"call\")  # B-S Call price at t=0.\n",
    "    Pi[:,0] = V  # Pi[0]=V[0] Initial wealth from B-S.\n",
    "    dt = T/n_steps \n",
    "    for i in range(0,len(times)-1):\n",
    "        t = times[i]\n",
    "        S_t=S[:,i]  # Vector of stock prices.\n",
    "        q_t = mf.black_scholes_call_delta(S_t,t,K,T,r,sigma)  # Delta stock we need to hold in Delta Hedging (vector).\n",
    "        B_t = Pi[:,i]-q_t*S_t  # Bank Balance = (Wealth - Quantity of stocks x Stock price) at time t.\n",
    "        B_with_interest = B_t*np.exp(dt*r)  # Bank Balance with accrued interest.\n",
    "        S_tplusdt=S[:,i+1]  # Stock price moves up to (i+1).\n",
    "        new_stock_value=q_t*S_tplusdt  # New total value of stock holding.\n",
    "        Pi[:,i+1]=B_with_interest+new_stock_value  # Total Wealth at next time point (i+1).\n",
    "\n",
    "    S_T = S[:,-1]  # Final stock price.\n",
    "    final_balance=Pi[:,-1]  # Final Wealth.\n",
    "    error = final_balance - np.maximum(S_T-K,0)  # E = Final Wealth - Call option Payoff.\n",
    "    return error"
   ]
  },
  {
   "cell_type": "markdown",
   "id": "87f5de9e-e2dd-4fc0-8b75-b87caa0b16e6",
   "metadata": {},
   "source": [
    "Lets run our simulation for the case of rehedging daily. Here the parameters are:\n",
    "*$S_0$ = 100, K = 100, T = 1 (1 Year Maturity), $\\sigma$ = 0.2, $\\mu$ = 0.08, r = 0.02, no of steps = 365 (Hedging daily), no of paths = 500 (500 Stock price paths).* For stock price process, We will get a Matrix with 500 rows and 366 columns."
   ]
  },
  {
   "cell_type": "code",
   "execution_count": 2,
   "id": "61a5b0b7-a28e-490a-bdfb-1711b4cdae78",
   "metadata": {},
   "outputs": [
    {
     "data": {
      "image/png": "[encoded data removed]",
      "text/plain": [
       "<Figure size 1080x504 with 1 Axes>"
      ]
     },
     "metadata": {
      "needs_background": "light"
     },
     "output_type": "display_data"
    }
   ],
   "source": [
    "S0 = 100  # Initial Stock Price.\n",
    "K = 100\n",
    "T = 1  # 1 Year Maturity.\n",
    "sigma = 0.2\n",
    "mu = 0.08\n",
    "r = 0.02\n",
    "n_steps = 365  # Hedging daily.\n",
    "n_paths = 500  # 500 Stock Price paths.\n",
    "\n",
    "error_1 = simulate_delta_hedging(S0,K,T,r,mu,sigma, n_steps,n_paths)  # Simulating Delta Hedging.\n",
    "plt.hist(error_1, bins=10, color='blue', alpha=0.7);\n",
    "plt.xlabel('Error of the Replication Strategy using Delta Hedging.')\n",
    "plt.ylabel('Frequency')\n",
    "plt.title('Histogram for Errors');"
   ]
  },
  {
   "cell_type": "markdown",
   "id": "deb615c8-eb49-4f0e-a3fb-ef213107cfa2",
   "metadata": {},
   "source": [
    "In line with Black-Scholes Theory, on average we are breaking even ($E_T = 0$). Sometimes we make money and sometimes we lose. This is not a perfect replication because we are in discrete time. As we rehedge more i.e.$\\delta t \\rightarrow 0$, we get close to perfect replication. \n",
    "\n",
    "Lets rehedge more often ($\\delta t << 0$), for example like 100 times a day and observe what happens to our histogram."
   ]
  },
  {
   "cell_type": "code",
   "execution_count": 3,
   "id": "6f2b16e0-319e-4e6e-a68a-b4010b706b0a",
   "metadata": {},
   "outputs": [
    {
     "data": {
      "image/png": "[encoded data removed]",
      "text/plain": [
       "<Figure size 1080x504 with 1 Axes>"
      ]
     },
     "metadata": {
      "needs_background": "light"
     },
     "output_type": "display_data"
    }
   ],
   "source": [
    "error_2 = simulate_delta_hedging(S0,K,T,r,mu,sigma, 100*n_steps,n_paths)  # 100 times more rehedging.\n",
    "plt.hist(error_1,label='Daily hedging');\n",
    "plt.hist(error_2,label='100 times more Rehedging');\n",
    "plt.xlabel('Error of the Replication Strategy using Delta Hedging.')\n",
    "plt.ylabel('Frequency')\n",
    "plt.title('Histogram for Errors');\n",
    "plt.legend();"
   ]
  },
  {
   "cell_type": "markdown",
   "id": "2bb50972-0e60-439f-aa37-4f15a110d46e",
   "metadata": {},
   "source": [
    "Lets try to quantify how rapidly histogram tends towards zero. To quantify the rate of convergence we calculate the root mean squared (RMSE) error for our sample and plot a graph of the number of steps against the RMS error. The formula for RMSE is:\n",
    "$$\\text{RMSE} = \\sqrt{(\\overline{E^2})}$$ where $(\\overline{E^2})$ is the Mean of squared errors."
   ]
  },
  {
   "cell_type": "code",
   "execution_count": 4,
   "id": "b85b5938-4d26-4d47-8fcf-1750b2d9eb75",
   "metadata": {},
   "outputs": [
    {
     "data": {
      "image/png": "[encoded data removed]",
      "text/plain": [
       "<Figure size 1080x504 with 1 Axes>"
      ]
     },
     "metadata": {
      "needs_background": "light"
     },
     "output_type": "display_data"
    }
   ],
   "source": [
    "n_points = 15\n",
    "n_steps = np.zeros(n_points)\n",
    "rms_error = np.zeros(n_points)\n",
    "for i in range(0,n_points):\n",
    "    n_steps[i] = (2**i)+1\n",
    "    error = simulate_delta_hedging(S0,K,T,r,mu,sigma, int(n_steps[i]),n_paths)\n",
    "    rms_error[i] = np.sqrt(np.mean(error**2))  # RMS error.\n",
    "\n",
    "ax = plt.gca()\n",
    "ax.plot( n_steps, rms_error, color='blue', alpha=0.7 )\n",
    "ax.set_xlabel('Number of steps')\n",
    "ax.set_ylabel('RMSE ($\\epsilon$)')\n",
    "ax.set_title('The error of Delta Hedging');"
   ]
  },
  {
   "cell_type": "markdown",
   "id": "a8aafea8-b627-41fe-861d-185344b2a1b7",
   "metadata": {},
   "source": [
    "Notice that the $\\text{RMSE}\\rightarrow 0$ as the number of steps increases."
   ]
  },
  {
   "cell_type": "markdown",
   "id": "23946668-0344-441f-a2d0-9780c4f8fcaf",
   "metadata": {},
   "source": [
    "### The rate of convergnce\n",
    "\n",
    "It is difficult to say much from the last chart other than that it appears to converge. A log-log plot is easier to interpret because it is approximately a straight line."
   ]
  },
  {
   "cell_type": "code",
   "execution_count": 5,
   "id": "f10eac37-4ba5-4cc4-b3df-0dd5c5231154",
   "metadata": {},
   "outputs": [
    {
     "data": {
      "image/png": "[encoded data removed]",
      "text/plain": [
       "<Figure size 1080x504 with 1 Axes>"
      ]
     },
     "metadata": {
      "needs_background": "light"
     },
     "output_type": "display_data"
    }
   ],
   "source": [
    "ax = plt.gca()\n",
    "ax.loglog( n_steps, rms_error, color='blue', alpha=0.7 )\n",
    "ax.set_xlabel('Number of steps')\n",
    "ax.set_ylabel('RMSE ($\\epsilon$)')\n",
    "ax.set_title('The error of Delta Hedging');"
   ]
  },
  {
   "cell_type": "markdown",
   "id": "b29b4067-36bd-44e8-8e07-d2e1899726c0",
   "metadata": {},
   "source": [
    "Since log-log plot is used to find out the power in the rate of convergence. Lets try to approximate the gradient of the above plot by taking coordinates of two points on the line and apply the formula for the slope of a line:\n",
    "$$m = \\frac{(y_2 - y_1)}{(x_2 - x_1)}$$"
   ]
  },
  {
   "cell_type": "code",
   "execution_count": 6,
   "id": "9bc5b616-527f-4732-9b92-13de59148edf",
   "metadata": {},
   "outputs": [
    {
     "name": "stdout",
     "output_type": "stream",
     "text": [
      "Approximate Gradient (Slope):  -0.49094586033584786\n"
     ]
    }
   ],
   "source": [
    "# Choosing the two points on the line.\n",
    "x1, y1 = np.log(n_steps[0]), np.log(rms_error[0])\n",
    "x2, y2 = np.log(n_steps[-1]), np.log(rms_error[-1])\n",
    "\n",
    "# Calculate the gradient (slope).\n",
    "slope = (y2 - y1) / (x2 - x1)\n",
    "\n",
    "print(\"Approximate Gradient (Slope): \", slope)"
   ]
  },
  {
   "cell_type": "markdown",
   "id": "7a500385-d19d-4298-8ce6-4d603183543a",
   "metadata": {
    "tags": []
   },
   "source": [
    "**Definition:** If $f:{\\mathbb Z}_{\\geq 0} \\to \\mathbb R$ is a function and if $|f(n)|«\\leq C n^\\alpha$ we write $f=O(n^\\alpha)$. The smaller $\\alpha$, the faster the convergence where $C$ is some constant.\n",
    "\n",
    "In our plot, the gradient is approximately $-\\tfrac{1}{2}$. So we have demonstrated numerically that the RMS error, $\\varepsilon$ satisfies\n",
    "$$\\underbrace{\\log(\\varepsilon) \\approx -\\tfrac{1}{2} \\log(n) + c}_{y = m x + c}$$\n",
    "for some constant $c$. Equivalently\n",
    "$\\varepsilon \\approx C n^{-\\frac{1}{2}}$\n",
    "where $C=e^c$.\n",
    "\n",
    "So it looks like the rate of convergence of Delta hedging is $O(n^{-\\frac{1}{2}})$, where $n$ is the number of steps.\n",
    "\n",
    "The error of the repliction $\\varepsilon$ is a random variable. We would like to say that this random variable in some sense converges to\n",
    "zero. There are various notions of convergence of random variables, our numerical tests correspond to *convergence in the $L^2$ norm*. The root mean square error is an estimate for $\\sqrt{{\\mathbb E}(E^2)}$ which is called the $L^2$ norm of the error. So it *seems* that Delta hedging converges with rate $O(n^{-\\frac{1}{2}})$ in the $L^2$ norm where $n$ is the number of time steps."
   ]
  },
  {
   "cell_type": "markdown",
   "id": "ef50dcde-6778-4a2e-868b-027932026a55",
   "metadata": {},
   "source": [
    "- Lets write a function that can handle Delta Hedging for either European Call or Put Option."
   ]
  },
  {
   "cell_type": "code",
   "execution_count": 7,
   "id": "7f0dc96b-3752-4a09-bcfd-6c9179b77fb9",
   "metadata": {},
   "outputs": [],
   "source": [
    "def delta_hedging( S0, K, T, r, mu, sigma, n_steps, n_paths, option_type):\n",
    "    S, times = mf.simulate_gbm_paths(S0,mu,sigma,T,n_steps,n_paths)  # Simulate Stock prices.\n",
    "    Pi = np.zeros(S.shape)  # Wealth Matrix Pi containing all the values of wealth for all times.\n",
    "    t=times[0]  # Start at time 0.\n",
    "    dt = T/n_steps \n",
    "    if option_type == \"call\": \n",
    "        V = mf.blackscholes(r, S0, K, T, sigma, t=0, type=option_type)  # B-S Call price at t=0.\n",
    "        Pi[:,0] = V  # Pi[0]=V[0] Initial wealth from B-S.\n",
    "        for i in range(0,len(times)-1):\n",
    "            t = times[i]\n",
    "            S_t=S[:,i]  # Vector of stock prices.\n",
    "            q_t = mf.black_scholes_call_delta(S_t,t,K,T,r,sigma)  # Delta stock we need to hold in Delta Hedging (vector).\n",
    "            B_t = Pi[:,i]-q_t*S_t  # Bank Balance = (Wealth - Quantity of stocks x Stock price) at time t.\n",
    "            B_with_interest = B_t*np.exp(dt*r)  # Bank Balance with accrued interest.\n",
    "            S_tplusdt=S[:,i+1]  # Stock price moves up to (i+1).\n",
    "            new_stock_value=q_t*S_tplusdt  # New total value of stock holding.\n",
    "            Pi[:,i+1]=B_with_interest+new_stock_value  # Total Wealth at next time point (i+1).\n",
    "        S_T = S[:,-1]  # Final stock price.\n",
    "        final_balance=Pi[:,-1]  # Final Wealth.\n",
    "        error = final_balance - np.maximum(S_T-K,0)  # E = Final Wealth - Call option Payoff.\n",
    "        rms_error = np.sqrt(np.mean(error**2))\n",
    "    elif option_type == \"put\":\n",
    "        V = mf.blackscholes(r, S0, K, T, sigma, t=0, type=option_type)  # B-S Call price at t=0.\n",
    "        Pi[:,0] = V  # Pi[0]=V[0] Initial wealth from B-S.\n",
    "        for i in range(0,len(times)-1):\n",
    "            t = times[i]\n",
    "            S_t=S[:,i]  # Vector of stock prices.\n",
    "            q_t = mf.black_scholes_put_delta(S_t,t,K,T,r,sigma)  # Delta stock we need to hold in Delta Hedging (vector).\n",
    "            B_t = Pi[:,i]-q_t*S_t  # Bank Balance = (Wealth - Quantity of stocks x Stock price) at time t.\n",
    "            B_with_interest = B_t*np.exp(dt*r)  # Bank Balance with accrued interest.\n",
    "            S_tplusdt=S[:,i+1]  # Stock price moves up to (i+1).\n",
    "            new_stock_value=q_t*S_tplusdt  # New total value of stock holding.\n",
    "            Pi[:,i+1]=B_with_interest+new_stock_value  # Total Wealth at next time point (i+1).\n",
    "        S_T = S[:,-1]\n",
    "        final_balance=Pi[:,-1]\n",
    "        error = final_balance - np.maximum(K-S_T,0)  # E = Final Wealth - Put option Payoff.\n",
    "        rms_error = np.sqrt(np.mean(error**2))\n",
    "    return error, rms_error"
   ]
  },
  {
   "cell_type": "code",
   "execution_count": 11,
   "id": "f925d8ef-941e-4c82-b48a-92872606e072",
   "metadata": {},
   "outputs": [
    {
     "name": "stdout",
     "output_type": "stream",
     "text": [
      "0.0027004544620643466 0.18040104851245642\n",
      "-0.021128195743678177 0.3393020889591668\n"
     ]
    }
   ],
   "source": [
    "error_3, rmse3 = delta_hedging( 100, 80, 1, 0.02, 0.08, 0.2, 365, 500, \"put\")\n",
    "error_4, rmse4 = delta_hedging( 100, 100, 1, 0.02, 0.08, 0.2, 365, 500, \"call\")\n",
    "print(np.mean(error_3), rmse3)\n",
    "print(np.mean(error_4), rmse4)"
   ]
  },
  {
   "cell_type": "markdown",
   "id": "82f46454-471d-44e5-ae53-55b2806861d9",
   "metadata": {},
   "source": [
    "- Suppose that a trader sells a put option at the Black-Scholes price but chooses not to hedge it at all. Suppose that $K=100$, $S_0=100$, $T=1$, $r=0.02$, $\\mu=0.2$ and $\\sigma=0.1$. Compute the average profit of the trader, it should be positive. If this trader makes a profit on average, does this mean that the Black-Scholes price is too high?"
   ]
  },
  {
   "cell_type": "code",
   "execution_count": 12,
   "id": "5b1bd0bc-5bb7-42d6-b89a-f37638764cfa",
   "metadata": {},
   "outputs": [],
   "source": [
    "def no_hedging_profit( S0, K, T, r, mu, sigma, n_paths):\n",
    "    S, times = mf.simulate_gbm_paths(S0,mu,sigma,T,1,n_paths)  # Stock prices.\n",
    "    V = mf.blackscholes(r, S0, K, T, sigma, t=0, type=\"put\")  # Price of put option.\n",
    "    final_balance = V*np.exp(r*T)  # Bank balance after interest.\n",
    "    S_T = S[:,-1]\n",
    "    profit = final_balance - np.maximum(K-S_T,0)\n",
    "    return profit"
   ]
  },
  {
   "cell_type": "code",
   "execution_count": 24,
   "id": "5b2bc756-e0c6-4acc-92a1-1d60fa9f1df8",
   "metadata": {},
   "outputs": [
    {
     "name": "stdout",
     "output_type": "stream",
     "text": [
      "Average Profit without hedging: £3.00\n",
      "Number of cases where there were profits:  988288\n",
      "Number of cases where there were losses:  11712\n"
     ]
    }
   ],
   "source": [
    "n_paths = 1000000\n",
    "profit_vector = no_hedging_profit( 100, 100, 1, 0.02, 0.2, 0.1, 1000000 )\n",
    "print(f\"Average Profit without hedging: £{ np.mean( profit_vector ):.2f}\")\n",
    "assert( np.mean( profit_vector )> 0)\n",
    "print('Number of cases where there were profits: ',np.count_nonzero(profit_vector>0))\n",
    "print('Number of cases where there were losses: ',np.count_nonzero(profit_vector<0))"
   ]
  },
  {
   "cell_type": "markdown",
   "id": "4bbcec8e-7491-4d3f-a169-1dee5b658340",
   "metadata": {},
   "source": [
    "- Consider the case of a trader just buying stock. It will grow *on average* at a rate faster than $r$ since $\\mu>r$, so there is no reason why a *risky* strategy shouldn't allow you to make money on average. In this example, the trader is effectively gambling on the stock price increasing so they will benefit from the fact $\\mu>r$ in just the same way. It would be strange if the strategy made a profit with certainty, but it does not."
   ]
  },
  {
   "cell_type": "markdown",
   "id": "85bc5ea8-4d68-4f68-9c18-8c66d6e4d8ea",
   "metadata": {},
   "source": [
    "The only use of the concept of arbitrage in Black-Scholes Model is to prove that the Black-Scholes price is the *unique* replication price of a call option. Any trading strategy that replicates a call option in the Black-Scholes model requires an wealth equal to the Black-Scholes price."
   ]
  },
  {
   "cell_type": "code",
   "execution_count": null,
   "id": "ddc8fe8a-e873-4e79-bae3-8560040dba09",
   "metadata": {},
   "outputs": [],
   "source": []
  }
 ],
 "metadata": {
  "kernelspec": {
   "display_name": "Python 3",
   "language": "python",
   "name": "python3"
  },
  "language_info": {
   "codemirror_mode": {
    "name": "ipython",
    "version": 3
   },
   "file_extension": ".py",
   "mimetype": "text/x-python",
   "name": "python",
   "nbconvert_exporter": "python",
   "pygments_lexer": "ipython3",
   "version": "3.7.16"
  }
 },
 "nbformat": 4,
 "nbformat_minor": 5
}
