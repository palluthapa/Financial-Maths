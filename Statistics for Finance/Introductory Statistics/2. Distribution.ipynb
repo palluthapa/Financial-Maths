{
 "cells": [
  {
   "cell_type": "markdown",
   "id": "91af7fb6-05b4-43ec-a685-df9839d89d7b",
   "metadata": {},
   "source": [
    "# Discrete Distribution"
   ]
  },
  {
   "cell_type": "markdown",
   "id": "cfc26c31-fb96-41b6-a45c-4caf48e1f6db",
   "metadata": {},
   "source": [
    "### Bernoulli Distribution\n",
    "A random variable with only two possible outcomes follows a\n",
    "Bernoulli distribution with success probability parameter, $p$. We write $X_i \\sim \\mathcal{B}(p)$. Examples include getting head on a single coin flip, getting 4 on a one roll of a dice etc.\n",
    "The `probability mass function (pmf)` is:\n",
    "$$\n",
    "\\begin{aligned}\n",
    "\\mathbb{P}[X=x] = \n",
    "\\begin{cases}\n",
    "  p & \\text{if } x = 1 \\\\\n",
    "  1-p & \\text{if } x = 0 \\\\\n",
    "  0 &  \\text{Otherwise}\n",
    "\\end{cases}\n",
    "\\end{aligned}\n",
    "$$\n",
    "This can also be written as $$\\mathbb{P}[X=x] = p^x (1-p)^{1-x}$$\n",
    "The `Expected value` is:\n",
    "$$\n",
    "\\begin{aligned}\n",
    "\\mathbb{E}[X] &= \\sum_{x \\in \\Omega} x \\mathbb{P}[X=x] \\\\\n",
    "              &= 0(1-p) + 1(p)\\\\\n",
    "              &= p\n",
    "\\end{aligned}\n",
    "$$\n",
    "And the `Variance` is:\n",
    "$$\n",
    "\\begin{aligned}\n",
    "\\mathbb{V}[X] &= \\sum_{x \\in \\Omega} (x-\\mu)^2 \\mathbb{P}[X=x] \\\\\n",
    "              &= (0-p)^2(1-p) + (1-p)^2(p)\\\\\n",
    "              &= p^2(1-p) + (1-2p+p^2)p \\\\\n",
    "              &= p^2-p^3+p-2p^2+p^3 \\\\\n",
    "              &= p-p^2\\\\\n",
    "              &= p(1-p)\n",
    "\\end{aligned}\n",
    "$$\n",
    "The `Cumulative Distribution function(CDF)` is defined as $F(x) = \\mathbb{P}[X\\leq x]$. The CDF of Bernoulli Distribution is:\n",
    "$$\n",
    "\\begin{aligned}\n",
    "\\mathbb{P}[X\\leq x] = \n",
    "\\begin{cases}\n",
    "  1 & \\text{if } 1 \\leq x \\\\\n",
    "  1-p & \\text{if } 0 \\leq x < 1 \\\\\n",
    "  0 & \\text{if } x < 0\n",
    "\\end{cases}\n",
    "\\end{aligned}\n",
    "$$\n",
    "To calculate the median we start low and calculate cumulative probability until that sum is at least 0.50. The `Median` of a Bernoulli random variable is:\n",
    "$$\n",
    "\\begin{aligned}\n",
    "\\tilde{X} = \n",
    "\\begin{cases}\n",
    "  0 & \\text{if } p \\leq 0.50 \\\\\n",
    "  [0,1] & \\text{if } p=0.50 \\\\\n",
    "  1 & \\text{if } p > 0.50\n",
    "\\end{cases}\n",
    "\\end{aligned}\n",
    "$$"
   ]
  },
  {
   "cell_type": "markdown",
   "id": "c085ed80-5844-4228-a916-c503673e119f",
   "metadata": {},
   "source": [
    "### Binomial Distribution\n",
    "A Binomial random variable is the sum of $n$ independent and identically distributed (iid) Bernoulli random variables. If $X_i \\sim \\mathcal{B}(p)$ and $Y = \\sum_{i=1}^n X_i$, then $Y \\sim \\mathcal{Bin}(n,p)$. Examples include times getting heads on $n$ flips of coin, times getting a 6 on $n$ rolls of a die etc. This random variable must meet the following five requirements:\n",
    "- No. of trials(n) is known.\n",
    "- Each trial is a Bernoulli(2 possible outcomes).\n",
    "- Probability of success(p) is constant for each trial.\n",
    "- The trials are independent.\n",
    "- The random variable is the No. of successes. \n",
    "\n",
    "The sample space is $\\Omega = \\{0,1,2,...,n\\}.$ Putting it simply, the Binomial is the number of successes in $n$ trials.\n",
    "The `pmf` of Binomial is:\n",
    "$$\\mathbb{P}[X=x] = {n \\choose x} p^x (1-p)^{n-x}$$\n",
    "where $p^x$ is the probability of getting *x* successes and $(1-p)^{n-x}$ is the probability of getting *n-x* failures.\n",
    "The `Expected Value` is:\n",
    "$$\n",
    "\\begin{aligned}\n",
    "\\mathbb{E}[Y] &= \\mathbb{E}\\biggl[\\sum_{i=1}^n X_i\\biggr] \\\\\n",
    "              &= \\sum_{i=1}^n \\mathbb{E} [X_i]\\\\\n",
    "              &= \\sum_{i=1}^n p \\\\\n",
    "              &= np\n",
    "\\end{aligned}\n",
    "$$\n",
    "The `Variance` is:\n",
    "$$\n",
    "\\begin{aligned}\n",
    "\\mathbb{V}[Y] &= \\mathbb{V}\\biggl[\\sum_{i=1}^n X_i\\biggr] \\\\\n",
    "              &= \\sum_{i=1}^n \\mathbb{V} [X_i] \\qquad (\\text{Independence})\\\\\n",
    "              &= \\sum_{i=1}^n p(1-p) \\\\\n",
    "              &= np(1-p)\n",
    "\\end{aligned}\n",
    "$$"
   ]
  },
  {
   "cell_type": "markdown",
   "id": "e80eb3ef-2744-4d56-9837-46bb71bc09ca",
   "metadata": {},
   "source": [
    "- Example: Let $X$ be the number of heads flipped in $n=12$ flips of a coin. If the coin is fair, $X \\sim \\mathcal{Bin}(12,0.50)$. What is the probability of getting 4 heads?\n",
    "\n",
    "We need to calculate $\\mathbb{P}[X=x] = {n \\choose x} p^x (1-p)^{n-x}$ with $x=4, n=12, p=0.50$. Lets do this in R."
   ]
  },
  {
   "cell_type": "code",
   "execution_count": 1,
   "id": "82793bec-5388-43e6-a79d-51b1644f9782",
   "metadata": {},
   "outputs": [
    {
     "data": {
      "text/html": [
       "0.120849609375"
      ],
      "text/latex": [
       "0.120849609375"
      ],
      "text/markdown": [
       "0.120849609375"
      ],
      "text/plain": [
       "[1] 0.1208496"
      ]
     },
     "metadata": {},
     "output_type": "display_data"
    }
   ],
   "source": [
    "dbinom(4, size=12, prob=0.50)  # prefix d as we are calculating P(X=4)."
   ]
  },
  {
   "cell_type": "markdown",
   "id": "7fca35e8-b662-45d5-9e8e-90edf191b225",
   "metadata": {},
   "source": [
    "If we are asked for getting 4 tails, then we calculate $\\mathbb{P}[X=8]$"
   ]
  },
  {
   "cell_type": "code",
   "execution_count": 2,
   "id": "c4d51f3c-26f0-4b99-8efa-1bd5f79d2392",
   "metadata": {},
   "outputs": [
    {
     "data": {
      "text/html": [
       "0.120849609375"
      ],
      "text/latex": [
       "0.120849609375"
      ],
      "text/markdown": [
       "0.120849609375"
      ],
      "text/plain": [
       "[1] 0.1208496"
      ]
     },
     "metadata": {},
     "output_type": "display_data"
    }
   ],
   "source": [
    "dbinom(8, size=12, prob=0.50)"
   ]
  },
  {
   "cell_type": "markdown",
   "id": "1af71b99-1c5a-40bf-a28f-f98d4b4166de",
   "metadata": {},
   "source": [
    "What would be the probability of getting at most 4 heads or at least 8 heads?\n",
    "\n",
    "This is asking for \n",
    "$$\n",
    "\\begin{aligned}\n",
    "\\mathbb{P}[X \\leq 4 \\cup X\\geq 8] &= \\mathbb{P}[X \\leq 4] + \\mathbb{P}[X \\geq 8]\\\\ \n",
    "&= \\mathbb{P}[X \\leq 4] + 1 - \\mathbb{P}[X < 8] \\\\\n",
    "&= \\mathbb{P}[X \\leq 4] + 1 - \\mathbb{P}[X \\leq 7]\n",
    "\\end{aligned}\n",
    "$$."
   ]
  },
  {
   "cell_type": "code",
   "execution_count": 3,
   "id": "68808156-a474-4508-b6a4-056007552d2d",
   "metadata": {},
   "outputs": [
    {
     "data": {
      "text/html": [
       "0.3876953125"
      ],
      "text/latex": [
       "0.3876953125"
      ],
      "text/markdown": [
       "0.3876953125"
      ],
      "text/plain": [
       "[1] 0.3876953"
      ]
     },
     "metadata": {},
     "output_type": "display_data"
    }
   ],
   "source": [
    "# prefix p as we are calculating P(X <= x).(cumulative probabilities)\n",
    "pbinom(4, size=12, prob=0.50) + ( 1- pbinom(7, size=12, prob=0.50) )"
   ]
  },
  {
   "cell_type": "markdown",
   "id": "0fd3855c-2f21-4a04-98ad-5dbc97f3681e",
   "metadata": {},
   "source": [
    "Note Bernoulli distribution is identical to Binomial with $size=1$."
   ]
  },
  {
   "cell_type": "markdown",
   "id": "db72c6af-d908-4313-a823-16c5eb58d42c",
   "metadata": {},
   "source": [
    "#### Generating random samples from Binomial Distribution."
   ]
  },
  {
   "cell_type": "code",
   "execution_count": 4,
   "id": "11193948-03ae-4b3f-8271-0902727f0c40",
   "metadata": {},
   "outputs": [
    {
     "name": "stdout",
     "output_type": "stream",
     "text": [
      "10 10 10 9 12 9 9 11 8 8"
     ]
    }
   ],
   "source": [
    "# Generate 10 random numbers following a binomial distribution with 20 trials and a probability of success equal to 0.5.\n",
    "# Generate random numbers.\n",
    "random_numbers = rbinom(10, size = 20, prob = 0.5)\n",
    "\n",
    "# Display the generated numbers horizontally.\n",
    "cat(paste(random_numbers, collapse = \" \"))"
   ]
  },
  {
   "cell_type": "markdown",
   "id": "10b6161c-30a3-48f4-8654-9a6b29cb72f8",
   "metadata": {},
   "source": [
    "#### Quantile/Percentile Function for Binomial Distribution\n",
    "Calculating $x$ such that $\\mathbb{P}[X\\leq x]=p$"
   ]
  },
  {
   "cell_type": "code",
   "execution_count": 5,
   "id": "e2c9506d-9af4-43f8-a046-a1de66a791c1",
   "metadata": {},
   "outputs": [
    {
     "data": {
      "text/html": [
       "14"
      ],
      "text/latex": [
       "14"
      ],
      "text/markdown": [
       "14"
      ],
      "text/plain": [
       "[1] 14"
      ]
     },
     "metadata": {},
     "output_type": "display_data"
    }
   ],
   "source": [
    "qbinom(0.95, size = 20, prob = 0.5)  # 95th percentile."
   ]
  },
  {
   "cell_type": "markdown",
   "id": "66ee323f-90f4-4267-a885-aaac47a6716d",
   "metadata": {},
   "source": [
    "### The Poisson Distribution\n",
    "A random variable that is the count of successes over an area or a time period follows a Poisson distribution with average rate parameter$(\\lambda)$.\n",
    "The Poisson distribution is a probability distribution that describes the number of events that occur within a fixed interval of time or space, given a known average rate of occurrence and assuming that the events happen independently of the time since the last event. Examples include errors on a page, heads flipped in an hour etc. In Binomial we had a upper bound for sample space of $n$. For Poisson random variable, there are infinite number of possible outcomes as it is not the number of successes over trial but over an area or time period and there is no upper bound. Hence, the sample space is $\\Omega = \\{0,1,2,...\\}.$\n",
    "The `probability mass function (pmf)` is:\n",
    "$$\n",
    "\\begin{aligned}\n",
    "\\mathbb{P}[X=x] = \n",
    "\\begin{cases}\n",
    "  \\frac{e^{-\\lambda}\\lambda^x}{x\\,!} & \\text{if } x \\in \\Omega \\\\\n",
    "  0 &  \\text{Otherwise}\n",
    "\\end{cases}\n",
    "\\end{aligned}\n",
    "$$\n",
    "The `Expected Value` is:\n",
    "$$\n",
    "\\mathbb{E}[X] = \\lambda\n",
    "$$\n",
    "The `Variance` is:\n",
    "$$\n",
    "\\mathbb{V}[X] = \\lambda\n",
    "$$"
   ]
  },
  {
   "cell_type": "markdown",
   "id": "2bc3f943-da71-4a21-b473-e6356061f928",
   "metadata": {},
   "source": [
    "- Example: Let $X$ be the number of heads flipped in a minute given I have flipped 12 per minute on average. If the coin is fair, $X \\sim \\mathcal{P}(\\lambda = 12)$. What is the probability of getting 0 heads in that minute?\n",
    "\n",
    "We need to calculate $\\mathbb{P}[X=x] = \\frac{e^{-\\lambda}\\lambda^x}{x\\,!}$ with $x=0, \\lambda = 12$. Lets do this in R."
   ]
  },
  {
   "cell_type": "code",
   "execution_count": 6,
   "id": "f1b71cb8-e36a-4b86-a092-d6b9046c6ecd",
   "metadata": {},
   "outputs": [
    {
     "data": {
      "text/html": [
       "6.14421235332821e-06"
      ],
      "text/latex": [
       "6.14421235332821e-06"
      ],
      "text/markdown": [
       "6.14421235332821e-06"
      ],
      "text/plain": [
       "[1] 6.144212e-06"
      ]
     },
     "metadata": {},
     "output_type": "display_data"
    }
   ],
   "source": [
    "# prefix d as we are calculating P(X=0).\n",
    "dpois(0, lambda = 12)"
   ]
  },
  {
   "cell_type": "markdown",
   "id": "a6caf57f-694e-4fb4-adc2-95c2eec93312",
   "metadata": {},
   "source": [
    "To calculate the probability of getting at most 20 heads in that minute is asking for $\\mathbb{P}[X \\leq 20]$."
   ]
  },
  {
   "cell_type": "code",
   "execution_count": 7,
   "id": "71ab5e86-5db8-40f0-af66-39908d50cf7f",
   "metadata": {},
   "outputs": [
    {
     "data": {
      "text/html": [
       "0.988402262785192"
      ],
      "text/latex": [
       "0.988402262785192"
      ],
      "text/markdown": [
       "0.988402262785192"
      ],
      "text/plain": [
       "[1] 0.9884023"
      ]
     },
     "metadata": {},
     "output_type": "display_data"
    }
   ],
   "source": [
    "# prefix p as we are calculating P(X <= x).(cumulative probabilities)\n",
    "ppois(20, lambda = 12)"
   ]
  },
  {
   "cell_type": "markdown",
   "id": "ed7a02ed-924c-4d11-8098-c637b05140da",
   "metadata": {},
   "source": [
    "To calculate the probability of getting at least 1 head in the first 6 seconds is asking for $\\mathbb{P}[Y \\geq 1]$ with $Y \\sim \\mathcal{P}(\\lambda = \\frac{12}{10})$.\n",
    "$$\n",
    "\\begin{aligned}\n",
    "\\mathbb{P}[Y \\geq 1] &= 1- \\mathbb{P}[Y < 1] \\\\ \n",
    "&= 1 - \\mathbb{P}[X \\leq 0] \n",
    "\\end{aligned}\n",
    "$$."
   ]
  },
  {
   "cell_type": "code",
   "execution_count": 8,
   "id": "9d17e678-7a57-4773-b263-8c26a806ee3f",
   "metadata": {},
   "outputs": [
    {
     "data": {
      "text/html": [
       "0.698805788087798"
      ],
      "text/latex": [
       "0.698805788087798"
      ],
      "text/markdown": [
       "0.698805788087798"
      ],
      "text/plain": [
       "[1] 0.6988058"
      ]
     },
     "metadata": {},
     "output_type": "display_data"
    }
   ],
   "source": [
    "1 - ppois(0, lambda = 1.2)"
   ]
  },
  {
   "cell_type": "code",
   "execution_count": 9,
   "id": "e4d63826-4f00-4c2d-a707-f9a234796cc1",
   "metadata": {},
   "outputs": [
    {
     "name": "stdout",
     "output_type": "stream",
     "text": [
      "1 0 2 3 1 0 3 1 4 0"
     ]
    }
   ],
   "source": [
    "# Generate 10 random numbers following a Poisson distribution with lambda = 1.5.\n",
    "# Generate random numbers.\n",
    "random_numbers = rpois(10, lambda = 1.5)\n",
    "\n",
    "# Display the generated numbers horizontally.\n",
    "cat(paste(random_numbers, collapse = \" \"))"
   ]
  },
  {
   "cell_type": "code",
   "execution_count": 10,
   "id": "aedb796f-b791-4efd-9254-e65c0a33b5af",
   "metadata": {},
   "outputs": [
    {
     "data": {
      "text/html": [
       "4"
      ],
      "text/latex": [
       "4"
      ],
      "text/markdown": [
       "4"
      ],
      "text/plain": [
       "[1] 4"
      ]
     },
     "metadata": {},
     "output_type": "display_data"
    }
   ],
   "source": [
    "qpois(0.95, lambda = 1.5)  # 95th percentile from Poisson Distribution."
   ]
  },
  {
   "cell_type": "markdown",
   "id": "553515c9-6ae0-40d1-90cb-451632b6247e",
   "metadata": {},
   "source": [
    "### The Hypergeometric Distribution\n",
    "The Hypergeometric distribution describes the probability of\n",
    "obtaining x successes in k draws (trials), without replacement, from a\n",
    "finite population that contains exactly m successes and n failures.\n",
    "It is a probability distribution that describes the probability of a certain number of successes in a fixed number of draws without replacement from a finite population containing a specific number of successes and failures. Examples include No. of hearts drawn from a deck of cards without replacement. The distribution is characterized by three parameters:\n",
    "- m+n: The total number of items in the population.\n",
    "- m: The total number of items in the population that are classified as successes.\n",
    "- k: The number of draws (samples) without replacement from the population.\n",
    "\n",
    "Unlike the Binomial distribution, which assumes independent trials with replacement, the Hypergeometric distribution assumes sampling without replacement. This means that once an item is drawn from the population, it is not replaced before drawing the next item. So the key difference with Binomial is without replacement and population is finite.\n",
    "The sample space is $\\Omega = \\bigl\\{max\\{0,k-n\\},...,min\\{k,m\\}\\bigr\\}$. The `pmf` is :\n",
    "$$\n",
    "\\begin{aligned}\n",
    "\\mathbb{P}[X=x] = \n",
    "\\begin{cases}\n",
    "  \\frac{{m \\choose x}{n \\choose k-x}}{{m+n \\choose k}} & \\text{if } x \\in \\Omega \\\\\n",
    "  0 &  \\text{Otherwise}\n",
    "\\end{cases}\n",
    "\\end{aligned}\n",
    "$$\n",
    "The pmf is basically $$\\frac{\\text{No. of ways to Success * No. of ways to Failure}}{\\text{Total number of ways in k trials}}$$\n",
    "The `Expected Value` is:\n",
    "$$\n",
    "\\mathbb{E}[X] = k\\frac{m}{m+n}\n",
    "$$\n",
    "The `Variance` is:\n",
    "$$\n",
    "\\mathbb{V}[X] = k\\frac{m}{m+n}\\frac{n}{m+n}\\frac{m+n-k}{m+n-1}\n",
    "$$"
   ]
  },
  {
   "cell_type": "markdown",
   "id": "382b00c4-bf52-4790-b0ed-127b32ecae94",
   "metadata": {},
   "source": [
    "- Example: Let $X$ be the number of spades drawn out of 4 draws from a deck of cards without replacement. If the deck is fair, then $X \\sim \\mathcal{Hyper}(m=13, n=39, k=4)$. What is the probability of getting 1 spade?\n",
    "\n",
    "We need to calculate $\\mathbb{P}[X=1]$. Lets do this in R."
   ]
  },
  {
   "cell_type": "code",
   "execution_count": 11,
   "id": "6c6e1270-33a1-4ccf-a72d-9536d219f195",
   "metadata": {},
   "outputs": [
    {
     "data": {
      "text/html": [
       "0.438847539015606"
      ],
      "text/latex": [
       "0.438847539015606"
      ],
      "text/markdown": [
       "0.438847539015606"
      ],
      "text/plain": [
       "[1] 0.4388475"
      ]
     },
     "metadata": {},
     "output_type": "display_data"
    }
   ],
   "source": [
    "dhyper(1, m=13, n=39, k=4)"
   ]
  },
  {
   "cell_type": "markdown",
   "id": "cbbb49b2-8e3c-4b9a-a69f-46c161d8e9c4",
   "metadata": {},
   "source": [
    "To calculate the probability of getting at most 3 spades, we need to calculate $\\mathbb{P}[X\\leq 3]$."
   ]
  },
  {
   "cell_type": "code",
   "execution_count": 12,
   "id": "a60f128e-32bf-45e1-937f-fc6163a911c6",
   "metadata": {},
   "outputs": [
    {
     "data": {
      "text/html": [
       "0.997358943577431"
      ],
      "text/latex": [
       "0.997358943577431"
      ],
      "text/markdown": [
       "0.997358943577431"
      ],
      "text/plain": [
       "[1] 0.9973589"
      ]
     },
     "metadata": {},
     "output_type": "display_data"
    }
   ],
   "source": [
    "phyper(3, m=13, n=39, k=4)"
   ]
  },
  {
   "cell_type": "markdown",
   "id": "72fa4315-0a68-46d7-9a12-3b3e153c987c",
   "metadata": {},
   "source": [
    "To calculate the Expected number of spades, we calculate $\\mathbb{E}[X]$."
   ]
  },
  {
   "cell_type": "code",
   "execution_count": 13,
   "id": "2b4a4e3f-e5ae-4d23-83eb-5b7ba7f99ea1",
   "metadata": {},
   "outputs": [
    {
     "name": "stdout",
     "output_type": "stream",
     "text": [
      "[1] 1\n"
     ]
    }
   ],
   "source": [
    "expected_value_spades = (4*13)/(13+39)\n",
    "print(expected_value_spades)"
   ]
  },
  {
   "cell_type": "code",
   "execution_count": 14,
   "id": "8922dd91-1f93-478f-ae83-88ee68e73569",
   "metadata": {},
   "outputs": [
    {
     "name": "stdout",
     "output_type": "stream",
     "text": [
      "6 9 8 6 7 7 7 8 7 9"
     ]
    }
   ],
   "source": [
    "# Generate 10 random numbers following a Hypergeometric distribution with m=20, n=5, k=10.\n",
    "# Generate random numbers.\n",
    "random_numbers = rhyper(10, m=20, n=5, k=10)\n",
    "\n",
    "# Display the generated numbers horizontally.\n",
    "cat(paste(random_numbers, collapse = \" \"))"
   ]
  },
  {
   "cell_type": "code",
   "execution_count": 15,
   "id": "6f15c027-7a87-4730-baf1-57b03e543567",
   "metadata": {},
   "outputs": [
    {
     "data": {
      "text/html": [
       "9"
      ],
      "text/latex": [
       "9"
      ],
      "text/markdown": [
       "9"
      ],
      "text/plain": [
       "[1] 9"
      ]
     },
     "metadata": {},
     "output_type": "display_data"
    }
   ],
   "source": [
    "qhyper(0.75, m=20, n=5, k=10)  # 75th percentile from Hypergeometric Distribution."
   ]
  },
  {
   "cell_type": "markdown",
   "id": "0847589e-385e-4ead-be62-43eccffba9d0",
   "metadata": {},
   "source": [
    "# Continuous Distribution"
   ]
  },
  {
   "cell_type": "markdown",
   "id": "09088c6d-ad26-43fc-b490-267c15add0b0",
   "metadata": {},
   "source": [
    "### Uniform Distribution\n",
    "The `Uniform Distribution`is a continuous distribution that describes random variable whose likelihood(for continuous RV we have to start talking about likelihood instead of probability) of occurring is constant across a specified interval. If the random variable $X$ has a Uniform distribution, its denoted by $X \\sim \\mathscr{U}(a,b)$.\n",
    "It is characterized by these features:\n",
    "* Two parameters: minimum and maximum values (a and b).\n",
    "* Sample space is $\\Omega = [a, b]$.\n",
    "* $\\mathbb{E}[X] = \\frac{a+b}{2}$\n",
    "* $\\mathbb{V}[X] = \\frac{(b-a)^2}{12}$\n",
    "\n",
    "The `Probability Density function (PDF)` is given by:\n",
    "$$\n",
    "\\begin{aligned}\n",
    "f(x; \\, a,b) = \n",
    "\\begin{cases}\n",
    "  \\frac{1}{b-a} & \\text{if } x \\in [a,b] \\\\\n",
    "   0 &  \\text{Otherwise}\n",
    "\\end{cases}\n",
    "\\end{aligned}\n",
    "$$\n",
    "When we plot PDF, the Y-axis is the likelihood or density and the area under PDF is the probability. PDF help us understand probability for a continuous distribution and calculate probability of a continuous RV."
   ]
  },
  {
   "cell_type": "markdown",
   "id": "1060be95-c932-44e6-b658-56c4e8801441",
   "metadata": {},
   "source": [
    "- Exercise: There is only one stop light between home and school in the morning. It regularly cycles among green (175s), yellow (5s), and red (180s). Given that I stop at the light, what is the probability that I wait at most 60 seconds?\n",
    "\n",
    "The wait time distribution follows Uniform distribution $T \\sim \\mathscr{U}(0,180)$. We need to calculate $\\mathbb{P}[T\\leq 60]$. Lets do this in R."
   ]
  },
  {
   "cell_type": "code",
   "execution_count": 1,
   "id": "d181b062-2c77-4b62-838f-0b07051beae7",
   "metadata": {},
   "outputs": [
    {
     "data": {
      "text/html": [
       "0.333333333333333"
      ],
      "text/latex": [
       "0.333333333333333"
      ],
      "text/markdown": [
       "0.333333333333333"
      ],
      "text/plain": [
       "[1] 0.3333333"
      ]
     },
     "metadata": {},
     "output_type": "display_data"
    }
   ],
   "source": [
    "punif(60, min=0, max=180)  # P(T<=60)."
   ]
  },
  {
   "cell_type": "markdown",
   "id": "faed80e3-22ce-4f7e-8c53-e6a9850bb961",
   "metadata": {},
   "source": [
    "Recall, the `Cumulative Distribution function (CDF)` of a probability distribution is $F(x) = \\mathbb{P}[X\\leq x]$. The `CDF` of Uniform Distribution is:\n",
    "$$\\mathbb{P}[X\\leq x] = F(x) = \\frac{x-a}{b-a}$$\n",
    "The CDF starts with a value of the random variable, $x$, and calculates a cumulative probability, $p$, such that $\\mathbb{P}[X \\leq x] = p$. The quantile function starts with a cumulative probability, $p$, and calculates the\n",
    "$x$-value such that $\\mathbb{P}[X \\leq x] = p$.\n",
    "\n",
    "The two functions are inverses of each other. That is,\n",
    "$Q(p)= F^{-1}(p)$. Thus, the quantile function for the Uniform distribution is:\n",
    "$$\n",
    "\\begin{aligned}\n",
    "p &= \\frac{x-a}{b-a} \\\\\n",
    "p(b-a) &= x-a \\\\\n",
    "p(b-a)+a &= x \\\\\n",
    "\\end{aligned}\n",
    "$$\n",
    "That is, the quantile function for the Uniform distribution is:\n",
    "$$Q(p)=p(b-a)+a$$\n",
    "We can use this Quantile function to calculate Median or any percentile."
   ]
  },
  {
   "cell_type": "code",
   "execution_count": 2,
   "id": "dc04b408-d55f-4e03-be00-4704a6cbdfa3",
   "metadata": {},
   "outputs": [
    {
     "data": {
      "image/png": "[encoded data removed]",
      "text/plain": [
       "Plot with title \"Probability Density Function of Uniform Distribution\""
      ]
     },
     "metadata": {},
     "output_type": "display_data",
     "source": "R display func"
    }
   ],
   "source": [
    "# Plot of Uniform distribution.\n",
    "\n",
    "x = seq(0, 10, length.out = 100)  # range of 100 x values equally spaced values between 0 and 10.\n",
    "\n",
    "# Parameters of the uniform distribution.\n",
    "min_value = 1\n",
    "max_value = 8\n",
    "\n",
    "# Calculate the PDF values using dunif().\n",
    "pdf = dunif(x, min = min_value, max = max_value)\n",
    "\n",
    "# Plot the PDF.\n",
    "plot(x, pdf, type = \"l\", col = \"blue\", lwd = 2, \n",
    "     xlab = \"x\", ylab = \"PDF\", main = \"Probability Density Function of Uniform Distribution\")"
   ]
  },
  {
   "cell_type": "code",
   "execution_count": 3,
   "id": "b7d97d97-9af2-42f1-a308-76d04cb7728b",
   "metadata": {},
   "outputs": [
    {
     "name": "stdout",
     "output_type": "stream",
     "text": [
      "1.55622516525909 0.983211578568444 3.22860673768446 1.8215277523268 4.67699941014871 0.621142874006182 3.85693169431761 4.10477663972415 0.752339033642784 2.81487396336161"
     ]
    }
   ],
   "source": [
    "# Generating a random sample from Uniform Distribution of size 10.\n",
    "# Generate random numbers.\n",
    "random_numbers = runif(10, min = 0, max = 5)\n",
    "\n",
    "# Display the generated numbers horizontally.\n",
    "cat(paste(random_numbers, collapse = \" \"))"
   ]
  },
  {
   "cell_type": "code",
   "execution_count": 4,
   "id": "de90d773-7ee9-4e82-b751-79413fef4185",
   "metadata": {},
   "outputs": [
    {
     "data": {
      "text/html": [
       "3.75"
      ],
      "text/latex": [
       "3.75"
      ],
      "text/markdown": [
       "3.75"
      ],
      "text/plain": [
       "[1] 3.75"
      ]
     },
     "metadata": {},
     "output_type": "display_data"
    }
   ],
   "source": [
    "qunif(0.75, min = 0, max = 5)  # 75th percentile (P[X<=x]=p)."
   ]
  },
  {
   "cell_type": "markdown",
   "id": "8074515f-ab23-452b-9534-556c2bec8c75",
   "metadata": {},
   "source": [
    "For Continuous random variable, \n",
    "\n",
    "the `Expected Value` is:\n",
    "$$\\mathbb{E}[X] := \\int_{\\Omega} x f(x) \\, dx$$\n",
    "Similarly, the `Variance` is:\n",
    "$$\n",
    "\\begin{aligned}\n",
    "\\mathbb{V}[X] &:= \\int_{\\Omega} (x-\\mu)^2 f(x) \\, dx \\\\\n",
    "              &= \\int_{\\Omega} x^2 f(x) \\, dx - \\mu^2\n",
    "\\end{aligned}\n",
    "$$"
   ]
  },
  {
   "cell_type": "markdown",
   "id": "13525d4c-c15b-4803-ba61-509486130679",
   "metadata": {},
   "source": [
    "### Exponential Distribution\n",
    "The `Exponential Distribution` is a continuous distribution that describes random variables whose probability of occurring decreases with time. It is frequently used to model *time until* something happens when there is no upper bound. Its denoted by $X \\sim \\mathcal{Exp}(\\lambda)$.\n",
    "\n",
    "It is characterized by these features:\n",
    "- One parameter: $\\lambda$, the rate of the thing happening.\n",
    "- Sample space is $\\Omega = (0, \\infty)$.\n",
    "- $\\mathbb{E}[X] = \\frac{1}{\\lambda}$.\n",
    "- $\\mathbb{V}[X] = \\frac{1}{\\lambda^2}$.\n",
    "\n",
    "The `Probability Density function (PDF)` is given by:\n",
    "$$\n",
    "\\begin{aligned}\n",
    "f(x; \\, a,b) = \n",
    "\\begin{cases}\n",
    "  \\lambda e^{-\\lambda x} & \\text{if } x > 0 \\\\\n",
    "   0 &  \\text{Otherwise}\n",
    "\\end{cases}\n",
    "\\end{aligned}\n",
    "$$\n",
    "The `Cumulative Distribution function (CDF)` is given by:\n",
    "$$\n",
    "F(x) = \\mathbb{P}[X\\leq x] = 1- e^{-\\lambda x}\n",
    "$$"
   ]
  },
  {
   "cell_type": "code",
   "execution_count": 5,
   "id": "4db684c4-d9ef-4d2a-8c26-6d6ba95cf313",
   "metadata": {},
   "outputs": [
    {
     "data": {
      "image/png": "[encoded data removed]",
      "text/plain": [
       "Plot with title \"Probability Density Function of Exponential Distribution\""
      ]
     },
     "metadata": {},
     "output_type": "display_data",
     "source": "R display func"
    }
   ],
   "source": [
    "# Plot of Exponential distribution.\n",
    "\n",
    "x = seq(0, 50, length.out = 100)  # range of 100 x values equally spaced values between 0 and 50.\n",
    "\n",
    "# Parameters of the Exponential distribution.\n",
    "lambda = 0.15\n",
    "\n",
    "# Calculate the PDF values using dexp().\n",
    "pdf = dexp(x, rate = lambda)\n",
    "\n",
    "# Plot the PDF.\n",
    "plot(x, pdf, type = \"l\", col = \"blue\", lwd = 3, \n",
    "     xlab = \"x\", ylab = \"PDF\", main = \"Probability Density Function of Exponential Distribution\")"
   ]
  },
  {
   "cell_type": "markdown",
   "id": "d1b8f2e0-0b0e-43a1-9314-3741f8765fa3",
   "metadata": {},
   "source": [
    "- Exercise: The time between when I fill by bird feeder with seed and when Chunky the Squirrel starts eating from the feeder follows an Exponential distribution with an average time of 10s. In other words, if we define $T$ as the time in seconds until Chunky raids the bird feeder, $T \\sim \\mathcal{Exp}(\\lambda = \\frac{1}{10})$. What is the probability that he waits at most a half-minute before chowing down on some awesome seed?\n",
    "\n",
    "Note $\\lambda = \\frac{1}{\\mu}$ and $\\mu$ is the average which in this case is 10. We need to calculate $\\mathbb{P}[T\\leq 30]$.\n",
    "$$\n",
    "\\begin{aligned}\n",
    "\\mathbb{P}[T\\leq 30] &= F(30;\\lambda = 0.10) \\\\\n",
    "                     &= 1-e^{-\\lambda x} \\\\\n",
    "                     &= 1-e^{-(0.10) (30)}\n",
    "\\end{aligned}\n",
    "$$\n",
    "Lets do this in R."
   ]
  },
  {
   "cell_type": "code",
   "execution_count": 6,
   "id": "ea9913a0-e899-47b8-956b-74343d0e6c6f",
   "metadata": {},
   "outputs": [
    {
     "data": {
      "text/html": [
       "0.950212931632136"
      ],
      "text/latex": [
       "0.950212931632136"
      ],
      "text/markdown": [
       "0.950212931632136"
      ],
      "text/plain": [
       "[1] 0.9502129"
      ]
     },
     "metadata": {},
     "output_type": "display_data"
    }
   ],
   "source": [
    "pexp(30, rate = 1/10)"
   ]
  },
  {
   "cell_type": "markdown",
   "id": "c7f5f250-6f67-47c3-8a03-d373ecf9b24d",
   "metadata": {},
   "source": [
    "- Exercise: The time I wait until the Bus comes follows an\n",
    "Exponential distribution. My average wait time is 5 minutes. In the cold-of-winter, it takes 10 minutes for frostbite to start. Given this,what is the probability that I will have frostbite before the bus arrives?\n",
    "\n",
    "Given that T is the time I wait for the bus (in minutes), we are given $T \\sim \\mathcal{Exp}(\\lambda = \\frac{1}{5})$. We need to calculate $\\mathbb{P}[T > 10]$.\n",
    "$$\n",
    "\\mathbb{P}[T > 10] = 1 - \\mathbb{P}[T \\leq 10] = 1-(1-e^{-\\lambda t})\n",
    "$$\n",
    "Lets calculate this in R."
   ]
  },
  {
   "cell_type": "code",
   "execution_count": 7,
   "id": "f3b3c740-4fca-4ad8-b056-a59c4b00233b",
   "metadata": {},
   "outputs": [
    {
     "data": {
      "text/html": [
       "0.135335283236613"
      ],
      "text/latex": [
       "0.135335283236613"
      ],
      "text/markdown": [
       "0.135335283236613"
      ],
      "text/plain": [
       "[1] 0.1353353"
      ]
     },
     "metadata": {},
     "output_type": "display_data"
    }
   ],
   "source": [
    "1 - pexp(10, rate = 0.20)"
   ]
  },
  {
   "cell_type": "markdown",
   "id": "ebc70701-c2c1-4fe0-a91f-c50f99f95b22",
   "metadata": {},
   "source": [
    "Lets calculate the `Median` time until bus arrives $\\tilde{x}.$\n",
    "$$\n",
    "\\begin{aligned}\n",
    "\\mathbb{P}[X\\leq \\tilde{x}] &= 0.50 \\\\\n",
    "     1-e^{-(0.20)\\tilde{x}} &= 0.50 \\\\\n",
    "       e^{-(0.20)\\tilde{x}} &= 0.50 \\\\\n",
    "                  \\tilde{x} &= \\frac{\\log 2}{0.20}\n",
    "\\end{aligned}\n",
    "$$\n",
    "lets calculate this in R."
   ]
  },
  {
   "cell_type": "code",
   "execution_count": 8,
   "id": "c0671338-b434-4e0f-9f0a-0e6f91e8ff2d",
   "metadata": {},
   "outputs": [
    {
     "data": {
      "text/html": [
       "3.46573590279973"
      ],
      "text/latex": [
       "3.46573590279973"
      ],
      "text/markdown": [
       "3.46573590279973"
      ],
      "text/plain": [
       "[1] 3.465736"
      ]
     },
     "metadata": {},
     "output_type": "display_data"
    }
   ],
   "source": [
    "qexp(0.5, rate = 0.20)   # Median (P[X<=x]=0.5)."
   ]
  },
  {
   "cell_type": "code",
   "execution_count": 9,
   "id": "686b9c22-fab0-45fa-95ff-f9ecbf40946d",
   "metadata": {},
   "outputs": [
    {
     "name": "stdout",
     "output_type": "stream",
     "text": [
      "0.0590033321179073 1.31739308126271 0.758558067803582 0.576021185862097 1.86686550577482 5.41553413332714 0.480767901365956 0.925393011420965 14.5431930687569 0.0542406726991603"
     ]
    }
   ],
   "source": [
    "# Generating a random sample from Exponential Distribution of size 10.\n",
    "# Generate random numbers.\n",
    "random_numbers = rexp(10, rate = 0.15)\n",
    "\n",
    "# Display the generated numbers horizontally.\n",
    "cat(paste(random_numbers, collapse = \" \"))"
   ]
  },
  {
   "cell_type": "markdown",
   "id": "76fc913f-15fb-46cd-b72a-83f3afacc1d9",
   "metadata": {},
   "source": [
    "### Normal Distribution\n",
    "If $X \\sim \\mathcal{N}(\\mu,\\sigma^2)$ then the `Probability Density function (PDF)` is given by:\n",
    "$$\n",
    "f(x;\\, \\mu,\\sigma^2) = \\frac{1}{\\sqrt{2\\pi \\sigma^2}}e^{-\\frac{1}{2}\\frac{(x-\\mu)^2}{\\sigma^2}}\n",
    "$$\n",
    "We can transform this into Standard Normal distribution $Z \\sim \\mathcal{N}(0,1)$ by:\n",
    "$$Z := \\frac{X-\\mu}{\\sigma}$$\n",
    "The sample space for Normal random variable is $\\Omega \\in \\mathbb{R}$."
   ]
  },
  {
   "cell_type": "code",
   "execution_count": 10,
   "id": "54224065-72ef-4f00-8459-4b97c503b4a1",
   "metadata": {},
   "outputs": [
    {
     "data": {
      "image/png": "[encoded data removed]",
      "text/plain": [
       "Plot with title \"Probability Density Function of Standard Normal Distribution.\""
      ]
     },
     "metadata": {},
     "output_type": "display_data",
     "source": "R display func"
    }
   ],
   "source": [
    "x = seq(-4, 4, length.out = 1000) \n",
    "mu = 0\n",
    "sigma = 1\n",
    "# Calculate the PDF values using dnorm().\n",
    "pdf = dnorm(x, mean = mu, sd = sigma)\n",
    "# Plot the PDF.\n",
    "plot(x, pdf, type = \"l\", col = \"blue\", lwd = 3,\n",
    "     xlab = \"x\", ylab = \"PDF\", main = \"Probability Density Function of Standard Normal Distribution.\")\n"
   ]
  },
  {
   "cell_type": "code",
   "execution_count": 11,
   "id": "577a7916-39ac-4534-bb26-c7ef1920e3c8",
   "metadata": {},
   "outputs": [
    {
     "name": "stdout",
     "output_type": "stream",
     "text": [
      "2.28643223752761 -0.42995188043855 0.576776409134243 0.230325396932864 -0.258615386631086 0.687334103657206 2.62448376607963 0.665499381610922 -0.282659470212943 0.889721980223186"
     ]
    }
   ],
   "source": [
    "# Generating a random sample from Normal Distribution of size 10.\n",
    "# Generate random numbers with mu = 0 and standard deviation = 1.\n",
    "random_numbers = rnorm(10, m = 0, s = 1)  # Here, m = mu and s = sigma.\n",
    "\n",
    "# Display the generated numbers horizontally.\n",
    "cat(paste(random_numbers, collapse = \" \"))"
   ]
  },
  {
   "cell_type": "code",
   "execution_count": 12,
   "id": "04acb422-fab7-42da-a4cf-f99f54dc17e2",
   "metadata": {},
   "outputs": [
    {
     "data": {
      "text/html": [
       "1.95996398454005"
      ],
      "text/latex": [
       "1.95996398454005"
      ],
      "text/markdown": [
       "1.95996398454005"
      ],
      "text/plain": [
       "[1] 1.959964"
      ]
     },
     "metadata": {},
     "output_type": "display_data"
    }
   ],
   "source": [
    "qnorm(0.975, m = 0, s = 1)  # 97.5th percentile (P[X<=x]=p)."
   ]
  },
  {
   "cell_type": "markdown",
   "id": "123c22ad-d312-433f-8f47-6f36a8995dfe",
   "metadata": {},
   "source": [
    "- Exercise: If $X \\sim \\mathcal{N}(100,15^2)$, calculate $\\mathbb{P}[X < 90]$."
   ]
  },
  {
   "cell_type": "code",
   "execution_count": 13,
   "id": "24a73019-cf63-4033-bb68-3c54c1998df1",
   "metadata": {},
   "outputs": [
    {
     "data": {
      "text/html": [
       "0.252492537546923"
      ],
      "text/latex": [
       "0.252492537546923"
      ],
      "text/markdown": [
       "0.252492537546923"
      ],
      "text/plain": [
       "[1] 0.2524925"
      ]
     },
     "metadata": {},
     "output_type": "display_data"
    }
   ],
   "source": [
    "pnorm(90, m = 100, s = 15)"
   ]
  },
  {
   "cell_type": "markdown",
   "id": "0f14bf36-a4a0-4455-894c-896cdc604152",
   "metadata": {},
   "source": [
    "- Exercise: If $X \\sim \\mathcal{N}(100,15^2)$, what value separates the lower 30% from upper 70%. This means find $x_p$ such that $\\mathbb{P}[X < x_p] = 0.30$."
   ]
  },
  {
   "cell_type": "code",
   "execution_count": 14,
   "id": "d4adb05e-cb86-4bd2-8778-c888c67c5e4d",
   "metadata": {},
   "outputs": [
    {
     "data": {
      "text/html": [
       "92.1339923093794"
      ],
      "text/latex": [
       "92.1339923093794"
      ],
      "text/markdown": [
       "92.1339923093794"
      ],
      "text/plain": [
       "[1] 92.13399"
      ]
     },
     "metadata": {},
     "output_type": "display_data"
    }
   ],
   "source": [
    "qnorm(0.30, m = 100, s = 15)"
   ]
  },
  {
   "cell_type": "markdown",
   "id": "28aa5c73-38f6-401a-918e-c55c248c3451",
   "metadata": {},
   "source": [
    "### Approximating Discrete Distribution with Continuous Distribution "
   ]
  },
  {
   "cell_type": "markdown",
   "id": "2d0818cd-23af-4ad7-b402-f432c5fe4213",
   "metadata": {},
   "source": [
    "To approximate one distribution with other means that their cumulative probabilities are close. If $X_1$ and $X_2$ are different distribution that are approximately same then $$\\mathbb{P}[X_1 \\leq x] \\approx \\mathbb{P}[X_2 \\leq x]$$ for all values of $x$."
   ]
  },
  {
   "cell_type": "markdown",
   "id": "43fac221-5644-4bb2-8290-68a716082e49",
   "metadata": {},
   "source": [
    "### Approximating Binomial with Normal Distribution\n",
    "Let $X_1 \\sim \\mathcal{Bin}(n,p)$ and $X_2 \\sim \\mathcal{N}(\\mu,\\sigma^2)$. We like to determine some rule on the parameters $n,p,\\mu,\\sigma^2$ to ensure $\\mathbb{P}[X_1 \\leq x] \\approx \\mathbb{P}[X_2 \\leq x]$. \n",
    "\n",
    "Since $\\mathbb{E}[Y] = np$ and $\\mathbb{V}[Y] = np(1-p)$, we can approximate by $X_2 \\sim \\mathcal{N}(\\mu = np,\\sigma^2 = np(1-p))$."
   ]
  },
  {
   "cell_type": "code",
   "execution_count": 15,
   "id": "9f1c26aa-0c79-48db-8f94-387d1adc8637",
   "metadata": {},
   "outputs": [
    {
     "data": {
      "image/png": "[encoded data removed]",
      "text/plain": [
       "Plot with title \"Binomial(5, 0.1) and Normal(0.5, 0.45) Distributions\""
      ]
     },
     "metadata": {},
     "output_type": "display_data",
     "source": "R display func"
    }
   ],
   "source": [
    "x = seq(0, 7, by = 1)\n",
    "bio = pbinom(x, size = 5, prob = 0.1)  # binomial CDF.\n",
    "normal = pnorm(x, mean = 0.5, sd = sqrt(0.45))  # CDF of Normal.\n",
    "\n",
    "# Plot both distributions.\n",
    "plot(x, bio, type = \"s\", col = \"blue\", lwd = 3,\n",
    "     xlab = \"x\", ylab = \"Cumulative Probability\",\n",
    "     main = \"Binomial(5, 0.1) and Normal(0.5, 0.45) Distributions\")\n",
    "lines(x, normal, type = \"l\", col = \"red\", lwd = 3)\n",
    "legend(\"topright\", legend = c(\"Binomial(5, 0.1)\", \"Normal(0.5, 0.45)\"),\n",
    "       col = c(\"blue\", \"red\"), lty = 1, lwd = 3)"
   ]
  },
  {
   "cell_type": "markdown",
   "id": "13fb4371-30ac-4529-8f98-64693b469131",
   "metadata": {},
   "source": [
    "The approximation gets better as $n$ increases. Also the approximation is better for values of $p$ close to 0.50. So we have the following rule of thumb:\n",
    "- Binomial can be approximated by Normal distribution if $np \\geq 5$ and $n(1-p)\\geq 5$.\n",
    "- The approximation is improved by using a \"continuity correction\" of 0.50 (added to $\\leq$, subtracted from $\\geq$)."
   ]
  }
 ],
 "metadata": {
  "kernelspec": {
   "display_name": "R",
   "language": "R",
   "name": "ir"
  },
  "language_info": {
   "codemirror_mode": "r",
   "file_extension": ".r",
   "mimetype": "text/x-r-source",
   "name": "R",
   "pygments_lexer": "r",
   "version": "3.3.2"
  }
 },
 "nbformat": 4,
 "nbformat_minor": 5
}
