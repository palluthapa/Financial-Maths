{
 "cells": [
  {
   "cell_type": "markdown",
   "id": "087cd02a-4ed5-4fef-9a73-f1617ba422de",
   "metadata": {},
   "source": [
    "# Linear Regression\n",
    "Lets load two sets of numeric data and creates a scatter plot. We will then fit a linear regression model to the data and add the regression line to the plot. Finally, we provide summaries of the model and its residuals."
   ]
  },
  {
   "cell_type": "code",
   "execution_count": 1,
   "id": "0f707852-2707-4e4a-a1b3-17c3623e6290",
   "metadata": {},
   "outputs": [
    {
     "data": {
      "text/plain": [
       "\n",
       "Call:\n",
       "lm(formula = y ~ x)\n",
       "\n",
       "Residuals:\n",
       "    Min      1Q  Median      3Q     Max \n",
       "-1.6181 -0.6154  0.0916  0.7669  1.5549 \n",
       "\n",
       "Coefficients:\n",
       "            Estimate Std. Error t value Pr(>|t|)    \n",
       "(Intercept)  0.45931    2.98920   0.154 0.880239    \n",
       "x            0.20300    0.03754   5.408 0.000119 ***\n",
       "---\n",
       "Signif. codes:  0 '***' 0.001 '**' 0.01 '*' 0.05 '.' 0.1 ' ' 1\n",
       "\n",
       "Residual standard error: 0.986 on 13 degrees of freedom\n",
       "Multiple R-squared:  0.6923,\tAdjusted R-squared:  0.6686 \n",
       "F-statistic: 29.25 on 1 and 13 DF,  p-value: 0.0001195\n"
      ]
     },
     "metadata": {},
     "output_type": "display_data"
    },
    {
     "data": {
      "text/plain": [
       "   Min. 1st Qu.  Median    Mean 3rd Qu.    Max. \n",
       "-1.6181 -0.6154  0.0916  0.0000  0.7669  1.5549 "
      ]
     },
     "metadata": {},
     "output_type": "display_data"
    },
    {
     "data": {
      "image/png": "[encoded data removed]",
      "text/plain": [
       "plot without title"
      ]
     },
     "metadata": {},
     "output_type": "display_data"
    }
   ],
   "source": [
    "x=c(88.6,71.6,93.3,84.3,80.6,75.2,69.7,71.6,69.4,83.3,79.6,82.6,80.6,83.5,76.3)\n",
    "y=c(20,16,19.8,18.4,17.1,15.5,14.7,15.7,15.4,16.3,15,17.2,16,17,14.4)\n",
    "plot(x,y)\n",
    "fit2=lm(y~x)\n",
    "lines(x,predict.lm(fit2))\n",
    "summary(fit2)\n",
    "summary(fit2$residuals)"
   ]
  }
 ],
 "metadata": {
  "kernelspec": {
   "display_name": "R",
   "language": "R",
   "name": "ir"
  },
  "language_info": {
   "codemirror_mode": "r",
   "file_extension": ".r",
   "mimetype": "text/x-r-source",
   "name": "R",
   "pygments_lexer": "r",
   "version": "3.6.1"
  }
 },
 "nbformat": 4,
 "nbformat_minor": 5
}
